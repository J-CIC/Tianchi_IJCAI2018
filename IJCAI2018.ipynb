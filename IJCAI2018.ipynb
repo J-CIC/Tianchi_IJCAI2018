{
  "nbformat": 4,
  "nbformat_minor": 0,
  "metadata": {
    "colab": {
      "name": "IJCAI2018.ipynb",
      "version": "0.3.2",
      "views": {},
      "default_view": {},
      "provenance": [],
      "collapsed_sections": [
        "WaVwJ6bpxZXi",
        "Sy3HV8iltd49",
        "kw58uqu7NZ_T",
        "v5EqtPMum2Zg",
        "MMiwaP28m5PJ",
        "rFpe5y5lnQf7",
        "XLQ_GOGtXdTw"
      ]
    },
    "kernelspec": {
      "name": "python3",
      "display_name": "Python 3"
    },
    "accelerator": "GPU"
  },
  "cells": [
    {
      "metadata": {
        "id": "H8mQML2b3i3w",
        "colab_type": "text"
      },
      "cell_type": "markdown",
      "source": [
        "#环境配置系列"
      ]
    },
    {
      "metadata": {
        "id": "mBsnnqYt3l8-",
        "colab_type": "text"
      },
      "cell_type": "markdown",
      "source": [
        "##配置谷歌环境"
      ]
    },
    {
      "metadata": {
        "id": "Lwy_aL7-3iKt",
        "colab_type": "code",
        "colab": {
          "autoexec": {
            "startup": false,
            "wait_interval": 0
          },
          "output_extras": [
            {
              "item_id": 4
            }
          ],
          "base_uri": "https://localhost:8080/",
          "height": 109
        },
        "outputId": "3ba3be3f-e58f-4d68-bfea-1f22ba4116af",
        "executionInfo": {
          "status": "ok",
          "timestamp": 1521547412560,
          "user_tz": -480,
          "elapsed": 23708,
          "user": {
            "displayName": "姚填佳",
            "photoUrl": "//lh4.googleusercontent.com/-c8yaOIb4NJo/AAAAAAAAAAI/AAAAAAAAACI/2RCS6KOMtQs/s50-c-k-no/photo.jpg",
            "userId": "107989077003671308346"
          }
        }
      },
      "cell_type": "code",
      "source": [
        "#认证\n",
        "!apt-get install -y -qq software-properties-common python-software-properties module-init-tools\n",
        "!add-apt-repository -y ppa:alessandro-strada/ppa 2>&1 > /dev/null\n",
        "!apt-get update -qq 2>&1 > /dev/null\n",
        "!apt-get -y install -qq google-drive-ocamlfuse fuse\n",
        "from google.colab import auth\n",
        "auth.authenticate_user()\n",
        "from oauth2client.client import GoogleCredentials\n",
        "creds = GoogleCredentials.get_application_default()\n",
        "import getpass\n",
        "!google-drive-ocamlfuse -headless -id={creds.client_id} -secret={creds.client_secret} < /dev/null 2>&1 | grep URL\n",
        "vcode = getpass.getpass()\n",
        "!echo {vcode} | google-drive-ocamlfuse -headless -id={creds.client_id} -secret={creds.client_secret}"
      ],
      "execution_count": 1,
      "outputs": [
        {
          "output_type": "stream",
          "text": [
            "Please, open the following URL in a web browser: https://accounts.google.com/o/oauth2/auth?client_id=32555940559.apps.googleusercontent.com&redirect_uri=urn%3Aietf%3Awg%3Aoauth%3A2.0%3Aoob&scope=https%3A%2F%2Fwww.googleapis.com%2Fauth%2Fdrive&response_type=code&access_type=offline&approval_prompt=force\r\n",
            "··········\n",
            "Please, open the following URL in a web browser: https://accounts.google.com/o/oauth2/auth?client_id=32555940559.apps.googleusercontent.com&redirect_uri=urn%3Aietf%3Awg%3Aoauth%3A2.0%3Aoob&scope=https%3A%2F%2Fwww.googleapis.com%2Fauth%2Fdrive&response_type=code&access_type=offline&approval_prompt=force\n",
            "Please enter the verification code: Access token retrieved correctly.\n"
          ],
          "name": "stdout"
        }
      ]
    },
    {
      "metadata": {
        "id": "9n4unveV3afh",
        "colab_type": "code",
        "colab": {
          "autoexec": {
            "startup": false,
            "wait_interval": 0
          }
        }
      },
      "cell_type": "code",
      "source": [
        "#挂载云盘\n",
        "!mkdir -p drive\n",
        "!google-drive-ocamlfuse drive  -o nonempty"
      ],
      "execution_count": 0,
      "outputs": []
    },
    {
      "metadata": {
        "id": "boWmvYN_3tJW",
        "colab_type": "text"
      },
      "cell_type": "markdown",
      "source": [
        "##编程环境"
      ]
    },
    {
      "metadata": {
        "id": "iD94nLW-3r5l",
        "colab_type": "code",
        "colab": {
          "autoexec": {
            "startup": false,
            "wait_interval": 0
          },
          "output_extras": [
            {
              "item_id": 4
            }
          ],
          "base_uri": "https://localhost:8080/",
          "height": 215
        },
        "outputId": "d03978e9-1f03-41dd-857b-90371c160931",
        "executionInfo": {
          "status": "ok",
          "timestamp": 1521547432565,
          "user_tz": -480,
          "elapsed": 4846,
          "user": {
            "displayName": "姚填佳",
            "photoUrl": "//lh4.googleusercontent.com/-c8yaOIb4NJo/AAAAAAAAAAI/AAAAAAAAACI/2RCS6KOMtQs/s50-c-k-no/photo.jpg",
            "userId": "107989077003671308346"
          }
        }
      },
      "cell_type": "code",
      "source": [
        "!pip install xgboost\n",
        "import xgboost as xgb\n",
        "import pandas as pd\n",
        "import numpy as np\n",
        "!pip install lightgbm"
      ],
      "execution_count": 4,
      "outputs": [
        {
          "output_type": "stream",
          "text": [
            "Requirement already satisfied: xgboost in /usr/local/lib/python3.6/dist-packages\r\n",
            "Requirement already satisfied: numpy in /usr/local/lib/python3.6/dist-packages (from xgboost)\r\n",
            "Requirement already satisfied: scipy in /usr/local/lib/python3.6/dist-packages (from xgboost)\n",
            "Collecting lightgbm\n",
            "  Downloading lightgbm-2.1.0-py2.py3-none-manylinux1_x86_64.whl (660kB)\n",
            "\u001b[K    100% |████████████████████████████████| 665kB 1.5MB/s \n",
            "\u001b[?25hRequirement already satisfied: numpy in /usr/local/lib/python3.6/dist-packages (from lightgbm)\n",
            "Requirement already satisfied: scikit-learn in /usr/local/lib/python3.6/dist-packages (from lightgbm)\n",
            "Requirement already satisfied: scipy in /usr/local/lib/python3.6/dist-packages (from lightgbm)\n",
            "Installing collected packages: lightgbm\n",
            "Successfully installed lightgbm-2.1.0\n"
          ],
          "name": "stdout"
        }
      ]
    },
    {
      "metadata": {
        "id": "9zaP8KGi31d8",
        "colab_type": "text"
      },
      "cell_type": "markdown",
      "source": [
        "##读取数据及初始处理"
      ]
    },
    {
      "metadata": {
        "id": "_NVd9Hu430sd",
        "colab_type": "code",
        "colab": {
          "autoexec": {
            "startup": false,
            "wait_interval": 0
          },
          "output_extras": [
            {
              "item_id": 1
            }
          ],
          "base_uri": "https://localhost:8080/",
          "height": 35
        },
        "outputId": "a26433d9-36c9-4afe-fc92-31d7cb4ed2a0",
        "executionInfo": {
          "status": "ok",
          "timestamp": 1521547464372,
          "user_tz": -480,
          "elapsed": 19149,
          "user": {
            "displayName": "姚填佳",
            "photoUrl": "//lh4.googleusercontent.com/-c8yaOIb4NJo/AAAAAAAAAAI/AAAAAAAAACI/2RCS6KOMtQs/s50-c-k-no/photo.jpg",
            "userId": "107989077003671308346"
          }
        }
      },
      "cell_type": "code",
      "source": [
        "#读取数据\n",
        "train_csv = pd.read_csv(\"drive/Colab_Notebooks/data/round1_ijcai_18_train_20180301.txt\",\" \")\n",
        "test_csv = pd.read_csv(\"drive/Colab_Notebooks/data/round1_ijcai_18_test_a_20180301.txt\",\" \")\n",
        "print(len(train_csv),len(test_csv))"
      ],
      "execution_count": 5,
      "outputs": [
        {
          "output_type": "stream",
          "text": [
            "478138 18371\n"
          ],
          "name": "stdout"
        }
      ]
    },
    {
      "metadata": {
        "id": "Aq9iUrVz37LF",
        "colab_type": "code",
        "colab": {
          "autoexec": {
            "startup": false,
            "wait_interval": 0
          },
          "output_extras": [
            {
              "item_id": 2
            }
          ],
          "base_uri": "https://localhost:8080/",
          "height": 233
        },
        "outputId": "972505fb-5105-4fae-8536-2dd6b98f19c7",
        "executionInfo": {
          "status": "ok",
          "timestamp": 1521547486491,
          "user_tz": -480,
          "elapsed": 2859,
          "user": {
            "displayName": "姚填佳",
            "photoUrl": "//lh4.googleusercontent.com/-c8yaOIb4NJo/AAAAAAAAAAI/AAAAAAAAACI/2RCS6KOMtQs/s50-c-k-no/photo.jpg",
            "userId": "107989077003671308346"
          }
        }
      },
      "cell_type": "code",
      "source": [
        "train_pd = train_csv.drop_duplicates(\"instance_id\").copy()\n",
        "test_pd = test_csv.drop_duplicates(\"instance_id\").copy()\n",
        "print(len(train_csv),len(test_csv))\n",
        "#补充时间数据\n",
        "import time\n",
        "train_pd['day']=train_pd.context_timestamp.apply(lambda x:time.strftime(\"%Y-%m-%d\",time.localtime(x+3600*8)))\n",
        "train_pd['hour']=train_pd.context_timestamp.apply(lambda x:time.strftime(\"%H\",time.localtime(x+3600*8)))\n",
        "test_pd['day']=test_pd.context_timestamp.apply(lambda x:time.strftime(\"%Y-%m-%d\",time.localtime(x+3600*8)))\n",
        "test_pd['hour']=test_pd.context_timestamp.apply(lambda x:time.strftime(\"%H\",time.localtime(x+3600*8)))\n",
        "#展示列名\n",
        "print(\"columns length:\",len(train_pd.columns))\n",
        "print(\"列名：\",train_pd.columns)\n",
        "#时间列\n",
        "train_time_list = sorted(train_pd[\"day\"].unique())\n",
        "print(\"时间序列：\",train_time_list)"
      ],
      "execution_count": 6,
      "outputs": [
        {
          "output_type": "stream",
          "text": [
            "478138 18371\n",
            "columns length: 29\n",
            "列名： Index(['instance_id', 'item_id', 'item_category_list', 'item_property_list',\n",
            "       'item_brand_id', 'item_city_id', 'item_price_level', 'item_sales_level',\n",
            "       'item_collected_level', 'item_pv_level', 'user_id', 'user_gender_id',\n",
            "       'user_age_level', 'user_occupation_id', 'user_star_level', 'context_id',\n",
            "       'context_timestamp', 'context_page_id', 'predict_category_property',\n",
            "       'shop_id', 'shop_review_num_level', 'shop_review_positive_rate',\n",
            "       'shop_star_level', 'shop_score_service', 'shop_score_delivery',\n",
            "       'shop_score_description', 'is_trade', 'day', 'hour'],\n",
            "      dtype='object')\n",
            "时间序列： ['2018-09-18', '2018-09-19', '2018-09-20', '2018-09-21', '2018-09-22', '2018-09-23', '2018-09-24']\n"
          ],
          "name": "stdout"
        }
      ]
    },
    {
      "metadata": {
        "id": "WaVwJ6bpxZXi",
        "colab_type": "text"
      },
      "cell_type": "markdown",
      "source": [
        "## Factorization Machine因子分解机尝试"
      ]
    },
    {
      "metadata": {
        "id": "XbwkSWPgxhm3",
        "colab_type": "code",
        "colab": {
          "autoexec": {
            "startup": false,
            "wait_interval": 0
          }
        }
      },
      "cell_type": "code",
      "source": [
        "from fastFM import sgd\n",
        "from sklearn.feature_extraction import DictVectorizer\n",
        "import numpy as np\n",
        "\n",
        "v = DictVectorizer()\n",
        "feature_list = list(train_pd.columns)\n",
        "feature_list.remove(\"is_trade\")\n",
        "feature_list.remove(\"item_category_list\")\n",
        "feature_list.remove(\"item_property_list\")\n",
        "feature_list.remove(\"user_id\")\n",
        "feature_list.remove(\"predict_category_property\")\n",
        "\n",
        "\n",
        "\n",
        "# print(train_pd[feature_list].head().to_dict(\"records\"))\n",
        "v = DictVectorizer()\n",
        "X_train = v.fit_transform(train_m[feature_list].copy().to_dict(\"records\"))\n",
        "X_test = v.transform(test_m[feature_list].copy().to_dict(\"records\"))\n",
        "y_train = train_m[\"is_trade\"].astype(\"int\").tolist()\n",
        "y_train_label = np.ones_like(y_train)\n",
        "y_train_label[y_train<np.mean(y_train)] = -1\n",
        "y_test = test_m[\"is_trade\"].astype(\"int\").tolist()\n",
        "y_test_label = np.ones_like(y_test)\n",
        "y_test_label[y_test<np.mean(y_train)] = -1\n",
        "\n",
        "fm = sgd.FMClassification()\n",
        "fm.fit(X_train,y_train_label)\n",
        "preds = fm.predict_proba(X_test)\n",
        "from sklearn.metrics import log_loss\n",
        "print(log_loss(y_test_label,preds))"
      ],
      "execution_count": 0,
      "outputs": []
    },
    {
      "metadata": {
        "id": "vLy7CmjaJdsb",
        "colab_type": "code",
        "colab": {
          "autoexec": {
            "startup": false,
            "wait_interval": 0
          },
          "output_extras": [
            {
              "item_id": 1
            }
          ],
          "base_uri": "https://localhost:8080/",
          "height": 485
        },
        "outputId": "8e7c5d69-fbbf-4d5a-adbe-e23d4376aaf7",
        "executionInfo": {
          "status": "ok",
          "timestamp": 1521512859507,
          "user_tz": -480,
          "elapsed": 880,
          "user": {
            "displayName": "姚填佳",
            "photoUrl": "//lh4.googleusercontent.com/-c8yaOIb4NJo/AAAAAAAAAAI/AAAAAAAAACI/2RCS6KOMtQs/s50-c-k-no/photo.jpg",
            "userId": "107989077003671308346"
          }
        }
      },
      "cell_type": "code",
      "source": [
        "print(preds)\n",
        "print(train_m[feature_list].dtypes)"
      ],
      "execution_count": 40,
      "outputs": [
        {
          "output_type": "stream",
          "text": [
            "[nan nan nan ... nan nan nan]\n",
            "context_id                     int64\n",
            "context_page_id                int64\n",
            "context_timestamp              int64\n",
            "day                           object\n",
            "hour                          object\n",
            "instance_id                    int64\n",
            "item_brand_id                  int64\n",
            "item_city_id                   int64\n",
            "item_collected_level           int64\n",
            "item_id                        int64\n",
            "item_price_level               int64\n",
            "item_pv_level                  int64\n",
            "item_sales_level               int64\n",
            "shop_id                        int64\n",
            "shop_review_num_level          int64\n",
            "shop_review_positive_rate    float64\n",
            "shop_score_delivery          float64\n",
            "shop_score_description       float64\n",
            "shop_score_service           float64\n",
            "shop_star_level                int64\n",
            "user_gender_id                 int64\n",
            "user_occupation_id             int64\n",
            "user_star_level                int64\n",
            "category                      object\n",
            "dtype: object\n"
          ],
          "name": "stdout"
        }
      ]
    },
    {
      "metadata": {
        "id": "cUcI39rd4AfM",
        "colab_type": "text"
      },
      "cell_type": "markdown",
      "source": [
        "#特征尝试和验证"
      ]
    },
    {
      "metadata": {
        "id": "dDL9jwOD5vuN",
        "colab_type": "code",
        "colab": {
          "autoexec": {
            "startup": false,
            "wait_interval": 0
          }
        }
      },
      "cell_type": "code",
      "source": [
        "train_pd = train_csv.drop_duplicates(\"instance_id\").copy()\n",
        "test_pd = test_csv.drop_duplicates(\"instance_id\").copy()\n",
        "\n",
        "#补充时间数据\n",
        "import time\n",
        "train_pd['day_m']=train_pd.context_timestamp.apply(lambda x:time.strftime(\"%Y-%m-%d\",time.localtime(x+3600*8)))\n",
        "train_pd['day'] = train_pd.context_timestamp.apply(lambda x:time.strftime(\"%d\",time.localtime(x+3600*8)))\n",
        "train_pd['hour']=train_pd.context_timestamp.apply(lambda x:time.strftime(\"%H\",time.localtime(x+3600*8)))\n",
        "test_pd['day_m']=test_pd.context_timestamp.apply(lambda x:time.strftime(\"%Y-%m-%d\",time.localtime(x+3600*8)))\n",
        "test_pd['day'] = test_pd.context_timestamp.apply(lambda x:time.strftime(\"%d\",time.localtime(x+3600*8)))\n",
        "test_pd['hour']=test_pd.context_timestamp.apply(lambda x:time.strftime(\"%H\",time.localtime(x+3600*8)))\n",
        "\n",
        "# feature_list = []\n",
        "feature_list = ['item_id', 'item_brand_id', 'item_city_id', 'item_price_level', 'item_sales_level',\n",
        "                'item_collected_level', 'item_pv_level', 'user_gender_id', 'user_occupation_id',\n",
        "                'user_age_level', 'user_star_level', #'user_query_day', 'user_query_day_hour',\n",
        "                'context_page_id', 'hour', 'shop_id', 'shop_review_num_level', 'shop_star_level',\n",
        "                'shop_review_positive_rate', 'shop_score_service', 'shop_score_delivery', 'shop_score_description',\n",
        "                ]\n",
        "all_data = pd.concat([train_pd,test_pd])\n",
        "all_data['hour'] = all_data['hour'].astype(int)\n",
        "all_data['day'] = all_data['hour'].astype(int)\n",
        "all_data[\"category\"] =  list(map(lambda x:x.split(\";\")[1],all_data[\"item_category_list\"]))\n",
        "# feature_one_hot = pd.get_dummies(\n",
        "#     all_data[[\"category\",\"item_price_level\",\"user_age_level\"]],\n",
        "#     columns=[\"category\",\"item_price_level\",\"user_age_level\"],\n",
        "#     prefix=[\"category\",\"price_level\",\"age_level\"]\n",
        "# )\n",
        "# #测试后发现item_pv_level贡献很小，且带来太多维度，舍弃\n",
        "# feature_list += list(feature_one_hot.columns)\n",
        "# all_data = pd.concat([all_data,feature_one_hot],axis=1)\n",
        "\n",
        "\n",
        "#重新替换train_pd，test_pd\n",
        "train_pd = all_data[:len(train_pd)]\n",
        "test_pd = all_data[len(train_pd):]\n",
        "\n",
        "#分割线下测试和训练集\n",
        "train_m = train_pd[(train_pd[\"day_m\"]>='2018-09-18')&(train_pd[\"day_m\"]<='2018-09-23')]\n",
        "test_m = train_pd[(train_pd[\"day_m\"]>='2018-09-24')]\n",
        "\n"
      ],
      "execution_count": 0,
      "outputs": []
    },
    {
      "metadata": {
        "id": "zvdWlgYuNkfl",
        "colab_type": "text"
      },
      "cell_type": "markdown",
      "source": [
        "###双特征"
      ]
    },
    {
      "metadata": {
        "id": "e3rSRm54NtVc",
        "colab_type": "code",
        "colab": {
          "autoexec": {
            "startup": false,
            "wait_interval": 0
          }
        }
      },
      "cell_type": "code",
      "source": [
        "######################双特征算出的trade_ratio，神奇的是这个双特征是的准确度下降###########################\n",
        "#'''\n",
        "'''\n",
        "'''\n",
        "\n",
        "# def set_gender_brand_ratio(train_df,test_df):\n",
        "#   ret = train_df[[\"user_gender_id\",\"item_brand_id\",\"is_trade\"]].copy()\n",
        "#   pv_level_ratio_pd = (ret.groupby([\"user_gender_id\",\"item_brand_id\"]).sum()[\"is_trade\"])/\\\n",
        "#     (ret.groupby([\"user_gender_id\",\"item_brand_id\"]).count()[\"is_trade\"])\n",
        "#   trade_ratio_pd = pv_level_ratio_pd.reset_index(drop=False).rename(columns={\"is_trade\":\"gender_brand_ratio\"})\n",
        "#   na_value = 0\n",
        "#   train_df = pd.merge(train_df,trade_ratio_pd,on=[\"user_gender_id\",\"item_brand_id\"],how=\"left\").fillna(na_value)\n",
        "#   test_df = pd.merge(test_df,trade_ratio_pd,on=[\"user_gender_id\",\"item_brand_id\"],how=\"left\").fillna(na_value)\n",
        "#   return train_df,test_df\n",
        "# train_m,test_m = set_gender_brand_ratio(train_m,test_m)\n",
        "# if \"gender_brand_ratio\" not in feature_list:\n",
        "#   feature_list.append(\"gender_brand_ratio\")\n",
        "\n",
        "  \n",
        "  \n",
        "# def set_age_brand_ratio(train_df,test_df):\n",
        "#   ret = train_df[[\"user_age_level\",\"item_brand_id\",\"is_trade\"]].copy()\n",
        "#   pv_level_ratio_pd = (ret.groupby([\"user_age_level\",\"item_brand_id\"]).sum()[\"is_trade\"])/\\\n",
        "#     (ret.groupby([\"user_age_level\",\"item_brand_id\"]).count()[\"is_trade\"])\n",
        "#   trade_ratio_pd = pv_level_ratio_pd.reset_index(drop=False).rename(columns={\"is_trade\":\"age_brand_ratio\"})\n",
        "#   na_value = 0\n",
        "#   train_df = pd.merge(train_df,trade_ratio_pd,on=[\"user_age_level\",\"item_brand_id\"],how=\"left\").fillna(na_value)\n",
        "#   test_df = pd.merge(test_df,trade_ratio_pd,on=[\"user_age_level\",\"item_brand_id\"],how=\"left\").fillna(na_value)\n",
        "#   return train_df,test_df\n",
        "# train_m,test_m = set_age_brand_ratio(train_m,test_m)\n",
        "# if \"age_brand_ratio\" not in feature_list:\n",
        "#   feature_list.append(\"age_brand_ratio\")\n",
        " \n",
        "  \n",
        "def set_star_price_ratio(train_df,test_df):\n",
        "  ret = train_df[[\"user_star_level\",\"item_price_level\",\"is_trade\"]].copy()\n",
        "  pv_level_ratio_pd = (ret.groupby([\"user_star_level\",\"item_price_level\"]).sum()[\"is_trade\"])/\\\n",
        "    (ret.groupby([\"user_star_level\",\"item_price_level\"]).count()[\"is_trade\"])\n",
        "  trade_ratio_pd = pv_level_ratio_pd.reset_index(drop=False).rename(columns={\"is_trade\":\"star_price_ratio\"})\n",
        "  na_value = 0\n",
        "  train_df = pd.merge(train_df,trade_ratio_pd,on=[\"user_star_level\",\"item_price_level\"],how=\"left\").fillna(na_value)\n",
        "  test_df = pd.merge(test_df,trade_ratio_pd,on=[\"user_star_level\",\"item_price_level\"],how=\"left\").fillna(na_value)\n",
        "  return train_df,test_df\n",
        "train_m,test_m = set_star_price_ratio(train_m,test_m)\n",
        "if \"star_price_ratio\" not in feature_list:\n",
        "  feature_list.append(\"star_price_ratio\")\n",
        "  \n",
        "\n",
        "\n",
        "# def set_occupation_brand_ratio(train_df,test_df):\n",
        "#   ret = train_df[[\"user_occupation_id\",\"item_brand_id\",\"is_trade\"]].copy()\n",
        "#   pv_level_ratio_pd = (ret.groupby([\"user_occupation_id\",\"item_brand_id\"]).sum()[\"is_trade\"])/\\\n",
        "#     (ret.groupby([\"user_occupation_id\",\"item_brand_id\"]).count()[\"is_trade\"])\n",
        "#   trade_ratio_pd = pv_level_ratio_pd.reset_index(drop=False).rename(columns={\"is_trade\":\"occupation_brand_ratio\"})\n",
        "#   na_value = 0\n",
        "#   train_df = pd.merge(train_df,trade_ratio_pd,on=[\"user_occupation_id\",\"item_brand_id\"],how=\"left\").fillna(na_value)\n",
        "#   test_df = pd.merge(test_df,trade_ratio_pd,on=[\"user_occupation_id\",\"item_brand_id\"],how=\"left\").fillna(na_value)\n",
        "#   return train_df,test_df\n",
        "# train_m,test_m = set_occupation_brand_ratio(train_m,test_m)\n",
        "# if \"occupation_brand_ratio\" not in feature_list:\n",
        "#   feature_list.append(\"occupation_brand_ratio\")\n",
        "\n",
        "\n",
        "# def get_property_dict(df):\n",
        "#   ret = df[[\"user_gender_id\",\"item_property_list\",\"is_trade\"]].copy()\n",
        "#   #下面这句骚操作把一行扩展成多行\n",
        "#   ret = ret.drop('item_property_list', axis=1).join(ret['item_property_list'].str.split(';', expand=True).stack().reset_index(level=1, drop=True).rename('item_property_list'))\n",
        "#   ret = ret.rename(columns={\"item_property_list\":\"property\"})\n",
        "#   ret = ret.groupby([\"property\",\"user_gender_id\"]).count()\n",
        "#   ret = ret.reset_index()\n",
        "#   print(ret)\n",
        "#   ret.set_index([\"property\",\"user_gender_id\"],inplace=True,drop=False)\n",
        "#   ret[\"is_trade\"] = ret[\"is_trade\"]/ret[\"is_trade\"].max()#归一化\n",
        "#   return ret\n",
        "# property_pd = get_property_dict(train_pd)"
      ],
      "execution_count": 0,
      "outputs": []
    },
    {
      "metadata": {
        "id": "UfCpWUolNT0K",
        "colab_type": "text"
      },
      "cell_type": "markdown",
      "source": [
        "###单特征"
      ]
    },
    {
      "metadata": {
        "id": "eF-V4yKINYq5",
        "colab_type": "code",
        "colab": {
          "autoexec": {
            "startup": false,
            "wait_interval": 0
          }
        }
      },
      "cell_type": "code",
      "source": [
        "##################单特征或单特征的trade_ratio###########################\n",
        "'''\n",
        "'''\n",
        "\n",
        "\n",
        "# def set_item_trade_ratio(train_df,test_df):\n",
        "#   ret = train_df[[\"item_id\",\"is_trade\"]].copy()\n",
        "#   item_trade_ratio_pd = (ret.groupby(\"item_id\").sum()[\"is_trade\"])/\\\n",
        "#     (ret.groupby(\"item_id\").count()[\"is_trade\"])\n",
        "#   trade_ratio_pd = item_trade_ratio_pd.reset_index(drop=False).rename(columns={\"is_trade\":\"item_trade_ratio\"})\n",
        "#   na_value = 0\n",
        "#   train_df = pd.merge(train_df,trade_ratio_pd,on=\"item_id\",how=\"left\").fillna(na_value)\n",
        "#   test_df = pd.merge(test_df,trade_ratio_pd,on=\"item_id\",how=\"left\").fillna(na_value)\n",
        "#   return train_df,test_df\n",
        "# train_m,test_m = set_item_trade_ratio(train_m,test_m)\n",
        "# if \"item_trade_ratio\" not in feature_list:\n",
        "#   feature_list.append(\"item_trade_ratio\")\n",
        "\n",
        "# def set_brand_trade_ratio(train_df,test_df):\n",
        "#   ret = train_df[[\"item_brand_id\",\"is_trade\"]].copy()\n",
        "#   brand_trade_ratio_pd = (ret.groupby(\"item_brand_id\").sum()[\"is_trade\"])/\\\n",
        "#     (ret.groupby(\"item_brand_id\").count()[\"is_trade\"])\n",
        "#   trade_ratio_pd = brand_trade_ratio_pd.reset_index(drop=False).rename(columns={\"is_trade\":\"brand_trade_ratio\"})\n",
        "#   na_value = 0\n",
        "#   train_df = pd.merge(train_df,trade_ratio_pd,on=\"item_brand_id\",how=\"left\").fillna(na_value)\n",
        "#   test_df = pd.merge(test_df,trade_ratio_pd,on=\"item_brand_id\",how=\"left\").fillna(na_value)\n",
        "#   return train_df,test_df\n",
        "# train_m,test_m = set_brand_trade_ratio(train_m,test_m)\n",
        "# if \"brand_trade_ratio\" not in feature_list:\n",
        "#   feature_list.append(\"brand_trade_ratio\")\n",
        "\n",
        "def set_item_city_ratio(train_df,test_df):\n",
        "  ret = train_df[[\"item_city_id\",\"is_trade\"]].copy()\n",
        "  item_city_ratio_pd = (ret.groupby(\"item_city_id\").sum()[\"is_trade\"])/\\\n",
        "    (ret.groupby(\"item_city_id\").count()[\"is_trade\"])\n",
        "  trade_ratio_pd = item_city_ratio_pd.reset_index(drop=False).rename(columns={\"is_trade\":\"item_city_ratio\"})\n",
        "  na_value = 0\n",
        "  train_df = pd.merge(train_df,trade_ratio_pd,on=\"item_city_id\",how=\"left\").fillna(na_value)\n",
        "  test_df = pd.merge(test_df,trade_ratio_pd,on=\"item_city_id\",how=\"left\").fillna(na_value)\n",
        "  return train_df,test_df\n",
        "train_m,test_m = set_item_city_ratio(train_m,test_m)\n",
        "if \"item_city_ratio\" not in feature_list:\n",
        "  feature_list.append(\"item_city_ratio\")\n",
        "\n",
        "def set_user_query_feature(data):\n",
        "  user_query_day = data.groupby(['user_id', 'day']).size().reset_index().rename(columns={0: 'user_query_day'})\n",
        "  data = pd.merge(data, user_query_day, 'left', on=['user_id', 'day'])\n",
        "  user_query_day_hour = data.groupby(['user_id', 'day', 'hour']).size().reset_index().rename(\n",
        "      columns={0: 'user_query_day_hour'})\n",
        "  data = pd.merge(data, user_query_day_hour, 'left',\n",
        "                  on=['user_id', 'day', 'hour'])\n",
        "  return data\n",
        "train_m = set_user_query_feature(train_m)\n",
        "test_m = set_user_query_feature(test_m)\n",
        "if \"user_query_day\" not in feature_list:\n",
        "  feature_list.append(\"user_query_day\")\n",
        "if \"user_query_day_hour\" not in feature_list:\n",
        "  feature_list.append(\"user_query_day_hour\")\n",
        "  \n",
        "# def scale_to_one(train_df,test_df,column):\n",
        "#   all_df = pd.concat([train_df,test_df])\n",
        "#   all_df[column] = (all_df[column]-all_df[column].min()) / (all_df[column].max()-all_df[column].min())\n",
        "#   train_df = all_df[:len(train_df)]\n",
        "#   test_df = all_df[len(test_df):]\n",
        "#   return train_df,test_df\n",
        "  \n",
        "# if \"shop_review_positive_rate\" not in feature_list:\n",
        "#   feature_list.append(\"shop_review_positive_rate\")\n",
        "\n",
        "# if \"shop_score_service\" not in feature_list:\n",
        "#   feature_list.append(\"shop_score_service\")\n",
        "\n",
        "# if \"shop_score_delivery\" not in feature_list:\n",
        "#   feature_list.append(\"shop_score_delivery\")\n",
        "\n",
        "# if \"shop_score_description\" not in feature_list:\n",
        "#   feature_list.append(\"shop_score_description\")\n",
        "  \n"
      ],
      "execution_count": 0,
      "outputs": []
    },
    {
      "metadata": {
        "id": "Sy3HV8iltd49",
        "colab_type": "text"
      },
      "cell_type": "markdown",
      "source": [
        "###PCA"
      ]
    },
    {
      "metadata": {
        "id": "y1U53YHytfne",
        "colab_type": "code",
        "colab": {
          "autoexec": {
            "startup": false,
            "wait_interval": 0
          },
          "output_extras": [
            {
              "item_id": 1
            },
            {
              "item_id": 2
            },
            {
              "item_id": 3
            }
          ],
          "base_uri": "https://localhost:8080/",
          "height": 233
        },
        "outputId": "54ff06d1-c2ae-4790-ddcd-4ba6f92151ee",
        "executionInfo": {
          "status": "ok",
          "timestamp": 1521522685431,
          "user_tz": -480,
          "elapsed": 10787,
          "user": {
            "displayName": "姚填佳",
            "photoUrl": "//lh4.googleusercontent.com/-c8yaOIb4NJo/AAAAAAAAAAI/AAAAAAAAACI/2RCS6KOMtQs/s50-c-k-no/photo.jpg",
            "userId": "107989077003671308346"
          }
        }
      },
      "cell_type": "code",
      "source": [
        "from sklearn.decomposition import PCA \n",
        "from sklearn.preprocessing import StandardScaler\n",
        "# Standardizing the features\n",
        "x = StandardScaler().fit_transform(train_m[feature_list].copy())\n",
        "t = StandardScaler().fit_transform(test_m[feature_list].copy())\n",
        "pca=PCA(n_components=15)  \n",
        "train_data = pca.fit_transform(x)\n",
        "test_data = pca.transform(t)\n",
        "\n",
        "import lightgbm as lgb\n",
        "from sklearn.metrics import log_loss,roc_auc_score\n",
        "clf = lgb.LGBMClassifier(num_leaves=63, max_depth=7, n_estimators=80, n_jobs=20)\n",
        "clf.fit(train_data, train_m[[\"is_trade\"]].copy())\n",
        "test_m['lgb_predict'] = clf.predict_proba(test_data,)[:, 1]\n",
        "print(log_loss(test_m[\"is_trade\"], test_m['lgb_predict']))\n",
        "print(roc_auc_score(test_m[\"is_trade\"], test_m['lgb_predict']))"
      ],
      "execution_count": 9,
      "outputs": [
        {
          "output_type": "stream",
          "text": [
            "/usr/local/lib/python3.6/dist-packages/sklearn/preprocessing/label.py:95: DataConversionWarning: A column-vector y was passed when a 1d array was expected. Please change the shape of y to (n_samples, ), for example using ravel().\n",
            "  y = column_or_1d(y, warn=True)\n",
            "/usr/local/lib/python3.6/dist-packages/sklearn/preprocessing/label.py:128: DataConversionWarning: A column-vector y was passed when a 1d array was expected. Please change the shape of y to (n_samples, ), for example using ravel().\n",
            "  y = column_or_1d(y, warn=True)\n"
          ],
          "name": "stderr"
        },
        {
          "output_type": "stream",
          "text": [
            "0.08290633076824314\n",
            "0.6607862858207132\n"
          ],
          "name": "stdout"
        },
        {
          "output_type": "stream",
          "text": [
            "/usr/local/lib/python3.6/dist-packages/ipykernel_launcher.py:14: SettingWithCopyWarning: \n",
            "A value is trying to be set on a copy of a slice from a DataFrame.\n",
            "Try using .loc[row_indexer,col_indexer] = value instead\n",
            "\n",
            "See the caveats in the documentation: http://pandas.pydata.org/pandas-docs/stable/indexing.html#indexing-view-versus-copy\n",
            "  \n"
          ],
          "name": "stderr"
        }
      ]
    },
    {
      "metadata": {
        "id": "kw58uqu7NZ_T",
        "colab_type": "text"
      },
      "cell_type": "markdown",
      "source": [
        "###贡献过小，AUC低于55的特征"
      ]
    },
    {
      "metadata": {
        "id": "dovNioZTNdpM",
        "colab_type": "code",
        "colab": {
          "autoexec": {
            "startup": false,
            "wait_interval": 0
          }
        }
      },
      "cell_type": "code",
      "source": [
        "#################综合后贡献不大，去掉提升的特征#####################\n",
        "\n",
        "# def set_item_price_ratio(train_df,test_df):\n",
        "#   ret = train_df[[\"item_price_level\",\"is_trade\"]].copy()\n",
        "#   item_price_ratio_pd = (ret.groupby(\"item_price_level\").sum()[\"is_trade\"])/\\\n",
        "#     (ret.groupby(\"item_price_level\").count()[\"is_trade\"])\n",
        "#   trade_ratio_pd = item_price_ratio_pd.reset_index(drop=False).rename(columns={\"is_trade\":\"item_price_ratio\"})\n",
        "#   na_value = 0\n",
        "#   train_df = pd.merge(train_df,trade_ratio_pd,on=\"item_price_level\",how=\"left\").fillna(na_value)\n",
        "#   test_df = pd.merge(test_df,trade_ratio_pd,on=\"item_price_level\",how=\"left\").fillna(na_value)\n",
        "#   return train_df,test_df\n",
        "# train_m,test_m = set_item_price_ratio(train_m,test_m)\n",
        "# if \"item_price_ratio\" not in feature_list:\n",
        "#   feature_list.append(\"item_price_ratio\")\n",
        "\n",
        "# def set_item_sales_ratio(train_df,test_df):\n",
        "#   ret = train_df[[\"item_sales_level\",\"is_trade\"]].copy()\n",
        "#   item_sales_ratio_pd = (ret.groupby(\"item_sales_level\").sum()[\"is_trade\"])/\\\n",
        "#     (ret.groupby(\"item_sales_level\").count()[\"is_trade\"])\n",
        "#   trade_ratio_pd = item_sales_ratio_pd.reset_index(drop=False).rename(columns={\"is_trade\":\"item_sales_ratio\"})\n",
        "#   na_value = 0\n",
        "#   train_df = pd.merge(train_df,trade_ratio_pd,on=\"item_sales_level\",how=\"left\").fillna(na_value)\n",
        "#   test_df = pd.merge(test_df,trade_ratio_pd,on=\"item_sales_level\",how=\"left\").fillna(na_value)\n",
        "#   return train_df,test_df\n",
        "# train_m,test_m = set_item_sales_ratio(train_m,test_m)\n",
        "# if \"item_sales_ratio\" not in feature_list:\n",
        "#   feature_list.append(\"item_sales_ratio\")\n",
        "\n",
        "#####################AUC低于55的特征#########################\n",
        "\n",
        "\n",
        "# def set_item_collected_ratio(train_df,test_df):\n",
        "#   ret = train_df[[\"item_collected_level\",\"is_trade\"]].copy()\n",
        "#   item_collected_ratio_pd = (ret.groupby(\"item_collected_level\").sum()[\"is_trade\"])/\\\n",
        "#     (ret.groupby(\"item_collected_level\").count()[\"is_trade\"])\n",
        "#   trade_ratio_pd = item_collected_ratio_pd.reset_index(drop=False).rename(columns={\"is_trade\":\"item_collected_ratio\"})\n",
        "#   na_value = 0\n",
        "#   train_df = pd.merge(train_df,trade_ratio_pd,on=\"item_collected_level\",how=\"left\").fillna(na_value)\n",
        "#   test_df = pd.merge(test_df,trade_ratio_pd,on=\"item_collected_level\",how=\"left\").fillna(na_value)\n",
        "#   return train_df,test_df\n",
        "# train_m,test_m = set_item_collected_ratio(train_m,test_m)\n",
        "# if \"item_collected_ratio\" not in feature_list:\n",
        "#   feature_list.append(\"item_collected_ratio\")\n",
        "\n",
        "\n",
        "# def set_shop_star_ratio(train_df,test_df):\n",
        "#   ret = train_df[[\"shop_star_level\",\"is_trade\"]].copy()\n",
        "#   shop_star_ratio_pd = (ret.groupby(\"shop_star_level\").sum()[\"is_trade\"])/\\\n",
        "#     (ret.groupby(\"shop_star_level\").count()[\"is_trade\"])\n",
        "#   trade_ratio_pd = shop_star_ratio_pd.reset_index(drop=False).rename(columns={\"is_trade\":\"shop_star_ratio\"})\n",
        "#   na_value = 0\n",
        "#   train_df = pd.merge(train_df,trade_ratio_pd,on=\"shop_star_level\",how=\"left\").fillna(na_value)\n",
        "#   test_df = pd.merge(test_df,trade_ratio_pd,on=\"shop_star_level\",how=\"left\").fillna(na_value)\n",
        "#   return train_df,test_df\n",
        "# train_m,test_m = set_shop_star_ratio(train_m,test_m)\n",
        "# if \"shop_star_ratio\" not in feature_list:\n",
        "#   feature_list.append(\"shop_star_ratio\")\n",
        "\n",
        "# def set_pv_level_ratio(train_df,test_df):\n",
        "#   ret = train_df[[\"item_pv_level\",\"is_trade\"]].copy()\n",
        "#   pv_level_ratio_pd = (ret.groupby(\"item_pv_level\").sum()[\"is_trade\"])/\\\n",
        "#     (ret.groupby(\"item_pv_level\").count()[\"is_trade\"])\n",
        "#   trade_ratio_pd = pv_level_ratio_pd.reset_index(drop=False).rename(columns={\"is_trade\":\"pv_level_ratio\"})\n",
        "#   na_value = 0\n",
        "#   train_df = pd.merge(train_df,trade_ratio_pd,on=\"item_pv_level\",how=\"left\").fillna(na_value)\n",
        "#   test_df = pd.merge(test_df,trade_ratio_pd,on=\"item_pv_level\",how=\"left\").fillna(na_value)\n",
        "#   return train_df,test_df\n",
        "# train_m,test_m = set_pv_level_ratio(train_m,test_m)\n",
        "# if \"pv_level_ratio\" not in feature_list:\n",
        "#   feature_list.append(\"pv_level_ratio\")"
      ],
      "execution_count": 0,
      "outputs": []
    },
    {
      "metadata": {
        "id": "YCt_qIwq5M6b",
        "colab_type": "text"
      },
      "cell_type": "markdown",
      "source": [
        "##验证"
      ]
    },
    {
      "metadata": {
        "id": "fE4hHdvy5iz3",
        "colab_type": "code",
        "colab": {
          "autoexec": {
            "startup": false,
            "wait_interval": 0
          },
          "output_extras": [
            {
              "item_id": 37
            },
            {
              "item_id": 79
            },
            {
              "item_id": 121
            },
            {
              "item_id": 139
            },
            {
              "item_id": 140
            },
            {
              "item_id": 141
            }
          ],
          "base_uri": "https://localhost:8080/",
          "height": 4014
        },
        "cellView": "code",
        "outputId": "701ada8e-c224-4b91-d700-8090c6ae1bc5",
        "executionInfo": {
          "status": "ok",
          "timestamp": 1521548363228,
          "user_tz": -480,
          "elapsed": 72962,
          "user": {
            "displayName": "姚填佳",
            "photoUrl": "//lh4.googleusercontent.com/-c8yaOIb4NJo/AAAAAAAAAAI/AAAAAAAAACI/2RCS6KOMtQs/s50-c-k-no/photo.jpg",
            "userId": "107989077003671308346"
          }
        }
      },
      "cell_type": "code",
      "source": [
        "#alpha 30, lambda 15, gamma 2\n",
        "param = {}\n",
        "param[\"eta\"] = 0.15\n",
        "param[\"min_child_weight\"] = 1\n",
        "param[\"max_depth\"] = 5\n",
        "param[\"lambda\"] = 5 #控制模型复杂度的权重值的L2正则化项参数，参数越大，模型越不容易过拟合。 默认1\n",
        "param[\"alpha\"] = 1 #控制模型复杂程度的权重值的 L1 正则项参数，参数值越大，模型越不容易过拟合。 默认0\n",
        "param[\"gamma\"] = 1 # 用于控制是否后剪枝的参数,越大越保守，一般0.1、0.2这样子。\n",
        "param[\"subsample\"]=0.8\n",
        "param[\"colsample_bytree\"]=0.8\n",
        "param[\"objective\"] = \"binary:logistic\"\n",
        "param[\"eval_metric\"]=[ \"auc\",\"logloss\"]#error,logloss,auc\n",
        "param[\"silent\"] = 1\n",
        "num_round = 500\n",
        "eval_result={}\n",
        "\n",
        "X = train_m[feature_list].copy()\n",
        "Y = train_m[\"is_trade\"].copy()\n",
        "train_set = xgb.DMatrix(X,label=Y)\n",
        "X_t = test_m[feature_list].copy()\n",
        "Y_t = test_m[\"is_trade\"].copy()\n",
        "test_set = xgb.DMatrix(X_t,label=Y_t)\n",
        "watchlist = [(train_set,'train'), (test_set, 'test')]\n",
        "model = xgb.train( param, train_set, num_round, watchlist,verbose_eval=True,evals_result=eval_result,early_stopping_rounds=int(0.1*num_round))\n",
        "limit = model.best_ntree_limit\n",
        "\n",
        "from matplotlib import pyplot \n",
        "from xgboost import plot_importance\n",
        "#plot feature importance\n",
        "ax = plot_importance(model,max_num_features=50)\n",
        "fig = ax.figure\n",
        "fig.set_size_inches(18, 8)\n",
        "pyplot.show()\n",
        "\n",
        "#plot logloss\n",
        "epochs = len(eval_result['train']['logloss'])  \n",
        "x_axis = range(0, epochs)  \n",
        "fig, ax = pyplot.subplots()  \n",
        "ax.plot(x_axis, eval_result['train']['logloss'], label='Train_logloss')  \n",
        "ax.plot(x_axis, eval_result['test']['logloss'], label='Test_logloss')  \n",
        "ax.plot(x_axis, eval_result['train']['auc'], label='Train-auc')  \n",
        "ax.plot(x_axis, eval_result['test']['auc'], label='Test-auc') \n",
        "ax.legend()\n",
        "fig = ax.figure\n",
        "fig.set_size_inches(18, 8)\n",
        "pyplot.ylabel('Loss')  \n",
        "pyplot.xlabel('Iteration Num')  \n",
        "pyplot.title('XGBoost Loss')  \n",
        "pyplot.show()\n"
      ],
      "execution_count": 24,
      "outputs": [
        {
          "output_type": "stream",
          "text": [
            "[0]\ttrain-auc:0.593712\ttrain-logloss:0.564787\ttest-auc:0.588922\ttest-logloss:0.564106\n",
            "Multiple eval metrics have been passed: 'test-logloss' will be used for early stopping.\n",
            "\n",
            "Will train until test-logloss hasn't improved in 50 rounds.\n",
            "[1]\ttrain-auc:0.616778\ttrain-logloss:0.469716\ttest-auc:0.607957\ttest-logloss:0.468424\n",
            "[2]\ttrain-auc:0.6193\ttrain-logloss:0.396786\ttest-auc:0.609807\ttest-logloss:0.395016\n",
            "[3]\ttrain-auc:0.634133\ttrain-logloss:0.339544\ttest-auc:0.62334\ttest-logloss:0.337278\n",
            "[4]\ttrain-auc:0.633871\ttrain-logloss:0.293893\ttest-auc:0.623534\ttest-logloss:0.291208\n",
            "[5]\ttrain-auc:0.644584\ttrain-logloss:0.257052\ttest-auc:0.638716\ttest-logloss:0.253999\n",
            "[6]\ttrain-auc:0.646547\ttrain-logloss:0.227086\ttest-auc:0.637996\ttest-logloss:0.223664\n",
            "[7]\ttrain-auc:0.651673\ttrain-logloss:0.202586\ttest-auc:0.643636\ttest-logloss:0.198811\n",
            "[8]\ttrain-auc:0.658976\ttrain-logloss:0.182468\ttest-auc:0.650652\ttest-logloss:0.178408\n",
            "[9]\ttrain-auc:0.660748\ttrain-logloss:0.165879\ttest-auc:0.650962\ttest-logloss:0.161501\n",
            "[10]\ttrain-auc:0.662654\ttrain-logloss:0.152188\ttest-auc:0.651489\ttest-logloss:0.147617\n",
            "[11]\ttrain-auc:0.66366\ttrain-logloss:0.140904\ttest-auc:0.652428\ttest-logloss:0.136052\n",
            "[12]\ttrain-auc:0.667866\ttrain-logloss:0.131578\ttest-auc:0.652644\ttest-logloss:0.126481\n",
            "[13]\ttrain-auc:0.669232\ttrain-logloss:0.123907\ttest-auc:0.653075\ttest-logloss:0.118559\n",
            "[14]\ttrain-auc:0.670569\ttrain-logloss:0.117567\ttest-auc:0.654564\ttest-logloss:0.11197\n",
            "[15]\ttrain-auc:0.673149\ttrain-logloss:0.112378\ttest-auc:0.655681\ttest-logloss:0.10656\n",
            "[16]\ttrain-auc:0.675\ttrain-logloss:0.108116\ttest-auc:0.657618\ttest-logloss:0.10211\n",
            "[17]\ttrain-auc:0.677275\ttrain-logloss:0.104623\ttest-auc:0.659028\ttest-logloss:0.098453\n",
            "[18]\ttrain-auc:0.678693\ttrain-logloss:0.101752\ttest-auc:0.658949\ttest-logloss:0.095457\n",
            "[19]\ttrain-auc:0.680842\ttrain-logloss:0.099415\ttest-auc:0.658886\ttest-logloss:0.093006\n",
            "[20]\ttrain-auc:0.683832\ttrain-logloss:0.097527\ttest-auc:0.658975\ttest-logloss:0.09102\n",
            "[21]\ttrain-auc:0.685268\ttrain-logloss:0.095972\ttest-auc:0.659197\ttest-logloss:0.089368\n",
            "[22]\ttrain-auc:0.68774\ttrain-logloss:0.094722\ttest-auc:0.661486\ttest-logloss:0.088036\n",
            "[23]\ttrain-auc:0.689594\ttrain-logloss:0.093694\ttest-auc:0.661517\ttest-logloss:0.086966\n",
            "[24]\ttrain-auc:0.692112\ttrain-logloss:0.092861\ttest-auc:0.661944\ttest-logloss:0.086089\n",
            "[25]\ttrain-auc:0.693698\ttrain-logloss:0.092189\ttest-auc:0.661619\ttest-logloss:0.085393\n",
            "[26]\ttrain-auc:0.695417\ttrain-logloss:0.091627\ttest-auc:0.662795\ttest-logloss:0.084802\n",
            "[27]\ttrain-auc:0.697849\ttrain-logloss:0.091165\ttest-auc:0.665934\ttest-logloss:0.084305\n",
            "[28]\ttrain-auc:0.69941\ttrain-logloss:0.090771\ttest-auc:0.668149\ttest-logloss:0.08388\n",
            "[29]\ttrain-auc:0.701198\ttrain-logloss:0.090463\ttest-auc:0.668755\ttest-logloss:0.083585\n",
            "[30]\ttrain-auc:0.703227\ttrain-logloss:0.090199\ttest-auc:0.669294\ttest-logloss:0.083339\n",
            "[31]\ttrain-auc:0.705243\ttrain-logloss:0.08997\ttest-auc:0.66959\ttest-logloss:0.083147\n",
            "[32]\ttrain-auc:0.70757\ttrain-logloss:0.089757\ttest-auc:0.670483\ttest-logloss:0.082974\n",
            "[33]\ttrain-auc:0.708932\ttrain-logloss:0.089588\ttest-auc:0.670674\ttest-logloss:0.082846\n",
            "[34]\ttrain-auc:0.710154\ttrain-logloss:0.089453\ttest-auc:0.671637\ttest-logloss:0.082721\n",
            "[35]\ttrain-auc:0.711727\ttrain-logloss:0.089317\ttest-auc:0.672261\ttest-logloss:0.082637\n",
            "[36]\ttrain-auc:0.712987\ttrain-logloss:0.089196\ttest-auc:0.672485\ttest-logloss:0.08256\n",
            "[37]\ttrain-auc:0.714638\ttrain-logloss:0.089059\ttest-auc:0.674082\ttest-logloss:0.082441\n",
            "[38]\ttrain-auc:0.715836\ttrain-logloss:0.088948\ttest-auc:0.67359\ttest-logloss:0.08239\n",
            "[39]\ttrain-auc:0.717372\ttrain-logloss:0.088839\ttest-auc:0.673914\ttest-logloss:0.082345\n",
            "[40]\ttrain-auc:0.718209\ttrain-logloss:0.088757\ttest-auc:0.673809\ttest-logloss:0.082317\n",
            "[41]\ttrain-auc:0.719266\ttrain-logloss:0.088678\ttest-auc:0.674361\ttest-logloss:0.082278\n",
            "[42]\ttrain-auc:0.720318\ttrain-logloss:0.088593\ttest-auc:0.674383\ttest-logloss:0.082244\n",
            "[43]\ttrain-auc:0.721121\ttrain-logloss:0.088528\ttest-auc:0.674727\ttest-logloss:0.082212\n",
            "[44]\ttrain-auc:0.721905\ttrain-logloss:0.088462\ttest-auc:0.674682\ttest-logloss:0.082214\n"
          ],
          "name": "stdout"
        },
        {
          "output_type": "stream",
          "text": [
            "[45]\ttrain-auc:0.722934\ttrain-logloss:0.08838\ttest-auc:0.675368\ttest-logloss:0.082183\n",
            "[46]\ttrain-auc:0.723661\ttrain-logloss:0.088328\ttest-auc:0.674817\ttest-logloss:0.082195\n",
            "[47]\ttrain-auc:0.724482\ttrain-logloss:0.088266\ttest-auc:0.674968\ttest-logloss:0.082178\n",
            "[48]\ttrain-auc:0.724891\ttrain-logloss:0.088227\ttest-auc:0.675028\ttest-logloss:0.082167\n",
            "[49]\ttrain-auc:0.725713\ttrain-logloss:0.08817\ttest-auc:0.675678\ttest-logloss:0.082137\n",
            "[50]\ttrain-auc:0.726759\ttrain-logloss:0.088101\ttest-auc:0.676162\ttest-logloss:0.08209\n",
            "[51]\ttrain-auc:0.726974\ttrain-logloss:0.088078\ttest-auc:0.675569\ttest-logloss:0.082109\n",
            "[52]\ttrain-auc:0.727587\ttrain-logloss:0.08804\ttest-auc:0.675294\ttest-logloss:0.08211\n",
            "[53]\ttrain-auc:0.727982\ttrain-logloss:0.088012\ttest-auc:0.675367\ttest-logloss:0.082108\n",
            "[54]\ttrain-auc:0.728876\ttrain-logloss:0.08796\ttest-auc:0.675714\ttest-logloss:0.082094\n",
            "[55]\ttrain-auc:0.729759\ttrain-logloss:0.087907\ttest-auc:0.675749\ttest-logloss:0.08209\n",
            "[56]\ttrain-auc:0.730483\ttrain-logloss:0.087853\ttest-auc:0.675643\ttest-logloss:0.082081\n",
            "[57]\ttrain-auc:0.73086\ttrain-logloss:0.087813\ttest-auc:0.675516\ttest-logloss:0.082089\n",
            "[58]\ttrain-auc:0.731634\ttrain-logloss:0.087759\ttest-auc:0.675979\ttest-logloss:0.08206\n",
            "[59]\ttrain-auc:0.732234\ttrain-logloss:0.087717\ttest-auc:0.6764\ttest-logloss:0.082052\n",
            "[60]\ttrain-auc:0.732773\ttrain-logloss:0.087687\ttest-auc:0.676389\ttest-logloss:0.082059\n",
            "[61]\ttrain-auc:0.733454\ttrain-logloss:0.087634\ttest-auc:0.676374\ttest-logloss:0.082055\n",
            "[62]\ttrain-auc:0.734579\ttrain-logloss:0.08756\ttest-auc:0.676503\ttest-logloss:0.08204\n",
            "[63]\ttrain-auc:0.734965\ttrain-logloss:0.087536\ttest-auc:0.676478\ttest-logloss:0.082048\n",
            "[64]\ttrain-auc:0.735742\ttrain-logloss:0.087483\ttest-auc:0.677321\ttest-logloss:0.082012\n",
            "[65]\ttrain-auc:0.736903\ttrain-logloss:0.087419\ttest-auc:0.676999\ttest-logloss:0.082011\n",
            "[66]\ttrain-auc:0.737256\ttrain-logloss:0.087389\ttest-auc:0.676923\ttest-logloss:0.082013\n",
            "[67]\ttrain-auc:0.737751\ttrain-logloss:0.087353\ttest-auc:0.677506\ttest-logloss:0.081995\n",
            "[68]\ttrain-auc:0.73857\ttrain-logloss:0.087307\ttest-auc:0.677902\ttest-logloss:0.081984\n",
            "[69]\ttrain-auc:0.739319\ttrain-logloss:0.087263\ttest-auc:0.677586\ttest-logloss:0.081989\n",
            "[70]\ttrain-auc:0.739985\ttrain-logloss:0.08722\ttest-auc:0.677732\ttest-logloss:0.081981\n",
            "[71]\ttrain-auc:0.740512\ttrain-logloss:0.087186\ttest-auc:0.677536\ttest-logloss:0.081985\n",
            "[72]\ttrain-auc:0.741752\ttrain-logloss:0.08712\ttest-auc:0.677672\ttest-logloss:0.081982\n",
            "[73]\ttrain-auc:0.742315\ttrain-logloss:0.087075\ttest-auc:0.677682\ttest-logloss:0.081978\n",
            "[74]\ttrain-auc:0.742826\ttrain-logloss:0.087043\ttest-auc:0.677419\ttest-logloss:0.081989\n",
            "[75]\ttrain-auc:0.743474\ttrain-logloss:0.087003\ttest-auc:0.677309\ttest-logloss:0.081989\n",
            "[76]\ttrain-auc:0.744397\ttrain-logloss:0.08694\ttest-auc:0.677766\ttest-logloss:0.081959\n",
            "[77]\ttrain-auc:0.74521\ttrain-logloss:0.086894\ttest-auc:0.677565\ttest-logloss:0.081964\n",
            "[78]\ttrain-auc:0.745874\ttrain-logloss:0.086857\ttest-auc:0.677678\ttest-logloss:0.08196\n",
            "[79]\ttrain-auc:0.746256\ttrain-logloss:0.086839\ttest-auc:0.677672\ttest-logloss:0.081965\n",
            "[80]\ttrain-auc:0.746652\ttrain-logloss:0.08681\ttest-auc:0.677519\ttest-logloss:0.081974\n",
            "[81]\ttrain-auc:0.747174\ttrain-logloss:0.086773\ttest-auc:0.677344\ttest-logloss:0.081983\n",
            "[82]\ttrain-auc:0.747392\ttrain-logloss:0.086756\ttest-auc:0.676925\ttest-logloss:0.081999\n",
            "[83]\ttrain-auc:0.748227\ttrain-logloss:0.086708\ttest-auc:0.677049\ttest-logloss:0.081999\n",
            "[84]\ttrain-auc:0.748892\ttrain-logloss:0.086667\ttest-auc:0.677194\ttest-logloss:0.081996\n",
            "[85]\ttrain-auc:0.749632\ttrain-logloss:0.086615\ttest-auc:0.677181\ttest-logloss:0.081997\n",
            "[86]\ttrain-auc:0.750472\ttrain-logloss:0.086558\ttest-auc:0.67682\ttest-logloss:0.08201\n",
            "[87]\ttrain-auc:0.750826\ttrain-logloss:0.08653\ttest-auc:0.676573\ttest-logloss:0.082025\n",
            "[88]\ttrain-auc:0.751404\ttrain-logloss:0.086492\ttest-auc:0.676638\ttest-logloss:0.082018\n",
            "[89]\ttrain-auc:0.752091\ttrain-logloss:0.08646\ttest-auc:0.676697\ttest-logloss:0.082019\n",
            "[90]\ttrain-auc:0.75268\ttrain-logloss:0.086412\ttest-auc:0.676553\ttest-logloss:0.08202\n",
            "[91]\ttrain-auc:0.753263\ttrain-logloss:0.086376\ttest-auc:0.676221\ttest-logloss:0.082029\n"
          ],
          "name": "stdout"
        },
        {
          "output_type": "stream",
          "text": [
            "[92]\ttrain-auc:0.753445\ttrain-logloss:0.086356\ttest-auc:0.676031\ttest-logloss:0.082039\n",
            "[93]\ttrain-auc:0.75412\ttrain-logloss:0.086307\ttest-auc:0.676539\ttest-logloss:0.082025\n",
            "[94]\ttrain-auc:0.754888\ttrain-logloss:0.086264\ttest-auc:0.677056\ttest-logloss:0.082004\n",
            "[95]\ttrain-auc:0.755427\ttrain-logloss:0.086237\ttest-auc:0.677048\ttest-logloss:0.081997\n",
            "[96]\ttrain-auc:0.756297\ttrain-logloss:0.086179\ttest-auc:0.677212\ttest-logloss:0.081992\n",
            "[97]\ttrain-auc:0.756799\ttrain-logloss:0.086152\ttest-auc:0.677353\ttest-logloss:0.081983\n",
            "[98]\ttrain-auc:0.75733\ttrain-logloss:0.08611\ttest-auc:0.677423\ttest-logloss:0.081973\n",
            "[99]\ttrain-auc:0.75767\ttrain-logloss:0.086081\ttest-auc:0.677355\ttest-logloss:0.081986\n",
            "[100]\ttrain-auc:0.758279\ttrain-logloss:0.086043\ttest-auc:0.677087\ttest-logloss:0.082001\n",
            "[101]\ttrain-auc:0.758822\ttrain-logloss:0.086011\ttest-auc:0.677522\ttest-logloss:0.081981\n",
            "[102]\ttrain-auc:0.759333\ttrain-logloss:0.085973\ttest-auc:0.67747\ttest-logloss:0.081986\n",
            "[103]\ttrain-auc:0.760219\ttrain-logloss:0.08592\ttest-auc:0.67762\ttest-logloss:0.081978\n",
            "[104]\ttrain-auc:0.760554\ttrain-logloss:0.085904\ttest-auc:0.67752\ttest-logloss:0.081979\n",
            "[105]\ttrain-auc:0.761166\ttrain-logloss:0.08587\ttest-auc:0.677749\ttest-logloss:0.081976\n",
            "[106]\ttrain-auc:0.761697\ttrain-logloss:0.085837\ttest-auc:0.677873\ttest-logloss:0.081965\n",
            "[107]\ttrain-auc:0.762098\ttrain-logloss:0.085809\ttest-auc:0.678043\ttest-logloss:0.081959\n",
            "[108]\ttrain-auc:0.762797\ttrain-logloss:0.085771\ttest-auc:0.677787\ttest-logloss:0.081958\n",
            "[109]\ttrain-auc:0.763224\ttrain-logloss:0.085742\ttest-auc:0.67806\ttest-logloss:0.081951\n",
            "[110]\ttrain-auc:0.763534\ttrain-logloss:0.085713\ttest-auc:0.678323\ttest-logloss:0.081943\n",
            "[111]\ttrain-auc:0.763912\ttrain-logloss:0.085676\ttest-auc:0.677973\ttest-logloss:0.081967\n",
            "[112]\ttrain-auc:0.764478\ttrain-logloss:0.085629\ttest-auc:0.677564\ttest-logloss:0.081991\n",
            "[113]\ttrain-auc:0.764704\ttrain-logloss:0.085612\ttest-auc:0.677434\ttest-logloss:0.081994\n",
            "[114]\ttrain-auc:0.765322\ttrain-logloss:0.085567\ttest-auc:0.677726\ttest-logloss:0.081991\n",
            "[115]\ttrain-auc:0.765731\ttrain-logloss:0.085542\ttest-auc:0.677439\ttest-logloss:0.082\n",
            "[116]\ttrain-auc:0.765954\ttrain-logloss:0.085516\ttest-auc:0.677332\ttest-logloss:0.082009\n",
            "[117]\ttrain-auc:0.766401\ttrain-logloss:0.085482\ttest-auc:0.67737\ttest-logloss:0.08201\n",
            "[118]\ttrain-auc:0.766755\ttrain-logloss:0.085455\ttest-auc:0.677372\ttest-logloss:0.082006\n",
            "[119]\ttrain-auc:0.767052\ttrain-logloss:0.085424\ttest-auc:0.677394\ttest-logloss:0.082014\n",
            "[120]\ttrain-auc:0.76741\ttrain-logloss:0.085402\ttest-auc:0.677341\ttest-logloss:0.082016\n",
            "[121]\ttrain-auc:0.76773\ttrain-logloss:0.085379\ttest-auc:0.67723\ttest-logloss:0.082022\n",
            "[122]\ttrain-auc:0.767973\ttrain-logloss:0.08536\ttest-auc:0.677187\ttest-logloss:0.08203\n",
            "[123]\ttrain-auc:0.768101\ttrain-logloss:0.085341\ttest-auc:0.676959\ttest-logloss:0.082051\n",
            "[124]\ttrain-auc:0.768685\ttrain-logloss:0.085296\ttest-auc:0.676681\ttest-logloss:0.082064\n",
            "[125]\ttrain-auc:0.769138\ttrain-logloss:0.085266\ttest-auc:0.67654\ttest-logloss:0.082076\n",
            "[126]\ttrain-auc:0.769526\ttrain-logloss:0.085237\ttest-auc:0.677001\ttest-logloss:0.082052\n",
            "[127]\ttrain-auc:0.769783\ttrain-logloss:0.085212\ttest-auc:0.677193\ttest-logloss:0.082036\n",
            "[128]\ttrain-auc:0.770362\ttrain-logloss:0.085179\ttest-auc:0.677405\ttest-logloss:0.082017\n",
            "[129]\ttrain-auc:0.770829\ttrain-logloss:0.085152\ttest-auc:0.677623\ttest-logloss:0.082004\n",
            "[130]\ttrain-auc:0.771216\ttrain-logloss:0.085124\ttest-auc:0.677677\ttest-logloss:0.082008\n",
            "[131]\ttrain-auc:0.771471\ttrain-logloss:0.085104\ttest-auc:0.677676\ttest-logloss:0.082013\n",
            "[132]\ttrain-auc:0.77176\ttrain-logloss:0.085086\ttest-auc:0.677824\ttest-logloss:0.082011\n",
            "[133]\ttrain-auc:0.772054\ttrain-logloss:0.085057\ttest-auc:0.677932\ttest-logloss:0.082007\n",
            "[134]\ttrain-auc:0.772418\ttrain-logloss:0.08503\ttest-auc:0.678038\ttest-logloss:0.082005\n",
            "[135]\ttrain-auc:0.772717\ttrain-logloss:0.084999\ttest-auc:0.678071\ttest-logloss:0.081999\n",
            "[136]\ttrain-auc:0.773361\ttrain-logloss:0.084966\ttest-auc:0.678227\ttest-logloss:0.082002\n",
            "[137]\ttrain-auc:0.773933\ttrain-logloss:0.084924\ttest-auc:0.678031\ttest-logloss:0.082017\n",
            "[138]\ttrain-auc:0.774038\ttrain-logloss:0.084916\ttest-auc:0.677986\ttest-logloss:0.082025\n"
          ],
          "name": "stdout"
        },
        {
          "output_type": "stream",
          "text": [
            "[139]\ttrain-auc:0.774686\ttrain-logloss:0.084877\ttest-auc:0.677934\ttest-logloss:0.082029\n",
            "[140]\ttrain-auc:0.775264\ttrain-logloss:0.084843\ttest-auc:0.678088\ttest-logloss:0.082031\n",
            "[141]\ttrain-auc:0.775479\ttrain-logloss:0.084824\ttest-auc:0.678007\ttest-logloss:0.08203\n",
            "[142]\ttrain-auc:0.77591\ttrain-logloss:0.084794\ttest-auc:0.678026\ttest-logloss:0.082023\n",
            "[143]\ttrain-auc:0.776005\ttrain-logloss:0.084781\ttest-auc:0.677997\ttest-logloss:0.082023\n",
            "[144]\ttrain-auc:0.776259\ttrain-logloss:0.08475\ttest-auc:0.677913\ttest-logloss:0.08203\n",
            "[145]\ttrain-auc:0.776568\ttrain-logloss:0.084731\ttest-auc:0.677803\ttest-logloss:0.082031\n",
            "[146]\ttrain-auc:0.776921\ttrain-logloss:0.084699\ttest-auc:0.677798\ttest-logloss:0.08203\n",
            "[147]\ttrain-auc:0.777236\ttrain-logloss:0.084679\ttest-auc:0.677847\ttest-logloss:0.082036\n",
            "[148]\ttrain-auc:0.777614\ttrain-logloss:0.084644\ttest-auc:0.677732\ttest-logloss:0.082044\n",
            "[149]\ttrain-auc:0.778043\ttrain-logloss:0.084613\ttest-auc:0.677668\ttest-logloss:0.082051\n",
            "[150]\ttrain-auc:0.778535\ttrain-logloss:0.084579\ttest-auc:0.677749\ttest-logloss:0.082054\n",
            "[151]\ttrain-auc:0.77876\ttrain-logloss:0.08455\ttest-auc:0.677986\ttest-logloss:0.082047\n",
            "[152]\ttrain-auc:0.779062\ttrain-logloss:0.084525\ttest-auc:0.678174\ttest-logloss:0.082042\n",
            "[153]\ttrain-auc:0.779197\ttrain-logloss:0.084517\ttest-auc:0.678192\ttest-logloss:0.082047\n",
            "[154]\ttrain-auc:0.779666\ttrain-logloss:0.08449\ttest-auc:0.677802\ttest-logloss:0.082057\n",
            "[155]\ttrain-auc:0.780014\ttrain-logloss:0.084465\ttest-auc:0.677814\ttest-logloss:0.082066\n",
            "[156]\ttrain-auc:0.780657\ttrain-logloss:0.084424\ttest-auc:0.677501\ttest-logloss:0.082076\n",
            "[157]\ttrain-auc:0.780867\ttrain-logloss:0.084403\ttest-auc:0.677544\ttest-logloss:0.082072\n",
            "[158]\ttrain-auc:0.781118\ttrain-logloss:0.084384\ttest-auc:0.677471\ttest-logloss:0.082084\n",
            "[159]\ttrain-auc:0.781429\ttrain-logloss:0.084356\ttest-auc:0.677435\ttest-logloss:0.082081\n",
            "[160]\ttrain-auc:0.781609\ttrain-logloss:0.084341\ttest-auc:0.67736\ttest-logloss:0.082084\n",
            "Stopping. Best iteration:\n",
            "[110]\ttrain-auc:0.763534\ttrain-logloss:0.085713\ttest-auc:0.678323\ttest-logloss:0.081943\n",
            "\n"
          ],
          "name": "stdout"
        },
        {
          "output_type": "display_data",
          "data": {
            "image/png": "[encoded data removed]",
            "text/plain": [
              "<matplotlib.figure.Figure at 0x7fa861df9dd8>"
            ]
          },
          "metadata": {
            "tags": []
          }
        },
        {
          "output_type": "display_data",
          "data": {
            "image/png": "[encoded data removed]",
            "text/plain": [
              "<matplotlib.figure.Figure at 0x7fa85799c7b8>"
            ]
          },
          "metadata": {
            "tags": []
          }
        }
      ]
    },
    {
      "metadata": {
        "id": "wOPHdP_-c_wl",
        "colab_type": "text"
      },
      "cell_type": "markdown",
      "source": [
        "###lightgbm验证"
      ]
    },
    {
      "metadata": {
        "id": "rx6XLaGAc-YJ",
        "colab_type": "code",
        "colab": {
          "autoexec": {
            "startup": false,
            "wait_interval": 0
          },
          "output_extras": [
            {
              "item_id": 1
            },
            {
              "item_id": 2
            }
          ],
          "base_uri": "https://localhost:8080/",
          "height": 125
        },
        "outputId": "cb750002-9df4-4819-945a-069243122599",
        "executionInfo": {
          "status": "ok",
          "timestamp": 1521548389635,
          "user_tz": -480,
          "elapsed": 9673,
          "user": {
            "displayName": "姚填佳",
            "photoUrl": "//lh4.googleusercontent.com/-c8yaOIb4NJo/AAAAAAAAAAI/AAAAAAAAACI/2RCS6KOMtQs/s50-c-k-no/photo.jpg",
            "userId": "107989077003671308346"
          }
        }
      },
      "cell_type": "code",
      "source": [
        "import lightgbm as lgb\n",
        "from sklearn.metrics import log_loss,roc_auc_score\n",
        "clf = lgb.LGBMClassifier(num_leaves=63, max_depth=7, n_estimators=80, n_jobs=20)\n",
        "clf.fit(train_m[feature_list].copy(), train_m[[\"is_trade\"]].copy(), feature_name=feature_list)\n",
        "test_m['lgb_predict'] = clf.predict_proba(test_m[feature_list].copy(),)[:, 1]\n",
        "print(log_loss(test_m[\"is_trade\"], test_m['lgb_predict']))\n",
        "print(roc_auc_score(test_m[\"is_trade\"], test_m['lgb_predict']))"
      ],
      "execution_count": 25,
      "outputs": [
        {
          "output_type": "stream",
          "text": [
            "/usr/local/lib/python3.6/dist-packages/sklearn/preprocessing/label.py:95: DataConversionWarning: A column-vector y was passed when a 1d array was expected. Please change the shape of y to (n_samples, ), for example using ravel().\n",
            "  y = column_or_1d(y, warn=True)\n",
            "/usr/local/lib/python3.6/dist-packages/sklearn/preprocessing/label.py:128: DataConversionWarning: A column-vector y was passed when a 1d array was expected. Please change the shape of y to (n_samples, ), for example using ravel().\n",
            "  y = column_or_1d(y, warn=True)\n"
          ],
          "name": "stderr"
        },
        {
          "output_type": "stream",
          "text": [
            "0.08213451580407584\n",
            "0.6771902316283976\n"
          ],
          "name": "stdout"
        }
      ]
    },
    {
      "metadata": {
        "id": "a7t0F3rImqZ3",
        "colab_type": "text"
      },
      "cell_type": "markdown",
      "source": [
        "#训练"
      ]
    },
    {
      "metadata": {
        "id": "uw1Jfhf5NCkj",
        "colab_type": "text"
      },
      "cell_type": "markdown",
      "source": [
        "##xgboost"
      ]
    },
    {
      "metadata": {
        "id": "v5EqtPMum2Zg",
        "colab_type": "text"
      },
      "cell_type": "markdown",
      "source": [
        "###参数控制"
      ]
    },
    {
      "metadata": {
        "id": "O4DNCMwWmpZS",
        "colab_type": "code",
        "colab": {
          "autoexec": {
            "startup": false,
            "wait_interval": 0
          }
        }
      },
      "cell_type": "code",
      "source": [
        "#alpha 30, lambda 15, gamma 2\n",
        "param = {}\n",
        "param[\"eta\"] = 0.15\n",
        "param[\"min_child_weight\"] = 1\n",
        "param[\"max_depth\"] = 3\n",
        "param[\"lambda\"] = 5 #控制模型复杂度的权重值的L2正则化项参数，参数越大，模型越不容易过拟合。 默认1\n",
        "param[\"alpha\"] = 4 #控制模型复杂程度的权重值的 L1 正则项参数，参数值越大，模型越不容易过拟合。 默认0\n",
        "param[\"gamma\"] = 1 # 用于控制是否后剪枝的参数,越大越保守，一般0.1、0.2这样子。\n",
        "param[\"subsample\"]=0.8\n",
        "param[\"colsample_bytree\"]=0.8\n",
        "param[\"objective\"] = \"binary:logistic\"\n",
        "param[\"eval_metric\"]=[ \"auc\",\"logloss\"]#error,logloss,auc\n",
        "param[\"silent\"] = 1\n",
        "num_round = 500\n",
        "eval_result={}"
      ],
      "execution_count": 0,
      "outputs": []
    },
    {
      "metadata": {
        "id": "MMiwaP28m5PJ",
        "colab_type": "text"
      },
      "cell_type": "markdown",
      "source": [
        "###训练模型"
      ]
    },
    {
      "metadata": {
        "id": "wbMZJPmYmn5Q",
        "colab_type": "code",
        "colab": {
          "autoexec": {
            "startup": false,
            "wait_interval": 0
          }
        }
      },
      "cell_type": "code",
      "source": [
        "X = train_m[feature_list].copy()\n",
        "Y = train_m[\"is_trade\"].copy()\n",
        "train_set = xgb.DMatrix(X,label=Y)\n",
        "X_t = test_m[feature_list].copy()\n",
        "Y_t = test_m[\"is_trade\"].copy()\n",
        "test_set = xgb.DMatrix(X_t,label=Y_t)\n",
        "watchlist = [(train_set,'train'), (test_set, 'test')]\n",
        "model = xgb.train( param, train_set, num_round, watchlist,verbose_eval=True,evals_result=eval_result,early_stopping_rounds=int(0.1*num_round))\n",
        "limit = model.best_ntree_limit"
      ],
      "execution_count": 0,
      "outputs": []
    },
    {
      "metadata": {
        "id": "rFpe5y5lnQf7",
        "colab_type": "text"
      },
      "cell_type": "markdown",
      "source": [
        "###结果展示"
      ]
    },
    {
      "metadata": {
        "id": "fulGgyJFnTN8",
        "colab_type": "code",
        "colab": {
          "autoexec": {
            "startup": false,
            "wait_interval": 0
          }
        }
      },
      "cell_type": "code",
      "source": [
        "from matplotlib import pyplot \n",
        "from xgboost import plot_importance\n",
        "#plot feature importance\n",
        "ax = plot_importance(model,max_num_features=50)\n",
        "fig = ax.figure\n",
        "fig.set_size_inches(18, 8)\n",
        "pyplot.show()\n",
        "\n",
        "#plot logloss\n",
        "epochs = len(eval_result['train']['logloss'])  \n",
        "x_axis = range(0, epochs)  \n",
        "fig, ax = pyplot.subplots()  \n",
        "ax.plot(x_axis, eval_result['train']['logloss'], label='Train_logloss')  \n",
        "ax.plot(x_axis, eval_result['test']['logloss'], label='Test_logloss')  \n",
        "ax.plot(x_axis, eval_result['train']['auc'], label='Train-auc')  \n",
        "ax.plot(x_axis, eval_result['test']['auc'], label='Test-auc') \n",
        "ax.legend()\n",
        "fig = ax.figure\n",
        "fig.set_size_inches(18, 8)\n",
        "pyplot.ylabel('Loss')  \n",
        "pyplot.xlabel('Iteration Num')  \n",
        "pyplot.title('XGBoost Loss')  \n",
        "pyplot.show()\n"
      ],
      "execution_count": 0,
      "outputs": []
    },
    {
      "metadata": {
        "id": "1Ri1exAAWEfT",
        "colab_type": "text"
      },
      "cell_type": "markdown",
      "source": [
        "###正式训练重新生成特征"
      ]
    },
    {
      "metadata": {
        "id": "60VJlkVLWHgl",
        "colab_type": "code",
        "colab": {
          "autoexec": {
            "startup": false,
            "wait_interval": 0
          }
        }
      },
      "cell_type": "code",
      "source": [
        "# train_pd,test_pd = set_item_trade_ratio(train_pd,test_pd)\n",
        "# if \"item_trade_ratio\" not in feature_list:\n",
        "#   feature_list.append(\"item_trade_ratio\")\n",
        "\n",
        "# train_pd,test_pd = set_brand_trade_ratio(train_pd,test_pd)\n",
        "# if \"brand_trade_ratio\" not in feature_list:\n",
        "#   feature_list.append(\"brand_trade_ratio\")\n",
        "\n",
        "train_pd,test_pd = set_item_city_ratio(train_pd,test_pd)\n",
        "if \"item_city_ratio\" not in feature_list:\n",
        "  feature_list.append(\"item_city_ratio\")\n",
        "\n",
        "# if \"shop_review_positive_rate\" not in feature_list:\n",
        "#   feature_list.append(\"shop_review_positive_rate\")\n",
        "\n",
        "# if \"shop_score_service\" not in feature_list:\n",
        "#   feature_list.append(\"shop_score_service\")\n",
        "\n",
        "# if \"shop_score_delivery\" not in feature_list:\n",
        "#   feature_list.append(\"shop_score_delivery\")\n",
        "\n",
        "# if \"shop_score_description\" not in feature_list:\n",
        "#   feature_list.append(\"shop_score_description\")\n",
        "\n",
        "# train_pd,test_pd = set_gender_brand_ratio(train_pd,test_pd)\n",
        "# if \"gender_brand_ratio\" not in feature_list:\n",
        "#   feature_list.append(\"gender_brand_ratio\")\n",
        "\n",
        "# train_pd,test_pd = set_age_brand_ratio(train_pd,test_pd)\n",
        "# if \"age_brand_ratio\" not in feature_list:\n",
        "#   feature_list.append(\"age_brand_ratio\")\n",
        "\n",
        "train_pd,test_pd = set_star_price_ratio(train_pd,test_pd)\n",
        "if \"star_price_ratio\" not in feature_list:\n",
        "  feature_list.append(\"star_price_ratio\")\n",
        "\n",
        "# train_pd,test_pd = set_occupation_brand_ratio(train_pd,test_pd)\n",
        "# if \"occupation_brand_ratio\" not in feature_list:\n",
        "#   feature_list.append(\"occupation_brand_ratio\")\n",
        "  \n",
        "train_pd = set_user_query_feature(train_pd)\n",
        "test_pd = set_user_query_feature(test_pd)\n",
        "if \"user_query_day\" not in feature_list:\n",
        "  feature_list.append(\"user_query_day\")\n",
        "if \"user_query_day_hour\" not in feature_list:\n",
        "  feature_list.append(\"user_query_day_hour\")"
      ],
      "execution_count": 0,
      "outputs": []
    },
    {
      "metadata": {
        "id": "WAN5UYfBF67_",
        "colab_type": "text"
      },
      "cell_type": "markdown",
      "source": [
        "###结果预测"
      ]
    },
    {
      "metadata": {
        "id": "GqYXgAP54WCM",
        "colab_type": "code",
        "colab": {
          "autoexec": {
            "startup": false,
            "wait_interval": 0
          },
          "output_extras": [
            {
              "item_id": 63
            },
            {
              "item_id": 109
            }
          ],
          "base_uri": "https://localhost:8080/",
          "height": 2015
        },
        "outputId": "64ced3b0-0f50-4330-ddd2-f0619e777ef8",
        "executionInfo": {
          "status": "ok",
          "timestamp": 1521548541355,
          "user_tz": -480,
          "elapsed": 54075,
          "user": {
            "displayName": "姚填佳",
            "photoUrl": "//lh4.googleusercontent.com/-c8yaOIb4NJo/AAAAAAAAAAI/AAAAAAAAACI/2RCS6KOMtQs/s50-c-k-no/photo.jpg",
            "userId": "107989077003671308346"
          }
        }
      },
      "cell_type": "code",
      "source": [
        "#总训练集生成\n",
        "X = train_pd[feature_list].copy()\n",
        "Y = train_pd[\"is_trade\"].copy()\n",
        "train_set = xgb.DMatrix(X,label=Y)\n",
        "#测试集生成\n",
        "X_t = test_pd[feature_list].copy() \n",
        "test_set = xgb.DMatrix(X_t)\n",
        "#训练总模型\n",
        "watchlist = [(train_set,'train')]\n",
        "final_model = xgb.train( param, train_set, limit,watchlist)\n",
        "#预测\n",
        "predict_out = final_model.predict(test_set,ntree_limit=limit)\n",
        "test_pd[\"predicted_score\"] = predict_out\n",
        "result = test_pd[[\"instance_id\",\"predicted_score\"]].copy()"
      ],
      "execution_count": 27,
      "outputs": [
        {
          "output_type": "stream",
          "text": [
            "[0]\ttrain-auc:0.592908\ttrain-logloss:0.564631\n",
            "[1]\ttrain-auc:0.618358\ttrain-logloss:0.469463\n",
            "[2]\ttrain-auc:0.630992\ttrain-logloss:0.396472\n",
            "[3]\ttrain-auc:0.649603\ttrain-logloss:0.339149\n",
            "[4]\ttrain-auc:0.650055\ttrain-logloss:0.293406\n",
            "[5]\ttrain-auc:0.650482\ttrain-logloss:0.256503\n",
            "[6]\ttrain-auc:0.65036\ttrain-logloss:0.226504\n",
            "[7]\ttrain-auc:0.656445\ttrain-logloss:0.201942\n",
            "[8]\ttrain-auc:0.657955\ttrain-logloss:0.181761\n",
            "[9]\ttrain-auc:0.658572\ttrain-logloss:0.16516\n",
            "[10]\ttrain-auc:0.659648\ttrain-logloss:0.151463\n",
            "[11]\ttrain-auc:0.663004\ttrain-logloss:0.140145\n",
            "[12]\ttrain-auc:0.665402\ttrain-logloss:0.130807\n",
            "[13]\ttrain-auc:0.667175\ttrain-logloss:0.123076\n",
            "[14]\ttrain-auc:0.670058\ttrain-logloss:0.116738\n",
            "[15]\ttrain-auc:0.670718\ttrain-logloss:0.111501\n",
            "[16]\ttrain-auc:0.672786\ttrain-logloss:0.107232\n",
            "[17]\ttrain-auc:0.674148\ttrain-logloss:0.103736\n",
            "[18]\ttrain-auc:0.676199\ttrain-logloss:0.100857\n",
            "[19]\ttrain-auc:0.677865\ttrain-logloss:0.098524\n",
            "[20]\ttrain-auc:0.679182\ttrain-logloss:0.096625\n",
            "[21]\ttrain-auc:0.681575\ttrain-logloss:0.095071\n",
            "[22]\ttrain-auc:0.683541\ttrain-logloss:0.093831\n",
            "[23]\ttrain-auc:0.685419\ttrain-logloss:0.092806\n",
            "[24]\ttrain-auc:0.686426\ttrain-logloss:0.091983\n",
            "[25]\ttrain-auc:0.68825\ttrain-logloss:0.091312\n",
            "[26]\ttrain-auc:0.690587\ttrain-logloss:0.090751\n",
            "[27]\ttrain-auc:0.693193\ttrain-logloss:0.090294\n",
            "[28]\ttrain-auc:0.694844\ttrain-logloss:0.089941\n",
            "[29]\ttrain-auc:0.696412\ttrain-logloss:0.089651\n",
            "[30]\ttrain-auc:0.698741\ttrain-logloss:0.08938\n",
            "[31]\ttrain-auc:0.700672\ttrain-logloss:0.089152\n",
            "[32]\ttrain-auc:0.702169\ttrain-logloss:0.088966\n",
            "[33]\ttrain-auc:0.703419\ttrain-logloss:0.088792\n",
            "[34]\ttrain-auc:0.704773\ttrain-logloss:0.08865\n",
            "[35]\ttrain-auc:0.706331\ttrain-logloss:0.08852\n",
            "[36]\ttrain-auc:0.707451\ttrain-logloss:0.088404\n",
            "[37]\ttrain-auc:0.708853\ttrain-logloss:0.088296\n",
            "[38]\ttrain-auc:0.710526\ttrain-logloss:0.088173\n",
            "[39]\ttrain-auc:0.712179\ttrain-logloss:0.088074\n",
            "[40]\ttrain-auc:0.713323\ttrain-logloss:0.087996\n",
            "[41]\ttrain-auc:0.714278\ttrain-logloss:0.087926\n",
            "[42]\ttrain-auc:0.714983\ttrain-logloss:0.087862\n",
            "[43]\ttrain-auc:0.715887\ttrain-logloss:0.087792\n",
            "[44]\ttrain-auc:0.716363\ttrain-logloss:0.087737\n",
            "[45]\ttrain-auc:0.717444\ttrain-logloss:0.087669\n",
            "[46]\ttrain-auc:0.718104\ttrain-logloss:0.087614\n",
            "[47]\ttrain-auc:0.719416\ttrain-logloss:0.087524\n",
            "[48]\ttrain-auc:0.720758\ttrain-logloss:0.087441\n",
            "[49]\ttrain-auc:0.72156\ttrain-logloss:0.087395\n",
            "[50]\ttrain-auc:0.722364\ttrain-logloss:0.087326\n",
            "[51]\ttrain-auc:0.723118\ttrain-logloss:0.087287\n",
            "[52]\ttrain-auc:0.723941\ttrain-logloss:0.087234\n",
            "[53]\ttrain-auc:0.724826\ttrain-logloss:0.087177\n",
            "[54]\ttrain-auc:0.725639\ttrain-logloss:0.087122\n",
            "[55]\ttrain-auc:0.726018\ttrain-logloss:0.087093\n",
            "[56]\ttrain-auc:0.726642\ttrain-logloss:0.087046\n",
            "[57]\ttrain-auc:0.726983\ttrain-logloss:0.08702\n",
            "[58]\ttrain-auc:0.727839\ttrain-logloss:0.086973\n",
            "[59]\ttrain-auc:0.728657\ttrain-logloss:0.086921\n",
            "[60]\ttrain-auc:0.729384\ttrain-logloss:0.086871\n",
            "[61]\ttrain-auc:0.730025\ttrain-logloss:0.086828\n",
            "[62]\ttrain-auc:0.730539\ttrain-logloss:0.086788\n",
            "[63]\ttrain-auc:0.731283\ttrain-logloss:0.086746\n",
            "[64]\ttrain-auc:0.731592\ttrain-logloss:0.086723\n"
          ],
          "name": "stdout"
        },
        {
          "output_type": "stream",
          "text": [
            "[65]\ttrain-auc:0.732139\ttrain-logloss:0.086688\n",
            "[66]\ttrain-auc:0.733136\ttrain-logloss:0.08663\n",
            "[67]\ttrain-auc:0.733772\ttrain-logloss:0.086585\n",
            "[68]\ttrain-auc:0.734242\ttrain-logloss:0.086556\n",
            "[69]\ttrain-auc:0.735578\ttrain-logloss:0.086498\n",
            "[70]\ttrain-auc:0.736175\ttrain-logloss:0.086467\n",
            "[71]\ttrain-auc:0.736669\ttrain-logloss:0.086441\n",
            "[72]\ttrain-auc:0.73765\ttrain-logloss:0.086392\n",
            "[73]\ttrain-auc:0.738339\ttrain-logloss:0.086355\n",
            "[74]\ttrain-auc:0.738669\ttrain-logloss:0.086325\n",
            "[75]\ttrain-auc:0.73908\ttrain-logloss:0.086301\n",
            "[76]\ttrain-auc:0.73944\ttrain-logloss:0.086274\n",
            "[77]\ttrain-auc:0.739816\ttrain-logloss:0.086246\n",
            "[78]\ttrain-auc:0.740285\ttrain-logloss:0.086209\n",
            "[79]\ttrain-auc:0.740885\ttrain-logloss:0.086178\n",
            "[80]\ttrain-auc:0.741474\ttrain-logloss:0.086138\n",
            "[81]\ttrain-auc:0.742237\ttrain-logloss:0.086098\n",
            "[82]\ttrain-auc:0.742505\ttrain-logloss:0.086071\n",
            "[83]\ttrain-auc:0.742814\ttrain-logloss:0.086043\n",
            "[84]\ttrain-auc:0.7435\ttrain-logloss:0.086011\n",
            "[85]\ttrain-auc:0.743954\ttrain-logloss:0.085973\n",
            "[86]\ttrain-auc:0.744772\ttrain-logloss:0.085923\n",
            "[87]\ttrain-auc:0.745166\ttrain-logloss:0.085893\n",
            "[88]\ttrain-auc:0.745821\ttrain-logloss:0.085854\n",
            "[89]\ttrain-auc:0.746437\ttrain-logloss:0.085811\n",
            "[90]\ttrain-auc:0.746825\ttrain-logloss:0.085784\n",
            "[91]\ttrain-auc:0.747381\ttrain-logloss:0.085755\n",
            "[92]\ttrain-auc:0.748431\ttrain-logloss:0.085698\n",
            "[93]\ttrain-auc:0.748801\ttrain-logloss:0.085681\n",
            "[94]\ttrain-auc:0.749598\ttrain-logloss:0.085638\n",
            "[95]\ttrain-auc:0.749806\ttrain-logloss:0.08562\n",
            "[96]\ttrain-auc:0.750026\ttrain-logloss:0.085602\n",
            "[97]\ttrain-auc:0.75023\ttrain-logloss:0.085592\n",
            "[98]\ttrain-auc:0.750592\ttrain-logloss:0.085565\n",
            "[99]\ttrain-auc:0.750994\ttrain-logloss:0.085535\n",
            "[100]\ttrain-auc:0.751645\ttrain-logloss:0.085492\n",
            "[101]\ttrain-auc:0.752117\ttrain-logloss:0.085466\n",
            "[102]\ttrain-auc:0.752647\ttrain-logloss:0.085432\n",
            "[103]\ttrain-auc:0.753199\ttrain-logloss:0.085396\n",
            "[104]\ttrain-auc:0.754064\ttrain-logloss:0.08535\n",
            "[105]\ttrain-auc:0.7546\ttrain-logloss:0.08532\n",
            "[106]\ttrain-auc:0.754852\ttrain-logloss:0.085295\n",
            "[107]\ttrain-auc:0.75537\ttrain-logloss:0.08527\n",
            "[108]\ttrain-auc:0.755687\ttrain-logloss:0.085241\n",
            "[109]\ttrain-auc:0.755961\ttrain-logloss:0.085224\n",
            "[110]\ttrain-auc:0.756525\ttrain-logloss:0.085192\n"
          ],
          "name": "stdout"
        }
      ]
    },
    {
      "metadata": {
        "id": "k9Kk--MpJUZN",
        "colab_type": "text"
      },
      "cell_type": "markdown",
      "source": [
        "###结果保存"
      ]
    },
    {
      "metadata": {
        "id": "pp4y3uIAJWMX",
        "colab_type": "code",
        "colab": {
          "autoexec": {
            "startup": false,
            "wait_interval": 0
          },
          "output_extras": [
            {
              "item_id": 1
            }
          ],
          "base_uri": "https://localhost:8080/",
          "height": 35
        },
        "outputId": "49e077b3-a672-4fae-cfe6-adf989797e9e",
        "executionInfo": {
          "status": "ok",
          "timestamp": 1521548586742,
          "user_tz": -480,
          "elapsed": 4198,
          "user": {
            "displayName": "姚填佳",
            "photoUrl": "//lh4.googleusercontent.com/-c8yaOIb4NJo/AAAAAAAAAAI/AAAAAAAAACI/2RCS6KOMtQs/s50-c-k-no/photo.jpg",
            "userId": "107989077003671308346"
          }
        }
      },
      "cell_type": "code",
      "source": [
        "#保存文件\n",
        "time_string = time.strftime('%Y_%m_%d_%H_%M_%S',time.localtime(time.time()+8*3600))\n",
        "file_name = \"drive/Colab_Notebooks/output/\"+time_string+ '_'+str(model.best_score).split(\".\")[1]+\".txt\"\n",
        "result.to_csv(file_name,index=False,sep=\" \",float_format='%.6f')\n",
        "print(file_name)"
      ],
      "execution_count": 28,
      "outputs": [
        {
          "output_type": "stream",
          "text": [
            "drive/Colab_Notebooks/output/2018_03_20_20_23_04_081943.txt\n"
          ],
          "name": "stdout"
        }
      ]
    },
    {
      "metadata": {
        "id": "pWRCoUuCVxwn",
        "colab_type": "code",
        "colab": {
          "autoexec": {
            "startup": false,
            "wait_interval": 0
          }
        }
      },
      "cell_type": "code",
      "source": [
        ""
      ],
      "execution_count": 0,
      "outputs": []
    },
    {
      "metadata": {
        "id": "XLQ_GOGtXdTw",
        "colab_type": "text"
      },
      "cell_type": "markdown",
      "source": [
        "##浅梦版baseline"
      ]
    },
    {
      "metadata": {
        "id": "ZmqtCcfFXhtp",
        "colab_type": "code",
        "colab": {
          "autoexec": {
            "startup": false,
            "wait_interval": 0
          },
          "output_extras": [
            {
              "item_id": 1
            },
            {
              "item_id": 2
            },
            {
              "item_id": 3
            }
          ],
          "base_uri": "https://localhost:8080/",
          "height": 251
        },
        "outputId": "d8804d5c-e02a-496f-89d9-73da99a5a97e",
        "executionInfo": {
          "status": "ok",
          "timestamp": 1521519064231,
          "user_tz": -480,
          "elapsed": 15340,
          "user": {
            "displayName": "姚填佳",
            "photoUrl": "//lh4.googleusercontent.com/-c8yaOIb4NJo/AAAAAAAAAAI/AAAAAAAAACI/2RCS6KOMtQs/s50-c-k-no/photo.jpg",
            "userId": "107989077003671308346"
          }
        }
      },
      "cell_type": "code",
      "source": [
        "import time\n",
        "import pandas as pd\n",
        "import lightgbm as lgb\n",
        "from sklearn.metrics import log_loss,roc_auc_score\n",
        "\n",
        "\n",
        "def timestamp_datetime(value):\n",
        "    format = '%Y-%m-%d %H:%M:%S'\n",
        "    value = time.localtime(value)\n",
        "    dt = time.strftime(format, value)\n",
        "    return dt\n",
        "\n",
        "\n",
        "def convert_data(data):\n",
        "    data['time'] = data.context_timestamp.apply(timestamp_datetime)\n",
        "    data['day'] = data.time.apply(lambda x: int(x[8:10]))\n",
        "    data['hour'] = data.time.apply(lambda x: int(x[11:13]))\n",
        "    user_query_day = data.groupby(['user_id', 'day']).size(\n",
        "    ).reset_index().rename(columns={0: 'user_query_day'})\n",
        "    data = pd.merge(data, user_query_day, 'left', on=['user_id', 'day'])\n",
        "    user_query_day_hour = data.groupby(['user_id', 'day', 'hour']).size().reset_index().rename(\n",
        "        columns={0: 'user_query_day_hour'})\n",
        "    data = pd.merge(data, user_query_day_hour, 'left',\n",
        "                    on=['user_id', 'day', 'hour'])\n",
        "\n",
        "    return data\n",
        "\n",
        "\n",
        "def generate(train_csv,test_csv):\n",
        "    online = False# 这里用来标记是 线下验证 还是 在线提交\n",
        "\n",
        "    data = train_csv\n",
        "    data.drop_duplicates(inplace=True)\n",
        "    data = convert_data(data)\n",
        "\n",
        "    if online == False:\n",
        "        train = data.loc[data.day < 24]  # 18,19,20,21,22,23,24\n",
        "        test = data.loc[data.day == 24]  # 暂时先使用第24天作为验证集\n",
        "    elif online == True:\n",
        "        train = data.copy()\n",
        "        test = test_csv\n",
        "        test = convert_data(test)\n",
        "\n",
        "    features = ['item_id', 'item_brand_id', 'item_city_id', 'item_price_level', 'item_sales_level',\n",
        "                'item_collected_level', 'item_pv_level', 'user_gender_id', 'user_occupation_id',\n",
        "                'user_age_level', 'user_star_level', 'user_query_day', 'user_query_day_hour',\n",
        "                'context_page_id', 'hour', 'shop_id', 'shop_review_num_level', 'shop_star_level',\n",
        "                'shop_review_positive_rate', 'shop_score_service', 'shop_score_delivery', 'shop_score_description',\n",
        "                ]\n",
        "    target = ['is_trade']\n",
        "\n",
        "    if online == False:\n",
        "        clf = lgb.LGBMClassifier(num_leaves=63, max_depth=7, n_estimators=80, n_jobs=20)\n",
        "        clf.fit(train[features], train[target], feature_name=features,\n",
        "                categorical_feature=['user_gender_id', ])\n",
        "        test['lgb_predict'] = clf.predict_proba(test[features],)[:, 1]\n",
        "        print(log_loss(test[target], test['lgb_predict']))\n",
        "        print(roc_auc_score(test[target], test['lgb_predict']))\n",
        "    else:\n",
        "        clf = lgb.LGBMClassifier(num_leaves=63, max_depth=7, n_estimators=80, n_jobs=20)\n",
        "        clf.fit(train[features], train[target],\n",
        "                categorical_feature=['user_gender_id', ])\n",
        "        test['predicted_score'] = clf.predict_proba(test[features])[:, 1]\n",
        "        time_string = time.strftime('%Y_%m_%d_%H_%M_%S',time.localtime(time.time()+8*3600))\n",
        "        file_name = \"drive/Colab_Notebooks/output/\"+time_string+ '_'+str(model.best_score).split(\".\")[1]+\".txt\"\n",
        "        test[['instance_id', 'predicted_score']].to_csv(file_name, index=False,sep=' ')#保存在线提交结果\n",
        "generate(train_csv,test_csv)"
      ],
      "execution_count": 125,
      "outputs": [
        {
          "output_type": "stream",
          "text": [
            "/usr/local/lib/python3.6/dist-packages/sklearn/preprocessing/label.py:95: DataConversionWarning: A column-vector y was passed when a 1d array was expected. Please change the shape of y to (n_samples, ), for example using ravel().\n",
            "  y = column_or_1d(y, warn=True)\n",
            "/usr/local/lib/python3.6/dist-packages/sklearn/preprocessing/label.py:128: DataConversionWarning: A column-vector y was passed when a 1d array was expected. Please change the shape of y to (n_samples, ), for example using ravel().\n",
            "  y = column_or_1d(y, warn=True)\n",
            "/usr/local/lib/python3.6/dist-packages/lightgbm/basic.py:1038: UserWarning: categorical_feature in Dataset is overrided. New categorical_feature is ['user_gender_id']\n",
            "  warnings.warn('categorical_feature in Dataset is overrided. New categorical_feature is {}'.format(sorted(list(categorical_feature))))\n"
          ],
          "name": "stderr"
        },
        {
          "output_type": "stream",
          "text": [
            "0.0814328949107014\n",
            "0.6851492378035364\n"
          ],
          "name": "stdout"
        },
        {
          "output_type": "stream",
          "text": [
            "/usr/local/lib/python3.6/dist-packages/ipykernel_launcher.py:56: SettingWithCopyWarning: \n",
            "A value is trying to be set on a copy of a slice from a DataFrame.\n",
            "Try using .loc[row_indexer,col_indexer] = value instead\n",
            "\n",
            "See the caveats in the documentation: http://pandas.pydata.org/pandas-docs/stable/indexing.html#indexing-view-versus-copy\n"
          ],
          "name": "stderr"
        }
      ]
    },
    {
      "metadata": {
        "id": "Xly3sAd4YJxn",
        "colab_type": "code",
        "colab": {
          "autoexec": {
            "startup": false,
            "wait_interval": 0
          }
        }
      },
      "cell_type": "code",
      "source": [
        ""
      ],
      "execution_count": 0,
      "outputs": []
    }
  ]
}