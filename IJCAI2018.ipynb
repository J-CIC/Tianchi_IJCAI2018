{
  "nbformat": 4,
  "nbformat_minor": 0,
  "metadata": {
    "colab": {
      "name": "IJCAI2018.ipynb",
      "version": "0.3.2",
      "views": {},
      "default_view": {},
      "provenance": [],
      "collapsed_sections": [
        "WaVwJ6bpxZXi",
        "kw58uqu7NZ_T",
        "v5EqtPMum2Zg",
        "MMiwaP28m5PJ",
        "rFpe5y5lnQf7"
      ]
    },
    "kernelspec": {
      "name": "python3",
      "display_name": "Python 3"
    },
    "accelerator": "GPU"
  },
  "cells": [
    {
      "metadata": {
        "id": "H8mQML2b3i3w",
        "colab_type": "text"
      },
      "cell_type": "markdown",
      "source": [
        "#环境配置系列"
      ]
    },
    {
      "metadata": {
        "id": "mBsnnqYt3l8-",
        "colab_type": "text"
      },
      "cell_type": "markdown",
      "source": [
        "##配置谷歌环境"
      ]
    },
    {
      "metadata": {
        "id": "Lwy_aL7-3iKt",
        "colab_type": "code",
        "colab": {
          "autoexec": {
            "startup": false,
            "wait_interval": 0
          },
          "output_extras": [
            {
              "item_id": 5
            }
          ],
          "base_uri": "https://localhost:8080/",
          "height": 143
        },
        "outputId": "9a568d52-9988-4105-ac17-d5a3ae9d6c5e",
        "executionInfo": {
          "status": "ok",
          "timestamp": 1521520995773,
          "user_tz": -480,
          "elapsed": 16962,
          "user": {
            "displayName": "姚填佳",
            "photoUrl": "//lh4.googleusercontent.com/-c8yaOIb4NJo/AAAAAAAAAAI/AAAAAAAAACI/2RCS6KOMtQs/s50-c-k-no/photo.jpg",
            "userId": "107989077003671308346"
          }
        }
      },
      "cell_type": "code",
      "source": [
        "#认证\n",
        "!apt-get install -y -qq software-properties-common python-software-properties module-init-tools\n",
        "!add-apt-repository -y ppa:alessandro-strada/ppa 2>&1 > /dev/null\n",
        "!apt-get update -qq 2>&1 > /dev/null\n",
        "!apt-get -y install -qq google-drive-ocamlfuse fuse\n",
        "from google.colab import auth\n",
        "auth.authenticate_user()\n",
        "from oauth2client.client import GoogleCredentials\n",
        "creds = GoogleCredentials.get_application_default()\n",
        "import getpass\n",
        "!google-drive-ocamlfuse -headless -id={creds.client_id} -secret={creds.client_secret} < /dev/null 2>&1 | grep URL\n",
        "vcode = getpass.getpass()\n",
        "!echo {vcode} | google-drive-ocamlfuse -headless -id={creds.client_id} -secret={creds.client_secret}"
      ],
      "execution_count": 5,
      "outputs": [
        {
          "output_type": "stream",
          "text": [
            "gpg: keybox '/tmp/tmp2c4x26er/pubring.gpg' created\n",
            "gpg: /tmp/tmp2c4x26er/trustdb.gpg: trustdb created\n",
            "gpg: key AD5F235DF639B041: public key \"Launchpad PPA for Alessandro Strada\" imported\n",
            "gpg: Total number processed: 1\n",
            "gpg:               imported: 1\n",
            "Warning: apt-key output should not be parsed (stdout is not a terminal)\n",
            "··········\n"
          ],
          "name": "stdout"
        }
      ]
    },
    {
      "metadata": {
        "id": "9n4unveV3afh",
        "colab_type": "code",
        "colab": {
          "autoexec": {
            "startup": false,
            "wait_interval": 0
          }
        }
      },
      "cell_type": "code",
      "source": [
        "#挂载云盘\n",
        "!mkdir -p drive\n",
        "!google-drive-ocamlfuse drive  -o nonempty"
      ],
      "execution_count": 0,
      "outputs": []
    },
    {
      "metadata": {
        "id": "boWmvYN_3tJW",
        "colab_type": "text"
      },
      "cell_type": "markdown",
      "source": [
        "##编程环境"
      ]
    },
    {
      "metadata": {
        "id": "iD94nLW-3r5l",
        "colab_type": "code",
        "colab": {
          "autoexec": {
            "startup": false,
            "wait_interval": 0
          },
          "output_extras": [
            {
              "item_id": 2
            }
          ],
          "base_uri": "https://localhost:8080/",
          "height": 143
        },
        "outputId": "51fe9ba8-1139-4921-a882-73c9ae670f5b",
        "executionInfo": {
          "status": "ok",
          "timestamp": 1521521004190,
          "user_tz": -480,
          "elapsed": 4551,
          "user": {
            "displayName": "姚填佳",
            "photoUrl": "//lh4.googleusercontent.com/-c8yaOIb4NJo/AAAAAAAAAAI/AAAAAAAAACI/2RCS6KOMtQs/s50-c-k-no/photo.jpg",
            "userId": "107989077003671308346"
          }
        }
      },
      "cell_type": "code",
      "source": [
        "!pip install xgboost\n",
        "import xgboost as xgb\n",
        "import pandas as pd\n",
        "import numpy as np\n",
        "!pip install lightgbm"
      ],
      "execution_count": 7,
      "outputs": [
        {
          "output_type": "stream",
          "text": [
            "Requirement already satisfied: xgboost in /usr/local/lib/python3.6/dist-packages\r\n",
            "Requirement already satisfied: numpy in /usr/local/lib/python3.6/dist-packages (from xgboost)\r\n",
            "Requirement already satisfied: scipy in /usr/local/lib/python3.6/dist-packages (from xgboost)\n",
            "Requirement already satisfied: lightgbm in /usr/local/lib/python3.6/dist-packages\n",
            "Requirement already satisfied: scipy in /usr/local/lib/python3.6/dist-packages (from lightgbm)\n",
            "Requirement already satisfied: scikit-learn in /usr/local/lib/python3.6/dist-packages (from lightgbm)\n",
            "Requirement already satisfied: numpy in /usr/local/lib/python3.6/dist-packages (from lightgbm)\n"
          ],
          "name": "stdout"
        }
      ]
    },
    {
      "metadata": {
        "id": "9zaP8KGi31d8",
        "colab_type": "text"
      },
      "cell_type": "markdown",
      "source": [
        "##读取数据及初始处理"
      ]
    },
    {
      "metadata": {
        "id": "_NVd9Hu430sd",
        "colab_type": "code",
        "colab": {
          "autoexec": {
            "startup": false,
            "wait_interval": 0
          },
          "output_extras": [
            {
              "item_id": 1
            }
          ],
          "base_uri": "https://localhost:8080/",
          "height": 35
        },
        "outputId": "b0cdadbb-b688-4084-8930-7d55ce098a7e",
        "executionInfo": {
          "status": "ok",
          "timestamp": 1521521120361,
          "user_tz": -480,
          "elapsed": 37780,
          "user": {
            "displayName": "姚填佳",
            "photoUrl": "//lh4.googleusercontent.com/-c8yaOIb4NJo/AAAAAAAAAAI/AAAAAAAAACI/2RCS6KOMtQs/s50-c-k-no/photo.jpg",
            "userId": "107989077003671308346"
          }
        }
      },
      "cell_type": "code",
      "source": [
        "#读取数据\n",
        "train_csv = pd.read_csv(\"drive/Colab_Notebooks/data/round1_ijcai_18_train_20180301.txt\",\" \")\n",
        "test_csv = pd.read_csv(\"drive/Colab_Notebooks/data/round1_ijcai_18_test_a_20180301.txt\",\" \")\n",
        "print(len(train_csv),len(test_csv))"
      ],
      "execution_count": 11,
      "outputs": [
        {
          "output_type": "stream",
          "text": [
            "478138 18371\n"
          ],
          "name": "stdout"
        }
      ]
    },
    {
      "metadata": {
        "id": "Aq9iUrVz37LF",
        "colab_type": "code",
        "colab": {
          "autoexec": {
            "startup": false,
            "wait_interval": 0
          },
          "output_extras": [
            {
              "item_id": 2
            }
          ],
          "base_uri": "https://localhost:8080/",
          "height": 233
        },
        "outputId": "2008bbdb-e3e1-4796-a8db-3b8a30194116",
        "executionInfo": {
          "status": "ok",
          "timestamp": 1521521129817,
          "user_tz": -480,
          "elapsed": 3401,
          "user": {
            "displayName": "姚填佳",
            "photoUrl": "//lh4.googleusercontent.com/-c8yaOIb4NJo/AAAAAAAAAAI/AAAAAAAAACI/2RCS6KOMtQs/s50-c-k-no/photo.jpg",
            "userId": "107989077003671308346"
          }
        }
      },
      "cell_type": "code",
      "source": [
        "train_pd = train_csv.drop_duplicates(\"instance_id\").copy()\n",
        "test_pd = test_csv.drop_duplicates(\"instance_id\").copy()\n",
        "print(len(train_csv),len(test_csv))\n",
        "#补充时间数据\n",
        "import time\n",
        "train_pd['day']=train_pd.context_timestamp.apply(lambda x:time.strftime(\"%Y-%m-%d\",time.localtime(x+3600*8)))\n",
        "train_pd['hour']=train_pd.context_timestamp.apply(lambda x:time.strftime(\"%H\",time.localtime(x+3600*8)))\n",
        "test_pd['day']=test_pd.context_timestamp.apply(lambda x:time.strftime(\"%Y-%m-%d\",time.localtime(x+3600*8)))\n",
        "test_pd['hour']=test_pd.context_timestamp.apply(lambda x:time.strftime(\"%H\",time.localtime(x+3600*8)))\n",
        "#展示列名\n",
        "print(\"columns length:\",len(train_pd.columns))\n",
        "print(\"列名：\",train_pd.columns)\n",
        "#时间列\n",
        "train_time_list = sorted(train_pd[\"day\"].unique())\n",
        "print(\"时间序列：\",train_time_list)"
      ],
      "execution_count": 12,
      "outputs": [
        {
          "output_type": "stream",
          "text": [
            "478138 18371\n",
            "columns length: 29\n",
            "列名： Index(['instance_id', 'item_id', 'item_category_list', 'item_property_list',\n",
            "       'item_brand_id', 'item_city_id', 'item_price_level', 'item_sales_level',\n",
            "       'item_collected_level', 'item_pv_level', 'user_id', 'user_gender_id',\n",
            "       'user_age_level', 'user_occupation_id', 'user_star_level', 'context_id',\n",
            "       'context_timestamp', 'context_page_id', 'predict_category_property',\n",
            "       'shop_id', 'shop_review_num_level', 'shop_review_positive_rate',\n",
            "       'shop_star_level', 'shop_score_service', 'shop_score_delivery',\n",
            "       'shop_score_description', 'is_trade', 'day', 'hour'],\n",
            "      dtype='object')\n",
            "时间序列： ['2018-09-18', '2018-09-19', '2018-09-20', '2018-09-21', '2018-09-22', '2018-09-23', '2018-09-24']\n"
          ],
          "name": "stdout"
        }
      ]
    },
    {
      "metadata": {
        "id": "WaVwJ6bpxZXi",
        "colab_type": "text"
      },
      "cell_type": "markdown",
      "source": [
        "## Factorization Machine因子分解机尝试"
      ]
    },
    {
      "metadata": {
        "id": "XbwkSWPgxhm3",
        "colab_type": "code",
        "colab": {
          "autoexec": {
            "startup": false,
            "wait_interval": 0
          }
        }
      },
      "cell_type": "code",
      "source": [
        "from fastFM import sgd\n",
        "from sklearn.feature_extraction import DictVectorizer\n",
        "import numpy as np\n",
        "\n",
        "v = DictVectorizer()\n",
        "feature_list = list(train_pd.columns)\n",
        "feature_list.remove(\"is_trade\")\n",
        "feature_list.remove(\"item_category_list\")\n",
        "feature_list.remove(\"item_property_list\")\n",
        "feature_list.remove(\"user_id\")\n",
        "feature_list.remove(\"predict_category_property\")\n",
        "\n",
        "\n",
        "\n",
        "# print(train_pd[feature_list].head().to_dict(\"records\"))\n",
        "v = DictVectorizer()\n",
        "X_train = v.fit_transform(train_m[feature_list].copy().to_dict(\"records\"))\n",
        "X_test = v.transform(test_m[feature_list].copy().to_dict(\"records\"))\n",
        "y_train = train_m[\"is_trade\"].astype(\"int\").tolist()\n",
        "y_train_label = np.ones_like(y_train)\n",
        "y_train_label[y_train<np.mean(y_train)] = -1\n",
        "y_test = test_m[\"is_trade\"].astype(\"int\").tolist()\n",
        "y_test_label = np.ones_like(y_test)\n",
        "y_test_label[y_test<np.mean(y_train)] = -1\n",
        "\n",
        "fm = sgd.FMClassification()\n",
        "fm.fit(X_train,y_train_label)\n",
        "preds = fm.predict_proba(X_test)\n",
        "from sklearn.metrics import log_loss\n",
        "print(log_loss(y_test_label,preds))"
      ],
      "execution_count": 0,
      "outputs": []
    },
    {
      "metadata": {
        "id": "vLy7CmjaJdsb",
        "colab_type": "code",
        "colab": {
          "autoexec": {
            "startup": false,
            "wait_interval": 0
          },
          "output_extras": [
            {
              "item_id": 1
            }
          ],
          "base_uri": "https://localhost:8080/",
          "height": 485
        },
        "outputId": "8e7c5d69-fbbf-4d5a-adbe-e23d4376aaf7",
        "executionInfo": {
          "status": "ok",
          "timestamp": 1521512859507,
          "user_tz": -480,
          "elapsed": 880,
          "user": {
            "displayName": "姚填佳",
            "photoUrl": "//lh4.googleusercontent.com/-c8yaOIb4NJo/AAAAAAAAAAI/AAAAAAAAACI/2RCS6KOMtQs/s50-c-k-no/photo.jpg",
            "userId": "107989077003671308346"
          }
        }
      },
      "cell_type": "code",
      "source": [
        "print(preds)\n",
        "print(train_m[feature_list].dtypes)"
      ],
      "execution_count": 40,
      "outputs": [
        {
          "output_type": "stream",
          "text": [
            "[nan nan nan ... nan nan nan]\n",
            "context_id                     int64\n",
            "context_page_id                int64\n",
            "context_timestamp              int64\n",
            "day                           object\n",
            "hour                          object\n",
            "instance_id                    int64\n",
            "item_brand_id                  int64\n",
            "item_city_id                   int64\n",
            "item_collected_level           int64\n",
            "item_id                        int64\n",
            "item_price_level               int64\n",
            "item_pv_level                  int64\n",
            "item_sales_level               int64\n",
            "shop_id                        int64\n",
            "shop_review_num_level          int64\n",
            "shop_review_positive_rate    float64\n",
            "shop_score_delivery          float64\n",
            "shop_score_description       float64\n",
            "shop_score_service           float64\n",
            "shop_star_level                int64\n",
            "user_gender_id                 int64\n",
            "user_occupation_id             int64\n",
            "user_star_level                int64\n",
            "category                      object\n",
            "dtype: object\n"
          ],
          "name": "stdout"
        }
      ]
    },
    {
      "metadata": {
        "id": "cUcI39rd4AfM",
        "colab_type": "text"
      },
      "cell_type": "markdown",
      "source": [
        "#特征尝试和验证"
      ]
    },
    {
      "metadata": {
        "id": "dDL9jwOD5vuN",
        "colab_type": "code",
        "colab": {
          "autoexec": {
            "startup": false,
            "wait_interval": 0
          }
        }
      },
      "cell_type": "code",
      "source": [
        "train_pd = train_csv.drop_duplicates(\"instance_id\").copy()\n",
        "test_pd = test_csv.drop_duplicates(\"instance_id\").copy()\n",
        "\n",
        "#补充时间数据\n",
        "import time\n",
        "train_pd['day_m']=train_pd.context_timestamp.apply(lambda x:time.strftime(\"%Y-%m-%d\",time.localtime(x+3600*8)))\n",
        "train_pd['day'] = train_pd.context_timestamp.apply(lambda x:time.strftime(\"%d\",time.localtime(x+3600*8)))\n",
        "train_pd['hour']=train_pd.context_timestamp.apply(lambda x:time.strftime(\"%H\",time.localtime(x+3600*8)))\n",
        "test_pd['day_m']=test_pd.context_timestamp.apply(lambda x:time.strftime(\"%Y-%m-%d\",time.localtime(x+3600*8)))\n",
        "test_pd['day'] = test_pd.context_timestamp.apply(lambda x:time.strftime(\"%d\",time.localtime(x+3600*8)))\n",
        "test_pd['hour']=test_pd.context_timestamp.apply(lambda x:time.strftime(\"%H\",time.localtime(x+3600*8)))\n",
        "\n",
        "# feature_list = []\n",
        "feature_list = ['item_id', 'item_brand_id', 'item_city_id', 'item_price_level', 'item_sales_level',\n",
        "                'item_collected_level', 'item_pv_level', 'user_gender_id', 'user_occupation_id',\n",
        "                'user_age_level', 'user_star_level', #'user_query_day', 'user_query_day_hour',\n",
        "                'context_page_id', 'hour', 'shop_id', 'shop_review_num_level', 'shop_star_level',\n",
        "                'shop_review_positive_rate', 'shop_score_service', 'shop_score_delivery', 'shop_score_description',\n",
        "                ]\n",
        "all_data = pd.concat([train_pd,test_pd])\n",
        "all_data['hour'] = all_data['hour'].astype(int)\n",
        "all_data['day'] = all_data['hour'].astype(int)\n",
        "all_data[\"category\"] =  list(map(lambda x:x.split(\";\")[1],all_data[\"item_category_list\"]))\n",
        "# feature_one_hot = pd.get_dummies(\n",
        "#     all_data[[\"category\",\"item_price_level\",\"user_age_level\"]],\n",
        "#     columns=[\"category\",\"item_price_level\",\"user_age_level\"],\n",
        "#     prefix=[\"category\",\"price_level\",\"age_level\"]\n",
        "# )\n",
        "# #测试后发现item_pv_level贡献很小，且带来太多维度，舍弃\n",
        "# feature_list += list(feature_one_hot.columns)\n",
        "# all_data = pd.concat([all_data,feature_one_hot],axis=1)\n",
        "\n",
        "\n",
        "#重新替换train_pd，test_pd\n",
        "train_pd = all_data[:len(train_pd)]\n",
        "test_pd = all_data[len(train_pd):]\n",
        "\n",
        "#分割线下测试和训练集\n",
        "train_m = train_pd[(train_pd[\"day_m\"]>='2018-09-18')&(train_pd[\"day_m\"]<='2018-09-23')]\n",
        "test_m = train_pd[(train_pd[\"day_m\"]>='2018-09-24')]\n",
        "\n"
      ],
      "execution_count": 0,
      "outputs": []
    },
    {
      "metadata": {
        "id": "zvdWlgYuNkfl",
        "colab_type": "text"
      },
      "cell_type": "markdown",
      "source": [
        "###双特征"
      ]
    },
    {
      "metadata": {
        "id": "e3rSRm54NtVc",
        "colab_type": "code",
        "colab": {
          "autoexec": {
            "startup": false,
            "wait_interval": 0
          }
        }
      },
      "cell_type": "code",
      "source": [
        "######################双特征算出的trade_ratio，神奇的是这个双特征是的准确度下降###########################\n",
        "#'''\n",
        "'''\n",
        "'''\n",
        "\n",
        "def set_gender_brand_ratio(train_df,test_df):\n",
        "  ret = train_df[[\"user_gender_id\",\"item_brand_id\",\"is_trade\"]].copy()\n",
        "  pv_level_ratio_pd = (ret.groupby([\"user_gender_id\",\"item_brand_id\"]).sum()[\"is_trade\"])/\\\n",
        "    (ret.groupby([\"user_gender_id\",\"item_brand_id\"]).count()[\"is_trade\"])\n",
        "  trade_ratio_pd = pv_level_ratio_pd.reset_index(drop=False).rename(columns={\"is_trade\":\"gender_brand_ratio\"})\n",
        "  na_value = 0\n",
        "  train_df = pd.merge(train_df,trade_ratio_pd,on=[\"user_gender_id\",\"item_brand_id\"],how=\"left\").fillna(na_value)\n",
        "  test_df = pd.merge(test_df,trade_ratio_pd,on=[\"user_gender_id\",\"item_brand_id\"],how=\"left\").fillna(na_value)\n",
        "  return train_df,test_df\n",
        "train_m,test_m = set_gender_brand_ratio(train_m,test_m)\n",
        "if \"gender_brand_ratio\" not in feature_list:\n",
        "  feature_list.append(\"gender_brand_ratio\")\n",
        "\n",
        "  \n",
        "  \n",
        "def set_age_brand_ratio(train_df,test_df):\n",
        "  ret = train_df[[\"user_age_level\",\"item_brand_id\",\"is_trade\"]].copy()\n",
        "  pv_level_ratio_pd = (ret.groupby([\"user_age_level\",\"item_brand_id\"]).sum()[\"is_trade\"])/\\\n",
        "    (ret.groupby([\"user_age_level\",\"item_brand_id\"]).count()[\"is_trade\"])\n",
        "  trade_ratio_pd = pv_level_ratio_pd.reset_index(drop=False).rename(columns={\"is_trade\":\"age_brand_ratio\"})\n",
        "  na_value = 0\n",
        "  train_df = pd.merge(train_df,trade_ratio_pd,on=[\"user_age_level\",\"item_brand_id\"],how=\"left\").fillna(na_value)\n",
        "  test_df = pd.merge(test_df,trade_ratio_pd,on=[\"user_age_level\",\"item_brand_id\"],how=\"left\").fillna(na_value)\n",
        "  return train_df,test_df\n",
        "train_m,test_m = set_age_brand_ratio(train_m,test_m)\n",
        "if \"age_brand_ratio\" not in feature_list:\n",
        "  feature_list.append(\"age_brand_ratio\")\n",
        " \n",
        "  \n",
        "def set_star_price_ratio(train_df,test_df):\n",
        "  ret = train_df[[\"user_star_level\",\"item_price_level\",\"is_trade\"]].copy()\n",
        "  pv_level_ratio_pd = (ret.groupby([\"user_star_level\",\"item_price_level\"]).sum()[\"is_trade\"])/\\\n",
        "    (ret.groupby([\"user_star_level\",\"item_price_level\"]).count()[\"is_trade\"])\n",
        "  trade_ratio_pd = pv_level_ratio_pd.reset_index(drop=False).rename(columns={\"is_trade\":\"star_price_ratio\"})\n",
        "  na_value = 0\n",
        "  train_df = pd.merge(train_df,trade_ratio_pd,on=[\"user_star_level\",\"item_price_level\"],how=\"left\").fillna(na_value)\n",
        "  test_df = pd.merge(test_df,trade_ratio_pd,on=[\"user_star_level\",\"item_price_level\"],how=\"left\").fillna(na_value)\n",
        "  return train_df,test_df\n",
        "train_m,test_m = set_star_price_ratio(train_m,test_m)\n",
        "if \"star_price_ratio\" not in feature_list:\n",
        "  feature_list.append(\"star_price_ratio\")\n",
        "  \n",
        "\n",
        "\n",
        "def set_occupation_brand_ratio(train_df,test_df):\n",
        "  ret = train_df[[\"user_occupation_id\",\"item_brand_id\",\"is_trade\"]].copy()\n",
        "  pv_level_ratio_pd = (ret.groupby([\"user_occupation_id\",\"item_brand_id\"]).sum()[\"is_trade\"])/\\\n",
        "    (ret.groupby([\"user_occupation_id\",\"item_brand_id\"]).count()[\"is_trade\"])\n",
        "  trade_ratio_pd = pv_level_ratio_pd.reset_index(drop=False).rename(columns={\"is_trade\":\"occupation_brand_ratio\"})\n",
        "  na_value = 0\n",
        "  train_df = pd.merge(train_df,trade_ratio_pd,on=[\"user_occupation_id\",\"item_brand_id\"],how=\"left\").fillna(na_value)\n",
        "  test_df = pd.merge(test_df,trade_ratio_pd,on=[\"user_occupation_id\",\"item_brand_id\"],how=\"left\").fillna(na_value)\n",
        "  return train_df,test_df\n",
        "train_m,test_m = set_occupation_brand_ratio(train_m,test_m)\n",
        "if \"occupation_brand_ratio\" not in feature_list:\n",
        "  feature_list.append(\"occupation_brand_ratio\")\n",
        "\n",
        "\n",
        "# def get_property_dict(df):\n",
        "#   ret = df[[\"user_gender_id\",\"item_property_list\",\"is_trade\"]].copy()\n",
        "#   #下面这句骚操作把一行扩展成多行\n",
        "#   ret = ret.drop('item_property_list', axis=1).join(ret['item_property_list'].str.split(';', expand=True).stack().reset_index(level=1, drop=True).rename('item_property_list'))\n",
        "#   ret = ret.rename(columns={\"item_property_list\":\"property\"})\n",
        "#   ret = ret.groupby([\"property\",\"user_gender_id\"]).count()\n",
        "#   ret = ret.reset_index()\n",
        "#   print(ret)\n",
        "#   ret.set_index([\"property\",\"user_gender_id\"],inplace=True,drop=False)\n",
        "#   ret[\"is_trade\"] = ret[\"is_trade\"]/ret[\"is_trade\"].max()#归一化\n",
        "#   return ret\n",
        "# property_pd = get_property_dict(train_pd)"
      ],
      "execution_count": 0,
      "outputs": []
    },
    {
      "metadata": {
        "id": "UfCpWUolNT0K",
        "colab_type": "text"
      },
      "cell_type": "markdown",
      "source": [
        "###单特征"
      ]
    },
    {
      "metadata": {
        "id": "eF-V4yKINYq5",
        "colab_type": "code",
        "colab": {
          "autoexec": {
            "startup": false,
            "wait_interval": 0
          }
        }
      },
      "cell_type": "code",
      "source": [
        "##################单特征或单特征的trade_ratio###########################\n",
        "'''\n",
        "'''\n",
        "\n",
        "\n",
        "def set_item_trade_ratio(train_df,test_df):\n",
        "  ret = train_df[[\"item_id\",\"is_trade\"]].copy()\n",
        "  item_trade_ratio_pd = (ret.groupby(\"item_id\").sum()[\"is_trade\"])/\\\n",
        "    (ret.groupby(\"item_id\").count()[\"is_trade\"])\n",
        "  trade_ratio_pd = item_trade_ratio_pd.reset_index(drop=False).rename(columns={\"is_trade\":\"item_trade_ratio\"})\n",
        "  na_value = 0\n",
        "  train_df = pd.merge(train_df,trade_ratio_pd,on=\"item_id\",how=\"left\").fillna(na_value)\n",
        "  test_df = pd.merge(test_df,trade_ratio_pd,on=\"item_id\",how=\"left\").fillna(na_value)\n",
        "  return train_df,test_df\n",
        "train_m,test_m = set_item_trade_ratio(train_m,test_m)\n",
        "if \"item_trade_ratio\" not in feature_list:\n",
        "  feature_list.append(\"item_trade_ratio\")\n",
        "\n",
        "def set_brand_trade_ratio(train_df,test_df):\n",
        "  ret = train_df[[\"item_brand_id\",\"is_trade\"]].copy()\n",
        "  brand_trade_ratio_pd = (ret.groupby(\"item_brand_id\").sum()[\"is_trade\"])/\\\n",
        "    (ret.groupby(\"item_brand_id\").count()[\"is_trade\"])\n",
        "  trade_ratio_pd = brand_trade_ratio_pd.reset_index(drop=False).rename(columns={\"is_trade\":\"brand_trade_ratio\"})\n",
        "  na_value = 0\n",
        "  train_df = pd.merge(train_df,trade_ratio_pd,on=\"item_brand_id\",how=\"left\").fillna(na_value)\n",
        "  test_df = pd.merge(test_df,trade_ratio_pd,on=\"item_brand_id\",how=\"left\").fillna(na_value)\n",
        "  return train_df,test_df\n",
        "train_m,test_m = set_brand_trade_ratio(train_m,test_m)\n",
        "if \"brand_trade_ratio\" not in feature_list:\n",
        "  feature_list.append(\"brand_trade_ratio\")\n",
        "\n",
        "def set_item_city_ratio(train_df,test_df):\n",
        "  ret = train_df[[\"item_city_id\",\"is_trade\"]].copy()\n",
        "  item_city_ratio_pd = (ret.groupby(\"item_city_id\").sum()[\"is_trade\"])/\\\n",
        "    (ret.groupby(\"item_city_id\").count()[\"is_trade\"])\n",
        "  trade_ratio_pd = item_city_ratio_pd.reset_index(drop=False).rename(columns={\"is_trade\":\"item_city_ratio\"})\n",
        "  na_value = 0\n",
        "  train_df = pd.merge(train_df,trade_ratio_pd,on=\"item_city_id\",how=\"left\").fillna(na_value)\n",
        "  test_df = pd.merge(test_df,trade_ratio_pd,on=\"item_city_id\",how=\"left\").fillna(na_value)\n",
        "  return train_df,test_df\n",
        "train_m,test_m = set_item_city_ratio(train_m,test_m)\n",
        "if \"item_city_ratio\" not in feature_list:\n",
        "  feature_list.append(\"item_city_ratio\")\n",
        "\n",
        "def set_user_query_feature(data):\n",
        "  user_query_day = data.groupby(['user_id', 'day']).size().reset_index().rename(columns={0: 'user_query_day'})\n",
        "  data = pd.merge(data, user_query_day, 'left', on=['user_id', 'day'])\n",
        "  user_query_day_hour = data.groupby(['user_id', 'day', 'hour']).size().reset_index().rename(\n",
        "      columns={0: 'user_query_day_hour'})\n",
        "  data = pd.merge(data, user_query_day_hour, 'left',\n",
        "                  on=['user_id', 'day', 'hour'])\n",
        "  return data\n",
        "train_m = set_user_query_feature(train_m)\n",
        "test_m = set_user_query_feature(test_m)\n",
        "if \"user_query_day\" not in feature_list:\n",
        "  feature_list.append(\"user_query_day\")\n",
        "if \"user_query_day_hour\" not in feature_list:\n",
        "  feature_list.append(\"user_query_day_hour\")\n",
        "  \n",
        "def scale_to_one(train_df,test_df,column):\n",
        "  all_df = pd.concat([train_df,test_df])\n",
        "  all_df[column] = (all_df[column]-all_df[column].min()) / (all_df[column].max()-all_df[column].min())\n",
        "  train_df = all_df[:len(train_df)]\n",
        "  test_df = all_df[len(test_df):]\n",
        "  return train_df,test_df\n",
        "  \n",
        "if \"shop_review_positive_rate\" not in feature_list:\n",
        "  feature_list.append(\"shop_review_positive_rate\")\n",
        "\n",
        "if \"shop_score_service\" not in feature_list:\n",
        "  feature_list.append(\"shop_score_service\")\n",
        "\n",
        "if \"shop_score_delivery\" not in feature_list:\n",
        "  feature_list.append(\"shop_score_delivery\")\n",
        "\n",
        "if \"shop_score_description\" not in feature_list:\n",
        "  feature_list.append(\"shop_score_description\")\n",
        "  \n"
      ],
      "execution_count": 0,
      "outputs": []
    },
    {
      "metadata": {
        "id": "Sy3HV8iltd49",
        "colab_type": "text"
      },
      "cell_type": "markdown",
      "source": [
        "###PCA"
      ]
    },
    {
      "metadata": {
        "id": "y1U53YHytfne",
        "colab_type": "code",
        "colab": {
          "autoexec": {
            "startup": false,
            "wait_interval": 0
          },
          "output_extras": [
            {
              "item_id": 1
            },
            {
              "item_id": 2
            }
          ],
          "base_uri": "https://localhost:8080/",
          "height": 125
        },
        "outputId": "b11e2d99-b6ad-43bd-c080-170dd6eab68c",
        "executionInfo": {
          "status": "ok",
          "timestamp": 1521521750552,
          "user_tz": -480,
          "elapsed": 9988,
          "user": {
            "displayName": "姚填佳",
            "photoUrl": "//lh4.googleusercontent.com/-c8yaOIb4NJo/AAAAAAAAAAI/AAAAAAAAACI/2RCS6KOMtQs/s50-c-k-no/photo.jpg",
            "userId": "107989077003671308346"
          }
        }
      },
      "cell_type": "code",
      "source": [
        "from sklearn.decomposition import PCA \n",
        "from sklearn.preprocessing import StandardScaler\n",
        "# Standardizing the features\n",
        "x = StandardScaler().fit_transform(train_m[feature_list].copy())\n",
        "t = StandardScaler().fit_transform(test_m[feature_list].copy())\n",
        "pca=PCA(n_components=10)  \n",
        "train_data = pca.fit_transform(x)\n",
        "test_data = pca.transform(t)\n",
        "\n",
        "import lightgbm as lgb\n",
        "from sklearn.metrics import log_loss,roc_auc_score\n",
        "clf = lgb.LGBMClassifier(num_leaves=63, max_depth=7, n_estimators=80, n_jobs=20)\n",
        "clf.fit(train_data, train_m[[\"is_trade\"]].copy())\n",
        "test_m['lgb_predict'] = clf.predict_proba(test_data,)[:, 1]\n",
        "print(log_loss(test_m[\"is_trade\"], test_m['lgb_predict']))\n",
        "print(roc_auc_score(test_m[\"is_trade\"], test_m['lgb_predict']))"
      ],
      "execution_count": 34,
      "outputs": [
        {
          "output_type": "stream",
          "text": [
            "/usr/local/lib/python3.6/dist-packages/sklearn/preprocessing/label.py:95: DataConversionWarning: A column-vector y was passed when a 1d array was expected. Please change the shape of y to (n_samples, ), for example using ravel().\n",
            "  y = column_or_1d(y, warn=True)\n",
            "/usr/local/lib/python3.6/dist-packages/sklearn/preprocessing/label.py:128: DataConversionWarning: A column-vector y was passed when a 1d array was expected. Please change the shape of y to (n_samples, ), for example using ravel().\n",
            "  y = column_or_1d(y, warn=True)\n"
          ],
          "name": "stderr"
        },
        {
          "output_type": "stream",
          "text": [
            "0.08576257186347716\n",
            "0.6515372031873594\n"
          ],
          "name": "stdout"
        }
      ]
    },
    {
      "metadata": {
        "id": "kw58uqu7NZ_T",
        "colab_type": "text"
      },
      "cell_type": "markdown",
      "source": [
        "###贡献过小，AUC低于55的特征"
      ]
    },
    {
      "metadata": {
        "id": "dovNioZTNdpM",
        "colab_type": "code",
        "colab": {
          "autoexec": {
            "startup": false,
            "wait_interval": 0
          }
        }
      },
      "cell_type": "code",
      "source": [
        "#################综合后贡献不大，去掉提升的特征#####################\n",
        "\n",
        "# def set_item_price_ratio(train_df,test_df):\n",
        "#   ret = train_df[[\"item_price_level\",\"is_trade\"]].copy()\n",
        "#   item_price_ratio_pd = (ret.groupby(\"item_price_level\").sum()[\"is_trade\"])/\\\n",
        "#     (ret.groupby(\"item_price_level\").count()[\"is_trade\"])\n",
        "#   trade_ratio_pd = item_price_ratio_pd.reset_index(drop=False).rename(columns={\"is_trade\":\"item_price_ratio\"})\n",
        "#   na_value = 0\n",
        "#   train_df = pd.merge(train_df,trade_ratio_pd,on=\"item_price_level\",how=\"left\").fillna(na_value)\n",
        "#   test_df = pd.merge(test_df,trade_ratio_pd,on=\"item_price_level\",how=\"left\").fillna(na_value)\n",
        "#   return train_df,test_df\n",
        "# train_m,test_m = set_item_price_ratio(train_m,test_m)\n",
        "# if \"item_price_ratio\" not in feature_list:\n",
        "#   feature_list.append(\"item_price_ratio\")\n",
        "\n",
        "# def set_item_sales_ratio(train_df,test_df):\n",
        "#   ret = train_df[[\"item_sales_level\",\"is_trade\"]].copy()\n",
        "#   item_sales_ratio_pd = (ret.groupby(\"item_sales_level\").sum()[\"is_trade\"])/\\\n",
        "#     (ret.groupby(\"item_sales_level\").count()[\"is_trade\"])\n",
        "#   trade_ratio_pd = item_sales_ratio_pd.reset_index(drop=False).rename(columns={\"is_trade\":\"item_sales_ratio\"})\n",
        "#   na_value = 0\n",
        "#   train_df = pd.merge(train_df,trade_ratio_pd,on=\"item_sales_level\",how=\"left\").fillna(na_value)\n",
        "#   test_df = pd.merge(test_df,trade_ratio_pd,on=\"item_sales_level\",how=\"left\").fillna(na_value)\n",
        "#   return train_df,test_df\n",
        "# train_m,test_m = set_item_sales_ratio(train_m,test_m)\n",
        "# if \"item_sales_ratio\" not in feature_list:\n",
        "#   feature_list.append(\"item_sales_ratio\")\n",
        "\n",
        "#####################AUC低于55的特征#########################\n",
        "\n",
        "\n",
        "# def set_item_collected_ratio(train_df,test_df):\n",
        "#   ret = train_df[[\"item_collected_level\",\"is_trade\"]].copy()\n",
        "#   item_collected_ratio_pd = (ret.groupby(\"item_collected_level\").sum()[\"is_trade\"])/\\\n",
        "#     (ret.groupby(\"item_collected_level\").count()[\"is_trade\"])\n",
        "#   trade_ratio_pd = item_collected_ratio_pd.reset_index(drop=False).rename(columns={\"is_trade\":\"item_collected_ratio\"})\n",
        "#   na_value = 0\n",
        "#   train_df = pd.merge(train_df,trade_ratio_pd,on=\"item_collected_level\",how=\"left\").fillna(na_value)\n",
        "#   test_df = pd.merge(test_df,trade_ratio_pd,on=\"item_collected_level\",how=\"left\").fillna(na_value)\n",
        "#   return train_df,test_df\n",
        "# train_m,test_m = set_item_collected_ratio(train_m,test_m)\n",
        "# if \"item_collected_ratio\" not in feature_list:\n",
        "#   feature_list.append(\"item_collected_ratio\")\n",
        "\n",
        "\n",
        "# def set_shop_star_ratio(train_df,test_df):\n",
        "#   ret = train_df[[\"shop_star_level\",\"is_trade\"]].copy()\n",
        "#   shop_star_ratio_pd = (ret.groupby(\"shop_star_level\").sum()[\"is_trade\"])/\\\n",
        "#     (ret.groupby(\"shop_star_level\").count()[\"is_trade\"])\n",
        "#   trade_ratio_pd = shop_star_ratio_pd.reset_index(drop=False).rename(columns={\"is_trade\":\"shop_star_ratio\"})\n",
        "#   na_value = 0\n",
        "#   train_df = pd.merge(train_df,trade_ratio_pd,on=\"shop_star_level\",how=\"left\").fillna(na_value)\n",
        "#   test_df = pd.merge(test_df,trade_ratio_pd,on=\"shop_star_level\",how=\"left\").fillna(na_value)\n",
        "#   return train_df,test_df\n",
        "# train_m,test_m = set_shop_star_ratio(train_m,test_m)\n",
        "# if \"shop_star_ratio\" not in feature_list:\n",
        "#   feature_list.append(\"shop_star_ratio\")\n",
        "\n",
        "# def set_pv_level_ratio(train_df,test_df):\n",
        "#   ret = train_df[[\"item_pv_level\",\"is_trade\"]].copy()\n",
        "#   pv_level_ratio_pd = (ret.groupby(\"item_pv_level\").sum()[\"is_trade\"])/\\\n",
        "#     (ret.groupby(\"item_pv_level\").count()[\"is_trade\"])\n",
        "#   trade_ratio_pd = pv_level_ratio_pd.reset_index(drop=False).rename(columns={\"is_trade\":\"pv_level_ratio\"})\n",
        "#   na_value = 0\n",
        "#   train_df = pd.merge(train_df,trade_ratio_pd,on=\"item_pv_level\",how=\"left\").fillna(na_value)\n",
        "#   test_df = pd.merge(test_df,trade_ratio_pd,on=\"item_pv_level\",how=\"left\").fillna(na_value)\n",
        "#   return train_df,test_df\n",
        "# train_m,test_m = set_pv_level_ratio(train_m,test_m)\n",
        "# if \"pv_level_ratio\" not in feature_list:\n",
        "#   feature_list.append(\"pv_level_ratio\")"
      ],
      "execution_count": 0,
      "outputs": []
    },
    {
      "metadata": {
        "id": "YCt_qIwq5M6b",
        "colab_type": "text"
      },
      "cell_type": "markdown",
      "source": [
        "##验证"
      ]
    },
    {
      "metadata": {
        "id": "fE4hHdvy5iz3",
        "colab_type": "code",
        "colab": {
          "autoexec": {
            "startup": false,
            "wait_interval": 0
          },
          "output_extras": [
            {
              "item_id": 32
            },
            {
              "item_id": 60
            },
            {
              "item_id": 61
            },
            {
              "item_id": 62
            }
          ],
          "base_uri": "https://localhost:8080/",
          "height": 2682
        },
        "cellView": "code",
        "outputId": "5e2f6b62-7996-4584-9ee9-0f6ecf68cbdc",
        "executionInfo": {
          "status": "ok",
          "timestamp": 1521521819081,
          "user_tz": -480,
          "elapsed": 42581,
          "user": {
            "displayName": "姚填佳",
            "photoUrl": "//lh4.googleusercontent.com/-c8yaOIb4NJo/AAAAAAAAAAI/AAAAAAAAACI/2RCS6KOMtQs/s50-c-k-no/photo.jpg",
            "userId": "107989077003671308346"
          }
        }
      },
      "cell_type": "code",
      "source": [
        "#alpha 30, lambda 15, gamma 2\n",
        "param = {}\n",
        "param[\"eta\"] = 0.15\n",
        "param[\"min_child_weight\"] = 1\n",
        "param[\"max_depth\"] = 5\n",
        "param[\"lambda\"] = 5 #控制模型复杂度的权重值的L2正则化项参数，参数越大，模型越不容易过拟合。 默认1\n",
        "param[\"alpha\"] = 1 #控制模型复杂程度的权重值的 L1 正则项参数，参数值越大，模型越不容易过拟合。 默认0\n",
        "param[\"gamma\"] = 1 # 用于控制是否后剪枝的参数,越大越保守，一般0.1、0.2这样子。\n",
        "param[\"subsample\"]=0.8\n",
        "param[\"colsample_bytree\"]=0.8\n",
        "param[\"objective\"] = \"binary:logistic\"\n",
        "param[\"eval_metric\"]=[ \"auc\",\"logloss\"]#error,logloss,auc\n",
        "param[\"silent\"] = 1\n",
        "num_round = 500\n",
        "eval_result={}\n",
        "\n",
        "X = train_m[feature_list].copy()\n",
        "Y = train_m[\"is_trade\"].copy()\n",
        "train_set = xgb.DMatrix(train_data,label=Y)\n",
        "X_t = test_m[feature_list].copy()\n",
        "Y_t = test_m[\"is_trade\"].copy()\n",
        "test_set = xgb.DMatrix(test_data,label=Y_t)\n",
        "watchlist = [(train_set,'train'), (test_set, 'test')]\n",
        "model = xgb.train( param, train_set, num_round, watchlist,verbose_eval=True,evals_result=eval_result,early_stopping_rounds=int(0.1*num_round))\n",
        "limit = model.best_ntree_limit\n",
        "\n",
        "from matplotlib import pyplot \n",
        "from xgboost import plot_importance\n",
        "#plot feature importance\n",
        "ax = plot_importance(model,max_num_features=50)\n",
        "fig = ax.figure\n",
        "fig.set_size_inches(18, 8)\n",
        "pyplot.show()\n",
        "\n",
        "#plot logloss\n",
        "epochs = len(eval_result['train']['logloss'])  \n",
        "x_axis = range(0, epochs)  \n",
        "fig, ax = pyplot.subplots()  \n",
        "ax.plot(x_axis, eval_result['train']['logloss'], label='Train_logloss')  \n",
        "ax.plot(x_axis, eval_result['test']['logloss'], label='Test_logloss')  \n",
        "ax.plot(x_axis, eval_result['train']['auc'], label='Train-auc')  \n",
        "ax.plot(x_axis, eval_result['test']['auc'], label='Test-auc') \n",
        "ax.legend()\n",
        "fig = ax.figure\n",
        "fig.set_size_inches(18, 8)\n",
        "pyplot.ylabel('Loss')  \n",
        "pyplot.xlabel('Iteration Num')  \n",
        "pyplot.title('XGBoost Loss')  \n",
        "pyplot.show()\n"
      ],
      "execution_count": 35,
      "outputs": [
        {
          "output_type": "stream",
          "text": [
            "[0]\ttrain-auc:0.592598\ttrain-logloss:0.56458\ttest-auc:0.540426\ttest-logloss:0.564084\n",
            "Multiple eval metrics have been passed: 'test-logloss' will be used for early stopping.\n",
            "\n",
            "Will train until test-logloss hasn't improved in 50 rounds.\n",
            "[1]\ttrain-auc:0.719533\ttrain-logloss:0.469233\ttest-auc:0.620679\ttest-logloss:0.468292\n",
            "[2]\ttrain-auc:0.743339\ttrain-logloss:0.396103\ttest-auc:0.634841\ttest-logloss:0.394866\n",
            "[3]\ttrain-auc:0.750444\ttrain-logloss:0.338678\ttest-auc:0.636425\ttest-logloss:0.337145\n",
            "[4]\ttrain-auc:0.753923\ttrain-logloss:0.292786\ttest-auc:0.637327\ttest-logloss:0.291084\n",
            "[5]\ttrain-auc:0.756976\ttrain-logloss:0.255731\ttest-auc:0.640149\ttest-logloss:0.253849\n",
            "[6]\ttrain-auc:0.756866\ttrain-logloss:0.225543\ttest-auc:0.63928\ttest-logloss:0.223466\n",
            "[7]\ttrain-auc:0.758767\ttrain-logloss:0.200804\ttest-auc:0.640293\ttest-logloss:0.198631\n",
            "[8]\ttrain-auc:0.759425\ttrain-logloss:0.180437\ttest-auc:0.640454\ttest-logloss:0.178208\n",
            "[9]\ttrain-auc:0.759892\ttrain-logloss:0.163614\ttest-auc:0.640725\ttest-logloss:0.161325\n",
            "[10]\ttrain-auc:0.761922\ttrain-logloss:0.149697\ttest-auc:0.642456\ttest-logloss:0.147327\n",
            "[11]\ttrain-auc:0.763543\ttrain-logloss:0.138153\ttest-auc:0.64375\ttest-logloss:0.135758\n",
            "[12]\ttrain-auc:0.765835\ttrain-logloss:0.128568\ttest-auc:0.645219\ttest-logloss:0.126181\n",
            "[13]\ttrain-auc:0.766157\ttrain-logloss:0.12064\ttest-auc:0.645417\ttest-logloss:0.118268\n",
            "[14]\ttrain-auc:0.768413\ttrain-logloss:0.114061\ttest-auc:0.646802\ttest-logloss:0.111749\n",
            "[15]\ttrain-auc:0.769619\ttrain-logloss:0.108626\ttest-auc:0.647052\ttest-logloss:0.106369\n",
            "[16]\ttrain-auc:0.769279\ttrain-logloss:0.104132\ttest-auc:0.646941\ttest-logloss:0.101923\n",
            "[17]\ttrain-auc:0.771906\ttrain-logloss:0.100502\ttest-auc:0.646981\ttest-logloss:0.098319\n",
            "[18]\ttrain-auc:0.773401\ttrain-logloss:0.097568\ttest-auc:0.647468\ttest-logloss:0.095419\n",
            "[19]\ttrain-auc:0.775084\ttrain-logloss:0.095131\ttest-auc:0.6479\ttest-logloss:0.09302\n",
            "[20]\ttrain-auc:0.775229\ttrain-logloss:0.092999\ttest-auc:0.647399\ttest-logloss:0.091055\n",
            "[21]\ttrain-auc:0.777022\ttrain-logloss:0.091218\ttest-auc:0.648713\ttest-logloss:0.089459\n",
            "[22]\ttrain-auc:0.778684\ttrain-logloss:0.089732\ttest-auc:0.649762\ttest-logloss:0.088174\n",
            "[23]\ttrain-auc:0.780039\ttrain-logloss:0.088669\ttest-auc:0.649686\ttest-logloss:0.08722\n",
            "[24]\ttrain-auc:0.780859\ttrain-logloss:0.087634\ttest-auc:0.650194\ttest-logloss:0.086423\n",
            "[25]\ttrain-auc:0.78169\ttrain-logloss:0.086801\ttest-auc:0.650291\ttest-logloss:0.085781\n",
            "[26]\ttrain-auc:0.782912\ttrain-logloss:0.08607\ttest-auc:0.649749\ttest-logloss:0.08532\n",
            "[27]\ttrain-auc:0.783534\ttrain-logloss:0.085501\ttest-auc:0.649519\ttest-logloss:0.08496\n",
            "[28]\ttrain-auc:0.784441\ttrain-logloss:0.084995\ttest-auc:0.650183\ttest-logloss:0.084687\n",
            "[29]\ttrain-auc:0.785073\ttrain-logloss:0.084593\ttest-auc:0.650231\ttest-logloss:0.084486\n",
            "[30]\ttrain-auc:0.786292\ttrain-logloss:0.084314\ttest-auc:0.650416\ttest-logloss:0.084333\n",
            "[31]\ttrain-auc:0.787004\ttrain-logloss:0.084002\ttest-auc:0.650827\ttest-logloss:0.08426\n",
            "[32]\ttrain-auc:0.787987\ttrain-logloss:0.083802\ttest-auc:0.650764\ttest-logloss:0.08417\n",
            "[33]\ttrain-auc:0.788654\ttrain-logloss:0.083554\ttest-auc:0.650116\ttest-logloss:0.084198\n",
            "[34]\ttrain-auc:0.789211\ttrain-logloss:0.083349\ttest-auc:0.650842\ttest-logloss:0.084179\n",
            "[35]\ttrain-auc:0.789743\ttrain-logloss:0.083189\ttest-auc:0.650968\ttest-logloss:0.084184\n",
            "[36]\ttrain-auc:0.790617\ttrain-logloss:0.083075\ttest-auc:0.651258\ttest-logloss:0.084161\n",
            "[37]\ttrain-auc:0.79095\ttrain-logloss:0.082939\ttest-auc:0.652\ttest-logloss:0.084188\n",
            "[38]\ttrain-auc:0.791436\ttrain-logloss:0.082815\ttest-auc:0.652002\ttest-logloss:0.084246\n",
            "[39]\ttrain-auc:0.791981\ttrain-logloss:0.082706\ttest-auc:0.651507\ttest-logloss:0.084334\n",
            "[40]\ttrain-auc:0.792823\ttrain-logloss:0.082597\ttest-auc:0.651981\ttest-logloss:0.084377\n",
            "[41]\ttrain-auc:0.793276\ttrain-logloss:0.082492\ttest-auc:0.652345\ttest-logloss:0.084455\n",
            "[42]\ttrain-auc:0.794007\ttrain-logloss:0.082421\ttest-auc:0.652289\ttest-logloss:0.084469\n",
            "[43]\ttrain-auc:0.794425\ttrain-logloss:0.082341\ttest-auc:0.652208\ttest-logloss:0.084541\n",
            "[44]\ttrain-auc:0.795131\ttrain-logloss:0.082281\ttest-auc:0.652088\ttest-logloss:0.084566\n"
          ],
          "name": "stdout"
        },
        {
          "output_type": "stream",
          "text": [
            "[45]\ttrain-auc:0.795445\ttrain-logloss:0.08222\ttest-auc:0.652016\ttest-logloss:0.084632\n",
            "[46]\ttrain-auc:0.795848\ttrain-logloss:0.082155\ttest-auc:0.652339\ttest-logloss:0.084658\n",
            "[47]\ttrain-auc:0.796323\ttrain-logloss:0.08209\ttest-auc:0.652345\ttest-logloss:0.084736\n",
            "[48]\ttrain-auc:0.79673\ttrain-logloss:0.082035\ttest-auc:0.652834\ttest-logloss:0.084767\n",
            "[49]\ttrain-auc:0.797286\ttrain-logloss:0.081971\ttest-auc:0.653244\ttest-logloss:0.084806\n",
            "[50]\ttrain-auc:0.79786\ttrain-logloss:0.0819\ttest-auc:0.653046\ttest-logloss:0.084886\n",
            "[51]\ttrain-auc:0.79828\ttrain-logloss:0.08185\ttest-auc:0.652984\ttest-logloss:0.084933\n",
            "[52]\ttrain-auc:0.798679\ttrain-logloss:0.081803\ttest-auc:0.652981\ttest-logloss:0.084973\n",
            "[53]\ttrain-auc:0.799061\ttrain-logloss:0.081754\ttest-auc:0.652964\ttest-logloss:0.085019\n",
            "[54]\ttrain-auc:0.799564\ttrain-logloss:0.081697\ttest-auc:0.652785\ttest-logloss:0.085071\n",
            "[55]\ttrain-auc:0.800168\ttrain-logloss:0.081639\ttest-auc:0.65266\ttest-logloss:0.085128\n",
            "[56]\ttrain-auc:0.800888\ttrain-logloss:0.081579\ttest-auc:0.652665\ttest-logloss:0.085154\n",
            "[57]\ttrain-auc:0.801352\ttrain-logloss:0.081539\ttest-auc:0.65263\ttest-logloss:0.085167\n",
            "[58]\ttrain-auc:0.801873\ttrain-logloss:0.081485\ttest-auc:0.652409\ttest-logloss:0.085211\n",
            "[59]\ttrain-auc:0.802114\ttrain-logloss:0.081447\ttest-auc:0.652666\ttest-logloss:0.085231\n",
            "[60]\ttrain-auc:0.802601\ttrain-logloss:0.081404\ttest-auc:0.652637\ttest-logloss:0.085242\n",
            "[61]\ttrain-auc:0.802876\ttrain-logloss:0.081362\ttest-auc:0.652573\ttest-logloss:0.085293\n",
            "[62]\ttrain-auc:0.80324\ttrain-logloss:0.08132\ttest-auc:0.652773\ttest-logloss:0.085294\n",
            "[63]\ttrain-auc:0.803267\ttrain-logloss:0.081303\ttest-auc:0.652622\ttest-logloss:0.085345\n",
            "[64]\ttrain-auc:0.803637\ttrain-logloss:0.081267\ttest-auc:0.652735\ttest-logloss:0.08534\n",
            "[65]\ttrain-auc:0.803988\ttrain-logloss:0.081235\ttest-auc:0.652862\ttest-logloss:0.085355\n",
            "[66]\ttrain-auc:0.80446\ttrain-logloss:0.081191\ttest-auc:0.65257\ttest-logloss:0.085354\n",
            "[67]\ttrain-auc:0.805147\ttrain-logloss:0.08112\ttest-auc:0.65308\ttest-logloss:0.085368\n",
            "[68]\ttrain-auc:0.805337\ttrain-logloss:0.081101\ttest-auc:0.653273\ttest-logloss:0.085366\n",
            "[69]\ttrain-auc:0.805915\ttrain-logloss:0.081043\ttest-auc:0.653337\ttest-logloss:0.085383\n",
            "[70]\ttrain-auc:0.806422\ttrain-logloss:0.080995\ttest-auc:0.653203\ttest-logloss:0.085389\n",
            "[71]\ttrain-auc:0.806985\ttrain-logloss:0.080938\ttest-auc:0.653091\ttest-logloss:0.085421\n",
            "[72]\ttrain-auc:0.807247\ttrain-logloss:0.08091\ttest-auc:0.653164\ttest-logloss:0.085414\n",
            "[73]\ttrain-auc:0.807459\ttrain-logloss:0.080885\ttest-auc:0.652948\ttest-logloss:0.085453\n",
            "[74]\ttrain-auc:0.808193\ttrain-logloss:0.08082\ttest-auc:0.653225\ttest-logloss:0.085469\n",
            "[75]\ttrain-auc:0.808485\ttrain-logloss:0.080795\ttest-auc:0.653285\ttest-logloss:0.085471\n",
            "[76]\ttrain-auc:0.808743\ttrain-logloss:0.080751\ttest-auc:0.653302\ttest-logloss:0.085493\n",
            "[77]\ttrain-auc:0.808973\ttrain-logloss:0.080713\ttest-auc:0.65337\ttest-logloss:0.085519\n",
            "[78]\ttrain-auc:0.809385\ttrain-logloss:0.080672\ttest-auc:0.653194\ttest-logloss:0.085537\n",
            "[79]\ttrain-auc:0.809915\ttrain-logloss:0.080614\ttest-auc:0.653505\ttest-logloss:0.085519\n",
            "[80]\ttrain-auc:0.810361\ttrain-logloss:0.080566\ttest-auc:0.653359\ttest-logloss:0.085553\n",
            "[81]\ttrain-auc:0.810681\ttrain-logloss:0.080534\ttest-auc:0.653134\ttest-logloss:0.085583\n",
            "[82]\ttrain-auc:0.811207\ttrain-logloss:0.080483\ttest-auc:0.653022\ttest-logloss:0.085605\n",
            "[83]\ttrain-auc:0.811467\ttrain-logloss:0.080454\ttest-auc:0.652993\ttest-logloss:0.085609\n",
            "[84]\ttrain-auc:0.811876\ttrain-logloss:0.080417\ttest-auc:0.652729\ttest-logloss:0.085634\n",
            "[85]\ttrain-auc:0.81197\ttrain-logloss:0.080406\ttest-auc:0.652724\ttest-logloss:0.08564\n",
            "[86]\ttrain-auc:0.812457\ttrain-logloss:0.080352\ttest-auc:0.652939\ttest-logloss:0.085665\n",
            "Stopping. Best iteration:\n",
            "[36]\ttrain-auc:0.790617\ttrain-logloss:0.083075\ttest-auc:0.651258\ttest-logloss:0.084161\n",
            "\n"
          ],
          "name": "stdout"
        },
        {
          "output_type": "display_data",
          "data": {
            "image/png": "[encoded data removed]",
            "text/plain": [
              "<matplotlib.figure.Figure at 0x7f6dbbcd2898>"
            ]
          },
          "metadata": {
            "tags": []
          }
        },
        {
          "output_type": "display_data",
          "data": {
            "image/png": "[encoded data removed]",
            "text/plain": [
              "<matplotlib.figure.Figure at 0x7f6dbbcd2390>"
            ]
          },
          "metadata": {
            "tags": []
          }
        }
      ]
    },
    {
      "metadata": {
        "id": "wOPHdP_-c_wl",
        "colab_type": "text"
      },
      "cell_type": "markdown",
      "source": [
        "###lightgbm验证"
      ]
    },
    {
      "metadata": {
        "id": "rx6XLaGAc-YJ",
        "colab_type": "code",
        "colab": {
          "autoexec": {
            "startup": false,
            "wait_interval": 0
          },
          "output_extras": [
            {
              "item_id": 1
            }
          ],
          "base_uri": "https://localhost:8080/",
          "height": 125
        },
        "outputId": "5e0552fc-78fd-4d72-bb1b-b90754647a86"
      },
      "cell_type": "code",
      "source": [
        "import lightgbm as lgb\n",
        "from sklearn.metrics import log_loss,roc_auc_score\n",
        "clf = lgb.LGBMClassifier(num_leaves=63, max_depth=7, n_estimators=80, n_jobs=20)\n",
        "clf.fit(train_m[feature_list].copy(), train_m[[\"is_trade\"]].copy(), feature_name=feature_list,\n",
        "        categorical_feature=['user_gender_id',\"item_id\" ])\n",
        "test_m['lgb_predict'] = clf.predict_proba(test_m[feature_list].copy(),)[:, 1]\n",
        "print(log_loss(test_m[\"is_trade\"], test_m['lgb_predict']))\n",
        "print(roc_auc_score(test_m[\"is_trade\"], test_m['lgb_predict']))"
      ],
      "execution_count": 0,
      "outputs": [
        {
          "output_type": "stream",
          "text": [
            "/usr/local/lib/python3.6/dist-packages/sklearn/preprocessing/label.py:95: DataConversionWarning: A column-vector y was passed when a 1d array was expected. Please change the shape of y to (n_samples, ), for example using ravel().\n",
            "  y = column_or_1d(y, warn=True)\n",
            "/usr/local/lib/python3.6/dist-packages/sklearn/preprocessing/label.py:128: DataConversionWarning: A column-vector y was passed when a 1d array was expected. Please change the shape of y to (n_samples, ), for example using ravel().\n",
            "  y = column_or_1d(y, warn=True)\n",
            "/usr/local/lib/python3.6/dist-packages/lightgbm/basic.py:1038: UserWarning: categorical_feature in Dataset is overrided. New categorical_feature is ['item_id', 'user_gender_id']\n",
            "  warnings.warn('categorical_feature in Dataset is overrided. New categorical_feature is {}'.format(sorted(list(categorical_feature))))\n"
          ],
          "name": "stderr"
        }
      ]
    },
    {
      "metadata": {
        "id": "a7t0F3rImqZ3",
        "colab_type": "text"
      },
      "cell_type": "markdown",
      "source": [
        "#训练"
      ]
    },
    {
      "metadata": {
        "id": "uw1Jfhf5NCkj",
        "colab_type": "text"
      },
      "cell_type": "markdown",
      "source": [
        "##xgboost"
      ]
    },
    {
      "metadata": {
        "id": "v5EqtPMum2Zg",
        "colab_type": "text"
      },
      "cell_type": "markdown",
      "source": [
        "###参数控制"
      ]
    },
    {
      "metadata": {
        "id": "O4DNCMwWmpZS",
        "colab_type": "code",
        "colab": {
          "autoexec": {
            "startup": false,
            "wait_interval": 0
          }
        }
      },
      "cell_type": "code",
      "source": [
        "#alpha 30, lambda 15, gamma 2\n",
        "param = {}\n",
        "param[\"eta\"] = 0.15\n",
        "param[\"min_child_weight\"] = 1\n",
        "param[\"max_depth\"] = 3\n",
        "param[\"lambda\"] = 5 #控制模型复杂度的权重值的L2正则化项参数，参数越大，模型越不容易过拟合。 默认1\n",
        "param[\"alpha\"] = 4 #控制模型复杂程度的权重值的 L1 正则项参数，参数值越大，模型越不容易过拟合。 默认0\n",
        "param[\"gamma\"] = 1 # 用于控制是否后剪枝的参数,越大越保守，一般0.1、0.2这样子。\n",
        "param[\"subsample\"]=0.8\n",
        "param[\"colsample_bytree\"]=0.8\n",
        "param[\"objective\"] = \"binary:logistic\"\n",
        "param[\"eval_metric\"]=[ \"auc\",\"logloss\"]#error,logloss,auc\n",
        "param[\"silent\"] = 1\n",
        "num_round = 500\n",
        "eval_result={}"
      ],
      "execution_count": 0,
      "outputs": []
    },
    {
      "metadata": {
        "id": "MMiwaP28m5PJ",
        "colab_type": "text"
      },
      "cell_type": "markdown",
      "source": [
        "###训练模型"
      ]
    },
    {
      "metadata": {
        "id": "wbMZJPmYmn5Q",
        "colab_type": "code",
        "colab": {
          "autoexec": {
            "startup": false,
            "wait_interval": 0
          }
        }
      },
      "cell_type": "code",
      "source": [
        "X = train_m[feature_list].copy()\n",
        "Y = train_m[\"is_trade\"].copy()\n",
        "train_set = xgb.DMatrix(X,label=Y)\n",
        "X_t = test_m[feature_list].copy()\n",
        "Y_t = test_m[\"is_trade\"].copy()\n",
        "test_set = xgb.DMatrix(X_t,label=Y_t)\n",
        "watchlist = [(train_set,'train'), (test_set, 'test')]\n",
        "model = xgb.train( param, train_set, num_round, watchlist,verbose_eval=True,evals_result=eval_result,early_stopping_rounds=int(0.1*num_round))\n",
        "limit = model.best_ntree_limit"
      ],
      "execution_count": 0,
      "outputs": []
    },
    {
      "metadata": {
        "id": "rFpe5y5lnQf7",
        "colab_type": "text"
      },
      "cell_type": "markdown",
      "source": [
        "###结果展示"
      ]
    },
    {
      "metadata": {
        "id": "fulGgyJFnTN8",
        "colab_type": "code",
        "colab": {
          "autoexec": {
            "startup": false,
            "wait_interval": 0
          }
        }
      },
      "cell_type": "code",
      "source": [
        "from matplotlib import pyplot \n",
        "from xgboost import plot_importance\n",
        "#plot feature importance\n",
        "ax = plot_importance(model,max_num_features=50)\n",
        "fig = ax.figure\n",
        "fig.set_size_inches(18, 8)\n",
        "pyplot.show()\n",
        "\n",
        "#plot logloss\n",
        "epochs = len(eval_result['train']['logloss'])  \n",
        "x_axis = range(0, epochs)  \n",
        "fig, ax = pyplot.subplots()  \n",
        "ax.plot(x_axis, eval_result['train']['logloss'], label='Train_logloss')  \n",
        "ax.plot(x_axis, eval_result['test']['logloss'], label='Test_logloss')  \n",
        "ax.plot(x_axis, eval_result['train']['auc'], label='Train-auc')  \n",
        "ax.plot(x_axis, eval_result['test']['auc'], label='Test-auc') \n",
        "ax.legend()\n",
        "fig = ax.figure\n",
        "fig.set_size_inches(18, 8)\n",
        "pyplot.ylabel('Loss')  \n",
        "pyplot.xlabel('Iteration Num')  \n",
        "pyplot.title('XGBoost Loss')  \n",
        "pyplot.show()\n"
      ],
      "execution_count": 0,
      "outputs": []
    },
    {
      "metadata": {
        "id": "1Ri1exAAWEfT",
        "colab_type": "text"
      },
      "cell_type": "markdown",
      "source": [
        "###正式训练重新生成特征"
      ]
    },
    {
      "metadata": {
        "id": "60VJlkVLWHgl",
        "colab_type": "code",
        "colab": {
          "autoexec": {
            "startup": false,
            "wait_interval": 0
          }
        }
      },
      "cell_type": "code",
      "source": [
        "train_pd,test_pd = set_item_trade_ratio(train_pd,test_pd)\n",
        "if \"item_trade_ratio\" not in feature_list:\n",
        "  feature_list.append(\"item_trade_ratio\")\n",
        "\n",
        "train_pd,test_pd = set_brand_trade_ratio(train_pd,test_pd)\n",
        "if \"brand_trade_ratio\" not in feature_list:\n",
        "  feature_list.append(\"brand_trade_ratio\")\n",
        "\n",
        "train_pd,test_pd = set_item_city_ratio(train_pd,test_pd)\n",
        "if \"item_city_ratio\" not in feature_list:\n",
        "  feature_list.append(\"item_city_ratio\")\n",
        "\n",
        "if \"shop_review_positive_rate\" not in feature_list:\n",
        "  feature_list.append(\"shop_review_positive_rate\")\n",
        "\n",
        "if \"shop_score_service\" not in feature_list:\n",
        "  feature_list.append(\"shop_score_service\")\n",
        "\n",
        "if \"shop_score_delivery\" not in feature_list:\n",
        "  feature_list.append(\"shop_score_delivery\")\n",
        "\n",
        "if \"shop_score_description\" not in feature_list:\n",
        "  feature_list.append(\"shop_score_description\")\n",
        "\n",
        "# train_pd,test_pd = set_gender_brand_ratio(train_pd,test_pd)\n",
        "# if \"gender_brand_ratio\" not in feature_list:\n",
        "#   feature_list.append(\"gender_brand_ratio\")\n",
        "\n",
        "# train_pd,test_pd = set_age_brand_ratio(train_pd,test_pd)\n",
        "# if \"age_brand_ratio\" not in feature_list:\n",
        "#   feature_list.append(\"age_brand_ratio\")\n",
        "\n",
        "# train_pd,test_pd = set_star_price_ratio(train_pd,test_pd)\n",
        "# if \"star_price_ratio\" not in feature_list:\n",
        "#   feature_list.append(\"star_price_ratio\")\n",
        "\n",
        "# train_pd,test_pd = set_occupation_brand_ratio(train_pd,test_pd)\n",
        "# if \"occupation_brand_ratio\" not in feature_list:\n",
        "#   feature_list.append(\"occupation_brand_ratio\")\n",
        "  \n",
        "train_pd = set_user_query_feature(train_pd)\n",
        "test_pd = set_user_query_feature(test_pd)\n",
        "if \"user_query_day\" not in feature_list:\n",
        "  feature_list.append(\"user_query_day\")\n",
        "if \"user_query_day_hour\" not in feature_list:\n",
        "  feature_list.append(\"user_query_day_hour\")"
      ],
      "execution_count": 0,
      "outputs": []
    },
    {
      "metadata": {
        "id": "WAN5UYfBF67_",
        "colab_type": "text"
      },
      "cell_type": "markdown",
      "source": [
        "###结果预测"
      ]
    },
    {
      "metadata": {
        "id": "GqYXgAP54WCM",
        "colab_type": "code",
        "colab": {
          "autoexec": {
            "startup": false,
            "wait_interval": 0
          },
          "output_extras": [
            {
              "item_id": 26
            }
          ],
          "base_uri": "https://localhost:8080/",
          "height": 521
        },
        "outputId": "c3da1412-c58f-4ada-a847-884ece13d23d",
        "executionInfo": {
          "status": "ok",
          "timestamp": 1521518840492,
          "user_tz": -480,
          "elapsed": 13267,
          "user": {
            "displayName": "姚填佳",
            "photoUrl": "//lh4.googleusercontent.com/-c8yaOIb4NJo/AAAAAAAAAAI/AAAAAAAAACI/2RCS6KOMtQs/s50-c-k-no/photo.jpg",
            "userId": "107989077003671308346"
          }
        }
      },
      "cell_type": "code",
      "source": [
        "#总训练集生成\n",
        "X = train_pd[feature_list].copy()\n",
        "Y = train_pd[\"is_trade\"].copy()\n",
        "train_set = xgb.DMatrix(X,label=Y)\n",
        "#测试集生成\n",
        "X_t = test_pd[feature_list].copy() \n",
        "test_set = xgb.DMatrix(X_t)\n",
        "#训练总模型\n",
        "watchlist = [(train_set,'train')]\n",
        "final_model = xgb.train( param, train_set, limit,watchlist)\n",
        "#预测\n",
        "predict_out = final_model.predict(test_set,ntree_limit=limit)\n",
        "test_pd[\"predicted_score\"] = predict_out\n",
        "result = test_pd[[\"instance_id\",\"predicted_score\"]].copy()"
      ],
      "execution_count": 123,
      "outputs": [
        {
          "output_type": "stream",
          "text": [
            "[0]\ttrain-auc:0.593257\ttrain-logloss:0.564632\n",
            "[1]\ttrain-auc:0.738683\ttrain-logloss:0.469231\n",
            "[2]\ttrain-auc:0.756059\ttrain-logloss:0.396035\n",
            "[3]\ttrain-auc:0.756137\ttrain-logloss:0.338645\n",
            "[4]\ttrain-auc:0.763036\ttrain-logloss:0.292687\n",
            "[5]\ttrain-auc:0.770564\ttrain-logloss:0.255566\n",
            "[6]\ttrain-auc:0.767132\ttrain-logloss:0.225487\n",
            "[7]\ttrain-auc:0.763766\ttrain-logloss:0.200854\n",
            "[8]\ttrain-auc:0.768453\ttrain-logloss:0.180416\n",
            "[9]\ttrain-auc:0.772728\ttrain-logloss:0.163534\n",
            "[10]\ttrain-auc:0.769478\ttrain-logloss:0.14975\n",
            "[11]\ttrain-auc:0.774282\ttrain-logloss:0.138137\n",
            "[12]\ttrain-auc:0.77695\ttrain-logloss:0.128489\n",
            "[13]\ttrain-auc:0.775022\ttrain-logloss:0.120669\n",
            "[14]\ttrain-auc:0.778283\ttrain-logloss:0.113997\n",
            "[15]\ttrain-auc:0.780005\ttrain-logloss:0.108442\n",
            "[16]\ttrain-auc:0.78168\ttrain-logloss:0.103857\n",
            "[17]\ttrain-auc:0.782568\ttrain-logloss:0.100058\n",
            "[18]\ttrain-auc:0.783539\ttrain-logloss:0.096876\n",
            "[19]\ttrain-auc:0.784562\ttrain-logloss:0.094247\n",
            "[20]\ttrain-auc:0.784264\ttrain-logloss:0.092289\n",
            "[21]\ttrain-auc:0.785047\ttrain-logloss:0.090472\n",
            "[22]\ttrain-auc:0.785083\ttrain-logloss:0.089174\n",
            "[23]\ttrain-auc:0.786466\ttrain-logloss:0.087889\n",
            "[24]\ttrain-auc:0.787116\ttrain-logloss:0.086838\n",
            "[25]\ttrain-auc:0.787826\ttrain-logloss:0.085953\n",
            "[26]\ttrain-auc:0.788488\ttrain-logloss:0.085225\n",
            "[27]\ttrain-auc:0.789118\ttrain-logloss:0.084611\n"
          ],
          "name": "stdout"
        }
      ]
    },
    {
      "metadata": {
        "id": "k9Kk--MpJUZN",
        "colab_type": "text"
      },
      "cell_type": "markdown",
      "source": [
        "###结果保存"
      ]
    },
    {
      "metadata": {
        "id": "pp4y3uIAJWMX",
        "colab_type": "code",
        "colab": {
          "autoexec": {
            "startup": false,
            "wait_interval": 0
          },
          "output_extras": [
            {
              "item_id": 1
            }
          ],
          "base_uri": "https://localhost:8080/",
          "height": 35
        },
        "outputId": "8eb6772a-3463-46c1-dafd-65fdce85e0cb",
        "executionInfo": {
          "status": "ok",
          "timestamp": 1521518869032,
          "user_tz": -480,
          "elapsed": 2903,
          "user": {
            "displayName": "姚填佳",
            "photoUrl": "//lh4.googleusercontent.com/-c8yaOIb4NJo/AAAAAAAAAAI/AAAAAAAAACI/2RCS6KOMtQs/s50-c-k-no/photo.jpg",
            "userId": "107989077003671308346"
          }
        }
      },
      "cell_type": "code",
      "source": [
        "#保存文件\n",
        "time_string = time.strftime('%Y_%m_%d_%H_%M_%S',time.localtime(time.time()+8*3600))\n",
        "file_name = \"drive/Colab_Notebooks/output/\"+time_string+ '_'+str(model.best_score).split(\".\")[1]+\".txt\"\n",
        "result.to_csv(file_name,index=False,sep=\" \",float_format='%.6f')\n",
        "print(file_name)"
      ],
      "execution_count": 124,
      "outputs": [
        {
          "output_type": "stream",
          "text": [
            "drive/Colab_Notebooks/output/2018_03_20_12_07_47_086958.txt\n"
          ],
          "name": "stdout"
        }
      ]
    },
    {
      "metadata": {
        "id": "pWRCoUuCVxwn",
        "colab_type": "code",
        "colab": {
          "autoexec": {
            "startup": false,
            "wait_interval": 0
          }
        }
      },
      "cell_type": "code",
      "source": [
        ""
      ],
      "execution_count": 0,
      "outputs": []
    },
    {
      "metadata": {
        "id": "XLQ_GOGtXdTw",
        "colab_type": "text"
      },
      "cell_type": "markdown",
      "source": [
        "##浅梦版baseline"
      ]
    },
    {
      "metadata": {
        "id": "ZmqtCcfFXhtp",
        "colab_type": "code",
        "colab": {
          "autoexec": {
            "startup": false,
            "wait_interval": 0
          },
          "output_extras": [
            {
              "item_id": 1
            },
            {
              "item_id": 2
            },
            {
              "item_id": 3
            }
          ],
          "base_uri": "https://localhost:8080/",
          "height": 251
        },
        "outputId": "d8804d5c-e02a-496f-89d9-73da99a5a97e",
        "executionInfo": {
          "status": "ok",
          "timestamp": 1521519064231,
          "user_tz": -480,
          "elapsed": 15340,
          "user": {
            "displayName": "姚填佳",
            "photoUrl": "//lh4.googleusercontent.com/-c8yaOIb4NJo/AAAAAAAAAAI/AAAAAAAAACI/2RCS6KOMtQs/s50-c-k-no/photo.jpg",
            "userId": "107989077003671308346"
          }
        }
      },
      "cell_type": "code",
      "source": [
        "import time\n",
        "import pandas as pd\n",
        "import lightgbm as lgb\n",
        "from sklearn.metrics import log_loss,roc_auc_score\n",
        "\n",
        "\n",
        "def timestamp_datetime(value):\n",
        "    format = '%Y-%m-%d %H:%M:%S'\n",
        "    value = time.localtime(value)\n",
        "    dt = time.strftime(format, value)\n",
        "    return dt\n",
        "\n",
        "\n",
        "def convert_data(data):\n",
        "    data['time'] = data.context_timestamp.apply(timestamp_datetime)\n",
        "    data['day'] = data.time.apply(lambda x: int(x[8:10]))\n",
        "    data['hour'] = data.time.apply(lambda x: int(x[11:13]))\n",
        "    user_query_day = data.groupby(['user_id', 'day']).size(\n",
        "    ).reset_index().rename(columns={0: 'user_query_day'})\n",
        "    data = pd.merge(data, user_query_day, 'left', on=['user_id', 'day'])\n",
        "    user_query_day_hour = data.groupby(['user_id', 'day', 'hour']).size().reset_index().rename(\n",
        "        columns={0: 'user_query_day_hour'})\n",
        "    data = pd.merge(data, user_query_day_hour, 'left',\n",
        "                    on=['user_id', 'day', 'hour'])\n",
        "\n",
        "    return data\n",
        "\n",
        "\n",
        "def generate(train_csv,test_csv):\n",
        "    online = False# 这里用来标记是 线下验证 还是 在线提交\n",
        "\n",
        "    data = train_csv\n",
        "    data.drop_duplicates(inplace=True)\n",
        "    data = convert_data(data)\n",
        "\n",
        "    if online == False:\n",
        "        train = data.loc[data.day < 24]  # 18,19,20,21,22,23,24\n",
        "        test = data.loc[data.day == 24]  # 暂时先使用第24天作为验证集\n",
        "    elif online == True:\n",
        "        train = data.copy()\n",
        "        test = test_csv\n",
        "        test = convert_data(test)\n",
        "\n",
        "    features = ['item_id', 'item_brand_id', 'item_city_id', 'item_price_level', 'item_sales_level',\n",
        "                'item_collected_level', 'item_pv_level', 'user_gender_id', 'user_occupation_id',\n",
        "                'user_age_level', 'user_star_level', 'user_query_day', 'user_query_day_hour',\n",
        "                'context_page_id', 'hour', 'shop_id', 'shop_review_num_level', 'shop_star_level',\n",
        "                'shop_review_positive_rate', 'shop_score_service', 'shop_score_delivery', 'shop_score_description',\n",
        "                ]\n",
        "    target = ['is_trade']\n",
        "\n",
        "    if online == False:\n",
        "        clf = lgb.LGBMClassifier(num_leaves=63, max_depth=7, n_estimators=80, n_jobs=20)\n",
        "        clf.fit(train[features], train[target], feature_name=features,\n",
        "                categorical_feature=['user_gender_id', ])\n",
        "        test['lgb_predict'] = clf.predict_proba(test[features],)[:, 1]\n",
        "        print(log_loss(test[target], test['lgb_predict']))\n",
        "        print(roc_auc_score(test[target], test['lgb_predict']))\n",
        "    else:\n",
        "        clf = lgb.LGBMClassifier(num_leaves=63, max_depth=7, n_estimators=80, n_jobs=20)\n",
        "        clf.fit(train[features], train[target],\n",
        "                categorical_feature=['user_gender_id', ])\n",
        "        test['predicted_score'] = clf.predict_proba(test[features])[:, 1]\n",
        "        time_string = time.strftime('%Y_%m_%d_%H_%M_%S',time.localtime(time.time()+8*3600))\n",
        "        file_name = \"drive/Colab_Notebooks/output/\"+time_string+ '_'+str(model.best_score).split(\".\")[1]+\".txt\"\n",
        "        test[['instance_id', 'predicted_score']].to_csv(file_name, index=False,sep=' ')#保存在线提交结果\n",
        "generate(train_csv,test_csv)"
      ],
      "execution_count": 125,
      "outputs": [
        {
          "output_type": "stream",
          "text": [
            "/usr/local/lib/python3.6/dist-packages/sklearn/preprocessing/label.py:95: DataConversionWarning: A column-vector y was passed when a 1d array was expected. Please change the shape of y to (n_samples, ), for example using ravel().\n",
            "  y = column_or_1d(y, warn=True)\n",
            "/usr/local/lib/python3.6/dist-packages/sklearn/preprocessing/label.py:128: DataConversionWarning: A column-vector y was passed when a 1d array was expected. Please change the shape of y to (n_samples, ), for example using ravel().\n",
            "  y = column_or_1d(y, warn=True)\n",
            "/usr/local/lib/python3.6/dist-packages/lightgbm/basic.py:1038: UserWarning: categorical_feature in Dataset is overrided. New categorical_feature is ['user_gender_id']\n",
            "  warnings.warn('categorical_feature in Dataset is overrided. New categorical_feature is {}'.format(sorted(list(categorical_feature))))\n"
          ],
          "name": "stderr"
        },
        {
          "output_type": "stream",
          "text": [
            "0.0814328949107014\n",
            "0.6851492378035364\n"
          ],
          "name": "stdout"
        },
        {
          "output_type": "stream",
          "text": [
            "/usr/local/lib/python3.6/dist-packages/ipykernel_launcher.py:56: SettingWithCopyWarning: \n",
            "A value is trying to be set on a copy of a slice from a DataFrame.\n",
            "Try using .loc[row_indexer,col_indexer] = value instead\n",
            "\n",
            "See the caveats in the documentation: http://pandas.pydata.org/pandas-docs/stable/indexing.html#indexing-view-versus-copy\n"
          ],
          "name": "stderr"
        }
      ]
    },
    {
      "metadata": {
        "id": "Xly3sAd4YJxn",
        "colab_type": "code",
        "colab": {
          "autoexec": {
            "startup": false,
            "wait_interval": 0
          }
        }
      },
      "cell_type": "code",
      "source": [
        ""
      ],
      "execution_count": 0,
      "outputs": []
    }
  ]
}