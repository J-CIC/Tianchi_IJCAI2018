{
  "nbformat": 4,
  "nbformat_minor": 0,
  "metadata": {
    "colab": {
      "name": "IJCAI2018.ipynb",
      "version": "0.3.2",
      "views": {},
      "default_view": {},
      "provenance": [],
      "collapsed_sections": [
        "WaVwJ6bpxZXi",
        "kw58uqu7NZ_T",
        "v5EqtPMum2Zg",
        "MMiwaP28m5PJ",
        "rFpe5y5lnQf7"
      ]
    },
    "kernelspec": {
      "name": "python3",
      "display_name": "Python 3"
    },
    "accelerator": "GPU"
  },
  "cells": [
    {
      "metadata": {
        "id": "H8mQML2b3i3w",
        "colab_type": "text"
      },
      "cell_type": "markdown",
      "source": [
        "#环境配置系列"
      ]
    },
    {
      "metadata": {
        "id": "mBsnnqYt3l8-",
        "colab_type": "text"
      },
      "cell_type": "markdown",
      "source": [
        "##配置谷歌环境"
      ]
    },
    {
      "metadata": {
        "id": "Lwy_aL7-3iKt",
        "colab_type": "code",
        "colab": {
          "autoexec": {
            "startup": false,
            "wait_interval": 0
          },
          "output_extras": [
            {
              "item_id": 4
            }
          ],
          "base_uri": "https://localhost:8080/",
          "height": 109
        },
        "outputId": "62d48912-6eaa-4518-b937-02f90cb13764",
        "executionInfo": {
          "status": "ok",
          "timestamp": 1521510687941,
          "user_tz": -480,
          "elapsed": 23798,
          "user": {
            "displayName": "姚填佳",
            "photoUrl": "//lh4.googleusercontent.com/-c8yaOIb4NJo/AAAAAAAAAAI/AAAAAAAAACI/2RCS6KOMtQs/s50-c-k-no/photo.jpg",
            "userId": "107989077003671308346"
          }
        }
      },
      "cell_type": "code",
      "source": [
        "#认证\n",
        "!apt-get install -y -qq software-properties-common python-software-properties module-init-tools\n",
        "!add-apt-repository -y ppa:alessandro-strada/ppa 2>&1 > /dev/null\n",
        "!apt-get update -qq 2>&1 > /dev/null\n",
        "!apt-get -y install -qq google-drive-ocamlfuse fuse\n",
        "from google.colab import auth\n",
        "auth.authenticate_user()\n",
        "from oauth2client.client import GoogleCredentials\n",
        "creds = GoogleCredentials.get_application_default()\n",
        "import getpass\n",
        "!google-drive-ocamlfuse -headless -id={creds.client_id} -secret={creds.client_secret} < /dev/null 2>&1 | grep URL\n",
        "vcode = getpass.getpass()\n",
        "!echo {vcode} | google-drive-ocamlfuse -headless -id={creds.client_id} -secret={creds.client_secret}"
      ],
      "execution_count": 1,
      "outputs": [
        {
          "output_type": "stream",
          "text": [
            "Please, open the following URL in a web browser: https://accounts.google.com/o/oauth2/auth?client_id=32555940559.apps.googleusercontent.com&redirect_uri=urn%3Aietf%3Awg%3Aoauth%3A2.0%3Aoob&scope=https%3A%2F%2Fwww.googleapis.com%2Fauth%2Fdrive&response_type=code&access_type=offline&approval_prompt=force\r\n",
            "··········\n",
            "Please, open the following URL in a web browser: https://accounts.google.com/o/oauth2/auth?client_id=32555940559.apps.googleusercontent.com&redirect_uri=urn%3Aietf%3Awg%3Aoauth%3A2.0%3Aoob&scope=https%3A%2F%2Fwww.googleapis.com%2Fauth%2Fdrive&response_type=code&access_type=offline&approval_prompt=force\n",
            "Please enter the verification code: Access token retrieved correctly.\n"
          ],
          "name": "stdout"
        }
      ]
    },
    {
      "metadata": {
        "id": "9n4unveV3afh",
        "colab_type": "code",
        "colab": {
          "autoexec": {
            "startup": false,
            "wait_interval": 0
          }
        }
      },
      "cell_type": "code",
      "source": [
        "#挂载云盘\n",
        "!mkdir -p drive\n",
        "!google-drive-ocamlfuse drive  -o nonempty"
      ],
      "execution_count": 0,
      "outputs": []
    },
    {
      "metadata": {
        "id": "boWmvYN_3tJW",
        "colab_type": "text"
      },
      "cell_type": "markdown",
      "source": [
        "##编程环境"
      ]
    },
    {
      "metadata": {
        "id": "iD94nLW-3r5l",
        "colab_type": "code",
        "colab": {
          "autoexec": {
            "startup": false,
            "wait_interval": 0
          },
          "output_extras": [
            {
              "item_id": 5
            }
          ],
          "base_uri": "https://localhost:8080/",
          "height": 233
        },
        "outputId": "991e4d05-9116-4a76-bc9e-6b10ced7f81d",
        "executionInfo": {
          "status": "ok",
          "timestamp": 1521515295305,
          "user_tz": -480,
          "elapsed": 6583,
          "user": {
            "displayName": "姚填佳",
            "photoUrl": "//lh4.googleusercontent.com/-c8yaOIb4NJo/AAAAAAAAAAI/AAAAAAAAACI/2RCS6KOMtQs/s50-c-k-no/photo.jpg",
            "userId": "107989077003671308346"
          }
        }
      },
      "cell_type": "code",
      "source": [
        "!pip install xgboost\n",
        "import xgboost as xgb\n",
        "import pandas as pd\n",
        "import numpy as np\n",
        "!pip install Cython\n",
        "!pip install lightgbm"
      ],
      "execution_count": 63,
      "outputs": [
        {
          "output_type": "stream",
          "text": [
            "Requirement already satisfied: xgboost in /usr/local/lib/python3.6/dist-packages\r\n",
            "Requirement already satisfied: numpy in /usr/local/lib/python3.6/dist-packages (from xgboost)\r\n",
            "Requirement already satisfied: scipy in /usr/local/lib/python3.6/dist-packages (from xgboost)\n",
            "Requirement already satisfied: Cython in /usr/local/lib/python3.6/dist-packages\n",
            "Collecting lightgbm\n",
            "  Downloading lightgbm-2.1.0-py2.py3-none-manylinux1_x86_64.whl (660kB)\n",
            "\u001b[K    100% |████████████████████████████████| 665kB 1.4MB/s \n",
            "\u001b[?25hRequirement already satisfied: numpy in /usr/local/lib/python3.6/dist-packages (from lightgbm)\n",
            "Requirement already satisfied: scipy in /usr/local/lib/python3.6/dist-packages (from lightgbm)\n",
            "Requirement already satisfied: scikit-learn in /usr/local/lib/python3.6/dist-packages (from lightgbm)\n",
            "Installing collected packages: lightgbm\n",
            "Successfully installed lightgbm-2.1.0\n"
          ],
          "name": "stdout"
        }
      ]
    },
    {
      "metadata": {
        "id": "9zaP8KGi31d8",
        "colab_type": "text"
      },
      "cell_type": "markdown",
      "source": [
        "##读取数据及初始处理"
      ]
    },
    {
      "metadata": {
        "id": "_NVd9Hu430sd",
        "colab_type": "code",
        "colab": {
          "autoexec": {
            "startup": false,
            "wait_interval": 0
          },
          "output_extras": [
            {
              "item_id": 1
            }
          ],
          "base_uri": "https://localhost:8080/",
          "height": 35
        },
        "outputId": "36217eb9-20b0-46bc-84b0-0a5bf79e2d80",
        "executionInfo": {
          "status": "ok",
          "timestamp": 1521510759773,
          "user_tz": -480,
          "elapsed": 22781,
          "user": {
            "displayName": "姚填佳",
            "photoUrl": "//lh4.googleusercontent.com/-c8yaOIb4NJo/AAAAAAAAAAI/AAAAAAAAACI/2RCS6KOMtQs/s50-c-k-no/photo.jpg",
            "userId": "107989077003671308346"
          }
        }
      },
      "cell_type": "code",
      "source": [
        "#读取数据\n",
        "train_csv = pd.read_csv(\"drive/Colab_Notebooks/data/round1_ijcai_18_train_20180301.txt\",\" \")\n",
        "test_csv = pd.read_csv(\"drive/Colab_Notebooks/data/round1_ijcai_18_test_a_20180301.txt\",\" \")\n",
        "print(len(train_csv),len(test_csv))"
      ],
      "execution_count": 4,
      "outputs": [
        {
          "output_type": "stream",
          "text": [
            "478138 18371\n"
          ],
          "name": "stdout"
        }
      ]
    },
    {
      "metadata": {
        "id": "Aq9iUrVz37LF",
        "colab_type": "code",
        "colab": {
          "autoexec": {
            "startup": false,
            "wait_interval": 0
          },
          "output_extras": [
            {
              "item_id": 2
            }
          ],
          "base_uri": "https://localhost:8080/",
          "height": 233
        },
        "outputId": "ece67d56-012b-4332-cf1f-ad770f11dfdc",
        "executionInfo": {
          "status": "ok",
          "timestamp": 1521510762722,
          "user_tz": -480,
          "elapsed": 2812,
          "user": {
            "displayName": "姚填佳",
            "photoUrl": "//lh4.googleusercontent.com/-c8yaOIb4NJo/AAAAAAAAAAI/AAAAAAAAACI/2RCS6KOMtQs/s50-c-k-no/photo.jpg",
            "userId": "107989077003671308346"
          }
        }
      },
      "cell_type": "code",
      "source": [
        "train_pd = train_csv.drop_duplicates(\"instance_id\").copy()\n",
        "test_pd = test_csv.drop_duplicates(\"instance_id\").copy()\n",
        "print(len(train_csv),len(test_csv))\n",
        "#补充时间数据\n",
        "import time\n",
        "train_pd['day']=train_pd.context_timestamp.apply(lambda x:time.strftime(\"%Y-%m-%d\",time.localtime(x+3600*8)))\n",
        "train_pd['hour']=train_pd.context_timestamp.apply(lambda x:time.strftime(\"%H\",time.localtime(x+3600*8)))\n",
        "test_pd['day']=test_pd.context_timestamp.apply(lambda x:time.strftime(\"%Y-%m-%d\",time.localtime(x+3600*8)))\n",
        "test_pd['hour']=test_pd.context_timestamp.apply(lambda x:time.strftime(\"%H\",time.localtime(x+3600*8)))\n",
        "#展示列名\n",
        "print(\"columns length:\",len(train_pd.columns))\n",
        "print(\"列名：\",train_pd.columns)\n",
        "#时间列\n",
        "train_time_list = sorted(train_pd[\"day\"].unique())\n",
        "print(\"时间序列：\",train_time_list)"
      ],
      "execution_count": 5,
      "outputs": [
        {
          "output_type": "stream",
          "text": [
            "478138 18371\n",
            "columns length: 29\n",
            "列名： Index(['instance_id', 'item_id', 'item_category_list', 'item_property_list',\n",
            "       'item_brand_id', 'item_city_id', 'item_price_level', 'item_sales_level',\n",
            "       'item_collected_level', 'item_pv_level', 'user_id', 'user_gender_id',\n",
            "       'user_age_level', 'user_occupation_id', 'user_star_level', 'context_id',\n",
            "       'context_timestamp', 'context_page_id', 'predict_category_property',\n",
            "       'shop_id', 'shop_review_num_level', 'shop_review_positive_rate',\n",
            "       'shop_star_level', 'shop_score_service', 'shop_score_delivery',\n",
            "       'shop_score_description', 'is_trade', 'day', 'hour'],\n",
            "      dtype='object')\n",
            "时间序列： ['2018-09-18', '2018-09-19', '2018-09-20', '2018-09-21', '2018-09-22', '2018-09-23', '2018-09-24']\n"
          ],
          "name": "stdout"
        }
      ]
    },
    {
      "metadata": {
        "id": "WaVwJ6bpxZXi",
        "colab_type": "text"
      },
      "cell_type": "markdown",
      "source": [
        "## Factorization Machine因子分解机尝试"
      ]
    },
    {
      "metadata": {
        "id": "XbwkSWPgxhm3",
        "colab_type": "code",
        "colab": {
          "autoexec": {
            "startup": false,
            "wait_interval": 0
          }
        }
      },
      "cell_type": "code",
      "source": [
        "from fastFM import sgd\n",
        "from sklearn.feature_extraction import DictVectorizer\n",
        "import numpy as np\n",
        "\n",
        "v = DictVectorizer()\n",
        "feature_list = list(train_pd.columns)\n",
        "feature_list.remove(\"is_trade\")\n",
        "feature_list.remove(\"item_category_list\")\n",
        "feature_list.remove(\"item_property_list\")\n",
        "feature_list.remove(\"user_id\")\n",
        "feature_list.remove(\"predict_category_property\")\n",
        "\n",
        "\n",
        "\n",
        "# print(train_pd[feature_list].head().to_dict(\"records\"))\n",
        "v = DictVectorizer()\n",
        "X_train = v.fit_transform(train_m[feature_list].copy().to_dict(\"records\"))\n",
        "X_test = v.transform(test_m[feature_list].copy().to_dict(\"records\"))\n",
        "y_train = train_m[\"is_trade\"].astype(\"int\").tolist()\n",
        "y_train_label = np.ones_like(y_train)\n",
        "y_train_label[y_train<np.mean(y_train)] = -1\n",
        "y_test = test_m[\"is_trade\"].astype(\"int\").tolist()\n",
        "y_test_label = np.ones_like(y_test)\n",
        "y_test_label[y_test<np.mean(y_train)] = -1\n",
        "\n",
        "fm = sgd.FMClassification()\n",
        "fm.fit(X_train,y_train_label)\n",
        "preds = fm.predict_proba(X_test)\n",
        "from sklearn.metrics import log_loss\n",
        "print(log_loss(y_test_label,preds))"
      ],
      "execution_count": 0,
      "outputs": []
    },
    {
      "metadata": {
        "id": "vLy7CmjaJdsb",
        "colab_type": "code",
        "colab": {
          "autoexec": {
            "startup": false,
            "wait_interval": 0
          },
          "output_extras": [
            {
              "item_id": 1
            }
          ],
          "base_uri": "https://localhost:8080/",
          "height": 485
        },
        "outputId": "8e7c5d69-fbbf-4d5a-adbe-e23d4376aaf7",
        "executionInfo": {
          "status": "ok",
          "timestamp": 1521512859507,
          "user_tz": -480,
          "elapsed": 880,
          "user": {
            "displayName": "姚填佳",
            "photoUrl": "//lh4.googleusercontent.com/-c8yaOIb4NJo/AAAAAAAAAAI/AAAAAAAAACI/2RCS6KOMtQs/s50-c-k-no/photo.jpg",
            "userId": "107989077003671308346"
          }
        }
      },
      "cell_type": "code",
      "source": [
        "print(preds)\n",
        "print(train_m[feature_list].dtypes)"
      ],
      "execution_count": 40,
      "outputs": [
        {
          "output_type": "stream",
          "text": [
            "[nan nan nan ... nan nan nan]\n",
            "context_id                     int64\n",
            "context_page_id                int64\n",
            "context_timestamp              int64\n",
            "day                           object\n",
            "hour                          object\n",
            "instance_id                    int64\n",
            "item_brand_id                  int64\n",
            "item_city_id                   int64\n",
            "item_collected_level           int64\n",
            "item_id                        int64\n",
            "item_price_level               int64\n",
            "item_pv_level                  int64\n",
            "item_sales_level               int64\n",
            "shop_id                        int64\n",
            "shop_review_num_level          int64\n",
            "shop_review_positive_rate    float64\n",
            "shop_score_delivery          float64\n",
            "shop_score_description       float64\n",
            "shop_score_service           float64\n",
            "shop_star_level                int64\n",
            "user_gender_id                 int64\n",
            "user_occupation_id             int64\n",
            "user_star_level                int64\n",
            "category                      object\n",
            "dtype: object\n"
          ],
          "name": "stdout"
        }
      ]
    },
    {
      "metadata": {
        "id": "cUcI39rd4AfM",
        "colab_type": "text"
      },
      "cell_type": "markdown",
      "source": [
        "#特征尝试和验证"
      ]
    },
    {
      "metadata": {
        "id": "dDL9jwOD5vuN",
        "colab_type": "code",
        "colab": {
          "autoexec": {
            "startup": false,
            "wait_interval": 0
          }
        }
      },
      "cell_type": "code",
      "source": [
        "train_pd = train_csv.drop_duplicates(\"instance_id\").copy()\n",
        "test_pd = test_csv.drop_duplicates(\"instance_id\").copy()\n",
        "\n",
        "#补充时间数据\n",
        "import time\n",
        "train_pd['day_m']=train_pd.context_timestamp.apply(lambda x:time.strftime(\"%Y-%m-%d\",time.localtime(x+3600*8)))\n",
        "train_pd['day'] = train_pd.context_timestamp.apply(lambda x:time.strftime(\"%d\",time.localtime(x+3600*8)))\n",
        "train_pd['hour']=train_pd.context_timestamp.apply(lambda x:time.strftime(\"%H\",time.localtime(x+3600*8)))\n",
        "test_pd['day_m']=test_pd.context_timestamp.apply(lambda x:time.strftime(\"%Y-%m-%d\",time.localtime(x+3600*8)))\n",
        "test_pd['day'] = test_pd.context_timestamp.apply(lambda x:time.strftime(\"%d\",time.localtime(x+3600*8)))\n",
        "test_pd['hour']=test_pd.context_timestamp.apply(lambda x:time.strftime(\"%H\",time.localtime(x+3600*8)))\n",
        "\n",
        "# feature_list = []\n",
        "feature_list = ['item_id', 'item_brand_id', 'item_city_id', 'item_price_level', 'item_sales_level',\n",
        "                'item_collected_level', 'item_pv_level', 'user_gender_id', 'user_occupation_id',\n",
        "                'user_age_level', 'user_star_level', 'user_query_day', 'user_query_day_hour',\n",
        "                'context_page_id', 'hour', 'shop_id', 'shop_review_num_level', 'shop_star_level',\n",
        "                'shop_review_positive_rate', 'shop_score_service', 'shop_score_delivery', 'shop_score_description',\n",
        "                ]\n",
        "all_data = pd.concat([train_pd,test_pd])\n",
        "all_data['hour'] = all_data['hour'].astype(int)\n",
        "all_data['day'] = all_data['hour'].astype(int)\n",
        "all_data[\"category\"] =  list(map(lambda x:x.split(\";\")[1],all_data[\"item_category_list\"]))\n",
        "# feature_one_hot = pd.get_dummies(\n",
        "#     all_data[[\"category\",\"item_price_level\",\"user_age_level\"]],\n",
        "#     columns=[\"category\",\"item_price_level\",\"user_age_level\"],\n",
        "#     prefix=[\"category\",\"price_level\",\"age_level\"]\n",
        "# )\n",
        "# #测试后发现item_pv_level贡献很小，且带来太多维度，舍弃\n",
        "# feature_list += list(feature_one_hot.columns)\n",
        "# all_data = pd.concat([all_data,feature_one_hot],axis=1)\n",
        "\n",
        "\n",
        "#重新替换train_pd，test_pd\n",
        "train_pd = all_data[:len(train_pd)]\n",
        "test_pd = all_data[len(train_pd):]\n",
        "\n",
        "#分割线下测试和训练集\n",
        "train_m = train_pd[(train_pd[\"day_m\"]>='2018-09-18')&(train_pd[\"day_m\"]<='2018-09-22')]\n",
        "test_m = train_pd[(train_pd[\"day_m\"]>='2018-09-23')]\n",
        "\n"
      ],
      "execution_count": 0,
      "outputs": []
    },
    {
      "metadata": {
        "id": "zvdWlgYuNkfl",
        "colab_type": "text"
      },
      "cell_type": "markdown",
      "source": [
        "###双特征"
      ]
    },
    {
      "metadata": {
        "id": "e3rSRm54NtVc",
        "colab_type": "code",
        "colab": {
          "autoexec": {
            "startup": false,
            "wait_interval": 0
          }
        }
      },
      "cell_type": "code",
      "source": [
        "######################双特征算出的trade_ratio###########################\n",
        "#'''\n",
        "'''\n",
        "'''\n",
        "\n",
        "def set_gender_brand_ratio(train_df,test_df):\n",
        "  ret = train_df[[\"user_gender_id\",\"item_brand_id\",\"is_trade\"]].copy()\n",
        "  pv_level_ratio_pd = (ret.groupby([\"user_gender_id\",\"item_brand_id\"]).sum()[\"is_trade\"])/\\\n",
        "    (ret.groupby([\"user_gender_id\",\"item_brand_id\"]).count()[\"is_trade\"])\n",
        "  trade_ratio_pd = pv_level_ratio_pd.reset_index(drop=False).rename(columns={\"is_trade\":\"gender_brand_ratio\"})\n",
        "  na_value = 0\n",
        "  train_df = pd.merge(train_df,trade_ratio_pd,on=[\"user_gender_id\",\"item_brand_id\"],how=\"left\").fillna(na_value)\n",
        "  test_df = pd.merge(test_df,trade_ratio_pd,on=[\"user_gender_id\",\"item_brand_id\"],how=\"left\").fillna(na_value)\n",
        "  return train_df,test_df\n",
        "train_m,test_m = set_gender_brand_ratio(train_m,test_m)\n",
        "if \"gender_brand_ratio\" not in feature_list:\n",
        "  feature_list.append(\"gender_brand_ratio\")\n",
        "\n",
        "  \n",
        "  \n",
        "def set_age_brand_ratio(train_df,test_df):\n",
        "  ret = train_df[[\"user_age_level\",\"item_brand_id\",\"is_trade\"]].copy()\n",
        "  pv_level_ratio_pd = (ret.groupby([\"user_age_level\",\"item_brand_id\"]).sum()[\"is_trade\"])/\\\n",
        "    (ret.groupby([\"user_age_level\",\"item_brand_id\"]).count()[\"is_trade\"])\n",
        "  trade_ratio_pd = pv_level_ratio_pd.reset_index(drop=False).rename(columns={\"is_trade\":\"age_brand_ratio\"})\n",
        "  na_value = 0\n",
        "  train_df = pd.merge(train_df,trade_ratio_pd,on=[\"user_age_level\",\"item_brand_id\"],how=\"left\").fillna(na_value)\n",
        "  test_df = pd.merge(test_df,trade_ratio_pd,on=[\"user_age_level\",\"item_brand_id\"],how=\"left\").fillna(na_value)\n",
        "  return train_df,test_df\n",
        "train_m,test_m = set_age_brand_ratio(train_m,test_m)\n",
        "if \"age_brand_ratio\" not in feature_list:\n",
        "  feature_list.append(\"age_brand_ratio\")\n",
        " \n",
        "  \n",
        "def set_star_price_ratio(train_df,test_df):\n",
        "  ret = train_df[[\"user_star_level\",\"item_price_level\",\"is_trade\"]].copy()\n",
        "  pv_level_ratio_pd = (ret.groupby([\"user_star_level\",\"item_price_level\"]).sum()[\"is_trade\"])/\\\n",
        "    (ret.groupby([\"user_star_level\",\"item_price_level\"]).count()[\"is_trade\"])\n",
        "  trade_ratio_pd = pv_level_ratio_pd.reset_index(drop=False).rename(columns={\"is_trade\":\"star_price_ratio\"})\n",
        "  na_value = 0\n",
        "  train_df = pd.merge(train_df,trade_ratio_pd,on=[\"user_star_level\",\"item_price_level\"],how=\"left\").fillna(na_value)\n",
        "  test_df = pd.merge(test_df,trade_ratio_pd,on=[\"user_star_level\",\"item_price_level\"],how=\"left\").fillna(na_value)\n",
        "  return train_df,test_df\n",
        "train_m,test_m = set_star_price_ratio(train_m,test_m)\n",
        "if \"star_price_ratio\" not in feature_list:\n",
        "  feature_list.append(\"star_price_ratio\")\n",
        "  \n",
        "\n",
        "\n",
        "def set_occupation_brand_ratio(train_df,test_df):\n",
        "  ret = train_df[[\"user_occupation_id\",\"item_brand_id\",\"is_trade\"]].copy()\n",
        "  pv_level_ratio_pd = (ret.groupby([\"user_occupation_id\",\"item_brand_id\"]).sum()[\"is_trade\"])/\\\n",
        "    (ret.groupby([\"user_occupation_id\",\"item_brand_id\"]).count()[\"is_trade\"])\n",
        "  trade_ratio_pd = pv_level_ratio_pd.reset_index(drop=False).rename(columns={\"is_trade\":\"occupation_brand_ratio\"})\n",
        "  na_value = 0\n",
        "  train_df = pd.merge(train_df,trade_ratio_pd,on=[\"user_occupation_id\",\"item_brand_id\"],how=\"left\").fillna(na_value)\n",
        "  test_df = pd.merge(test_df,trade_ratio_pd,on=[\"user_occupation_id\",\"item_brand_id\"],how=\"left\").fillna(na_value)\n",
        "  return train_df,test_df\n",
        "train_m,test_m = set_occupation_brand_ratio(train_m,test_m)\n",
        "if \"occupation_brand_ratio\" not in feature_list:\n",
        "  feature_list.append(\"occupation_brand_ratio\")\n",
        "\n",
        "\n",
        "# def get_property_dict(df):\n",
        "#   ret = df[[\"user_gender_id\",\"item_property_list\",\"is_trade\"]].copy()\n",
        "#   #下面这句骚操作把一行扩展成多行\n",
        "#   ret = ret.drop('item_property_list', axis=1).join(ret['item_property_list'].str.split(';', expand=True).stack().reset_index(level=1, drop=True).rename('item_property_list'))\n",
        "#   ret = ret.rename(columns={\"item_property_list\":\"property\"})\n",
        "#   ret = ret.groupby([\"property\",\"user_gender_id\"]).count()\n",
        "#   ret = ret.reset_index()\n",
        "#   print(ret)\n",
        "#   ret.set_index([\"property\",\"user_gender_id\"],inplace=True,drop=False)\n",
        "#   ret[\"is_trade\"] = ret[\"is_trade\"]/ret[\"is_trade\"].max()#归一化\n",
        "#   return ret\n",
        "# property_pd = get_property_dict(train_pd)"
      ],
      "execution_count": 0,
      "outputs": []
    },
    {
      "metadata": {
        "id": "UfCpWUolNT0K",
        "colab_type": "text"
      },
      "cell_type": "markdown",
      "source": [
        "###单特征"
      ]
    },
    {
      "metadata": {
        "id": "eF-V4yKINYq5",
        "colab_type": "code",
        "colab": {
          "autoexec": {
            "startup": false,
            "wait_interval": 0
          }
        }
      },
      "cell_type": "code",
      "source": [
        "##################单特征或单特征的trade_ratio###########################\n",
        "'''\n",
        "'''\n",
        "\n",
        "\n",
        "def set_item_trade_ratio(train_df,test_df):\n",
        "  ret = train_df[[\"item_id\",\"is_trade\"]].copy()\n",
        "  item_trade_ratio_pd = (ret.groupby(\"item_id\").sum()[\"is_trade\"])/\\\n",
        "    (ret.groupby(\"item_id\").count()[\"is_trade\"])\n",
        "  trade_ratio_pd = item_trade_ratio_pd.reset_index(drop=False).rename(columns={\"is_trade\":\"item_trade_ratio\"})\n",
        "  na_value = 0\n",
        "  train_df = pd.merge(train_df,trade_ratio_pd,on=\"item_id\",how=\"left\").fillna(na_value)\n",
        "  test_df = pd.merge(test_df,trade_ratio_pd,on=\"item_id\",how=\"left\").fillna(na_value)\n",
        "  return train_df,test_df\n",
        "train_m,test_m = set_item_trade_ratio(train_m,test_m)\n",
        "if \"item_trade_ratio\" not in feature_list:\n",
        "  feature_list.append(\"item_trade_ratio\")\n",
        "\n",
        "def set_brand_trade_ratio(train_df,test_df):\n",
        "  ret = train_df[[\"item_brand_id\",\"is_trade\"]].copy()\n",
        "  brand_trade_ratio_pd = (ret.groupby(\"item_brand_id\").sum()[\"is_trade\"])/\\\n",
        "    (ret.groupby(\"item_brand_id\").count()[\"is_trade\"])\n",
        "  trade_ratio_pd = brand_trade_ratio_pd.reset_index(drop=False).rename(columns={\"is_trade\":\"brand_trade_ratio\"})\n",
        "  na_value = 0\n",
        "  train_df = pd.merge(train_df,trade_ratio_pd,on=\"item_brand_id\",how=\"left\").fillna(na_value)\n",
        "  test_df = pd.merge(test_df,trade_ratio_pd,on=\"item_brand_id\",how=\"left\").fillna(na_value)\n",
        "  return train_df,test_df\n",
        "train_m,test_m = set_brand_trade_ratio(train_m,test_m)\n",
        "if \"brand_trade_ratio\" not in feature_list:\n",
        "  feature_list.append(\"brand_trade_ratio\")\n",
        "\n",
        "def set_item_city_ratio(train_df,test_df):\n",
        "  ret = train_df[[\"item_city_id\",\"is_trade\"]].copy()\n",
        "  item_city_ratio_pd = (ret.groupby(\"item_city_id\").sum()[\"is_trade\"])/\\\n",
        "    (ret.groupby(\"item_city_id\").count()[\"is_trade\"])\n",
        "  trade_ratio_pd = item_city_ratio_pd.reset_index(drop=False).rename(columns={\"is_trade\":\"item_city_ratio\"})\n",
        "  na_value = 0\n",
        "  train_df = pd.merge(train_df,trade_ratio_pd,on=\"item_city_id\",how=\"left\").fillna(na_value)\n",
        "  test_df = pd.merge(test_df,trade_ratio_pd,on=\"item_city_id\",how=\"left\").fillna(na_value)\n",
        "  return train_df,test_df\n",
        "train_m,test_m = set_item_city_ratio(train_m,test_m)\n",
        "if \"item_city_ratio\" not in feature_list:\n",
        "  feature_list.append(\"item_city_ratio\")\n",
        "\n",
        "def set_user_query_feature(data):\n",
        "  user_query_day = data.groupby(['user_id', 'day']).size().reset_index().rename(columns={0: 'user_query_day'})\n",
        "  data = pd.merge(data, user_query_day, 'left', on=['user_id', 'day'])\n",
        "  user_query_day_hour = data.groupby(['user_id', 'day', 'hour']).size().reset_index().rename(\n",
        "      columns={0: 'user_query_day_hour'})\n",
        "  data = pd.merge(data, user_query_day_hour, 'left',\n",
        "                  on=['user_id', 'day', 'hour'])\n",
        "  return data\n",
        "train_m = set_user_query_feature(train_m)\n",
        "test_m = set_user_query_feature(test_m)\n",
        "if \"user_query_day\" not in feature_list:\n",
        "  feature_list.append(\"user_query_day\")\n",
        "if \"user_query_day_hour\" not in feature_list:\n",
        "  feature_list.append(\"user_query_day_hour\")\n",
        "  \n",
        "def scale_to_one(train_df,test_df,column):\n",
        "  all_df = pd.concat([train_df,test_df])\n",
        "  all_df[column] = (all_df[column]-all_df[column].min()) / (all_df[column].max()-all_df[column].min())\n",
        "  train_df = all_df[:len(train_df)]\n",
        "  test_df = all_df[len(test_df):]\n",
        "  return train_df,test_df\n",
        "  \n",
        "if \"shop_review_positive_rate\" not in feature_list:\n",
        "  feature_list.append(\"shop_review_positive_rate\")\n",
        "\n",
        "if \"shop_score_service\" not in feature_list:\n",
        "  feature_list.append(\"shop_score_service\")\n",
        "\n",
        "if \"shop_score_delivery\" not in feature_list:\n",
        "  feature_list.append(\"shop_score_delivery\")\n",
        "\n",
        "if \"shop_score_description\" not in feature_list:\n",
        "  feature_list.append(\"shop_score_description\")\n",
        "  \n"
      ],
      "execution_count": 0,
      "outputs": []
    },
    {
      "metadata": {
        "id": "kw58uqu7NZ_T",
        "colab_type": "text"
      },
      "cell_type": "markdown",
      "source": [
        "###贡献过小，AUC低于55的特征"
      ]
    },
    {
      "metadata": {
        "id": "dovNioZTNdpM",
        "colab_type": "code",
        "colab": {
          "autoexec": {
            "startup": false,
            "wait_interval": 0
          }
        }
      },
      "cell_type": "code",
      "source": [
        "#################综合后贡献不大，去掉提升的特征#####################\n",
        "\n",
        "# def set_item_price_ratio(train_df,test_df):\n",
        "#   ret = train_df[[\"item_price_level\",\"is_trade\"]].copy()\n",
        "#   item_price_ratio_pd = (ret.groupby(\"item_price_level\").sum()[\"is_trade\"])/\\\n",
        "#     (ret.groupby(\"item_price_level\").count()[\"is_trade\"])\n",
        "#   trade_ratio_pd = item_price_ratio_pd.reset_index(drop=False).rename(columns={\"is_trade\":\"item_price_ratio\"})\n",
        "#   na_value = 0\n",
        "#   train_df = pd.merge(train_df,trade_ratio_pd,on=\"item_price_level\",how=\"left\").fillna(na_value)\n",
        "#   test_df = pd.merge(test_df,trade_ratio_pd,on=\"item_price_level\",how=\"left\").fillna(na_value)\n",
        "#   return train_df,test_df\n",
        "# train_m,test_m = set_item_price_ratio(train_m,test_m)\n",
        "# if \"item_price_ratio\" not in feature_list:\n",
        "#   feature_list.append(\"item_price_ratio\")\n",
        "\n",
        "# def set_item_sales_ratio(train_df,test_df):\n",
        "#   ret = train_df[[\"item_sales_level\",\"is_trade\"]].copy()\n",
        "#   item_sales_ratio_pd = (ret.groupby(\"item_sales_level\").sum()[\"is_trade\"])/\\\n",
        "#     (ret.groupby(\"item_sales_level\").count()[\"is_trade\"])\n",
        "#   trade_ratio_pd = item_sales_ratio_pd.reset_index(drop=False).rename(columns={\"is_trade\":\"item_sales_ratio\"})\n",
        "#   na_value = 0\n",
        "#   train_df = pd.merge(train_df,trade_ratio_pd,on=\"item_sales_level\",how=\"left\").fillna(na_value)\n",
        "#   test_df = pd.merge(test_df,trade_ratio_pd,on=\"item_sales_level\",how=\"left\").fillna(na_value)\n",
        "#   return train_df,test_df\n",
        "# train_m,test_m = set_item_sales_ratio(train_m,test_m)\n",
        "# if \"item_sales_ratio\" not in feature_list:\n",
        "#   feature_list.append(\"item_sales_ratio\")\n",
        "\n",
        "#####################AUC低于55的特征#########################\n",
        "\n",
        "\n",
        "# def set_item_collected_ratio(train_df,test_df):\n",
        "#   ret = train_df[[\"item_collected_level\",\"is_trade\"]].copy()\n",
        "#   item_collected_ratio_pd = (ret.groupby(\"item_collected_level\").sum()[\"is_trade\"])/\\\n",
        "#     (ret.groupby(\"item_collected_level\").count()[\"is_trade\"])\n",
        "#   trade_ratio_pd = item_collected_ratio_pd.reset_index(drop=False).rename(columns={\"is_trade\":\"item_collected_ratio\"})\n",
        "#   na_value = 0\n",
        "#   train_df = pd.merge(train_df,trade_ratio_pd,on=\"item_collected_level\",how=\"left\").fillna(na_value)\n",
        "#   test_df = pd.merge(test_df,trade_ratio_pd,on=\"item_collected_level\",how=\"left\").fillna(na_value)\n",
        "#   return train_df,test_df\n",
        "# train_m,test_m = set_item_collected_ratio(train_m,test_m)\n",
        "# if \"item_collected_ratio\" not in feature_list:\n",
        "#   feature_list.append(\"item_collected_ratio\")\n",
        "\n",
        "\n",
        "# def set_shop_star_ratio(train_df,test_df):\n",
        "#   ret = train_df[[\"shop_star_level\",\"is_trade\"]].copy()\n",
        "#   shop_star_ratio_pd = (ret.groupby(\"shop_star_level\").sum()[\"is_trade\"])/\\\n",
        "#     (ret.groupby(\"shop_star_level\").count()[\"is_trade\"])\n",
        "#   trade_ratio_pd = shop_star_ratio_pd.reset_index(drop=False).rename(columns={\"is_trade\":\"shop_star_ratio\"})\n",
        "#   na_value = 0\n",
        "#   train_df = pd.merge(train_df,trade_ratio_pd,on=\"shop_star_level\",how=\"left\").fillna(na_value)\n",
        "#   test_df = pd.merge(test_df,trade_ratio_pd,on=\"shop_star_level\",how=\"left\").fillna(na_value)\n",
        "#   return train_df,test_df\n",
        "# train_m,test_m = set_shop_star_ratio(train_m,test_m)\n",
        "# if \"shop_star_ratio\" not in feature_list:\n",
        "#   feature_list.append(\"shop_star_ratio\")\n",
        "\n",
        "# def set_pv_level_ratio(train_df,test_df):\n",
        "#   ret = train_df[[\"item_pv_level\",\"is_trade\"]].copy()\n",
        "#   pv_level_ratio_pd = (ret.groupby(\"item_pv_level\").sum()[\"is_trade\"])/\\\n",
        "#     (ret.groupby(\"item_pv_level\").count()[\"is_trade\"])\n",
        "#   trade_ratio_pd = pv_level_ratio_pd.reset_index(drop=False).rename(columns={\"is_trade\":\"pv_level_ratio\"})\n",
        "#   na_value = 0\n",
        "#   train_df = pd.merge(train_df,trade_ratio_pd,on=\"item_pv_level\",how=\"left\").fillna(na_value)\n",
        "#   test_df = pd.merge(test_df,trade_ratio_pd,on=\"item_pv_level\",how=\"left\").fillna(na_value)\n",
        "#   return train_df,test_df\n",
        "# train_m,test_m = set_pv_level_ratio(train_m,test_m)\n",
        "# if \"pv_level_ratio\" not in feature_list:\n",
        "#   feature_list.append(\"pv_level_ratio\")"
      ],
      "execution_count": 0,
      "outputs": []
    },
    {
      "metadata": {
        "id": "YCt_qIwq5M6b",
        "colab_type": "text"
      },
      "cell_type": "markdown",
      "source": [
        "##验证"
      ]
    },
    {
      "metadata": {
        "id": "fE4hHdvy5iz3",
        "colab_type": "code",
        "colab": {
          "autoexec": {
            "startup": false,
            "wait_interval": 0
          },
          "output_extras": [
            {
              "item_id": 29
            },
            {
              "item_id": 50
            },
            {
              "item_id": 51
            },
            {
              "item_id": 52
            }
          ],
          "base_uri": "https://localhost:8080/",
          "height": 2556
        },
        "cellView": "code",
        "outputId": "b3539746-c097-49a6-b437-2408eaf6ba59",
        "executionInfo": {
          "status": "ok",
          "timestamp": 1521517309258,
          "user_tz": -480,
          "elapsed": 24321,
          "user": {
            "displayName": "姚填佳",
            "photoUrl": "//lh4.googleusercontent.com/-c8yaOIb4NJo/AAAAAAAAAAI/AAAAAAAAACI/2RCS6KOMtQs/s50-c-k-no/photo.jpg",
            "userId": "107989077003671308346"
          }
        }
      },
      "cell_type": "code",
      "source": [
        "#alpha 30, lambda 15, gamma 2\n",
        "param = {}\n",
        "param[\"eta\"] = 0.15\n",
        "param[\"min_child_weight\"] = 1\n",
        "param[\"max_depth\"] = 3\n",
        "param[\"lambda\"] = 5 #控制模型复杂度的权重值的L2正则化项参数，参数越大，模型越不容易过拟合。 默认1\n",
        "param[\"alpha\"] = 1 #控制模型复杂程度的权重值的 L1 正则项参数，参数值越大，模型越不容易过拟合。 默认0\n",
        "param[\"gamma\"] = 1 # 用于控制是否后剪枝的参数,越大越保守，一般0.1、0.2这样子。\n",
        "param[\"subsample\"]=0.8\n",
        "param[\"colsample_bytree\"]=0.8\n",
        "param[\"objective\"] = \"binary:logistic\"\n",
        "param[\"eval_metric\"]=[ \"auc\",\"logloss\"]#error,logloss,auc\n",
        "param[\"silent\"] = 1\n",
        "num_round = 500\n",
        "eval_result={}\n",
        "\n",
        "X = train_m[feature_list].copy()\n",
        "Y = train_m[\"is_trade\"].copy()\n",
        "train_set = xgb.DMatrix(X,label=Y)\n",
        "X_t = test_m[feature_list].copy()\n",
        "Y_t = test_m[\"is_trade\"].copy()\n",
        "test_set = xgb.DMatrix(X_t,label=Y_t)\n",
        "watchlist = [(train_set,'train'), (test_set, 'test')]\n",
        "model = xgb.train( param, train_set, num_round, watchlist,verbose_eval=True,evals_result=eval_result,early_stopping_rounds=int(0.1*num_round))\n",
        "limit = model.best_ntree_limit\n",
        "\n",
        "from matplotlib import pyplot \n",
        "from xgboost import plot_importance\n",
        "#plot feature importance\n",
        "ax = plot_importance(model,max_num_features=50)\n",
        "fig = ax.figure\n",
        "fig.set_size_inches(18, 8)\n",
        "pyplot.show()\n",
        "\n",
        "#plot logloss\n",
        "epochs = len(eval_result['train']['logloss'])  \n",
        "x_axis = range(0, epochs)  \n",
        "fig, ax = pyplot.subplots()  \n",
        "ax.plot(x_axis, eval_result['train']['logloss'], label='Train_logloss')  \n",
        "ax.plot(x_axis, eval_result['test']['logloss'], label='Test_logloss')  \n",
        "ax.plot(x_axis, eval_result['train']['auc'], label='Train-auc')  \n",
        "ax.plot(x_axis, eval_result['test']['auc'], label='Test-auc') \n",
        "ax.legend()\n",
        "fig = ax.figure\n",
        "fig.set_size_inches(18, 8)\n",
        "pyplot.ylabel('Loss')  \n",
        "pyplot.xlabel('Iteration Num')  \n",
        "pyplot.title('XGBoost Loss')  \n",
        "pyplot.show()\n"
      ],
      "execution_count": 101,
      "outputs": [
        {
          "output_type": "stream",
          "text": [
            "[0]\ttrain-auc:0.75886\ttrain-logloss:0.564706\ttest-auc:0.623909\ttest-logloss:0.564082\n",
            "Multiple eval metrics have been passed: 'test-logloss' will be used for early stopping.\n",
            "\n",
            "Will train until test-logloss hasn't improved in 50 rounds.\n",
            "[1]\ttrain-auc:0.758337\ttrain-logloss:0.469755\ttest-auc:0.637302\ttest-logloss:0.468591\n",
            "[2]\ttrain-auc:0.767839\ttrain-logloss:0.396695\ttest-auc:0.637816\ttest-logloss:0.395111\n",
            "[3]\ttrain-auc:0.768613\ttrain-logloss:0.339282\ttest-auc:0.637211\ttest-logloss:0.337348\n",
            "[4]\ttrain-auc:0.767964\ttrain-logloss:0.293602\ttest-auc:0.641346\ttest-logloss:0.291278\n",
            "[5]\ttrain-auc:0.765939\ttrain-logloss:0.256752\ttest-auc:0.644496\ttest-logloss:0.254078\n",
            "[6]\ttrain-auc:0.774345\ttrain-logloss:0.226583\ttest-auc:0.644439\ttest-logloss:0.223734\n",
            "[7]\ttrain-auc:0.778212\ttrain-logloss:0.201865\ttest-auc:0.645296\ttest-logloss:0.198859\n",
            "[8]\ttrain-auc:0.783443\ttrain-logloss:0.181519\ttest-auc:0.644083\ttest-logloss:0.178402\n",
            "[9]\ttrain-auc:0.780595\ttrain-logloss:0.164895\ttest-auc:0.646178\ttest-logloss:0.16152\n",
            "[10]\ttrain-auc:0.783111\ttrain-logloss:0.150951\ttest-auc:0.645818\ttest-logloss:0.147524\n",
            "[11]\ttrain-auc:0.785168\ttrain-logloss:0.139412\ttest-auc:0.64532\ttest-logloss:0.135999\n",
            "[12]\ttrain-auc:0.786337\ttrain-logloss:0.129821\ttest-auc:0.644116\ttest-logloss:0.126435\n",
            "[13]\ttrain-auc:0.784307\ttrain-logloss:0.122109\ttest-auc:0.646477\ttest-logloss:0.11856\n",
            "[14]\ttrain-auc:0.781444\ttrain-logloss:0.115748\ttest-auc:0.648157\ttest-logloss:0.112053\n",
            "[15]\ttrain-auc:0.778262\ttrain-logloss:0.110526\ttest-auc:0.649088\ttest-logloss:0.106703\n",
            "[16]\ttrain-auc:0.781935\ttrain-logloss:0.105921\ttest-auc:0.648586\ttest-logloss:0.102279\n",
            "[17]\ttrain-auc:0.784888\ttrain-logloss:0.102081\ttest-auc:0.647847\ttest-logloss:0.09867\n",
            "[18]\ttrain-auc:0.786386\ttrain-logloss:0.098908\ttest-auc:0.646636\ttest-logloss:0.095737\n",
            "[19]\ttrain-auc:0.788384\ttrain-logloss:0.096266\ttest-auc:0.645868\ttest-logloss:0.093319\n",
            "[20]\ttrain-auc:0.789466\ttrain-logloss:0.09407\ttest-auc:0.645149\ttest-logloss:0.091417\n",
            "[21]\ttrain-auc:0.789018\ttrain-logloss:0.092518\ttest-auc:0.647428\ttest-logloss:0.089832\n",
            "[22]\ttrain-auc:0.790082\ttrain-logloss:0.090982\ttest-auc:0.646593\ttest-logloss:0.088662\n",
            "[23]\ttrain-auc:0.790781\ttrain-logloss:0.089706\ttest-auc:0.645674\ttest-logloss:0.087714\n",
            "[24]\ttrain-auc:0.790766\ttrain-logloss:0.088881\ttest-auc:0.647142\ttest-logloss:0.086923\n",
            "[25]\ttrain-auc:0.790569\ttrain-logloss:0.088227\ttest-auc:0.648658\ttest-logloss:0.086314\n",
            "[26]\ttrain-auc:0.791755\ttrain-logloss:0.087432\ttest-auc:0.647597\ttest-logloss:0.085968\n",
            "[27]\ttrain-auc:0.79261\ttrain-logloss:0.086752\ttest-auc:0.646733\ttest-logloss:0.085751\n",
            "[28]\ttrain-auc:0.7934\ttrain-logloss:0.086188\ttest-auc:0.646144\ttest-logloss:0.085615\n",
            "[29]\ttrain-auc:0.79369\ttrain-logloss:0.085896\ttest-auc:0.647582\ttest-logloss:0.085393\n",
            "[30]\ttrain-auc:0.794402\ttrain-logloss:0.085462\ttest-auc:0.647021\ttest-logloss:0.085412\n",
            "[31]\ttrain-auc:0.794779\ttrain-logloss:0.085095\ttest-auc:0.646342\ttest-logloss:0.085523\n",
            "[32]\ttrain-auc:0.795048\ttrain-logloss:0.084799\ttest-auc:0.64611\ttest-logloss:0.085688\n",
            "[33]\ttrain-auc:0.795313\ttrain-logloss:0.084537\ttest-auc:0.646191\ttest-logloss:0.085891\n",
            "[34]\ttrain-auc:0.796016\ttrain-logloss:0.084426\ttest-auc:0.647041\ttest-logloss:0.085777\n",
            "[35]\ttrain-auc:0.796271\ttrain-logloss:0.084218\ttest-auc:0.646726\ttest-logloss:0.086049\n",
            "[36]\ttrain-auc:0.796929\ttrain-logloss:0.084039\ttest-auc:0.646995\ttest-logloss:0.086315\n",
            "[37]\ttrain-auc:0.79688\ttrain-logloss:0.083883\ttest-auc:0.646785\ttest-logloss:0.086637\n",
            "[38]\ttrain-auc:0.797134\ttrain-logloss:0.083746\ttest-auc:0.646782\ttest-logloss:0.086969\n",
            "[39]\ttrain-auc:0.797186\ttrain-logloss:0.083631\ttest-auc:0.646677\ttest-logloss:0.08736\n",
            "[40]\ttrain-auc:0.797334\ttrain-logloss:0.083531\ttest-auc:0.64678\ttest-logloss:0.08772\n",
            "[41]\ttrain-auc:0.797716\ttrain-logloss:0.083438\ttest-auc:0.646991\ttest-logloss:0.088071\n",
            "[42]\ttrain-auc:0.798347\ttrain-logloss:0.083378\ttest-auc:0.647952\ttest-logloss:0.088016\n",
            "[43]\ttrain-auc:0.798555\ttrain-logloss:0.083297\ttest-auc:0.647826\ttest-logloss:0.088409\n",
            "[44]\ttrain-auc:0.79885\ttrain-logloss:0.083226\ttest-auc:0.648084\ttest-logloss:0.088787\n"
          ],
          "name": "stdout"
        },
        {
          "output_type": "stream",
          "text": [
            "[45]\ttrain-auc:0.799145\ttrain-logloss:0.083163\ttest-auc:0.648239\ttest-logloss:0.089167\n",
            "[46]\ttrain-auc:0.79929\ttrain-logloss:0.083105\ttest-auc:0.648256\ttest-logloss:0.089557\n",
            "[47]\ttrain-auc:0.79941\ttrain-logloss:0.083056\ttest-auc:0.648199\ttest-logloss:0.089979\n",
            "[48]\ttrain-auc:0.799681\ttrain-logloss:0.083007\ttest-auc:0.648311\ttest-logloss:0.090365\n",
            "[49]\ttrain-auc:0.800056\ttrain-logloss:0.082967\ttest-auc:0.648824\ttest-logloss:0.090344\n",
            "[50]\ttrain-auc:0.800132\ttrain-logloss:0.082927\ttest-auc:0.648835\ttest-logloss:0.09076\n",
            "[51]\ttrain-auc:0.800401\ttrain-logloss:0.082898\ttest-auc:0.649167\ttest-logloss:0.090742\n",
            "[52]\ttrain-auc:0.800726\ttrain-logloss:0.082869\ttest-auc:0.649399\ttest-logloss:0.090727\n",
            "[53]\ttrain-auc:0.80088\ttrain-logloss:0.082838\ttest-auc:0.649352\ttest-logloss:0.09111\n",
            "[54]\ttrain-auc:0.800981\ttrain-logloss:0.082805\ttest-auc:0.649316\ttest-logloss:0.091503\n",
            "[55]\ttrain-auc:0.801073\ttrain-logloss:0.082772\ttest-auc:0.649186\ttest-logloss:0.091911\n",
            "[56]\ttrain-auc:0.801142\ttrain-logloss:0.082749\ttest-auc:0.649259\ttest-logloss:0.092283\n",
            "[57]\ttrain-auc:0.801197\ttrain-logloss:0.082729\ttest-auc:0.64925\ttest-logloss:0.092637\n",
            "[58]\ttrain-auc:0.801484\ttrain-logloss:0.082699\ttest-auc:0.649698\ttest-logloss:0.09262\n",
            "[59]\ttrain-auc:0.801614\ttrain-logloss:0.082679\ttest-auc:0.649789\ttest-logloss:0.092968\n",
            "[60]\ttrain-auc:0.801643\ttrain-logloss:0.082659\ttest-auc:0.649764\ttest-logloss:0.093343\n",
            "[61]\ttrain-auc:0.80177\ttrain-logloss:0.082638\ttest-auc:0.649672\ttest-logloss:0.093688\n",
            "[62]\ttrain-auc:0.8018\ttrain-logloss:0.082626\ttest-auc:0.649655\ttest-logloss:0.094025\n",
            "[63]\ttrain-auc:0.802093\ttrain-logloss:0.082604\ttest-auc:0.649776\ttest-logloss:0.094016\n",
            "[64]\ttrain-auc:0.802076\ttrain-logloss:0.082592\ttest-auc:0.649748\ttest-logloss:0.094371\n",
            "[65]\ttrain-auc:0.802182\ttrain-logloss:0.082571\ttest-auc:0.649803\ttest-logloss:0.094661\n",
            "[66]\ttrain-auc:0.802338\ttrain-logloss:0.082551\ttest-auc:0.650053\ttest-logloss:0.094735\n",
            "[67]\ttrain-auc:0.802614\ttrain-logloss:0.082527\ttest-auc:0.650208\ttest-logloss:0.094733\n",
            "[68]\ttrain-auc:0.802813\ttrain-logloss:0.08251\ttest-auc:0.650334\ttest-logloss:0.09474\n",
            "[69]\ttrain-auc:0.803028\ttrain-logloss:0.082489\ttest-auc:0.650375\ttest-logloss:0.094885\n",
            "[70]\ttrain-auc:0.803129\ttrain-logloss:0.082474\ttest-auc:0.650371\ttest-logloss:0.09506\n",
            "[71]\ttrain-auc:0.803267\ttrain-logloss:0.082459\ttest-auc:0.650147\ttest-logloss:0.095108\n",
            "[72]\ttrain-auc:0.803481\ttrain-logloss:0.08244\ttest-auc:0.649729\ttest-logloss:0.095158\n",
            "[73]\ttrain-auc:0.803498\ttrain-logloss:0.082433\ttest-auc:0.64975\ttest-logloss:0.095462\n",
            "[74]\ttrain-auc:0.803629\ttrain-logloss:0.082418\ttest-auc:0.649783\ttest-logloss:0.095475\n",
            "[75]\ttrain-auc:0.803746\ttrain-logloss:0.0824\ttest-auc:0.649832\ttest-logloss:0.09549\n",
            "[76]\ttrain-auc:0.803865\ttrain-logloss:0.082387\ttest-auc:0.649757\ttest-logloss:0.095532\n",
            "[77]\ttrain-auc:0.803928\ttrain-logloss:0.082376\ttest-auc:0.64967\ttest-logloss:0.095808\n",
            "[78]\ttrain-auc:0.80402\ttrain-logloss:0.082363\ttest-auc:0.649662\ttest-logloss:0.096048\n",
            "[79]\ttrain-auc:0.804117\ttrain-logloss:0.08235\ttest-auc:0.649733\ttest-logloss:0.096065\n",
            "Stopping. Best iteration:\n",
            "[29]\ttrain-auc:0.79369\ttrain-logloss:0.085896\ttest-auc:0.647582\ttest-logloss:0.085393\n",
            "\n"
          ],
          "name": "stdout"
        },
        {
          "output_type": "display_data",
          "data": {
            "image/png": "[encoded data removed]",
            "text/plain": [
              "<matplotlib.figure.Figure at 0x7fa67bd9c4a8>"
            ]
          },
          "metadata": {
            "tags": []
          }
        },
        {
          "output_type": "display_data",
          "data": {
            "image/png": "[encoded data removed]",
            "text/plain": [
              "<matplotlib.figure.Figure at 0x7fa68fa3f390>"
            ]
          },
          "metadata": {
            "tags": []
          }
        }
      ]
    },
    {
      "metadata": {
        "id": "wOPHdP_-c_wl",
        "colab_type": "text"
      },
      "cell_type": "markdown",
      "source": [
        "###lightgbm验证"
      ]
    },
    {
      "metadata": {
        "id": "rx6XLaGAc-YJ",
        "colab_type": "code",
        "colab": {
          "autoexec": {
            "startup": false,
            "wait_interval": 0
          },
          "output_extras": [
            {
              "item_id": 1
            },
            {
              "item_id": 2
            }
          ],
          "base_uri": "https://localhost:8080/",
          "height": 143
        },
        "outputId": "08e22a9d-2290-41f5-c942-265515650f1d",
        "executionInfo": {
          "status": "ok",
          "timestamp": 1521517215596,
          "user_tz": -480,
          "elapsed": 9920,
          "user": {
            "displayName": "姚填佳",
            "photoUrl": "//lh4.googleusercontent.com/-c8yaOIb4NJo/AAAAAAAAAAI/AAAAAAAAACI/2RCS6KOMtQs/s50-c-k-no/photo.jpg",
            "userId": "107989077003671308346"
          }
        }
      },
      "cell_type": "code",
      "source": [
        "import lightgbm as lgb\n",
        "from sklearn.metrics import log_loss\n",
        "clf = lgb.LGBMClassifier(num_leaves=63, max_depth=7, n_estimators=80, n_jobs=20)\n",
        "clf.fit(train_m[feature_list].copy(), train_m[[\"is_trade\"]].copy(), feature_name=feature_list,\n",
        "        categorical_feature=['user_gender_id',\"user_occupation_id\" ])\n",
        "test_m['lgb_predict'] = clf.predict_proba(test_m[feature_list].copy(),)[:, 1]\n",
        "print(log_loss(test_m[\"is_trade\"], test_m['lgb_predict']))"
      ],
      "execution_count": 98,
      "outputs": [
        {
          "output_type": "stream",
          "text": [
            "/usr/local/lib/python3.6/dist-packages/sklearn/preprocessing/label.py:95: DataConversionWarning: A column-vector y was passed when a 1d array was expected. Please change the shape of y to (n_samples, ), for example using ravel().\n",
            "  y = column_or_1d(y, warn=True)\n",
            "/usr/local/lib/python3.6/dist-packages/sklearn/preprocessing/label.py:128: DataConversionWarning: A column-vector y was passed when a 1d array was expected. Please change the shape of y to (n_samples, ), for example using ravel().\n",
            "  y = column_or_1d(y, warn=True)\n",
            "/usr/local/lib/python3.6/dist-packages/lightgbm/basic.py:1038: UserWarning: categorical_feature in Dataset is overrided. New categorical_feature is ['user_gender_id', 'user_occupation_id']\n",
            "  warnings.warn('categorical_feature in Dataset is overrided. New categorical_feature is {}'.format(sorted(list(categorical_feature))))\n"
          ],
          "name": "stderr"
        },
        {
          "output_type": "stream",
          "text": [
            "0.0980683435072766\n"
          ],
          "name": "stdout"
        }
      ]
    },
    {
      "metadata": {
        "id": "a7t0F3rImqZ3",
        "colab_type": "text"
      },
      "cell_type": "markdown",
      "source": [
        "#训练"
      ]
    },
    {
      "metadata": {
        "id": "uw1Jfhf5NCkj",
        "colab_type": "text"
      },
      "cell_type": "markdown",
      "source": [
        "##xgboost"
      ]
    },
    {
      "metadata": {
        "id": "v5EqtPMum2Zg",
        "colab_type": "text"
      },
      "cell_type": "markdown",
      "source": [
        "###参数控制"
      ]
    },
    {
      "metadata": {
        "id": "O4DNCMwWmpZS",
        "colab_type": "code",
        "colab": {
          "autoexec": {
            "startup": false,
            "wait_interval": 0
          }
        }
      },
      "cell_type": "code",
      "source": [
        "#alpha 30, lambda 15, gamma 2\n",
        "param = {}\n",
        "param[\"eta\"] = 0.15\n",
        "param[\"min_child_weight\"] = 1\n",
        "param[\"max_depth\"] = 3\n",
        "param[\"lambda\"] = 5 #控制模型复杂度的权重值的L2正则化项参数，参数越大，模型越不容易过拟合。 默认1\n",
        "param[\"alpha\"] = 4 #控制模型复杂程度的权重值的 L1 正则项参数，参数值越大，模型越不容易过拟合。 默认0\n",
        "param[\"gamma\"] = 1 # 用于控制是否后剪枝的参数,越大越保守，一般0.1、0.2这样子。\n",
        "param[\"subsample\"]=0.8\n",
        "param[\"colsample_bytree\"]=0.8\n",
        "param[\"objective\"] = \"binary:logistic\"\n",
        "param[\"eval_metric\"]=[ \"auc\",\"logloss\"]#error,logloss,auc\n",
        "param[\"silent\"] = 1\n",
        "num_round = 500\n",
        "eval_result={}"
      ],
      "execution_count": 0,
      "outputs": []
    },
    {
      "metadata": {
        "id": "MMiwaP28m5PJ",
        "colab_type": "text"
      },
      "cell_type": "markdown",
      "source": [
        "###训练模型"
      ]
    },
    {
      "metadata": {
        "id": "wbMZJPmYmn5Q",
        "colab_type": "code",
        "colab": {
          "autoexec": {
            "startup": false,
            "wait_interval": 0
          }
        }
      },
      "cell_type": "code",
      "source": [
        "X = train_m[feature_list].copy()\n",
        "Y = train_m[\"is_trade\"].copy()\n",
        "train_set = xgb.DMatrix(X,label=Y)\n",
        "X_t = test_m[feature_list].copy()\n",
        "Y_t = test_m[\"is_trade\"].copy()\n",
        "test_set = xgb.DMatrix(X_t,label=Y_t)\n",
        "watchlist = [(train_set,'train'), (test_set, 'test')]\n",
        "model = xgb.train( param, train_set, num_round, watchlist,verbose_eval=True,evals_result=eval_result,early_stopping_rounds=int(0.1*num_round))\n",
        "limit = model.best_ntree_limit"
      ],
      "execution_count": 0,
      "outputs": []
    },
    {
      "metadata": {
        "id": "rFpe5y5lnQf7",
        "colab_type": "text"
      },
      "cell_type": "markdown",
      "source": [
        "###结果展示"
      ]
    },
    {
      "metadata": {
        "id": "fulGgyJFnTN8",
        "colab_type": "code",
        "colab": {
          "autoexec": {
            "startup": false,
            "wait_interval": 0
          }
        }
      },
      "cell_type": "code",
      "source": [
        "from matplotlib import pyplot \n",
        "from xgboost import plot_importance\n",
        "#plot feature importance\n",
        "ax = plot_importance(model,max_num_features=50)\n",
        "fig = ax.figure\n",
        "fig.set_size_inches(18, 8)\n",
        "pyplot.show()\n",
        "\n",
        "#plot logloss\n",
        "epochs = len(eval_result['train']['logloss'])  \n",
        "x_axis = range(0, epochs)  \n",
        "fig, ax = pyplot.subplots()  \n",
        "ax.plot(x_axis, eval_result['train']['logloss'], label='Train_logloss')  \n",
        "ax.plot(x_axis, eval_result['test']['logloss'], label='Test_logloss')  \n",
        "ax.plot(x_axis, eval_result['train']['auc'], label='Train-auc')  \n",
        "ax.plot(x_axis, eval_result['test']['auc'], label='Test-auc') \n",
        "ax.legend()\n",
        "fig = ax.figure\n",
        "fig.set_size_inches(18, 8)\n",
        "pyplot.ylabel('Loss')  \n",
        "pyplot.xlabel('Iteration Num')  \n",
        "pyplot.title('XGBoost Loss')  \n",
        "pyplot.show()\n"
      ],
      "execution_count": 0,
      "outputs": []
    },
    {
      "metadata": {
        "id": "1Ri1exAAWEfT",
        "colab_type": "text"
      },
      "cell_type": "markdown",
      "source": [
        "###正式训练重新生成特征"
      ]
    },
    {
      "metadata": {
        "id": "60VJlkVLWHgl",
        "colab_type": "code",
        "colab": {
          "autoexec": {
            "startup": false,
            "wait_interval": 0
          }
        }
      },
      "cell_type": "code",
      "source": [
        "train_pd,test_pd = set_item_trade_ratio(train_pd,test_pd)\n",
        "if \"item_trade_ratio\" not in feature_list:\n",
        "  feature_list.append(\"item_trade_ratio\")\n",
        "\n",
        "train_pd,test_pd = set_brand_trade_ratio(train_pd,test_pd)\n",
        "if \"brand_trade_ratio\" not in feature_list:\n",
        "  feature_list.append(\"brand_trade_ratio\")\n",
        "\n",
        "train_pd,test_pd = set_item_city_ratio(train_pd,test_pd)\n",
        "if \"item_city_ratio\" not in feature_list:\n",
        "  feature_list.append(\"item_city_ratio\")\n",
        "\n",
        "if \"shop_review_positive_rate\" not in feature_list:\n",
        "  feature_list.append(\"shop_review_positive_rate\")\n",
        "\n",
        "if \"shop_score_service\" not in feature_list:\n",
        "  feature_list.append(\"shop_score_service\")\n",
        "\n",
        "if \"shop_score_delivery\" not in feature_list:\n",
        "  feature_list.append(\"shop_score_delivery\")\n",
        "\n",
        "if \"shop_score_description\" not in feature_list:\n",
        "  feature_list.append(\"shop_score_description\")\n",
        "\n",
        "train_pd,test_pd = set_gender_brand_ratio(train_pd,test_pd)\n",
        "if \"gender_brand_ratio\" not in feature_list:\n",
        "  feature_list.append(\"gender_brand_ratio\")\n",
        "\n",
        "train_pd,test_pd = set_age_brand_ratio(train_pd,test_pd)\n",
        "if \"age_brand_ratio\" not in feature_list:\n",
        "  feature_list.append(\"age_brand_ratio\")\n",
        "\n",
        "train_pd,test_pd = set_star_price_ratio(train_pd,test_pd)\n",
        "if \"star_price_ratio\" not in feature_list:\n",
        "  feature_list.append(\"star_price_ratio\")\n",
        "\n",
        "train_pd,test_pd = set_occupation_brand_ratio(train_pd,test_pd)\n",
        "if \"occupation_brand_ratio\" not in feature_list:\n",
        "  feature_list.append(\"occupation_brand_ratio\")\n",
        "  \n",
        "train_pd = set_user_query_feature(train_pd)\n",
        "test_pd = set_user_query_feature(test_pd)\n",
        "if \"user_query_day\" not in feature_list:\n",
        "  feature_list.append(\"user_query_day\")\n",
        "if \"user_query_day_hour\" not in feature_list:\n",
        "  feature_list.append(\"user_query_day_hour\")"
      ],
      "execution_count": 0,
      "outputs": []
    },
    {
      "metadata": {
        "id": "WAN5UYfBF67_",
        "colab_type": "text"
      },
      "cell_type": "markdown",
      "source": [
        "###结果预测"
      ]
    },
    {
      "metadata": {
        "id": "GqYXgAP54WCM",
        "colab_type": "code",
        "colab": {
          "autoexec": {
            "startup": false,
            "wait_interval": 0
          },
          "output_extras": [
            {
              "item_id": 28
            }
          ],
          "base_uri": "https://localhost:8080/",
          "height": 521
        },
        "outputId": "c6815855-a562-47f4-94f6-6120a86b84e7",
        "executionInfo": {
          "status": "ok",
          "timestamp": 1521514621021,
          "user_tz": -480,
          "elapsed": 13996,
          "user": {
            "displayName": "姚填佳",
            "photoUrl": "//lh4.googleusercontent.com/-c8yaOIb4NJo/AAAAAAAAAAI/AAAAAAAAACI/2RCS6KOMtQs/s50-c-k-no/photo.jpg",
            "userId": "107989077003671308346"
          }
        }
      },
      "cell_type": "code",
      "source": [
        "#总训练集生成\n",
        "X = train_pd[feature_list].copy()\n",
        "Y = train_pd[\"is_trade\"].copy()\n",
        "train_set = xgb.DMatrix(X,label=Y)\n",
        "#测试集生成\n",
        "X_t = test_pd[feature_list].copy() \n",
        "test_set = xgb.DMatrix(X_t)\n",
        "#训练总模型\n",
        "watchlist = [(train_set,'train')]\n",
        "final_model = xgb.train( param, train_set, limit,watchlist)\n",
        "#预测\n",
        "predict_out = final_model.predict(test_set,ntree_limit=limit)\n",
        "test_pd[\"predicted_score\"] = predict_out\n",
        "result = test_pd[[\"instance_id\",\"predicted_score\"]].copy()"
      ],
      "execution_count": 59,
      "outputs": [
        {
          "output_type": "stream",
          "text": [
            "[0]\ttrain-auc:0.750371\ttrain-logloss:0.564365\n",
            "[1]\ttrain-auc:0.763559\ttrain-logloss:0.468996\n",
            "[2]\ttrain-auc:0.76625\ttrain-logloss:0.395768\n",
            "[3]\ttrain-auc:0.777733\ttrain-logloss:0.338248\n",
            "[4]\ttrain-auc:0.782949\ttrain-logloss:0.292295\n",
            "[5]\ttrain-auc:0.790156\ttrain-logloss:0.255184\n",
            "[6]\ttrain-auc:0.790535\ttrain-logloss:0.224929\n",
            "[7]\ttrain-auc:0.789879\ttrain-logloss:0.200106\n",
            "[8]\ttrain-auc:0.789406\ttrain-logloss:0.179694\n",
            "[9]\ttrain-auc:0.793152\ttrain-logloss:0.162822\n",
            "[10]\ttrain-auc:0.792304\ttrain-logloss:0.148848\n",
            "[11]\ttrain-auc:0.794332\ttrain-logloss:0.137232\n",
            "[12]\ttrain-auc:0.79631\ttrain-logloss:0.12758\n",
            "[13]\ttrain-auc:0.798285\ttrain-logloss:0.119553\n",
            "[14]\ttrain-auc:0.798701\ttrain-logloss:0.112875\n",
            "[15]\ttrain-auc:0.800739\ttrain-logloss:0.107346\n",
            "[16]\ttrain-auc:0.801334\ttrain-logloss:0.102723\n",
            "[17]\ttrain-auc:0.804427\ttrain-logloss:0.098958\n",
            "[18]\ttrain-auc:0.804567\ttrain-logloss:0.095763\n",
            "[19]\ttrain-auc:0.805315\ttrain-logloss:0.093105\n",
            "[20]\ttrain-auc:0.806624\ttrain-logloss:0.090979\n",
            "[21]\ttrain-auc:0.807113\ttrain-logloss:0.089137\n",
            "[22]\ttrain-auc:0.807795\ttrain-logloss:0.087591\n",
            "[23]\ttrain-auc:0.807862\ttrain-logloss:0.086315\n",
            "[24]\ttrain-auc:0.808551\ttrain-logloss:0.08528\n",
            "[25]\ttrain-auc:0.809015\ttrain-logloss:0.084405\n",
            "[26]\ttrain-auc:0.810136\ttrain-logloss:0.083684\n",
            "[27]\ttrain-auc:0.810437\ttrain-logloss:0.083053\n"
          ],
          "name": "stdout"
        }
      ]
    },
    {
      "metadata": {
        "id": "k9Kk--MpJUZN",
        "colab_type": "text"
      },
      "cell_type": "markdown",
      "source": [
        "###结果保存"
      ]
    },
    {
      "metadata": {
        "id": "pp4y3uIAJWMX",
        "colab_type": "code",
        "colab": {
          "autoexec": {
            "startup": false,
            "wait_interval": 0
          },
          "output_extras": [
            {
              "item_id": 1
            }
          ],
          "base_uri": "https://localhost:8080/",
          "height": 35
        },
        "outputId": "5dab1a5e-807c-42f0-adc9-d2f0ccdee058",
        "executionInfo": {
          "status": "ok",
          "timestamp": 1521514694866,
          "user_tz": -480,
          "elapsed": 2681,
          "user": {
            "displayName": "姚填佳",
            "photoUrl": "//lh4.googleusercontent.com/-c8yaOIb4NJo/AAAAAAAAAAI/AAAAAAAAACI/2RCS6KOMtQs/s50-c-k-no/photo.jpg",
            "userId": "107989077003671308346"
          }
        }
      },
      "cell_type": "code",
      "source": [
        "#保存文件\n",
        "time_string = time.strftime('%Y_%m_%d_%H_%M_%S',time.localtime(time.time()+8*3600))\n",
        "file_name = \"drive/Colab_Notebooks/output/\"+time_string+ '_'+str(model.best_score).split(\".\")[1]+\".txt\"\n",
        "result.to_csv(file_name,index=False,sep=\" \",float_format='%.6f')\n",
        "print(file_name)"
      ],
      "execution_count": 61,
      "outputs": [
        {
          "output_type": "stream",
          "text": [
            "drive/Colab_Notebooks/output/2018_03_20_10_58_13_086947.txt\n"
          ],
          "name": "stdout"
        }
      ]
    },
    {
      "metadata": {
        "id": "pWRCoUuCVxwn",
        "colab_type": "code",
        "colab": {
          "autoexec": {
            "startup": false,
            "wait_interval": 0
          }
        }
      },
      "cell_type": "code",
      "source": [
        ""
      ],
      "execution_count": 0,
      "outputs": []
    },
    {
      "metadata": {
        "id": "XLQ_GOGtXdTw",
        "colab_type": "text"
      },
      "cell_type": "markdown",
      "source": [
        "##浅梦版baseline"
      ]
    },
    {
      "metadata": {
        "id": "ZmqtCcfFXhtp",
        "colab_type": "code",
        "colab": {
          "autoexec": {
            "startup": false,
            "wait_interval": 0
          },
          "output_extras": [
            {
              "item_id": 1
            },
            {
              "item_id": 2
            },
            {
              "item_id": 3
            }
          ],
          "base_uri": "https://localhost:8080/",
          "height": 233
        },
        "outputId": "252773e8-f99c-45fa-cc8d-6480d1e9a827",
        "executionInfo": {
          "status": "ok",
          "timestamp": 1521515842467,
          "user_tz": -480,
          "elapsed": 14220,
          "user": {
            "displayName": "姚填佳",
            "photoUrl": "//lh4.googleusercontent.com/-c8yaOIb4NJo/AAAAAAAAAAI/AAAAAAAAACI/2RCS6KOMtQs/s50-c-k-no/photo.jpg",
            "userId": "107989077003671308346"
          }
        }
      },
      "cell_type": "code",
      "source": [
        "import time\n",
        "import pandas as pd\n",
        "import lightgbm as lgb\n",
        "from sklearn.metrics import log_loss\n",
        "\n",
        "\n",
        "def timestamp_datetime(value):\n",
        "    format = '%Y-%m-%d %H:%M:%S'\n",
        "    value = time.localtime(value)\n",
        "    dt = time.strftime(format, value)\n",
        "    return dt\n",
        "\n",
        "\n",
        "def convert_data(data):\n",
        "    data['time'] = data.context_timestamp.apply(timestamp_datetime)\n",
        "    data['day'] = data.time.apply(lambda x: int(x[8:10]))\n",
        "    data['hour'] = data.time.apply(lambda x: int(x[11:13]))\n",
        "    user_query_day = data.groupby(['user_id', 'day']).size(\n",
        "    ).reset_index().rename(columns={0: 'user_query_day'})\n",
        "    data = pd.merge(data, user_query_day, 'left', on=['user_id', 'day'])\n",
        "    user_query_day_hour = data.groupby(['user_id', 'day', 'hour']).size().reset_index().rename(\n",
        "        columns={0: 'user_query_day_hour'})\n",
        "    data = pd.merge(data, user_query_day_hour, 'left',\n",
        "                    on=['user_id', 'day', 'hour'])\n",
        "\n",
        "    return data\n",
        "\n",
        "\n",
        "def generate(train_csv,test_csv):\n",
        "    online = False# 这里用来标记是 线下验证 还是 在线提交\n",
        "\n",
        "    data = train_csv\n",
        "    data.drop_duplicates(inplace=True)\n",
        "    data = convert_data(data)\n",
        "\n",
        "    if online == False:\n",
        "        train = data.loc[data.day < 24]  # 18,19,20,21,22,23,24\n",
        "        test = data.loc[data.day == 24]  # 暂时先使用第24天作为验证集\n",
        "    elif online == True:\n",
        "        train = data.copy()\n",
        "        test = test_csv\n",
        "        test = convert_data(test)\n",
        "\n",
        "    features = ['item_id', 'item_brand_id', 'item_city_id', 'item_price_level', 'item_sales_level',\n",
        "                'item_collected_level', 'item_pv_level', 'user_gender_id', 'user_occupation_id',\n",
        "                'user_age_level', 'user_star_level', 'user_query_day', 'user_query_day_hour',\n",
        "                'context_page_id', 'hour', 'shop_id', 'shop_review_num_level', 'shop_star_level',\n",
        "                'shop_review_positive_rate', 'shop_score_service', 'shop_score_delivery', 'shop_score_description',\n",
        "                ]\n",
        "    target = ['is_trade']\n",
        "\n",
        "    if online == False:\n",
        "        clf = lgb.LGBMClassifier(num_leaves=63, max_depth=7, n_estimators=80, n_jobs=20)\n",
        "        clf.fit(train[features], train[target], feature_name=features,\n",
        "                categorical_feature=['user_gender_id', ])\n",
        "        test['lgb_predict'] = clf.predict_proba(test[features],)[:, 1]\n",
        "        print(log_loss(test[target], test['lgb_predict']))\n",
        "    else:\n",
        "        clf = lgb.LGBMClassifier(num_leaves=63, max_depth=7, n_estimators=80, n_jobs=20)\n",
        "        clf.fit(train[features], train[target],\n",
        "                categorical_feature=['user_gender_id', ])\n",
        "        test['predicted_score'] = clf.predict_proba(test[features])[:, 1]\n",
        "        time_string = time.strftime('%Y_%m_%d_%H_%M_%S',time.localtime(time.time()+8*3600))\n",
        "        file_name = \"drive/Colab_Notebooks/output/\"+time_string+ '_'+str(model.best_score).split(\".\")[1]+\".txt\"\n",
        "        test[['instance_id', 'predicted_score']].to_csv(file_name, index=False,sep=' ')#保存在线提交结果\n",
        "generate(train_csv,test_csv)"
      ],
      "execution_count": 69,
      "outputs": [
        {
          "output_type": "stream",
          "text": [
            "/usr/local/lib/python3.6/dist-packages/sklearn/preprocessing/label.py:95: DataConversionWarning: A column-vector y was passed when a 1d array was expected. Please change the shape of y to (n_samples, ), for example using ravel().\n",
            "  y = column_or_1d(y, warn=True)\n",
            "/usr/local/lib/python3.6/dist-packages/sklearn/preprocessing/label.py:128: DataConversionWarning: A column-vector y was passed when a 1d array was expected. Please change the shape of y to (n_samples, ), for example using ravel().\n",
            "  y = column_or_1d(y, warn=True)\n",
            "/usr/local/lib/python3.6/dist-packages/lightgbm/basic.py:1038: UserWarning: categorical_feature in Dataset is overrided. New categorical_feature is ['user_gender_id']\n",
            "  warnings.warn('categorical_feature in Dataset is overrided. New categorical_feature is {}'.format(sorted(list(categorical_feature))))\n"
          ],
          "name": "stderr"
        },
        {
          "output_type": "stream",
          "text": [
            "0.0814328949107014\n"
          ],
          "name": "stdout"
        },
        {
          "output_type": "stream",
          "text": [
            "/usr/local/lib/python3.6/dist-packages/ipykernel_launcher.py:56: SettingWithCopyWarning: \n",
            "A value is trying to be set on a copy of a slice from a DataFrame.\n",
            "Try using .loc[row_indexer,col_indexer] = value instead\n",
            "\n",
            "See the caveats in the documentation: http://pandas.pydata.org/pandas-docs/stable/indexing.html#indexing-view-versus-copy\n"
          ],
          "name": "stderr"
        }
      ]
    },
    {
      "metadata": {
        "id": "Xly3sAd4YJxn",
        "colab_type": "code",
        "colab": {
          "autoexec": {
            "startup": false,
            "wait_interval": 0
          }
        }
      },
      "cell_type": "code",
      "source": [
        ""
      ],
      "execution_count": 0,
      "outputs": []
    }
  ]
}