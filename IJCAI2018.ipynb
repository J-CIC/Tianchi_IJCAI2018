{
  "nbformat": 4,
  "nbformat_minor": 0,
  "metadata": {
    "colab": {
      "name": "IJCAI2018.ipynb",
      "version": "0.3.2",
      "views": {},
      "default_view": {},
      "provenance": [],
      "collapsed_sections": [
        "UfCpWUolNT0K",
        "kw58uqu7NZ_T",
        "a7t0F3rImqZ3",
        "v5EqtPMum2Zg",
        "MMiwaP28m5PJ",
        "rFpe5y5lnQf7",
        "1Ri1exAAWEfT",
        "WAN5UYfBF67_",
        "k9Kk--MpJUZN"
      ]
    },
    "kernelspec": {
      "name": "python3",
      "display_name": "Python 3"
    },
    "accelerator": "GPU"
  },
  "cells": [
    {
      "metadata": {
        "id": "H8mQML2b3i3w",
        "colab_type": "text"
      },
      "cell_type": "markdown",
      "source": [
        "#环境配置系列"
      ]
    },
    {
      "metadata": {
        "id": "mBsnnqYt3l8-",
        "colab_type": "text"
      },
      "cell_type": "markdown",
      "source": [
        "##配置谷歌环境"
      ]
    },
    {
      "metadata": {
        "id": "Lwy_aL7-3iKt",
        "colab_type": "code",
        "colab": {
          "autoexec": {
            "startup": false,
            "wait_interval": 0
          },
          "output_extras": [
            {
              "item_id": 5
            }
          ],
          "base_uri": "https://localhost:8080/",
          "height": 143
        },
        "outputId": "69b4e6e4-a932-4229-deb7-534957295e95",
        "executionInfo": {
          "status": "ok",
          "timestamp": 1520500484965,
          "user_tz": -480,
          "elapsed": 15778,
          "user": {
            "displayName": "姚填佳",
            "photoUrl": "//lh4.googleusercontent.com/-c8yaOIb4NJo/AAAAAAAAAAI/AAAAAAAAACI/2RCS6KOMtQs/s50-c-k-no/photo.jpg",
            "userId": "107989077003671308346"
          }
        }
      },
      "cell_type": "code",
      "source": [
        "#认证\n",
        "!apt-get install -y -qq software-properties-common python-software-properties module-init-tools\n",
        "!add-apt-repository -y ppa:alessandro-strada/ppa 2>&1 > /dev/null\n",
        "!apt-get update -qq 2>&1 > /dev/null\n",
        "!apt-get -y install -qq google-drive-ocamlfuse fuse\n",
        "from google.colab import auth\n",
        "auth.authenticate_user()\n",
        "from oauth2client.client import GoogleCredentials\n",
        "creds = GoogleCredentials.get_application_default()\n",
        "import getpass\n",
        "!google-drive-ocamlfuse -headless -id={creds.client_id} -secret={creds.client_secret} < /dev/null 2>&1 | grep URL\n",
        "vcode = getpass.getpass()\n",
        "!echo {vcode} | google-drive-ocamlfuse -headless -id={creds.client_id} -secret={creds.client_secret}"
      ],
      "execution_count": 1,
      "outputs": [
        {
          "output_type": "stream",
          "text": [
            "gpg: keybox '/tmp/tmpl0owdwa4/pubring.gpg' created\n",
            "gpg: /tmp/tmpl0owdwa4/trustdb.gpg: trustdb created\n",
            "gpg: key AD5F235DF639B041: public key \"Launchpad PPA for Alessandro Strada\" imported\n",
            "gpg: Total number processed: 1\n",
            "gpg:               imported: 1\n",
            "Warning: apt-key output should not be parsed (stdout is not a terminal)\n",
            "··········\n"
          ],
          "name": "stdout"
        }
      ]
    },
    {
      "metadata": {
        "id": "9n4unveV3afh",
        "colab_type": "code",
        "colab": {
          "autoexec": {
            "startup": false,
            "wait_interval": 0
          }
        }
      },
      "cell_type": "code",
      "source": [
        "#挂载云盘\n",
        "!mkdir -p drive\n",
        "!google-drive-ocamlfuse drive  -o nonempty"
      ],
      "execution_count": 0,
      "outputs": []
    },
    {
      "metadata": {
        "id": "boWmvYN_3tJW",
        "colab_type": "text"
      },
      "cell_type": "markdown",
      "source": [
        "##编程环境"
      ]
    },
    {
      "metadata": {
        "id": "iD94nLW-3r5l",
        "colab_type": "code",
        "colab": {
          "autoexec": {
            "startup": false,
            "wait_interval": 0
          },
          "output_extras": [
            {
              "item_id": 1
            }
          ],
          "base_uri": "https://localhost:8080/",
          "height": 71
        },
        "outputId": "b41bccc0-9aee-4a12-d8c4-da9cd1a609ec",
        "executionInfo": {
          "status": "ok",
          "timestamp": 1520500489559,
          "user_tz": -480,
          "elapsed": 2165,
          "user": {
            "displayName": "姚填佳",
            "photoUrl": "//lh4.googleusercontent.com/-c8yaOIb4NJo/AAAAAAAAAAI/AAAAAAAAACI/2RCS6KOMtQs/s50-c-k-no/photo.jpg",
            "userId": "107989077003671308346"
          }
        }
      },
      "cell_type": "code",
      "source": [
        "!pip install xgboost\n",
        "import xgboost as xgb\n",
        "import pandas as pd\n",
        "import numpy as np"
      ],
      "execution_count": 3,
      "outputs": [
        {
          "output_type": "stream",
          "text": [
            "Requirement already satisfied: xgboost in /usr/local/lib/python3.6/dist-packages\r\n",
            "Requirement already satisfied: scipy in /usr/local/lib/python3.6/dist-packages (from xgboost)\r\n",
            "Requirement already satisfied: numpy in /usr/local/lib/python3.6/dist-packages (from xgboost)\r\n"
          ],
          "name": "stdout"
        }
      ]
    },
    {
      "metadata": {
        "id": "9zaP8KGi31d8",
        "colab_type": "text"
      },
      "cell_type": "markdown",
      "source": [
        "##读取数据及初始处理"
      ]
    },
    {
      "metadata": {
        "id": "_NVd9Hu430sd",
        "colab_type": "code",
        "colab": {
          "autoexec": {
            "startup": false,
            "wait_interval": 0
          },
          "output_extras": [
            {
              "item_id": 1
            }
          ],
          "base_uri": "https://localhost:8080/",
          "height": 35
        },
        "outputId": "88cc9034-ff6e-46dd-ea94-0a9799d06ba9",
        "executionInfo": {
          "status": "ok",
          "timestamp": 1520500512706,
          "user_tz": -480,
          "elapsed": 23076,
          "user": {
            "displayName": "姚填佳",
            "photoUrl": "//lh4.googleusercontent.com/-c8yaOIb4NJo/AAAAAAAAAAI/AAAAAAAAACI/2RCS6KOMtQs/s50-c-k-no/photo.jpg",
            "userId": "107989077003671308346"
          }
        }
      },
      "cell_type": "code",
      "source": [
        "#读取数据\n",
        "train_csv = pd.read_csv(\"drive/Colab_Notebooks/data/round1_ijcai_18_train_20180301.txt\",\" \")\n",
        "test_csv = pd.read_csv(\"drive/Colab_Notebooks/data/round1_ijcai_18_test_a_20180301.txt\",\" \")\n",
        "print(len(train_csv),len(test_csv))"
      ],
      "execution_count": 4,
      "outputs": [
        {
          "output_type": "stream",
          "text": [
            "478138 18371\n"
          ],
          "name": "stdout"
        }
      ]
    },
    {
      "metadata": {
        "id": "Aq9iUrVz37LF",
        "colab_type": "code",
        "colab": {
          "autoexec": {
            "startup": false,
            "wait_interval": 0
          },
          "output_extras": [
            {
              "item_id": 2
            }
          ],
          "base_uri": "https://localhost:8080/",
          "height": 233
        },
        "outputId": "5e555600-b130-4dab-8a81-5c959118debf",
        "executionInfo": {
          "status": "ok",
          "timestamp": 1520500515295,
          "user_tz": -480,
          "elapsed": 2537,
          "user": {
            "displayName": "姚填佳",
            "photoUrl": "//lh4.googleusercontent.com/-c8yaOIb4NJo/AAAAAAAAAAI/AAAAAAAAACI/2RCS6KOMtQs/s50-c-k-no/photo.jpg",
            "userId": "107989077003671308346"
          }
        }
      },
      "cell_type": "code",
      "source": [
        "train_pd = train_csv.drop_duplicates(\"instance_id\").copy()\n",
        "test_pd = test_csv.drop_duplicates(\"instance_id\").copy()\n",
        "print(len(train_csv),len(test_csv))\n",
        "#补充时间数据\n",
        "import time\n",
        "train_pd['day']=train_pd.context_timestamp.apply(lambda x:time.strftime(\"%Y-%m-%d\",time.localtime(x+3600*8)))\n",
        "train_pd['hour']=train_pd.context_timestamp.apply(lambda x:time.strftime(\"%H\",time.localtime(x+3600*8)))\n",
        "test_pd['day']=test_pd.context_timestamp.apply(lambda x:time.strftime(\"%Y-%m-%d\",time.localtime(x+3600*8)))\n",
        "test_pd['hour']=test_pd.context_timestamp.apply(lambda x:time.strftime(\"%H\",time.localtime(x+3600*8)))\n",
        "#展示列名\n",
        "print(\"columns length:\",len(train_pd.columns))\n",
        "print(\"列名：\",train_pd.columns)\n",
        "#时间列\n",
        "train_time_list = sorted(train_pd[\"day\"].unique())\n",
        "print(\"时间序列：\",train_time_list)"
      ],
      "execution_count": 5,
      "outputs": [
        {
          "output_type": "stream",
          "text": [
            "478138 18371\n",
            "columns length: 29\n",
            "列名： Index(['instance_id', 'item_id', 'item_category_list', 'item_property_list',\n",
            "       'item_brand_id', 'item_city_id', 'item_price_level', 'item_sales_level',\n",
            "       'item_collected_level', 'item_pv_level', 'user_id', 'user_gender_id',\n",
            "       'user_age_level', 'user_occupation_id', 'user_star_level', 'context_id',\n",
            "       'context_timestamp', 'context_page_id', 'predict_category_property',\n",
            "       'shop_id', 'shop_review_num_level', 'shop_review_positive_rate',\n",
            "       'shop_star_level', 'shop_score_service', 'shop_score_delivery',\n",
            "       'shop_score_description', 'is_trade', 'day', 'hour'],\n",
            "      dtype='object')\n",
            "时间序列： ['2018-09-18', '2018-09-19', '2018-09-20', '2018-09-21', '2018-09-22', '2018-09-23', '2018-09-24']\n"
          ],
          "name": "stdout"
        }
      ]
    },
    {
      "metadata": {
        "id": "cUcI39rd4AfM",
        "colab_type": "text"
      },
      "cell_type": "markdown",
      "source": [
        "#特征尝试和验证"
      ]
    },
    {
      "metadata": {
        "id": "dDL9jwOD5vuN",
        "colab_type": "code",
        "colab": {
          "autoexec": {
            "startup": false,
            "wait_interval": 0
          }
        }
      },
      "cell_type": "code",
      "source": [
        "train_pd = train_csv.drop_duplicates(\"instance_id\").copy()\n",
        "test_pd = test_csv.drop_duplicates(\"instance_id\").copy()\n",
        "\n",
        "#补充时间数据\n",
        "import time\n",
        "train_pd['day']=train_pd.context_timestamp.apply(lambda x:time.strftime(\"%Y-%m-%d\",time.localtime(x+3600*8)))\n",
        "train_pd['hour']=train_pd.context_timestamp.apply(lambda x:time.strftime(\"%H\",time.localtime(x+3600*8)))\n",
        "test_pd['day']=test_pd.context_timestamp.apply(lambda x:time.strftime(\"%Y-%m-%d\",time.localtime(x+3600*8)))\n",
        "test_pd['hour']=test_pd.context_timestamp.apply(lambda x:time.strftime(\"%H\",time.localtime(x+3600*8)))\n",
        "\n",
        "feature_list = []\n",
        "all_data = pd.concat([train_pd,test_pd])\n",
        "all_data[\"category\"] =  list(map(lambda x:x.split(\";\")[1],all_data[\"item_category_list\"]))\n",
        "# feature_one_hot = pd.get_dummies(\n",
        "#     all_data[[\"category\",\"item_price_level\",\"user_age_level\"]],\n",
        "#     columns=[\"category\",\"item_price_level\",\"user_age_level\"],\n",
        "#     prefix=[\"category\",\"price_level\",\"age_level\"]\n",
        "# )\n",
        "# #测试后发现item_pv_level贡献很小，且带来太多维度，舍弃\n",
        "# feature_list += list(feature_one_hot.columns)\n",
        "# all_data = pd.concat([all_data,feature_one_hot],axis=1)\n",
        "\n",
        "\n",
        "#重新替换train_pd，test_pd\n",
        "train_pd = all_data[:len(train_pd)]\n",
        "test_pd = all_data[len(train_pd):]\n",
        "\n",
        "#分割线下测试和训练集\n",
        "train_m = train_pd[(train_pd[\"day\"]>='2018-09-18')&(train_pd[\"day\"]<='2018-09-22')]\n",
        "test_m = train_pd[(train_pd[\"day\"]>='2018-09-23')]\n",
        "\n",
        "\n",
        "\n"
      ],
      "execution_count": 0,
      "outputs": []
    },
    {
      "metadata": {
        "id": "zvdWlgYuNkfl",
        "colab_type": "text"
      },
      "cell_type": "markdown",
      "source": [
        "###双特征"
      ]
    },
    {
      "metadata": {
        "id": "e3rSRm54NtVc",
        "colab_type": "code",
        "colab": {
          "autoexec": {
            "startup": false,
            "wait_interval": 0
          }
        }
      },
      "cell_type": "code",
      "source": [
        "######################双特征算出的trade_ratio###########################\n",
        "\n",
        "def set_gender_brand_ratio(train_df,test_df):\n",
        "  ret = train_df[[\"user_gender_id\",\"item_brand_id\",\"is_trade\"]].copy()\n",
        "  pv_level_ratio_pd = (ret.groupby([\"user_gender_id\",\"item_brand_id\"]).sum()[\"is_trade\"])/\\\n",
        "    (ret.groupby([\"user_gender_id\",\"item_brand_id\"]).count()[\"is_trade\"])\n",
        "  trade_ratio_pd = pv_level_ratio_pd.reset_index(drop=False).rename(columns={\"is_trade\":\"gender_brand_ratio\"})\n",
        "  na_value = 0\n",
        "  train_df = pd.merge(train_df,trade_ratio_pd,on=[\"user_gender_id\",\"item_brand_id\"],how=\"left\").fillna(na_value)\n",
        "  test_df = pd.merge(test_df,trade_ratio_pd,on=[\"user_gender_id\",\"item_brand_id\"],how=\"left\").fillna(na_value)\n",
        "  return train_df,test_df\n",
        "train_m,test_m = set_gender_brand_ratio(train_m,test_m)\n",
        "if \"gender_brand_ratio\" not in feature_list:\n",
        "  feature_list.append(\"gender_brand_ratio\")"
      ],
      "execution_count": 0,
      "outputs": []
    },
    {
      "metadata": {
        "id": "UfCpWUolNT0K",
        "colab_type": "text"
      },
      "cell_type": "markdown",
      "source": [
        "###单特征"
      ]
    },
    {
      "metadata": {
        "id": "eF-V4yKINYq5",
        "colab_type": "code",
        "colab": {
          "autoexec": {
            "startup": false,
            "wait_interval": 0
          }
        }
      },
      "cell_type": "code",
      "source": [
        "##################单特征或单特征的trade_ratio###########################\n",
        "\n",
        "# def set_item_trade_ratio(train_df,test_df):\n",
        "#   ret = train_df[[\"item_id\",\"is_trade\"]].copy()\n",
        "#   item_trade_ratio_pd = (ret.groupby(\"item_id\").sum()[\"is_trade\"])/\\\n",
        "#     (ret.groupby(\"item_id\").count()[\"is_trade\"])\n",
        "#   trade_ratio_pd = item_trade_ratio_pd.reset_index(drop=False).rename(columns={\"is_trade\":\"item_trade_ratio\"})\n",
        "#   na_value = 0\n",
        "#   train_df = pd.merge(train_df,trade_ratio_pd,on=\"item_id\",how=\"left\").fillna(na_value)\n",
        "#   test_df = pd.merge(test_df,trade_ratio_pd,on=\"item_id\",how=\"left\").fillna(na_value)\n",
        "#   return train_df,test_df\n",
        "# train_m,test_m = set_item_trade_ratio(train_m,test_m)\n",
        "# if \"item_trade_ratio\" not in feature_list:\n",
        "#   feature_list.append(\"item_trade_ratio\")\n",
        "\n",
        "# def set_brand_trade_ratio(train_df,test_df):\n",
        "#   ret = train_df[[\"item_brand_id\",\"is_trade\"]].copy()\n",
        "#   brand_trade_ratio_pd = (ret.groupby(\"item_brand_id\").sum()[\"is_trade\"])/\\\n",
        "#     (ret.groupby(\"item_brand_id\").count()[\"is_trade\"])\n",
        "#   trade_ratio_pd = brand_trade_ratio_pd.reset_index(drop=False).rename(columns={\"is_trade\":\"brand_trade_ratio\"})\n",
        "#   na_value = 0\n",
        "#   train_df = pd.merge(train_df,trade_ratio_pd,on=\"item_brand_id\",how=\"left\").fillna(na_value)\n",
        "#   test_df = pd.merge(test_df,trade_ratio_pd,on=\"item_brand_id\",how=\"left\").fillna(na_value)\n",
        "#   return train_df,test_df\n",
        "# train_m,test_m = set_brand_trade_ratio(train_m,test_m)\n",
        "# if \"brand_trade_ratio\" not in feature_list:\n",
        "#   feature_list.append(\"brand_trade_ratio\")\n",
        "\n",
        "# def set_item_city_ratio(train_df,test_df):\n",
        "#   ret = train_df[[\"item_city_id\",\"is_trade\"]].copy()\n",
        "#   item_city_ratio_pd = (ret.groupby(\"item_city_id\").sum()[\"is_trade\"])/\\\n",
        "#     (ret.groupby(\"item_city_id\").count()[\"is_trade\"])\n",
        "#   trade_ratio_pd = item_city_ratio_pd.reset_index(drop=False).rename(columns={\"is_trade\":\"item_city_ratio\"})\n",
        "#   na_value = 0\n",
        "#   train_df = pd.merge(train_df,trade_ratio_pd,on=\"item_city_id\",how=\"left\").fillna(na_value)\n",
        "#   test_df = pd.merge(test_df,trade_ratio_pd,on=\"item_city_id\",how=\"left\").fillna(na_value)\n",
        "#   return train_df,test_df\n",
        "# train_m,test_m = set_item_city_ratio(train_m,test_m)\n",
        "# if \"item_city_ratio\" not in feature_list:\n",
        "#   feature_list.append(\"item_city_ratio\")\n",
        "\n",
        "# def scale_to_one(train_df,test_df,column):\n",
        "#   all_df = pd.concat([train_df,test_df])\n",
        "#   all_df[column] = (all_df[column]-all_df[column].min()) / (all_df[column].max()-all_df[column].min())\n",
        "#   train_df = all_df[:len(train_df)]\n",
        "#   test_df = all_df[len(test_df):]\n",
        "#   return train_df,test_df\n",
        "  \n",
        "# if \"shop_review_positive_rate\" not in feature_list:\n",
        "#   feature_list.append(\"shop_review_positive_rate\")\n",
        "\n",
        "# if \"shop_score_service\" not in feature_list:\n",
        "#   feature_list.append(\"shop_score_service\")\n",
        "\n",
        "# if \"shop_score_delivery\" not in feature_list:\n",
        "#   feature_list.append(\"shop_score_delivery\")\n",
        "\n",
        "# if \"shop_score_description\" not in feature_list:\n",
        "#   feature_list.append(\"shop_score_description\")"
      ],
      "execution_count": 0,
      "outputs": []
    },
    {
      "metadata": {
        "id": "kw58uqu7NZ_T",
        "colab_type": "text"
      },
      "cell_type": "markdown",
      "source": [
        "###贡献过小，AUC低于55的特征"
      ]
    },
    {
      "metadata": {
        "id": "dovNioZTNdpM",
        "colab_type": "code",
        "colab": {
          "autoexec": {
            "startup": false,
            "wait_interval": 0
          }
        }
      },
      "cell_type": "code",
      "source": [
        "#################综合后贡献不大，去掉提升的特征#####################\n",
        "\n",
        "# def set_item_price_ratio(train_df,test_df):\n",
        "#   ret = train_df[[\"item_price_level\",\"is_trade\"]].copy()\n",
        "#   item_price_ratio_pd = (ret.groupby(\"item_price_level\").sum()[\"is_trade\"])/\\\n",
        "#     (ret.groupby(\"item_price_level\").count()[\"is_trade\"])\n",
        "#   trade_ratio_pd = item_price_ratio_pd.reset_index(drop=False).rename(columns={\"is_trade\":\"item_price_ratio\"})\n",
        "#   na_value = 0\n",
        "#   train_df = pd.merge(train_df,trade_ratio_pd,on=\"item_price_level\",how=\"left\").fillna(na_value)\n",
        "#   test_df = pd.merge(test_df,trade_ratio_pd,on=\"item_price_level\",how=\"left\").fillna(na_value)\n",
        "#   return train_df,test_df\n",
        "# train_m,test_m = set_item_price_ratio(train_m,test_m)\n",
        "# if \"item_price_ratio\" not in feature_list:\n",
        "#   feature_list.append(\"item_price_ratio\")\n",
        "\n",
        "# def set_item_sales_ratio(train_df,test_df):\n",
        "#   ret = train_df[[\"item_sales_level\",\"is_trade\"]].copy()\n",
        "#   item_sales_ratio_pd = (ret.groupby(\"item_sales_level\").sum()[\"is_trade\"])/\\\n",
        "#     (ret.groupby(\"item_sales_level\").count()[\"is_trade\"])\n",
        "#   trade_ratio_pd = item_sales_ratio_pd.reset_index(drop=False).rename(columns={\"is_trade\":\"item_sales_ratio\"})\n",
        "#   na_value = 0\n",
        "#   train_df = pd.merge(train_df,trade_ratio_pd,on=\"item_sales_level\",how=\"left\").fillna(na_value)\n",
        "#   test_df = pd.merge(test_df,trade_ratio_pd,on=\"item_sales_level\",how=\"left\").fillna(na_value)\n",
        "#   return train_df,test_df\n",
        "# train_m,test_m = set_item_sales_ratio(train_m,test_m)\n",
        "# if \"item_sales_ratio\" not in feature_list:\n",
        "#   feature_list.append(\"item_sales_ratio\")\n",
        "\n",
        "#####################AUC低于55的特征#########################\n",
        "\n",
        "\n",
        "# def set_item_collected_ratio(train_df,test_df):\n",
        "#   ret = train_df[[\"item_collected_level\",\"is_trade\"]].copy()\n",
        "#   item_collected_ratio_pd = (ret.groupby(\"item_collected_level\").sum()[\"is_trade\"])/\\\n",
        "#     (ret.groupby(\"item_collected_level\").count()[\"is_trade\"])\n",
        "#   trade_ratio_pd = item_collected_ratio_pd.reset_index(drop=False).rename(columns={\"is_trade\":\"item_collected_ratio\"})\n",
        "#   na_value = 0\n",
        "#   train_df = pd.merge(train_df,trade_ratio_pd,on=\"item_collected_level\",how=\"left\").fillna(na_value)\n",
        "#   test_df = pd.merge(test_df,trade_ratio_pd,on=\"item_collected_level\",how=\"left\").fillna(na_value)\n",
        "#   return train_df,test_df\n",
        "# train_m,test_m = set_item_collected_ratio(train_m,test_m)\n",
        "# if \"item_collected_ratio\" not in feature_list:\n",
        "#   feature_list.append(\"item_collected_ratio\")\n",
        "\n",
        "\n",
        "# def set_shop_star_ratio(train_df,test_df):\n",
        "#   ret = train_df[[\"shop_star_level\",\"is_trade\"]].copy()\n",
        "#   shop_star_ratio_pd = (ret.groupby(\"shop_star_level\").sum()[\"is_trade\"])/\\\n",
        "#     (ret.groupby(\"shop_star_level\").count()[\"is_trade\"])\n",
        "#   trade_ratio_pd = shop_star_ratio_pd.reset_index(drop=False).rename(columns={\"is_trade\":\"shop_star_ratio\"})\n",
        "#   na_value = 0\n",
        "#   train_df = pd.merge(train_df,trade_ratio_pd,on=\"shop_star_level\",how=\"left\").fillna(na_value)\n",
        "#   test_df = pd.merge(test_df,trade_ratio_pd,on=\"shop_star_level\",how=\"left\").fillna(na_value)\n",
        "#   return train_df,test_df\n",
        "# train_m,test_m = set_shop_star_ratio(train_m,test_m)\n",
        "# if \"shop_star_ratio\" not in feature_list:\n",
        "#   feature_list.append(\"shop_star_ratio\")\n",
        "\n",
        "# def set_pv_level_ratio(train_df,test_df):\n",
        "#   ret = train_df[[\"item_pv_level\",\"is_trade\"]].copy()\n",
        "#   pv_level_ratio_pd = (ret.groupby(\"item_pv_level\").sum()[\"is_trade\"])/\\\n",
        "#     (ret.groupby(\"item_pv_level\").count()[\"is_trade\"])\n",
        "#   trade_ratio_pd = pv_level_ratio_pd.reset_index(drop=False).rename(columns={\"is_trade\":\"pv_level_ratio\"})\n",
        "#   na_value = 0\n",
        "#   train_df = pd.merge(train_df,trade_ratio_pd,on=\"item_pv_level\",how=\"left\").fillna(na_value)\n",
        "#   test_df = pd.merge(test_df,trade_ratio_pd,on=\"item_pv_level\",how=\"left\").fillna(na_value)\n",
        "#   return train_df,test_df\n",
        "# train_m,test_m = set_pv_level_ratio(train_m,test_m)\n",
        "# if \"pv_level_ratio\" not in feature_list:\n",
        "#   feature_list.append(\"pv_level_ratio\")"
      ],
      "execution_count": 0,
      "outputs": []
    },
    {
      "metadata": {
        "id": "YCt_qIwq5M6b",
        "colab_type": "text"
      },
      "cell_type": "markdown",
      "source": [
        "##验证"
      ]
    },
    {
      "metadata": {
        "id": "fE4hHdvy5iz3",
        "colab_type": "code",
        "colab": {
          "autoexec": {
            "startup": false,
            "wait_interval": 0
          },
          "output_extras": [
            {
              "item_id": 14
            },
            {
              "item_id": 22
            },
            {
              "item_id": 23
            },
            {
              "item_id": 24
            }
          ],
          "base_uri": "https://localhost:8080/",
          "height": 2340
        },
        "cellView": "code",
        "outputId": "6973e23b-5f58-4fe4-aa84-dd1825f4d941",
        "executionInfo": {
          "status": "ok",
          "timestamp": 1520505713472,
          "user_tz": -480,
          "elapsed": 7116,
          "user": {
            "displayName": "姚填佳",
            "photoUrl": "//lh4.googleusercontent.com/-c8yaOIb4NJo/AAAAAAAAAAI/AAAAAAAAACI/2RCS6KOMtQs/s50-c-k-no/photo.jpg",
            "userId": "107989077003671308346"
          }
        }
      },
      "cell_type": "code",
      "source": [
        "#alpha 30, lambda 15, gamma 2\n",
        "param = {}\n",
        "param[\"eta\"] = 0.25\n",
        "param[\"min_child_weight\"] = 1\n",
        "param[\"max_depth\"] = 3\n",
        "param[\"lambda\"] = 15 #控制模型复杂度的权重值的L2正则化项参数，参数越大，模型越不容易过拟合。 默认1\n",
        "param[\"alpha\"] = 4 #控制模型复杂程度的权重值的 L1 正则项参数，参数值越大，模型越不容易过拟合。 默认0\n",
        "param[\"gamma\"] = 1 # 用于控制是否后剪枝的参数,越大越保守，一般0.1、0.2这样子。\n",
        "param[\"subsample\"]=0.8\n",
        "param[\"colsample_bytree\"]=0.8\n",
        "param[\"objective\"] = \"binary:logistic\"\n",
        "param[\"eval_metric\"]=[ \"auc\",\"logloss\"]#error,logloss,auc\n",
        "param[\"silent\"] = 1\n",
        "num_round = 500\n",
        "eval_result={}\n",
        "\n",
        "X = train_m[feature_list].copy()\n",
        "Y = train_m[\"is_trade\"].copy()\n",
        "train_set = xgb.DMatrix(X,label=Y)\n",
        "X_t = test_m[feature_list].copy()\n",
        "Y_t = test_m[\"is_trade\"].copy()\n",
        "test_set = xgb.DMatrix(X_t,label=Y_t)\n",
        "watchlist = [(train_set,'train'), (test_set, 'test')]\n",
        "model = xgb.train( param, train_set, num_round, watchlist,verbose_eval=True,evals_result=eval_result,early_stopping_rounds=int(0.1*num_round))\n",
        "limit = model.best_ntree_limit\n",
        "\n",
        "from matplotlib import pyplot \n",
        "from xgboost import plot_importance\n",
        "#plot feature importance\n",
        "ax = plot_importance(model,max_num_features=50)\n",
        "fig = ax.figure\n",
        "fig.set_size_inches(18, 8)\n",
        "pyplot.show()\n",
        "\n",
        "#plot logloss\n",
        "epochs = len(eval_result['train']['logloss'])  \n",
        "x_axis = range(0, epochs)  \n",
        "fig, ax = pyplot.subplots()  \n",
        "ax.plot(x_axis, eval_result['train']['logloss'], label='Train_logloss')  \n",
        "ax.plot(x_axis, eval_result['test']['logloss'], label='Test_logloss')  \n",
        "ax.plot(x_axis, eval_result['train']['auc'], label='Train-auc')  \n",
        "ax.plot(x_axis, eval_result['test']['auc'], label='Test-auc') \n",
        "ax.legend()\n",
        "fig = ax.figure\n",
        "fig.set_size_inches(18, 8)\n",
        "pyplot.ylabel('Loss')  \n",
        "pyplot.xlabel('Iteration Num')  \n",
        "pyplot.title('XGBoost Loss')  \n",
        "pyplot.show()\n"
      ],
      "execution_count": 76,
      "outputs": [
        {
          "output_type": "stream",
          "text": [
            "[0]\ttrain-auc:0.674747\ttrain-logloss:0.490703\ttest-auc:0.590346\ttest-logloss:0.489727\n",
            "Multiple eval metrics have been passed: 'test-logloss' will be used for early stopping.\n",
            "\n",
            "Will train until test-logloss hasn't improved in 50 rounds.\n",
            "[1]\ttrain-auc:0.700724\ttrain-logloss:0.367958\ttest-auc:0.607025\ttest-logloss:0.366223\n",
            "[2]\ttrain-auc:0.70117\ttrain-logloss:0.286641\ttest-auc:0.607381\ttest-logloss:0.28431\n",
            "[3]\ttrain-auc:0.704661\ttrain-logloss:0.230402\ttest-auc:0.609818\ttest-logloss:0.227572\n",
            "[4]\ttrain-auc:0.710204\ttrain-logloss:0.190523\ttest-auc:0.612571\ttest-logloss:0.187265\n",
            "[5]\ttrain-auc:0.718885\ttrain-logloss:0.161876\ttest-auc:0.615494\ttest-logloss:0.158258\n",
            "[6]\ttrain-auc:0.71921\ttrain-logloss:0.141157\ttest-auc:0.615401\ttest-logloss:0.137263\n",
            "[7]\ttrain-auc:0.722981\ttrain-logloss:0.126141\ttest-auc:0.613794\ttest-logloss:0.122077\n",
            "[8]\ttrain-auc:0.723358\ttrain-logloss:0.115254\ttest-auc:0.614036\ttest-logloss:0.11107\n",
            "[9]\ttrain-auc:0.723632\ttrain-logloss:0.107378\ttest-auc:0.614551\ttest-logloss:0.103145\n",
            "[10]\ttrain-auc:0.72402\ttrain-logloss:0.101747\ttest-auc:0.614197\ttest-logloss:0.097545\n",
            "[11]\ttrain-auc:0.724301\ttrain-logloss:0.097738\ttest-auc:0.613737\ttest-logloss:0.093623\n",
            "[12]\ttrain-auc:0.724312\ttrain-logloss:0.094905\ttest-auc:0.613719\ttest-logloss:0.090951\n",
            "[13]\ttrain-auc:0.724419\ttrain-logloss:0.092904\ttest-auc:0.613962\ttest-logloss:0.089161\n",
            "[14]\ttrain-auc:0.724484\ttrain-logloss:0.09149\ttest-auc:0.613867\ttest-logloss:0.087995\n",
            "[15]\ttrain-auc:0.724487\ttrain-logloss:0.090503\ttest-auc:0.613844\ttest-logloss:0.087277\n",
            "[16]\ttrain-auc:0.724556\ttrain-logloss:0.089815\ttest-auc:0.613704\ttest-logloss:0.086901\n",
            "[17]\ttrain-auc:0.72464\ttrain-logloss:0.089334\ttest-auc:0.613382\ttest-logloss:0.086763\n",
            "[18]\ttrain-auc:0.724661\ttrain-logloss:0.088997\ttest-auc:0.613432\ttest-logloss:0.086774\n",
            "[19]\ttrain-auc:0.724663\ttrain-logloss:0.088774\ttest-auc:0.613433\ttest-logloss:0.08688\n",
            "[20]\ttrain-auc:0.724666\ttrain-logloss:0.08861\ttest-auc:0.613457\ttest-logloss:0.087084\n",
            "[21]\ttrain-auc:0.724671\ttrain-logloss:0.088492\ttest-auc:0.613441\ttest-logloss:0.087312\n",
            "[22]\ttrain-auc:0.72468\ttrain-logloss:0.088406\ttest-auc:0.613456\ttest-logloss:0.087575\n",
            "[23]\ttrain-auc:0.724693\ttrain-logloss:0.088338\ttest-auc:0.613315\ttest-logloss:0.087844\n",
            "[24]\ttrain-auc:0.724699\ttrain-logloss:0.088291\ttest-auc:0.613343\ttest-logloss:0.088113\n",
            "[25]\ttrain-auc:0.724702\ttrain-logloss:0.088254\ttest-auc:0.613367\ttest-logloss:0.088388\n",
            "[26]\ttrain-auc:0.724703\ttrain-logloss:0.088228\ttest-auc:0.613387\ttest-logloss:0.08866\n",
            "[27]\ttrain-auc:0.724707\ttrain-logloss:0.088204\ttest-auc:0.613413\ttest-logloss:0.088899\n",
            "[28]\ttrain-auc:0.724708\ttrain-logloss:0.088187\ttest-auc:0.613424\ttest-logloss:0.089143\n",
            "[29]\ttrain-auc:0.724708\ttrain-logloss:0.088174\ttest-auc:0.613424\ttest-logloss:0.089372\n",
            "[30]\ttrain-auc:0.724708\ttrain-logloss:0.088162\ttest-auc:0.613442\ttest-logloss:0.089596\n",
            "[31]\ttrain-auc:0.724709\ttrain-logloss:0.088154\ttest-auc:0.613437\ttest-logloss:0.089715\n",
            "[32]\ttrain-auc:0.72471\ttrain-logloss:0.088149\ttest-auc:0.613438\ttest-logloss:0.089826\n",
            "[33]\ttrain-auc:0.72471\ttrain-logloss:0.088143\ttest-auc:0.613438\ttest-logloss:0.090026\n",
            "[34]\ttrain-auc:0.72471\ttrain-logloss:0.088138\ttest-auc:0.613438\ttest-logloss:0.090181\n",
            "[35]\ttrain-auc:0.72471\ttrain-logloss:0.088132\ttest-auc:0.613438\ttest-logloss:0.090354\n",
            "[36]\ttrain-auc:0.72471\ttrain-logloss:0.088129\ttest-auc:0.613433\ttest-logloss:0.090492\n",
            "[37]\ttrain-auc:0.72471\ttrain-logloss:0.088125\ttest-auc:0.613437\ttest-logloss:0.090617\n",
            "[38]\ttrain-auc:0.72471\ttrain-logloss:0.088123\ttest-auc:0.613437\ttest-logloss:0.090723\n",
            "[39]\ttrain-auc:0.72471\ttrain-logloss:0.088121\ttest-auc:0.613436\ttest-logloss:0.090837\n",
            "[40]\ttrain-auc:0.72471\ttrain-logloss:0.088118\ttest-auc:0.613436\ttest-logloss:0.090954\n",
            "[41]\ttrain-auc:0.72471\ttrain-logloss:0.088117\ttest-auc:0.613435\ttest-logloss:0.091068\n",
            "[42]\ttrain-auc:0.72471\ttrain-logloss:0.088116\ttest-auc:0.613435\ttest-logloss:0.091086\n",
            "[43]\ttrain-auc:0.724712\ttrain-logloss:0.088115\ttest-auc:0.613432\ttest-logloss:0.091186\n",
            "[44]\ttrain-auc:0.724723\ttrain-logloss:0.088115\ttest-auc:0.613356\ttest-logloss:0.091202\n"
          ],
          "name": "stdout"
        },
        {
          "output_type": "stream",
          "text": [
            "[45]\ttrain-auc:0.724723\ttrain-logloss:0.088115\ttest-auc:0.613356\ttest-logloss:0.091201\n",
            "[46]\ttrain-auc:0.724723\ttrain-logloss:0.088115\ttest-auc:0.613356\ttest-logloss:0.091203\n",
            "[47]\ttrain-auc:0.724723\ttrain-logloss:0.088115\ttest-auc:0.613356\ttest-logloss:0.091203\n",
            "[48]\ttrain-auc:0.724723\ttrain-logloss:0.088115\ttest-auc:0.61336\ttest-logloss:0.091193\n",
            "[49]\ttrain-auc:0.724723\ttrain-logloss:0.088115\ttest-auc:0.61336\ttest-logloss:0.091192\n",
            "[50]\ttrain-auc:0.724724\ttrain-logloss:0.088114\ttest-auc:0.613319\ttest-logloss:0.09128\n",
            "[51]\ttrain-auc:0.724724\ttrain-logloss:0.088114\ttest-auc:0.613319\ttest-logloss:0.091279\n",
            "[52]\ttrain-auc:0.724724\ttrain-logloss:0.088114\ttest-auc:0.613319\ttest-logloss:0.09128\n",
            "[53]\ttrain-auc:0.724723\ttrain-logloss:0.088112\ttest-auc:0.613322\ttest-logloss:0.09137\n",
            "[54]\ttrain-auc:0.724723\ttrain-logloss:0.088112\ttest-auc:0.613322\ttest-logloss:0.091367\n",
            "[55]\ttrain-auc:0.724723\ttrain-logloss:0.088112\ttest-auc:0.613322\ttest-logloss:0.09137\n",
            "[56]\ttrain-auc:0.724723\ttrain-logloss:0.088112\ttest-auc:0.613322\ttest-logloss:0.091368\n",
            "[57]\ttrain-auc:0.724723\ttrain-logloss:0.088111\ttest-auc:0.613333\ttest-logloss:0.091398\n",
            "[58]\ttrain-auc:0.724723\ttrain-logloss:0.088111\ttest-auc:0.613333\ttest-logloss:0.091401\n",
            "[59]\ttrain-auc:0.724722\ttrain-logloss:0.088111\ttest-auc:0.613325\ttest-logloss:0.091456\n",
            "[60]\ttrain-auc:0.724722\ttrain-logloss:0.088111\ttest-auc:0.613322\ttest-logloss:0.091507\n",
            "[61]\ttrain-auc:0.724722\ttrain-logloss:0.088111\ttest-auc:0.613322\ttest-logloss:0.091507\n",
            "[62]\ttrain-auc:0.724722\ttrain-logloss:0.088111\ttest-auc:0.613322\ttest-logloss:0.091505\n",
            "[63]\ttrain-auc:0.724722\ttrain-logloss:0.088111\ttest-auc:0.613322\ttest-logloss:0.091504\n",
            "[64]\ttrain-auc:0.724722\ttrain-logloss:0.08811\ttest-auc:0.613316\ttest-logloss:0.091563\n",
            "[65]\ttrain-auc:0.724723\ttrain-logloss:0.088108\ttest-auc:0.613311\ttest-logloss:0.091564\n",
            "[66]\ttrain-auc:0.724724\ttrain-logloss:0.088108\ttest-auc:0.613292\ttest-logloss:0.091625\n",
            "[67]\ttrain-auc:0.724724\ttrain-logloss:0.088108\ttest-auc:0.613292\ttest-logloss:0.091619\n",
            "Stopping. Best iteration:\n",
            "[17]\ttrain-auc:0.72464\ttrain-logloss:0.089334\ttest-auc:0.613382\ttest-logloss:0.086763\n",
            "\n"
          ],
          "name": "stdout"
        },
        {
          "output_type": "display_data",
          "data": {
            "image/png": "[encoded data removed]",
            "text/plain": [
              "<matplotlib.figure.Figure at 0x7f8c198e3358>"
            ]
          },
          "metadata": {
            "tags": []
          }
        },
        {
          "output_type": "display_data",
          "data": {
            "image/png": "[encoded data removed]",
            "text/plain": [
              "<matplotlib.figure.Figure at 0x7f8c11c10400>"
            ]
          },
          "metadata": {
            "tags": []
          }
        }
      ]
    },
    {
      "metadata": {
        "id": "a7t0F3rImqZ3",
        "colab_type": "text"
      },
      "cell_type": "markdown",
      "source": [
        "#训练"
      ]
    },
    {
      "metadata": {
        "id": "uw1Jfhf5NCkj",
        "colab_type": "text"
      },
      "cell_type": "markdown",
      "source": [
        "##xgboost"
      ]
    },
    {
      "metadata": {
        "id": "v5EqtPMum2Zg",
        "colab_type": "text"
      },
      "cell_type": "markdown",
      "source": [
        "###参数控制"
      ]
    },
    {
      "metadata": {
        "id": "O4DNCMwWmpZS",
        "colab_type": "code",
        "colab": {
          "autoexec": {
            "startup": false,
            "wait_interval": 0
          }
        }
      },
      "cell_type": "code",
      "source": [
        "#alpha 30, lambda 15, gamma 2\n",
        "param = {}\n",
        "param[\"eta\"] = 0.25\n",
        "param[\"min_child_weight\"] = 1\n",
        "param[\"max_depth\"] = 3\n",
        "param[\"lambda\"] = 15 #控制模型复杂度的权重值的L2正则化项参数，参数越大，模型越不容易过拟合。 默认1\n",
        "param[\"alpha\"] = 4 #控制模型复杂程度的权重值的 L1 正则项参数，参数值越大，模型越不容易过拟合。 默认0\n",
        "param[\"gamma\"] = 1 # 用于控制是否后剪枝的参数,越大越保守，一般0.1、0.2这样子。\n",
        "param[\"subsample\"]=0.8\n",
        "param[\"colsample_bytree\"]=0.8\n",
        "param[\"objective\"] = \"binary:logistic\"\n",
        "param[\"eval_metric\"]=[ \"auc\",\"logloss\"]#error,logloss,auc\n",
        "param[\"silent\"] = 1\n",
        "num_round = 500\n",
        "eval_result={}"
      ],
      "execution_count": 0,
      "outputs": []
    },
    {
      "metadata": {
        "id": "MMiwaP28m5PJ",
        "colab_type": "text"
      },
      "cell_type": "markdown",
      "source": [
        "###训练模型"
      ]
    },
    {
      "metadata": {
        "id": "wbMZJPmYmn5Q",
        "colab_type": "code",
        "colab": {
          "autoexec": {
            "startup": false,
            "wait_interval": 0
          }
        }
      },
      "cell_type": "code",
      "source": [
        "X = train_m[feature_list].copy()\n",
        "Y = train_m[\"is_trade\"].copy()\n",
        "train_set = xgb.DMatrix(X,label=Y)\n",
        "X_t = test_m[feature_list].copy()\n",
        "Y_t = test_m[\"is_trade\"].copy()\n",
        "test_set = xgb.DMatrix(X_t,label=Y_t)\n",
        "watchlist = [(train_set,'train'), (test_set, 'test')]\n",
        "model = xgb.train( param, train_set, num_round, watchlist,verbose_eval=True,evals_result=eval_result,early_stopping_rounds=int(0.1*num_round))\n",
        "limit = model.best_ntree_limit"
      ],
      "execution_count": 0,
      "outputs": []
    },
    {
      "metadata": {
        "id": "rFpe5y5lnQf7",
        "colab_type": "text"
      },
      "cell_type": "markdown",
      "source": [
        "###结果展示"
      ]
    },
    {
      "metadata": {
        "id": "fulGgyJFnTN8",
        "colab_type": "code",
        "colab": {
          "autoexec": {
            "startup": false,
            "wait_interval": 0
          }
        }
      },
      "cell_type": "code",
      "source": [
        "from matplotlib import pyplot \n",
        "from xgboost import plot_importance\n",
        "#plot feature importance\n",
        "ax = plot_importance(model,max_num_features=50)\n",
        "fig = ax.figure\n",
        "fig.set_size_inches(18, 8)\n",
        "pyplot.show()\n",
        "\n",
        "#plot logloss\n",
        "epochs = len(eval_result['train']['logloss'])  \n",
        "x_axis = range(0, epochs)  \n",
        "fig, ax = pyplot.subplots()  \n",
        "ax.plot(x_axis, eval_result['train']['logloss'], label='Train_logloss')  \n",
        "ax.plot(x_axis, eval_result['test']['logloss'], label='Test_logloss')  \n",
        "ax.plot(x_axis, eval_result['train']['auc'], label='Train-auc')  \n",
        "ax.plot(x_axis, eval_result['test']['auc'], label='Test-auc') \n",
        "ax.legend()\n",
        "fig = ax.figure\n",
        "fig.set_size_inches(18, 8)\n",
        "pyplot.ylabel('Loss')  \n",
        "pyplot.xlabel('Iteration Num')  \n",
        "pyplot.title('XGBoost Loss')  \n",
        "pyplot.show()\n"
      ],
      "execution_count": 0,
      "outputs": []
    },
    {
      "metadata": {
        "id": "1Ri1exAAWEfT",
        "colab_type": "text"
      },
      "cell_type": "markdown",
      "source": [
        "###正式训练重新生成特征"
      ]
    },
    {
      "metadata": {
        "id": "60VJlkVLWHgl",
        "colab_type": "code",
        "colab": {
          "autoexec": {
            "startup": false,
            "wait_interval": 0
          }
        }
      },
      "cell_type": "code",
      "source": [
        ""
      ],
      "execution_count": 0,
      "outputs": []
    },
    {
      "metadata": {
        "id": "WAN5UYfBF67_",
        "colab_type": "text"
      },
      "cell_type": "markdown",
      "source": [
        "###结果预测"
      ]
    },
    {
      "metadata": {
        "id": "GqYXgAP54WCM",
        "colab_type": "code",
        "colab": {
          "autoexec": {
            "startup": false,
            "wait_interval": 0
          }
        }
      },
      "cell_type": "code",
      "source": [
        "#总训练集生成\n",
        "X = train_pd[feature_list].copy()\n",
        "Y = train_pd[\"is_trade\"].copy()\n",
        "train_set = xgb.DMatrix(X,label=Y)\n",
        "#测试集生成\n",
        "X_t = test_pd[feature_list].copy() \n",
        "test_set = xgb.DMatrix(X_t)\n",
        "#训练总模型\n",
        "watchlist = [(train_set,'train')]\n",
        "final_model = xgb.train( param, train_set, limit,watchlist)\n",
        "#预测\n",
        "predict_out = final_model.predict(test_set,ntree_limit=limit)\n",
        "test_pd[\"predicted_score\"] = predict_out\n",
        "result = test_pd[[\"instance_id\",\"predicted_score\"]].copy()"
      ],
      "execution_count": 0,
      "outputs": []
    },
    {
      "metadata": {
        "id": "k9Kk--MpJUZN",
        "colab_type": "text"
      },
      "cell_type": "markdown",
      "source": [
        "###结果保存"
      ]
    },
    {
      "metadata": {
        "id": "pp4y3uIAJWMX",
        "colab_type": "code",
        "colab": {
          "autoexec": {
            "startup": false,
            "wait_interval": 0
          },
          "output_extras": [
            {}
          ],
          "base_uri": "https://localhost:8080/",
          "height": 35
        },
        "outputId": "5f7fae99-7bab-488d-efde-08b9d74885c7",
        "executionInfo": {
          "status": "ok",
          "timestamp": 1520086128145,
          "user_tz": -480,
          "elapsed": 2031,
          "user": {
            "displayName": "姚填佳",
            "photoUrl": "//lh4.googleusercontent.com/-c8yaOIb4NJo/AAAAAAAAAAI/AAAAAAAAACI/2RCS6KOMtQs/s50-c-k-no/photo.jpg",
            "userId": "107989077003671308346"
          }
        }
      },
      "cell_type": "code",
      "source": [
        "#保存文件\n",
        "time_string = time.strftime('%Y_%m_%d_%H_%M_%S',time.localtime(time.time()+8*3600))\n",
        "file_name = \"drive/Colab_Notebooks/output/\"+time_string+ '_'+str(model.best_score).split(\".\")[1]+\".csv\"\n",
        "result.to_csv(file_name,index=False,sep=\" \",float_format='%.6f')\n",
        "print(file_name)"
      ],
      "execution_count": 0,
      "outputs": [
        {
          "output_type": "stream",
          "text": [
            "drive/Colab_Notebooks/output/2018_03_03_22_08_48_030655.csv\n"
          ],
          "name": "stdout"
        }
      ]
    }
  ]
}