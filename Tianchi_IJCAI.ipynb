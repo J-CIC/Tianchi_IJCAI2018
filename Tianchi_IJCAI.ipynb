{
  "nbformat": 4,
  "nbformat_minor": 0,
  "metadata": {
    "colab": {
      "name": "Tianchi_IJCAI.ipynb",
      "version": "0.3.2",
      "views": {},
      "default_view": {},
      "provenance": [],
      "collapsed_sections": [
        "_l3aQ2SUrCk7",
        "aoM5I7kOyCRA",
        "kqCOAw7WtLrD",
        "CCP5D6HrCGLR",
        "lT9cq5quErN-",
        "IfdTsNGMOAgs",
        "SeMTd4NDPQbj",
        "t6_yYIxxT6x6",
        "7PiJXVAKUoS_",
        "z5ZXIxkvVUK4",
        "RDmlxdfBjsf9",
        "zm3FnPE9kC5w",
        "bonKqtfHkdRd",
        "zSHjiF59k122",
        "XMUjOHB-lZX_",
        "7TE-lo7klqTV",
        "HUR2MWEZmOpj",
        "vt0cNStmmW98",
        "lYydGNk7mWyP",
        "JwEtkykjmWg8",
        "6E6lEffKqnoq",
        "THhaDfSB-apn",
        "a7t0F3rImqZ3"
      ]
    },
    "kernelspec": {
      "name": "python3",
      "display_name": "Python 3"
    },
    "accelerator": "GPU"
  },
  "cells": [
    {
      "metadata": {
        "id": "pjWHULTlFwA2",
        "colab_type": "code",
        "colab": {
          "autoexec": {
            "startup": false,
            "wait_interval": 0
          },
          "output_extras": [
            {
              "item_id": 4
            }
          ],
          "base_uri": "https://localhost:8080/",
          "height": 109
        },
        "outputId": "8c580442-5c48-4007-effd-137d9bb8e18a",
        "executionInfo": {
          "status": "ok",
          "timestamp": 1520139145862,
          "user_tz": -480,
          "elapsed": 14776,
          "user": {
            "displayName": "姚填佳",
            "photoUrl": "//lh4.googleusercontent.com/-c8yaOIb4NJo/AAAAAAAAAAI/AAAAAAAAACI/2RCS6KOMtQs/s50-c-k-no/photo.jpg",
            "userId": "107989077003671308346"
          }
        }
      },
      "cell_type": "code",
      "source": [
        "#认证\n",
        "!apt-get install -y -qq software-properties-common python-software-properties module-init-tools\n",
        "!add-apt-repository -y ppa:alessandro-strada/ppa 2>&1 > /dev/null\n",
        "!apt-get update -qq 2>&1 > /dev/null\n",
        "!apt-get -y install -qq google-drive-ocamlfuse fuse\n",
        "from google.colab import auth\n",
        "auth.authenticate_user()\n",
        "from oauth2client.client import GoogleCredentials\n",
        "creds = GoogleCredentials.get_application_default()\n",
        "import getpass\n",
        "!google-drive-ocamlfuse -headless -id={creds.client_id} -secret={creds.client_secret} < /dev/null 2>&1 | grep URL\n",
        "vcode = getpass.getpass()\n",
        "!echo {vcode} | google-drive-ocamlfuse -headless -id={creds.client_id} -secret={creds.client_secret}"
      ],
      "execution_count": 1,
      "outputs": [
        {
          "output_type": "stream",
          "text": [
            "Please, open the following URL in a web browser: https://accounts.google.com/o/oauth2/auth?client_id=32555940559.apps.googleusercontent.com&redirect_uri=urn%3Aietf%3Awg%3Aoauth%3A2.0%3Aoob&scope=https%3A%2F%2Fwww.googleapis.com%2Fauth%2Fdrive&response_type=code&access_type=offline&approval_prompt=force\r\n",
            "··········\n",
            "Please, open the following URL in a web browser: https://accounts.google.com/o/oauth2/auth?client_id=32555940559.apps.googleusercontent.com&redirect_uri=urn%3Aietf%3Awg%3Aoauth%3A2.0%3Aoob&scope=https%3A%2F%2Fwww.googleapis.com%2Fauth%2Fdrive&response_type=code&access_type=offline&approval_prompt=force\n",
            "Please enter the verification code: Access token retrieved correctly.\n"
          ],
          "name": "stdout"
        }
      ]
    },
    {
      "metadata": {
        "id": "OdQ1oVTzHZLJ",
        "colab_type": "code",
        "colab": {
          "autoexec": {
            "startup": false,
            "wait_interval": 0
          }
        }
      },
      "cell_type": "code",
      "source": [
        "#挂载云盘\n",
        "!mkdir -p drive\n",
        "!google-drive-ocamlfuse drive  -o nonempty"
      ],
      "execution_count": 0,
      "outputs": []
    },
    {
      "metadata": {
        "id": "hS2MpcExKGI_",
        "colab_type": "code",
        "colab": {
          "autoexec": {
            "startup": false,
            "wait_interval": 0
          },
          "output_extras": [
            {
              "item_id": 10
            }
          ],
          "base_uri": "https://localhost:8080/",
          "height": 215
        },
        "outputId": "1f455424-263d-45bb-f7d0-47759cd89781",
        "executionInfo": {
          "status": "ok",
          "timestamp": 1520139264624,
          "user_tz": -480,
          "elapsed": 116941,
          "user": {
            "displayName": "姚填佳",
            "photoUrl": "//lh4.googleusercontent.com/-c8yaOIb4NJo/AAAAAAAAAAI/AAAAAAAAACI/2RCS6KOMtQs/s50-c-k-no/photo.jpg",
            "userId": "107989077003671308346"
          }
        }
      },
      "cell_type": "code",
      "source": [
        "!pip install xgboost\n",
        "import xgboost as xgb\n",
        "import pandas as pd\n",
        "import numpy as np"
      ],
      "execution_count": 3,
      "outputs": [
        {
          "output_type": "stream",
          "text": [
            "Collecting xgboost\n",
            "  Downloading xgboost-0.7.post3.tar.gz (450kB)\n",
            "\u001b[K    100% |████████████████████████████████| 460kB 2.1MB/s \n",
            "\u001b[?25hRequirement already satisfied: numpy in /usr/local/lib/python3.6/dist-packages (from xgboost)\n",
            "Requirement already satisfied: scipy in /usr/local/lib/python3.6/dist-packages (from xgboost)\n",
            "Building wheels for collected packages: xgboost\n",
            "  Running setup.py bdist_wheel for xgboost ... \u001b[?25l-\b \b\\\b \b|\b \b/\b \b-\b \bdone\n",
            "\u001b[?25h  Stored in directory: /content/.cache/pip/wheels/ca/b3/02/d44d5e12c5c1eecff4a822555bac96b182551cd5e13c4795f6\n",
            "Successfully built xgboost\n",
            "Installing collected packages: xgboost\n",
            "Successfully installed xgboost-0.7.post3\n"
          ],
          "name": "stdout"
        }
      ]
    },
    {
      "metadata": {
        "id": "vLZrYkMlKENA",
        "colab_type": "code",
        "colab": {
          "autoexec": {
            "startup": false,
            "wait_interval": 0
          },
          "output_extras": [
            {
              "item_id": 1
            }
          ],
          "base_uri": "https://localhost:8080/",
          "height": 35
        },
        "outputId": "b0df480d-fc67-4b45-c3a7-275e685f2d9a",
        "executionInfo": {
          "status": "ok",
          "timestamp": 1520139288113,
          "user_tz": -480,
          "elapsed": 23283,
          "user": {
            "displayName": "姚填佳",
            "photoUrl": "//lh4.googleusercontent.com/-c8yaOIb4NJo/AAAAAAAAAAI/AAAAAAAAACI/2RCS6KOMtQs/s50-c-k-no/photo.jpg",
            "userId": "107989077003671308346"
          }
        }
      },
      "cell_type": "code",
      "source": [
        "#读取数据\n",
        "train_csv = pd.read_csv(\"drive/Colab_Notebooks/data/round1_ijcai_18_train_20180301.txt\",\" \")\n",
        "test_csv = pd.read_csv(\"drive/Colab_Notebooks/data/round1_ijcai_18_test_a_20180301.txt\",\" \")\n",
        "print(len(train_csv),len(test_csv))"
      ],
      "execution_count": 4,
      "outputs": [
        {
          "output_type": "stream",
          "text": [
            "478138 18371\n"
          ],
          "name": "stdout"
        }
      ]
    },
    {
      "metadata": {
        "id": "hKnP8hHwso7s",
        "colab_type": "code",
        "colab": {
          "autoexec": {
            "startup": false,
            "wait_interval": 0
          },
          "output_extras": [
            {
              "item_id": 1
            }
          ],
          "base_uri": "https://localhost:8080/",
          "height": 35
        },
        "outputId": "1459ad7c-40fb-4eec-a265-1b299897c3f0",
        "executionInfo": {
          "status": "ok",
          "timestamp": 1520161292415,
          "user_tz": -480,
          "elapsed": 768,
          "user": {
            "displayName": "姚填佳",
            "photoUrl": "//lh4.googleusercontent.com/-c8yaOIb4NJo/AAAAAAAAAAI/AAAAAAAAACI/2RCS6KOMtQs/s50-c-k-no/photo.jpg",
            "userId": "107989077003671308346"
          }
        }
      },
      "cell_type": "code",
      "source": [
        "train_pd = train_csv.drop_duplicates(\"instance_id\").copy()\n",
        "test_pd = test_csv.drop_duplicates(\"instance_id\").copy()\n",
        "print(len(train_csv),len(test_csv))"
      ],
      "execution_count": 167,
      "outputs": [
        {
          "output_type": "stream",
          "text": [
            "478138 18371\n"
          ],
          "name": "stdout"
        }
      ]
    },
    {
      "metadata": {
        "id": "gJOWoam8zTTp",
        "colab_type": "code",
        "colab": {
          "autoexec": {
            "startup": false,
            "wait_interval": 0
          },
          "output_extras": [
            {
              "item_id": 1
            }
          ],
          "base_uri": "https://localhost:8080/",
          "height": 215
        },
        "outputId": "7f3b9d3d-dda6-492e-8a5c-6f43b8500385",
        "executionInfo": {
          "status": "ok",
          "timestamp": 1520162523057,
          "user_tz": -480,
          "elapsed": 2727,
          "user": {
            "displayName": "姚填佳",
            "photoUrl": "//lh4.googleusercontent.com/-c8yaOIb4NJo/AAAAAAAAAAI/AAAAAAAAACI/2RCS6KOMtQs/s50-c-k-no/photo.jpg",
            "userId": "107989077003671308346"
          }
        }
      },
      "cell_type": "code",
      "source": [
        "#补充时间数据\n",
        "import time\n",
        "train_pd['day']=train_pd.context_timestamp.apply(lambda x:time.strftime(\"%Y-%m-%d\",time.localtime(x+3600*8)))\n",
        "train_pd['hour']=train_pd.context_timestamp.apply(lambda x:time.strftime(\"%H\",time.localtime(x+3600*8)))\n",
        "test_pd['day']=test_pd.context_timestamp.apply(lambda x:time.strftime(\"%Y-%m-%d\",time.localtime(x+3600*8)))\n",
        "test_pd['hour']=test_pd.context_timestamp.apply(lambda x:time.strftime(\"%H\",time.localtime(x+3600*8)))\n",
        "train_pd[\"hour_period\"] = (train_pd[\"hour\"].astype(int)/8).astype(int)\n",
        "test_pd[\"hour_period\"] = (test_pd[\"hour\"].astype(int)/8).astype(int)\n",
        "#展示列名\n",
        "print(\"columns length:\",len(train_pd.columns))\n",
        "print(\"列名：\",train_pd.columns)\n",
        "#时间列\n",
        "train_time_list = sorted(train_pd[\"day\"].unique())\n",
        "print(\"时间序列：\",train_time_list)"
      ],
      "execution_count": 171,
      "outputs": [
        {
          "output_type": "stream",
          "text": [
            "columns length: 30\n",
            "列名： Index(['instance_id', 'item_id', 'item_category_list', 'item_property_list',\n",
            "       'item_brand_id', 'item_city_id', 'item_price_level', 'item_sales_level',\n",
            "       'item_collected_level', 'item_pv_level', 'user_id', 'user_gender_id',\n",
            "       'user_age_level', 'user_occupation_id', 'user_star_level', 'context_id',\n",
            "       'context_timestamp', 'context_page_id', 'predict_category_property',\n",
            "       'shop_id', 'shop_review_num_level', 'shop_review_positive_rate',\n",
            "       'shop_star_level', 'shop_score_service', 'shop_score_delivery',\n",
            "       'shop_score_description', 'is_trade', 'day', 'hour', 'hour_period'],\n",
            "      dtype='object')\n",
            "时间序列： ['2018-09-18', '2018-09-19', '2018-09-20', '2018-09-21', '2018-09-22', '2018-09-23', '2018-09-24']\n"
          ],
          "name": "stdout"
        }
      ]
    },
    {
      "metadata": {
        "id": "VwTKtkAYo-ZO",
        "colab_type": "text"
      },
      "cell_type": "markdown",
      "source": [
        "# 特征获取"
      ]
    },
    {
      "metadata": {
        "id": "C3CjJ5Gp5E7l",
        "colab_type": "text"
      },
      "cell_type": "markdown",
      "source": [
        "##数据预处理\n",
        "对所有数据进行预处理，用的Pandas中的get_dummies防止出现测试集中与训练集中one_hot对应不同的方式，sklearn的方式有点麻烦"
      ]
    },
    {
      "metadata": {
        "id": "yMAAuGEe5hVb",
        "colab_type": "code",
        "colab": {
          "autoexec": {
            "startup": false,
            "wait_interval": 0
          },
          "output_extras": [
            {
              "item_id": 1
            }
          ],
          "base_uri": "https://localhost:8080/",
          "height": 35
        },
        "outputId": "04b9d24a-0edb-473c-905a-b1c35a7902f2",
        "executionInfo": {
          "status": "ok",
          "timestamp": 1520165778176,
          "user_tz": -480,
          "elapsed": 1687,
          "user": {
            "displayName": "姚填佳",
            "photoUrl": "//lh4.googleusercontent.com/-c8yaOIb4NJo/AAAAAAAAAAI/AAAAAAAAACI/2RCS6KOMtQs/s50-c-k-no/photo.jpg",
            "userId": "107989077003671308346"
          }
        }
      },
      "cell_type": "code",
      "source": [
        "feature_list = []\n",
        "all_data = pd.concat([train_pd,test_pd])\n",
        "all_data[\"category\"] =  list(map(lambda x:x.split(\";\")[1],all_data[\"item_category_list\"]))\n",
        "category_one_hot = pd.get_dummies(all_data[\"category\"],prefix=\"category\")\n",
        "all_data = pd.concat([all_data,category_one_hot],axis=1)\n",
        "\n",
        "\n",
        "#重新替换train_pd，test_pd\n",
        "train_pd = all_data[:len(train_pd)]\n",
        "test_pd = all_data[len(train_pd):]\n",
        "#分割线下测试和训练集\n",
        "train_m = train_pd[(train_pd[\"day\"]>='2018-09-18')&(train_pd[\"day\"]<='2018-09-22')]\n",
        "test_m = train_pd[(train_pd[\"day\"]>='2018-09-23')]"
      ],
      "execution_count": 195,
      "outputs": [
        {
          "output_type": "stream",
          "text": [
            "478087 18371\n"
          ],
          "name": "stdout"
        }
      ]
    },
    {
      "metadata": {
        "id": "7qblSK0KrUBn",
        "colab_type": "text"
      },
      "cell_type": "markdown",
      "source": [
        "##item_id相关特征"
      ]
    },
    {
      "metadata": {
        "id": "JJycFBNPpB1S",
        "colab_type": "text"
      },
      "cell_type": "markdown",
      "source": [
        "### 广告展现次数\n",
        "以8小时为粒度(period_show_counts)"
      ]
    },
    {
      "metadata": {
        "id": "EwTUGLRoqBhK",
        "colab_type": "code",
        "colab": {
          "autoexec": {
            "startup": false,
            "wait_interval": 0
          }
        }
      },
      "cell_type": "code",
      "source": [
        "def get_item_period_count(df):\n",
        "  ret = df.groupby([\"item_id\",\"hour_period\"]).count()[[\"is_trade\"]].copy()\n",
        "  ret = ret.reset_index(drop=False)\n",
        "  ret.rename(columns={\"is_trade\":\"period_show_counts\"},inplace=True)#重命名列\n",
        "  ret = pd.merge(df,ret,on=[\"item_id\",\"hour_period\"],how=\"left\").fillna(0)\n",
        "  return ret\n",
        "#计算8小时广告展现次数\n",
        "train_m = get_item_period_count(train_m)\n",
        "test_m = get_item_period_count(test_m)\n",
        "if \"period_show_counts\" not in feature_list:\n",
        "  feature_list.append(\"period_show_counts\")"
      ],
      "execution_count": 0,
      "outputs": []
    },
    {
      "metadata": {
        "id": "yzq35rVDyx_S",
        "colab_type": "text"
      },
      "cell_type": "markdown",
      "source": [
        "###广告第二个类别\n",
        "8个类别，用向量表示"
      ]
    },
    {
      "metadata": {
        "id": "UaWDujX7zssk",
        "colab_type": "code",
        "colab": {
          "autoexec": {
            "startup": false,
            "wait_interval": 0
          }
        }
      },
      "cell_type": "code",
      "source": [
        "def category_encode(df):\n",
        "  df[\"category\"] =  list(map(lambda x:x.split(\";\")[1],df[\"item_category_list\"]))\n",
        "  pd.get_dummies(df[\"category\"],prefix = 'category')#若不是用sklearn的方法需要保证测试集\n",
        "  "
      ],
      "execution_count": 0,
      "outputs": []
    },
    {
      "metadata": {
        "id": "cEnRIuRfuP6z",
        "colab_type": "text"
      },
      "cell_type": "markdown",
      "source": [
        "## 归一化"
      ]
    },
    {
      "metadata": {
        "id": "_l3aQ2SUrCk7",
        "colab_type": "text"
      },
      "cell_type": "markdown",
      "source": [
        "# 简单数据统计"
      ]
    },
    {
      "metadata": {
        "id": "aoM5I7kOyCRA",
        "colab_type": "text"
      },
      "cell_type": "markdown",
      "source": [
        "## 基本数据统计"
      ]
    },
    {
      "metadata": {
        "id": "xL-egb05MKV1",
        "colab_type": "code",
        "colab": {
          "autoexec": {
            "startup": false,
            "wait_interval": 0
          },
          "output_extras": [
            {
              "item_id": 1
            }
          ],
          "base_uri": "https://localhost:8080/",
          "height": 287
        },
        "outputId": "18c7aafd-cfc2-4214-87f2-a316106ad048",
        "executionInfo": {
          "status": "ok",
          "timestamp": 1520139292901,
          "user_tz": -480,
          "elapsed": 838,
          "user": {
            "displayName": "姚填佳",
            "photoUrl": "//lh4.googleusercontent.com/-c8yaOIb4NJo/AAAAAAAAAAI/AAAAAAAAACI/2RCS6KOMtQs/s50-c-k-no/photo.jpg",
            "userId": "107989077003671308346"
          }
        }
      },
      "cell_type": "code",
      "source": [
        "print('总样本个数:%d' % train_csv.instance_id.unique().shape[0])\n",
        "print('当前正样本个数为： %d' % len(train_csv[train_csv.is_trade == 1]))\n",
        "print('当前负样本个数为： %d' % len(train_csv[train_csv.is_trade == 0]))\n",
        "print('当前商品个数:%d' % train_csv.item_id.unique().shape[0])\n",
        "print('用户数量：%d' % train_csv.user_id.unique().shape[0])\n",
        "print('商户数量：%d' % train_csv.shop_id.unique().shape[0])\n",
        "print('商标数量：%d' % train_csv.item_brand_id.unique().shape[0])\n",
        "print('广告最大等级为：%d' % max(train_csv['item_price_level']))\n",
        "print('最大广告销量等级：%d' % max(train_csv['item_sales_level']))\n",
        "print('最大广告收藏等级:%d' % max(train_csv['item_collected_level']))\n",
        "print('最大浏览量等级:%d' % max(train_csv['item_pv_level']))\n",
        "print('用户的预测年龄等级区间为 %d-%d' % (min(train_csv['user_age_level']),max(train_csv['user_age_level'])))\n",
        "print('用户等级区间为%d-%d' % (min(train_csv['user_star_level']), max(train_csv['user_star_level'])))\n",
        "print('最大店铺评价数量等级:%d' % max(train_csv['shop_review_num_level']))\n",
        "print('最大店铺星级编号:%d' % max(train_csv['shop_star_level']))"
      ],
      "execution_count": 7,
      "outputs": [
        {
          "output_type": "stream",
          "text": [
            "总样本个数:478087\n",
            "当前正样本个数为： 9021\n",
            "当前负样本个数为： 469117\n",
            "当前商品个数:10075\n",
            "用户数量：197694\n",
            "商户数量：3959\n",
            "商标数量：2055\n",
            "广告最大等级为：17\n",
            "最大广告销量等级：17\n",
            "最大广告收藏等级:17\n",
            "最大浏览量等级:21\n",
            "用户的预测年龄等级区间为 -1-1007\n",
            "用户等级区间为-1-3010\n",
            "最大店铺评价数量等级:25\n",
            "最大店铺星级编号:5020\n"
          ],
          "name": "stdout"
        }
      ]
    },
    {
      "metadata": {
        "id": "244_U1KxS1IF",
        "colab_type": "code",
        "colab": {
          "autoexec": {
            "startup": false,
            "wait_interval": 0
          },
          "output_extras": [
            {
              "item_id": 1
            }
          ],
          "base_uri": "https://localhost:8080/",
          "height": 53
        },
        "outputId": "0896bea9-470f-48c4-9be3-9188ca114ce4",
        "executionInfo": {
          "status": "ok",
          "timestamp": 1520139295356,
          "user_tz": -480,
          "elapsed": 2084,
          "user": {
            "displayName": "姚填佳",
            "photoUrl": "//lh4.googleusercontent.com/-c8yaOIb4NJo/AAAAAAAAAAI/AAAAAAAAACI/2RCS6KOMtQs/s50-c-k-no/photo.jpg",
            "userId": "107989077003671308346"
          }
        }
      },
      "cell_type": "code",
      "source": [
        "%%time\n",
        "import time\n",
        "train_csv['day']=train_csv.context_timestamp.apply(lambda x:time.strftime(\"%Y-%m-%d\",time.localtime(x+3600*8)))\n",
        "train_csv['hour']=train_csv.context_timestamp.apply(lambda x:time.strftime(\"%H\",time.localtime(x+3600*8)))"
      ],
      "execution_count": 8,
      "outputs": [
        {
          "output_type": "stream",
          "text": [
            "CPU times: user 1.47 s, sys: 31 ms, total: 1.5 s\n",
            "Wall time: 1.5 s\n"
          ],
          "name": "stdout"
        }
      ]
    },
    {
      "metadata": {
        "id": "c6zCu2ACS6Ii",
        "colab_type": "code",
        "colab": {
          "autoexec": {
            "startup": false,
            "wait_interval": 0
          },
          "output_extras": [
            {
              "item_id": 1
            },
            {
              "item_id": 2
            },
            {
              "item_id": 3
            }
          ],
          "base_uri": "https://localhost:8080/",
          "height": 511
        },
        "outputId": "bad032e4-ff40-4625-c55f-0f91af5c2d3f",
        "executionInfo": {
          "status": "ok",
          "timestamp": 1520139296450,
          "user_tz": -480,
          "elapsed": 1048,
          "user": {
            "displayName": "姚填佳",
            "photoUrl": "//lh4.googleusercontent.com/-c8yaOIb4NJo/AAAAAAAAAAI/AAAAAAAAACI/2RCS6KOMtQs/s50-c-k-no/photo.jpg",
            "userId": "107989077003671308346"
          }
        }
      },
      "cell_type": "code",
      "source": [
        "print('每天行为数量')\n",
        "print(train_csv.day.value_counts().sort_index())\n",
        "pd.DataFrame(train_csv.day.value_counts().sort_index()).plot()"
      ],
      "execution_count": 9,
      "outputs": [
        {
          "output_type": "stream",
          "text": [
            "每天行为数量\n",
            "2018-09-18    78268\n",
            "2018-09-19    70931\n",
            "2018-09-20    68387\n",
            "2018-09-21    71199\n",
            "2018-09-22    68318\n",
            "2018-09-23    63614\n",
            "2018-09-24    57421\n",
            "Name: day, dtype: int64\n"
          ],
          "name": "stdout"
        },
        {
          "output_type": "execute_result",
          "data": {
            "text/plain": [
              "<matplotlib.axes._subplots.AxesSubplot at 0x7fa32c7cc198>"
            ]
          },
          "metadata": {
            "tags": []
          },
          "execution_count": 9
        },
        {
          "output_type": "display_data",
          "data": {
            "image/png": "[encoded data removed]",
            "text/plain": [
              "<matplotlib.figure.Figure at 0x7fa33276f630>"
            ]
          },
          "metadata": {
            "tags": []
          }
        }
      ]
    },
    {
      "metadata": {
        "id": "kqCOAw7WtLrD",
        "colab_type": "text"
      },
      "cell_type": "markdown",
      "source": [
        "## item_category_list的统计信息"
      ]
    },
    {
      "metadata": {
        "id": "1iYkQ1wxamFJ",
        "colab_type": "code",
        "colab": {
          "autoexec": {
            "startup": false,
            "wait_interval": 0
          },
          "output_extras": [
            {
              "item_id": 1
            },
            {
              "item_id": 2
            },
            {
              "item_id": 3
            }
          ],
          "base_uri": "https://localhost:8080/",
          "height": 395
        },
        "outputId": "69b7728c-0e68-4de8-85e2-f6940c3668f8",
        "executionInfo": {
          "status": "ok",
          "timestamp": 1520139298401,
          "user_tz": -480,
          "elapsed": 1810,
          "user": {
            "displayName": "姚填佳",
            "photoUrl": "//lh4.googleusercontent.com/-c8yaOIb4NJo/AAAAAAAAAAI/AAAAAAAAACI/2RCS6KOMtQs/s50-c-k-no/photo.jpg",
            "userId": "107989077003671308346"
          }
        }
      },
      "cell_type": "code",
      "source": [
        "all_data = [train_csv,test_csv]\n",
        "all_data = pd.concat(all_data)\n",
        "category_list= list(map(lambda x:len(x.split(\";\")),all_data[\"item_category_list\"]))\n",
        "item_category_list = pd.DataFrame({\"len\":category_list,\"list\":list(map(lambda x:x.split(\";\"),all_data[\"item_category_list\"]))})\n",
        "print(\"item_category_list分割后长度最小值：\",item_category_list[\"len\"].min(),\" 长度最大值：\",item_category_list[\"len\"].max())\n",
        "pd.DataFrame(item_category_list[\"len\"].value_counts().sort_index()).plot(kind=\"bar\",title=\"item_category_list Distribution\")"
      ],
      "execution_count": 10,
      "outputs": [
        {
          "output_type": "stream",
          "text": [
            "item_category_list分割后长度最小值： 2  长度最大值： 3\n"
          ],
          "name": "stdout"
        },
        {
          "output_type": "execute_result",
          "data": {
            "text/plain": [
              "<matplotlib.axes._subplots.AxesSubplot at 0x7fa31cfe8358>"
            ]
          },
          "metadata": {
            "tags": []
          },
          "execution_count": 10
        },
        {
          "output_type": "display_data",
          "data": {
            "image/png": "[encoded data removed]",
            "text/plain": [
              "<matplotlib.figure.Figure at 0x7fa32e57dda0>"
            ]
          },
          "metadata": {
            "tags": []
          }
        }
      ]
    },
    {
      "metadata": {
        "id": "z4PJZLhBVQHy",
        "colab_type": "text"
      },
      "cell_type": "markdown",
      "source": [
        "## item_property_list的统计信息"
      ]
    },
    {
      "metadata": {
        "id": "qHCusU2kVWuV",
        "colab_type": "code",
        "colab": {
          "autoexec": {
            "startup": false,
            "wait_interval": 0
          },
          "output_extras": [
            {
              "item_id": 1
            },
            {
              "item_id": 2
            },
            {
              "item_id": 3
            }
          ],
          "base_uri": "https://localhost:8080/",
          "height": 542
        },
        "outputId": "f7b3170f-3e82-4348-f4c6-d25150bb171d",
        "executionInfo": {
          "status": "ok",
          "timestamp": 1520139303687,
          "user_tz": -480,
          "elapsed": 5209,
          "user": {
            "displayName": "姚填佳",
            "photoUrl": "//lh4.googleusercontent.com/-c8yaOIb4NJo/AAAAAAAAAAI/AAAAAAAAACI/2RCS6KOMtQs/s50-c-k-no/photo.jpg",
            "userId": "107989077003671308346"
          }
        }
      },
      "cell_type": "code",
      "source": [
        "all_data = [train_csv,test_csv]\n",
        "all_data = pd.concat(all_data)\n",
        "property_list= list(map(lambda x:len(x.split(\";\")),all_data[\"item_property_list\"]))\n",
        "item_property_list = pd.DataFrame({\"len\":property_list,\"list\":list(map(lambda x:x.split(\";\"),all_data[\"item_property_list\"]))})\n",
        "print(\"item_category_list分割后长度最小值：\",item_property_list[\"len\"].min(),\" 长度最大值：\",item_property_list[\"len\"].max())\n",
        "pd.DataFrame(item_property_list[\"len\"].value_counts().sort_index()).plot(kind=\"bar\",title=\"item_property_list Distribution\",figsize=(18,8))"
      ],
      "execution_count": 11,
      "outputs": [
        {
          "output_type": "stream",
          "text": [
            "item_category_list分割后长度最小值： 6  长度最大值： 100\n"
          ],
          "name": "stdout"
        },
        {
          "output_type": "execute_result",
          "data": {
            "text/plain": [
              "<matplotlib.axes._subplots.AxesSubplot at 0x7fa31cf89550>"
            ]
          },
          "metadata": {
            "tags": []
          },
          "execution_count": 11
        },
        {
          "output_type": "display_data",
          "data": {
            "image/png": "[encoded data removed]",
            "text/plain": [
              "<matplotlib.figure.Figure at 0x7fa31cf74a20>"
            ]
          },
          "metadata": {
            "tags": []
          }
        }
      ]
    },
    {
      "metadata": {
        "id": "DoxazBRiKp-h",
        "colab_type": "text"
      },
      "cell_type": "markdown",
      "source": [
        "##数据分布"
      ]
    },
    {
      "metadata": {
        "id": "OXzmIJvrLDlt",
        "colab_type": "code",
        "colab": {
          "autoexec": {
            "startup": false,
            "wait_interval": 0
          },
          "output_extras": [
            {
              "item_id": 1
            },
            {
              "item_id": 2
            }
          ],
          "base_uri": "https://localhost:8080/",
          "height": 392
        },
        "outputId": "2c13821f-ddf9-4c42-9c82-9f9e82e962d3",
        "executionInfo": {
          "status": "ok",
          "timestamp": 1520153250353,
          "user_tz": -480,
          "elapsed": 861,
          "user": {
            "displayName": "姚填佳",
            "photoUrl": "//lh4.googleusercontent.com/-c8yaOIb4NJo/AAAAAAAAAAI/AAAAAAAAACI/2RCS6KOMtQs/s50-c-k-no/photo.jpg",
            "userId": "107989077003671308346"
          }
        }
      },
      "cell_type": "code",
      "source": [
        "temp = train_pd.groupby(\"user_occupation_id\").sum()\n",
        "temp[[\"is_trade\"]].plot(kind=\"bar\")"
      ],
      "execution_count": 144,
      "outputs": [
        {
          "output_type": "execute_result",
          "data": {
            "text/plain": [
              "<matplotlib.axes._subplots.AxesSubplot at 0x7fa2c4bf43c8>"
            ]
          },
          "metadata": {
            "tags": []
          },
          "execution_count": 144
        },
        {
          "output_type": "display_data",
          "data": {
            "image/png": "[encoded data removed]",
            "text/plain": [
              "<matplotlib.figure.Figure at 0x7fa2bae5fd30>"
            ]
          },
          "metadata": {
            "tags": []
          }
        }
      ]
    },
    {
      "metadata": {
        "id": "QSZEjoj2_rHB",
        "colab_type": "text"
      },
      "cell_type": "markdown",
      "source": [
        "# 计算特征"
      ]
    },
    {
      "metadata": {
        "id": "aQpvZWp8qqJy",
        "colab_type": "text"
      },
      "cell_type": "markdown",
      "source": [
        "## 计算item_category_list所有类别信息对应的is_trade数目z-score\n",
        "感觉区别度不算大，此特征不一定有太大作用"
      ]
    },
    {
      "metadata": {
        "id": "sMUTXzHIq32C",
        "colab_type": "code",
        "colab": {
          "autoexec": {
            "startup": false,
            "wait_interval": 0
          }
        }
      },
      "cell_type": "code",
      "source": [
        "#传入DataFrame而获取对应category的is_trade数目表\n",
        "def get_category_trade_score(df):\n",
        "  temp_pd = df[[\"instance_id\",\"item_category_list\",\"is_trade\",\"user_gender_id\"]].copy()#返回的DataFrame\n",
        "  #只留第2个category，第一个category都是一样的\n",
        "  temp_pd[\"category\"] =  list(map(lambda x:x.split(\";\")[1],temp_pd[\"item_category_list\"]))\n",
        "  #temp_pd.groupby([\"category\",\"user_gender_id\"]).count().at[(\"1968056100269760729\",1),\"is_trade\"]\n",
        "  ret = temp_pd.groupby([\"category\",\"user_gender_id\"]).sum()\n",
        "  #ret[\"trade_ratio\"] = ret[\"is_trade\"]/len(df)#trade的比例\n",
        "  ret[\"category_gender_trade_score\"] = (ret[\"is_trade\"]-ret[\"is_trade\"].mean())/ret[\"is_trade\"].std()#计算z-score\n",
        "  ret = ret.reset_index()\n",
        "  ret.set_index([\"category\",\"user_gender_id\"],inplace=True,drop=False)\n",
        "  return ret\n",
        "#设定train和test表数据\n",
        "def set_category_trade_score(df,score_table):\n",
        "  ret = df[[\"instance_id\",\"item_category_list\",\"user_gender_id\"]].copy()\n",
        "  ret[\"category\"] = list(map(lambda x:x.split(\";\")[1],ret[\"item_category_list\"]))\n",
        "  ret = pd.merge(ret,score_table,on=[\"category\",\"user_gender_id\"],how=\"left\",suffixes=[\"\",\"_r\"]).fillna(0)[[\"instance_id\",\"category_gender_trade_score\"]].copy()\n",
        "  df = pd.merge(df,ret,on=\"instance_id\",how=\"left\")\n",
        "  return df"
      ],
      "execution_count": 0,
      "outputs": []
    },
    {
      "metadata": {
        "id": "CCP5D6HrCGLR",
        "colab_type": "text"
      },
      "cell_type": "markdown",
      "source": [
        "## 计算item_property_list对应的特征"
      ]
    },
    {
      "metadata": {
        "id": "PvLnmjbDCQ3H",
        "colab_type": "code",
        "colab": {
          "autoexec": {
            "startup": false,
            "wait_interval": 0
          },
          "output_extras": [
            {
              "item_id": 1
            }
          ],
          "base_uri": "https://localhost:8080/",
          "height": 73
        },
        "outputId": "e173cf4a-34e1-48a9-ba59-210f89ea8500",
        "executionInfo": {
          "status": "ok",
          "timestamp": 1520139325116,
          "user_tz": -480,
          "elapsed": 19624,
          "user": {
            "displayName": "姚填佳",
            "photoUrl": "//lh4.googleusercontent.com/-c8yaOIb4NJo/AAAAAAAAAAI/AAAAAAAAACI/2RCS6KOMtQs/s50-c-k-no/photo.jpg",
            "userId": "107989077003671308346"
          }
        }
      },
      "cell_type": "code",
      "source": [
        "%%time\n",
        "def get_property_dict(df):\n",
        "  ret = df[[\"user_gender_id\",\"item_property_list\",\"is_trade\"]].copy()\n",
        "  #下面这句骚操作把一行扩展成多行\n",
        "  ret = ret.drop('item_property_list', axis=1).join(ret['item_property_list'].str.split(';', expand=True).stack().reset_index(level=1, drop=True).rename('item_property_list'))\n",
        "  ret = ret.rename(columns={\"item_property_list\":\"property\"})\n",
        "  ret = ret.groupby([\"property\",\"user_gender_id\"]).count()\n",
        "  ret = ret.reset_index()\n",
        "  ret.set_index([\"property\",\"user_gender_id\"],inplace=True,drop=False)\n",
        "  ret[\"is_trade\"] = ret[\"is_trade\"]/ret[\"is_trade\"].max()#归一化\n",
        "  return ret\n",
        "#这里怎么用没想好\n",
        "property_pd = get_property_dict(train_pd)"
      ],
      "execution_count": 14,
      "outputs": [
        {
          "output_type": "stream",
          "text": [
            "CPU times: user 17.4 s, sys: 1.38 s, total: 18.8 s\n",
            "Wall time: 18.8 s\n"
          ],
          "name": "stdout"
        }
      ]
    },
    {
      "metadata": {
        "id": "lT9cq5quErN-",
        "colab_type": "text"
      },
      "cell_type": "markdown",
      "source": [
        "##计算item_brand_id特征"
      ]
    },
    {
      "metadata": {
        "id": "VK28_Hvfj6HS",
        "colab_type": "code",
        "colab": {
          "autoexec": {
            "startup": false,
            "wait_interval": 0
          }
        }
      },
      "cell_type": "code",
      "source": [
        "def get_brand_feature(df):\n",
        "  ret = df[[\"item_brand_id\",\"is_trade\"]].copy()\n",
        "  ret = ret.groupby(\"item_brand_id\").sum()\n",
        "  ret[\"brand_total_count\"] = df.groupby(\"item_brand_id\").count()[\"is_trade\"]\n",
        "  ret[\"brand_trade_ratio\"] = ret[\"is_trade\"] / ret[\"brand_total_count\"]\n",
        "  ret[\"brand_total_ratio\"] = ret[\"brand_total_count\"]/ret[\"brand_total_count\"].max()\n",
        "  ret = ret.reset_index()\n",
        "  ret.set_index(\"item_brand_id\",inplace=True,drop=False)\n",
        "  ret = ret[[\"item_brand_id\",\"brand_total_ratio\",\"brand_trade_ratio\"]]\n",
        "  return ret\n",
        "def set_brand_feature(df,brand_table):\n",
        "  df = pd.merge(df,brand_table,on=\"item_brand_id\",how=\"left\")\n",
        "  return df\n"
      ],
      "execution_count": 0,
      "outputs": []
    },
    {
      "metadata": {
        "id": "IfdTsNGMOAgs",
        "colab_type": "text"
      },
      "cell_type": "markdown",
      "source": [
        "##计算item_city_id的特征"
      ]
    },
    {
      "metadata": {
        "id": "3OacrSVwGubJ",
        "colab_type": "code",
        "colab": {
          "autoexec": {
            "startup": false,
            "wait_interval": 0
          }
        }
      },
      "cell_type": "code",
      "source": [
        "def get_city_feature(df):\n",
        "  ret = df[[\"item_city_id\",\"is_trade\"]].copy()\n",
        "  ret = ret.groupby(\"item_city_id\").sum()\n",
        "  ret[\"city_total_count\"] = df.groupby(\"item_city_id\").count()[\"is_trade\"]\n",
        "  ret[\"city_trade_ratio\"] = ret[\"is_trade\"] / ret[\"city_total_count\"]\n",
        "  ret[\"city_total_ratio\"] = ret[\"city_total_count\"]/ret[\"city_total_count\"].max()\n",
        "  ret = ret.reset_index()\n",
        "  ret.set_index(\"item_city_id\",inplace=True,drop=False)\n",
        "  ret = ret[[\"item_city_id\",\"city_total_ratio\",\"city_trade_ratio\"]]\n",
        "  return ret\n",
        "def set_city_feature(df,city_table):\n",
        "  df = pd.merge(df,city_table,on=\"item_city_id\",how=\"left\")\n",
        "  return df\n"
      ],
      "execution_count": 0,
      "outputs": []
    },
    {
      "metadata": {
        "id": "SeMTd4NDPQbj",
        "colab_type": "text"
      },
      "cell_type": "markdown",
      "source": [
        "##计算item_price_level特征"
      ]
    },
    {
      "metadata": {
        "id": "CIgDYrVdPWdU",
        "colab_type": "code",
        "colab": {
          "autoexec": {
            "startup": false,
            "wait_interval": 0
          }
        }
      },
      "cell_type": "code",
      "source": [
        "def get_price_feature(df):\n",
        "  ret = df[[\"item_price_level\",\"is_trade\"]].copy()\n",
        "  ret = ret.groupby(\"item_price_level\").sum()\n",
        "  ret[\"price_total_count\"] = df.groupby(\"item_price_level\").count()[\"is_trade\"]\n",
        "  ret[\"price_trade_ratio\"] = ret[\"is_trade\"] / ret[\"price_total_count\"]\n",
        "  ret[\"price_total_ratio\"] = ret[\"price_total_count\"] / ret[\"price_total_count\"].max()\n",
        "  ret = ret.reset_index()\n",
        "  ret.set_index(\"item_price_level\",inplace=True,drop=False)\n",
        "  ret = ret[[\"item_price_level\",\"price_total_ratio\",\"price_trade_ratio\"]]\n",
        "  return ret\n",
        "def set_price_feature(df,price_table):\n",
        "  df = pd.merge(df,price_table,on=\"item_price_level\",how=\"left\")\n",
        "  return df\n"
      ],
      "execution_count": 0,
      "outputs": []
    },
    {
      "metadata": {
        "id": "t6_yYIxxT6x6",
        "colab_type": "text"
      },
      "cell_type": "markdown",
      "source": [
        "##计算item_sales_level的特征"
      ]
    },
    {
      "metadata": {
        "id": "afZZ6Vd_Tll-",
        "colab_type": "code",
        "colab": {
          "autoexec": {
            "startup": false,
            "wait_interval": 0
          }
        }
      },
      "cell_type": "code",
      "source": [
        "def get_sales_feature(df):\n",
        "  ret = df[[\"item_sales_level\",\"is_trade\"]].copy()\n",
        "  ret = ret.groupby(\"item_sales_level\").sum()\n",
        "  ret[\"sales_total_count\"] = df.groupby(\"item_sales_level\").count()[\"is_trade\"]\n",
        "  ret[\"sales_trade_ratio\"] = ret[\"is_trade\"] / ret[\"sales_total_count\"]\n",
        "  ret[\"sales_total_ratio\"] = ret[\"sales_total_count\"] / ret[\"sales_total_count\"].max()\n",
        "  ret = ret.reset_index()\n",
        "  ret.set_index(\"item_sales_level\",inplace=True,drop=False)\n",
        "  ret = ret[[\"item_sales_level\",\"sales_total_ratio\",\"sales_trade_ratio\"]]\n",
        "  return ret\n",
        "def set_sales_feature(df,sales_table):\n",
        "  df = pd.merge(df,sales_table,on=\"item_sales_level\",how=\"left\")\n",
        "  return df\n"
      ],
      "execution_count": 0,
      "outputs": []
    },
    {
      "metadata": {
        "id": "7PiJXVAKUoS_",
        "colab_type": "text"
      },
      "cell_type": "markdown",
      "source": [
        "##计算item_collected_level的特征"
      ]
    },
    {
      "metadata": {
        "id": "zTI6RNprUbrR",
        "colab_type": "code",
        "colab": {
          "autoexec": {
            "startup": false,
            "wait_interval": 0
          }
        }
      },
      "cell_type": "code",
      "source": [
        "def get_collected_feature(df):\n",
        "  ret = df[[\"item_collected_level\",\"is_trade\"]].copy()\n",
        "  ret = ret.groupby(\"item_collected_level\").sum()\n",
        "  ret[\"collected_total_count\"] = df.groupby(\"item_collected_level\").count()[\"is_trade\"]\n",
        "  ret[\"collected_trade_ratio\"] = ret[\"is_trade\"] / ret[\"collected_total_count\"]\n",
        "  ret[\"collected_total_ratio\"] = ret[\"collected_total_count\"] / ret[\"collected_total_count\"].max()\n",
        "  ret = ret.reset_index()\n",
        "  ret.set_index(\"item_collected_level\",inplace=True,drop=False)\n",
        "  ret = ret[[\"item_collected_level\",\"collected_total_ratio\",\"collected_trade_ratio\"]]\n",
        "  return ret\n",
        "def set_collected_feature(df,collected_table):\n",
        "  df = pd.merge(df,collected_table,on=\"item_collected_level\",how=\"left\")\n",
        "  return df\n"
      ],
      "execution_count": 0,
      "outputs": []
    },
    {
      "metadata": {
        "id": "z5ZXIxkvVUK4",
        "colab_type": "text"
      },
      "cell_type": "markdown",
      "source": [
        "##计算item_pv_level的特征"
      ]
    },
    {
      "metadata": {
        "id": "iQ25zMWiUd1X",
        "colab_type": "code",
        "colab": {
          "autoexec": {
            "startup": false,
            "wait_interval": 0
          }
        }
      },
      "cell_type": "code",
      "source": [
        "def get_pv_feature(df):\n",
        "  ret = df[[\"item_pv_level\",\"is_trade\"]].copy()\n",
        "  ret = ret.groupby(\"item_pv_level\").sum()\n",
        "  ret[\"pv_total_count\"] = df.groupby(\"item_pv_level\").count()[\"is_trade\"]\n",
        "  ret[\"pv_trade_ratio\"] = ret[\"is_trade\"] / ret[\"pv_total_count\"]\n",
        "  ret[\"pv_total_ratio\"] = ret[\"pv_total_count\"] / ret[\"pv_total_count\"].max()\n",
        "  ret = ret.reset_index()\n",
        "  ret.set_index(\"item_pv_level\",inplace=True,drop=False)\n",
        "  ret = ret[[\"item_pv_level\",\"pv_total_ratio\",\"pv_trade_ratio\"]]\n",
        "  return ret\n",
        "def set_pv_feature(df,pv_table):\n",
        "  df = pd.merge(df,pv_table,on=\"item_pv_level\",how=\"left\")\n",
        "  return df\n"
      ],
      "execution_count": 0,
      "outputs": []
    },
    {
      "metadata": {
        "id": "RDmlxdfBjsf9",
        "colab_type": "text"
      },
      "cell_type": "markdown",
      "source": [
        "##计算user_age_level"
      ]
    },
    {
      "metadata": {
        "id": "gW-YHilEU0Y4",
        "colab_type": "code",
        "colab": {
          "autoexec": {
            "startup": false,
            "wait_interval": 0
          }
        }
      },
      "cell_type": "code",
      "source": [
        "def get_age_feature(df):\n",
        "  ret = df[[\"user_age_level\",\"is_trade\"]].copy()\n",
        "  ret = ret.groupby(\"user_age_level\").sum()\n",
        "  ret[\"age_total_count\"] = df.groupby(\"user_age_level\").count()[\"is_trade\"]\n",
        "  ret[\"age_trade_ratio\"] = ret[\"is_trade\"] / ret[\"age_total_count\"]\n",
        "  ret[\"age_total_ratio\"] = ret[\"age_total_count\"] / ret[\"age_total_count\"].max()\n",
        "  ret = ret.reset_index()\n",
        "  ret.set_index(\"user_age_level\",inplace=True,drop=False)\n",
        "  ret = ret[[\"user_age_level\",\"age_total_ratio\",\"age_trade_ratio\"]]\n",
        "  return ret\n",
        "def set_age_feature(df,age_table):\n",
        "  df = pd.merge(df,age_table,on=\"user_age_level\",how=\"left\")\n",
        "  return df\n"
      ],
      "execution_count": 0,
      "outputs": []
    },
    {
      "metadata": {
        "id": "zm3FnPE9kC5w",
        "colab_type": "text"
      },
      "cell_type": "markdown",
      "source": [
        "##计算user_occupation_id特征"
      ]
    },
    {
      "metadata": {
        "id": "mkMejoR2VZQN",
        "colab_type": "code",
        "colab": {
          "autoexec": {
            "startup": false,
            "wait_interval": 0
          }
        }
      },
      "cell_type": "code",
      "source": [
        "def get_occupation_feature(df):\n",
        "  ret = df[[\"user_occupation_id\",\"is_trade\"]].copy()\n",
        "  ret = ret.groupby(\"user_occupation_id\").sum()\n",
        "  ret[\"occupation_total_count\"] = df.groupby(\"user_occupation_id\").count()[\"is_trade\"]\n",
        "  ret[\"occupation_trade_ratio\"] = ret[\"is_trade\"] / ret[\"occupation_total_count\"]\n",
        "  ret[\"occupation_total_ratio\"] = ret[\"occupation_total_count\"] / ret[\"occupation_total_count\"].max()\n",
        "  ret = ret.reset_index()\n",
        "  ret.set_index(\"user_occupation_id\",inplace=True,drop=False)\n",
        "  ret = ret[[\"user_occupation_id\",\"occupation_total_ratio\",\"occupation_trade_ratio\"]]\n",
        "  return ret\n",
        "def set_occupation_feature(df,occupation_table):\n",
        "  df = pd.merge(df,occupation_table,on=\"user_occupation_id\",how=\"left\")\n",
        "  return df\n"
      ],
      "execution_count": 0,
      "outputs": []
    },
    {
      "metadata": {
        "id": "bonKqtfHkdRd",
        "colab_type": "text"
      },
      "cell_type": "markdown",
      "source": [
        "##计算user_star_level的特征"
      ]
    },
    {
      "metadata": {
        "id": "Wj_veOACj7iu",
        "colab_type": "code",
        "colab": {
          "autoexec": {
            "startup": false,
            "wait_interval": 0
          }
        }
      },
      "cell_type": "code",
      "source": [
        "def get_star_feature(df):\n",
        "  ret = df[[\"user_star_level\",\"is_trade\"]].copy()\n",
        "  ret = ret.groupby(\"user_star_level\").sum()\n",
        "  ret[\"star_total_count\"] = df.groupby(\"user_star_level\").count()[\"is_trade\"]\n",
        "  ret[\"star_trade_ratio\"] = ret[\"is_trade\"] / ret[\"star_total_count\"]\n",
        "  ret[\"star_total_ratio\"] = ret[\"star_total_count\"] / ret[\"star_total_count\"].max()\n",
        "  ret = ret.reset_index()\n",
        "  ret.set_index(\"user_star_level\",inplace=True,drop=False)\n",
        "  ret = ret[[\"user_star_level\",\"star_total_ratio\",\"star_trade_ratio\"]]\n",
        "  return ret\n",
        "def set_star_feature(df,star_table):\n",
        "  df = pd.merge(df,star_table,on=\"user_star_level\",how=\"left\")\n",
        "  return df\n"
      ],
      "execution_count": 0,
      "outputs": []
    },
    {
      "metadata": {
        "id": "zSHjiF59k122",
        "colab_type": "text"
      },
      "cell_type": "markdown",
      "source": [
        "##计算context_page_id的特征"
      ]
    },
    {
      "metadata": {
        "id": "jHY2I0qhkSyK",
        "colab_type": "code",
        "colab": {
          "autoexec": {
            "startup": false,
            "wait_interval": 0
          }
        }
      },
      "cell_type": "code",
      "source": [
        "def get_page_id_feature(df):\n",
        "  ret = df[[\"context_page_id\",\"is_trade\"]].copy()\n",
        "  ret = ret.groupby(\"context_page_id\").sum()\n",
        "  ret[\"page_id_total_count\"] = df.groupby(\"context_page_id\").count()[\"is_trade\"]\n",
        "  ret[\"page_id_trade_ratio\"] = ret[\"is_trade\"] / ret[\"page_id_total_count\"]\n",
        "  ret[\"page_id_total_ratio\"] = ret[\"page_id_total_count\"] / ret[\"page_id_total_count\"].max()\n",
        "  ret = ret.reset_index()\n",
        "  ret.set_index(\"context_page_id\",inplace=True,drop=False)\n",
        "  ret = ret[[\"context_page_id\",\"page_id_total_ratio\",\"page_id_trade_ratio\"]]\n",
        "  return ret\n",
        "def set_page_id_feature(df,page_id_table):\n",
        "  df = pd.merge(df,page_id_table,on=\"context_page_id\",how=\"left\")\n",
        "  return df\n"
      ],
      "execution_count": 0,
      "outputs": []
    },
    {
      "metadata": {
        "id": "XMUjOHB-lZX_",
        "colab_type": "text"
      },
      "cell_type": "markdown",
      "source": [
        "##计算shop_review_num_level的特征"
      ]
    },
    {
      "metadata": {
        "id": "27629mv5klY0",
        "colab_type": "code",
        "colab": {
          "autoexec": {
            "startup": false,
            "wait_interval": 0
          }
        }
      },
      "cell_type": "code",
      "source": [
        "def get_review_num_feature(df):\n",
        "  ret = df[[\"shop_review_num_level\",\"is_trade\"]].copy()\n",
        "  ret = ret.groupby(\"shop_review_num_level\").sum()\n",
        "  ret[\"review_num_total_count\"] = df.groupby(\"shop_review_num_level\").count()[\"is_trade\"]\n",
        "  ret[\"review_num_trade_ratio\"] = ret[\"is_trade\"] / ret[\"review_num_total_count\"]\n",
        "  ret[\"review_num_total_ratio\"] = ret[\"review_num_total_count\"] / ret[\"review_num_total_count\"].max()\n",
        "  ret = ret.reset_index()\n",
        "  ret.set_index(\"shop_review_num_level\",inplace=True,drop=False)\n",
        "  ret = ret[[\"shop_review_num_level\",\"review_num_total_ratio\",\"review_num_trade_ratio\"]]\n",
        "  return ret\n",
        "def set_review_num_feature(df,review_num_table):\n",
        "  df = pd.merge(df,review_num_table,on=\"shop_review_num_level\",how=\"left\")\n",
        "  return df\n",
        "\n"
      ],
      "execution_count": 0,
      "outputs": []
    },
    {
      "metadata": {
        "id": "7TE-lo7klqTV",
        "colab_type": "text"
      },
      "cell_type": "markdown",
      "source": [
        "##计算shop_review_positive_rate"
      ]
    },
    {
      "metadata": {
        "id": "FFnr6u6XlFCs",
        "colab_type": "code",
        "colab": {
          "autoexec": {
            "startup": false,
            "wait_interval": 0
          }
        }
      },
      "cell_type": "code",
      "source": [
        ""
      ],
      "execution_count": 0,
      "outputs": []
    },
    {
      "metadata": {
        "id": "HUR2MWEZmOpj",
        "colab_type": "text"
      },
      "cell_type": "markdown",
      "source": [
        "##计算shop_star_level的特征"
      ]
    },
    {
      "metadata": {
        "id": "H9eQSgBPlkb8",
        "colab_type": "code",
        "colab": {
          "autoexec": {
            "startup": false,
            "wait_interval": 0
          }
        }
      },
      "cell_type": "code",
      "source": [
        "def get_shop_star_feature(df):\n",
        "  ret = df[[\"shop_star_level\",\"is_trade\"]].copy()\n",
        "  ret = ret.groupby(\"shop_star_level\").sum()\n",
        "  ret[\"shop_star_total_count\"] = df.groupby(\"shop_star_level\").count()[\"is_trade\"]\n",
        "  ret[\"shop_star_trade_ratio\"] = ret[\"is_trade\"] / ret[\"shop_star_total_count\"]\n",
        "  ret[\"shop_star_total_ratio\"] = ret[\"shop_star_total_count\"] / ret[\"shop_star_total_count\"].max()\n",
        "  ret = ret.reset_index()\n",
        "  ret.set_index(\"shop_star_level\",inplace=True,drop=False)\n",
        "  ret = ret[[\"shop_star_level\",\"shop_star_total_ratio\",\"shop_star_trade_ratio\"]]\n",
        "  return ret\n",
        "def set_shop_star_feature(df,shop_star_table):\n",
        "  df = pd.merge(df,shop_star_table,on=\"shop_star_level\",how=\"left\")\n",
        "  return df"
      ],
      "execution_count": 0,
      "outputs": []
    },
    {
      "metadata": {
        "id": "vt0cNStmmW98",
        "colab_type": "text"
      },
      "cell_type": "markdown",
      "source": [
        "##计算shop_score_service的特征"
      ]
    },
    {
      "metadata": {
        "id": "Ihp4EWNYmZy0",
        "colab_type": "code",
        "colab": {
          "autoexec": {
            "startup": false,
            "wait_interval": 0
          }
        }
      },
      "cell_type": "code",
      "source": [
        ""
      ],
      "execution_count": 0,
      "outputs": []
    },
    {
      "metadata": {
        "id": "lYydGNk7mWyP",
        "colab_type": "text"
      },
      "cell_type": "markdown",
      "source": [
        "##计算shop_score_delivery的特征"
      ]
    },
    {
      "metadata": {
        "id": "-C2iL8E9mc-_",
        "colab_type": "code",
        "colab": {
          "autoexec": {
            "startup": false,
            "wait_interval": 0
          }
        }
      },
      "cell_type": "code",
      "source": [
        ""
      ],
      "execution_count": 0,
      "outputs": []
    },
    {
      "metadata": {
        "id": "JwEtkykjmWg8",
        "colab_type": "text"
      },
      "cell_type": "markdown",
      "source": [
        "##计算shop_score_description的特征"
      ]
    },
    {
      "metadata": {
        "id": "CxrD0m4AmRvI",
        "colab_type": "code",
        "colab": {
          "autoexec": {
            "startup": false,
            "wait_interval": 0
          }
        }
      },
      "cell_type": "code",
      "source": [
        ""
      ],
      "execution_count": 0,
      "outputs": []
    },
    {
      "metadata": {
        "id": "MaVztHAI7q14",
        "colab_type": "text"
      },
      "cell_type": "markdown",
      "source": [
        "##计算用户历史的成交数目特征"
      ]
    },
    {
      "metadata": {
        "id": "JyGGcCM58NEu",
        "colab_type": "code",
        "colab": {
          "autoexec": {
            "startup": false,
            "wait_interval": 0
          }
        }
      },
      "cell_type": "code",
      "source": [
        "#这个太强相关了，大概率有问题，加了之后AUC直接从74飙到98\n",
        "def cal_recent_trade_num(df):\n",
        "  ret = df[[\"user_id\",\"is_trade\",\"context_timestamp\"]].copy()\n",
        "  ret = ret.sort_values(by=[\"user_id\",\"context_timestamp\"],ascending=[True,False]).reset_index(drop=True)#重排序\n",
        "  ret2 = ret.groupby(\"user_id\").head(1).groupby(\"user_id\").sum()\n",
        "  ret = ret.groupby(\"user_id\").sum()\n",
        "  ret[\"user_last_type\"] = ret2[\"is_trade\"]\n",
        "  ret.reset_index(inplace=True)\n",
        "  ret[\"is_trade\"] = (ret[\"is_trade\"]-ret[\"is_trade\"].min())/(ret[\"is_trade\"].max()-ret[\"is_trade\"].min())\n",
        "  ret = ret.rename(columns={\"is_trade\":\"user_history_trade_num\"})\n",
        "  ret = ret[[\"user_id\",\"user_history_trade_num\",\"user_last_type\"]].copy()#历史数据和最后一次数据\n",
        "  return ret\n",
        "def set_user_recent_trade_num(df,pd_table):\n",
        "  ret = pd.merge(df,pd_table,on=\"user_id\",how=\"left\").fillna(0)\n",
        "  return ret\n"
      ],
      "execution_count": 0,
      "outputs": []
    },
    {
      "metadata": {
        "id": "nuxaXou5mrRs",
        "colab_type": "text"
      },
      "cell_type": "markdown",
      "source": [
        "##计算item_id的特征"
      ]
    },
    {
      "metadata": {
        "id": "ealSUn5RmutR",
        "colab_type": "code",
        "colab": {
          "autoexec": {
            "startup": false,
            "wait_interval": 0
          }
        }
      },
      "cell_type": "code",
      "source": [
        "def get_item_id_feature(df):\n",
        "  ret = df[[\"item_id\",\"is_trade\"]].copy()\n",
        "  ret = ret.groupby(\"item_id\").sum()\n",
        "  ret[\"item_id_total_count\"] = df.groupby(\"item_id\").count()[\"is_trade\"]\n",
        "  ret[\"item_id_trade_ratio\"] = ret[\"is_trade\"] / ret[\"item_id_total_count\"]\n",
        "  ret[\"item_id_total_ratio\"] = (ret[\"item_id_total_count\"]-ret[\"item_id_total_count\"].min())/(ret[\"item_id_total_count\"].max()-ret[\"item_id_total_count\"].min())\n",
        "  ret = ret.reset_index()\n",
        "  ret.set_index(\"item_id\",inplace=True,drop=False)\n",
        "  ret = ret[[\"item_id\",\"item_id_total_ratio\",\"item_id_trade_ratio\"]]\n",
        "  return ret\n",
        "def set_item_id_feature(df,item_id_table):\n",
        "  df = pd.merge(df,item_id_table,on=\"item_id\",how=\"left\")\n",
        "  return df"
      ],
      "execution_count": 0,
      "outputs": []
    },
    {
      "metadata": {
        "id": "6E6lEffKqnoq",
        "colab_type": "text"
      },
      "cell_type": "markdown",
      "source": [
        "#计算多维特征"
      ]
    },
    {
      "metadata": {
        "id": "9hSQBCSdqzIN",
        "colab_type": "text"
      },
      "cell_type": "markdown",
      "source": [
        "##gender+brand+age+is_trade"
      ]
    },
    {
      "metadata": {
        "id": "hqPyIoATqmUq",
        "colab_type": "code",
        "colab": {
          "autoexec": {
            "startup": false,
            "wait_interval": 0
          }
        }
      },
      "cell_type": "code",
      "source": [
        "def get_gba_score(df):\n",
        "  temp_pd = df[[\"item_brand_id\",\"is_trade\",\"user_gender_id\",\"user_age_level\"]].copy()#返回的DataFrame\n",
        "  #temp_pd.groupby([\"category\",\"user_gender_id\"]).count().at[(\"1968056100269760729\",1),\"is_trade\"]\n",
        "  ret = temp_pd.groupby([\"item_brand_id\",\"user_gender_id\",\"user_age_level\"]).sum()\n",
        "  ret[\"gba_score\"] = (ret[\"is_trade\"]-ret[\"is_trade\"].min())/(ret[\"is_trade\"].max()-ret[\"is_trade\"].min())#归一化\n",
        "  ret = ret.reset_index()\n",
        "  ret.set_index([\"item_brand_id\",\"user_gender_id\",\"user_age_level\"],inplace=True,drop=False)\n",
        "  return ret\n",
        "#设定train和test表数据\n",
        "def set_gba_score(df,score_table):\n",
        "  ret = df[[\"instance_id\",\"item_brand_id\",\"user_gender_id\",\"user_age_level\"]].copy()\n",
        "  ret = pd.merge(ret,score_table,on=[\"item_brand_id\",\"user_gender_id\",\"user_age_level\"],how=\"left\").fillna(0)[[\"instance_id\",\"gba_score\"]].copy()\n",
        "  df = pd.merge(df,ret,on=\"instance_id\",how=\"left\")\n",
        "  return df"
      ],
      "execution_count": 0,
      "outputs": []
    },
    {
      "metadata": {
        "id": "F-LU-qgcyvIt",
        "colab_type": "text"
      },
      "cell_type": "markdown",
      "source": [
        "##price+gender+occupation+is_trade"
      ]
    },
    {
      "metadata": {
        "id": "cgEbMLLEzCfe",
        "colab_type": "code",
        "colab": {
          "autoexec": {
            "startup": false,
            "wait_interval": 0
          }
        }
      },
      "cell_type": "code",
      "source": [
        "def get_pgo_score(df):\n",
        "  temp_pd = df[[\"is_trade\",\"user_occupation_id\",\"user_gender_id\",\"item_price_level\"]].copy()#返回的DataFrame\n",
        "  ret = temp_pd.groupby([\"user_occupation_id\",\"user_gender_id\",\"item_price_level\"]).sum()\n",
        "  ret[\"pgo_score\"] = (ret[\"is_trade\"]-ret[\"is_trade\"].min())/(ret[\"is_trade\"].max()-ret[\"is_trade\"].min())#归一化\n",
        "  ret = ret.reset_index()\n",
        "  ret.set_index([\"user_occupation_id\",\"user_gender_id\",\"item_price_level\"],inplace=True,drop=False)\n",
        "  return ret\n",
        "#设定train和test表数据\n",
        "def set_pgo_score(df,score_table):\n",
        "  ret = df[[\"instance_id\",\"user_occupation_id\",\"user_gender_id\",\"item_price_level\"]].copy()\n",
        "  ret = pd.merge(ret,score_table,on=[\"user_occupation_id\",\"user_gender_id\",\"item_price_level\"],how=\"left\").fillna(0)[[\"instance_id\",\"pgo_score\"]].copy()\n",
        "  df = pd.merge(df,ret,on=\"instance_id\",how=\"left\")\n",
        "  return df"
      ],
      "execution_count": 0,
      "outputs": []
    },
    {
      "metadata": {
        "id": "qc70K1VV9P7k",
        "colab_type": "text"
      },
      "cell_type": "markdown",
      "source": [
        "##service_delivery_description的乘积再乘评价量和评分"
      ]
    },
    {
      "metadata": {
        "id": "S0P2eQit9cnQ",
        "colab_type": "code",
        "colab": {
          "autoexec": {
            "startup": false,
            "wait_interval": 0
          }
        }
      },
      "cell_type": "code",
      "source": [
        "#设定train和test表数据\n",
        "def set_service_delivery_description_score(df):\n",
        "  df[\"shop_star_level_score\"] = (df[\"shop_star_level\"]-df[\"shop_star_level\"].min())/(df[\"shop_star_level\"].max()-df[\"shop_star_level\"].min())\n",
        "  df[\"shop_review_num_level_score\"] = (df[\"shop_review_num_level\"]-df[\"shop_review_num_level\"].min())/(df[\"shop_review_num_level\"].max()-df[\"shop_review_num_level\"].min())\n",
        "  df[\"service_delivery_description_score\"] = df[\"shop_score_service\"]*df[\"shop_score_delivery\"]*df[\"shop_score_description\"]*\\\n",
        "  df[\"shop_review_num_level_score\"]*df[\"shop_review_positive_rate\"]*df[\"shop_star_level_score\"]\n",
        "  \n",
        "  return df"
      ],
      "execution_count": 0,
      "outputs": []
    },
    {
      "metadata": {
        "id": "vaMcsdK9Bcs2",
        "colab_type": "text"
      },
      "cell_type": "markdown",
      "source": [
        "##sales+gender\n",
        "item_sales_level+user_gender_id"
      ]
    },
    {
      "metadata": {
        "id": "zc3m_b6XCJiX",
        "colab_type": "code",
        "colab": {
          "autoexec": {
            "startup": false,
            "wait_interval": 0
          }
        }
      },
      "cell_type": "code",
      "source": [
        "def get_sales_gender_score(df):\n",
        "  temp_pd = df[[\"is_trade\",\"user_gender_id\",\"item_sales_level\"]].copy()#返回的DataFrame\n",
        "  ret = temp_pd.groupby([\"user_gender_id\",\"item_sales_level\"]).sum()\n",
        "  ret[\"sales_gender_score\"] = (ret[\"is_trade\"]-ret[\"is_trade\"].min())/(ret[\"is_trade\"].max()-ret[\"is_trade\"].min())#归一化\n",
        "  ret = ret.reset_index()\n",
        "  ret.set_index([\"user_gender_id\",\"item_sales_level\"],inplace=True,drop=False)\n",
        "  return ret\n",
        "#设定train和test表数据\n",
        "def set_sales_gender_score(df,score_table):\n",
        "  ret = df[[\"instance_id\",\"user_gender_id\",\"item_sales_level\"]].copy()\n",
        "  ret = pd.merge(ret,score_table,on=[\"user_gender_id\",\"item_sales_level\"],how=\"left\").fillna(0)[[\"instance_id\",\"sales_gender_score\"]].copy()\n",
        "  df = pd.merge(df,ret,on=\"instance_id\",how=\"left\")\n",
        "  return df\n"
      ],
      "execution_count": 0,
      "outputs": []
    },
    {
      "metadata": {
        "id": "eAtyit5yS-g_",
        "colab_type": "text"
      },
      "cell_type": "markdown",
      "source": [
        "#将特征加入DataFrame中"
      ]
    },
    {
      "metadata": {
        "id": "THhaDfSB-apn",
        "colab_type": "text"
      },
      "cell_type": "markdown",
      "source": [
        "##单维特征"
      ]
    },
    {
      "metadata": {
        "id": "tqUKHHuzTQyy",
        "colab_type": "code",
        "colab": {
          "autoexec": {
            "startup": false,
            "wait_interval": 0
          }
        }
      },
      "cell_type": "code",
      "source": [
        "#分割线下测试和训练集\n",
        "train_m = train_pd[(train_pd[\"day\"]>='2018-09-18')&(train_pd[\"day\"]<='2018-09-22')]\n",
        "test_m = train_pd[(train_pd[\"day\"]>='2018-09-23')]\n",
        "feature_list=[]#特征列表\n",
        "\n",
        "#item_category_list对应的特征\n",
        "category_trade_rate = get_category_trade_score(train_m)\n",
        "train_m = set_category_trade_score(train_m,category_trade_rate)\n",
        "test_m = set_category_trade_score(test_m,category_trade_rate)\n",
        "if \"category_gender_trade_score\" not in feature_list:\n",
        "  feature_list.append(\"category_gender_trade_score\")\n",
        "#item_brand_id特征\n",
        "brand_pd = get_brand_feature(train_m)\n",
        "train_m = set_brand_feature(train_m,brand_pd)\n",
        "test_m = set_brand_feature(test_m,brand_pd)\n",
        "if \"brand_total_ratio\" not in feature_list:\n",
        "  feature_list.append(\"brand_total_ratio\")\n",
        "if \"brand_trade_ratio\" not in feature_list:\n",
        "  feature_list.append(\"brand_trade_ratio\")\n",
        "#item_city_id的特征\n",
        "city_pd = get_city_feature(train_m)\n",
        "train_m = set_city_feature(train_m,city_pd)\n",
        "test_m = set_city_feature(test_m,city_pd)\n",
        "if \"city_total_ratio\" not in feature_list:\n",
        "  feature_list.append(\"city_total_ratio\")\n",
        "if \"city_trade_ratio\" not in feature_list:\n",
        "  feature_list.append(\"city_trade_ratio\")\n",
        "if \"item_city_id\" not in feature_list:\n",
        "  feature_list.append(\"item_city_id\")\n",
        "#item_price_level特征\n",
        "price_pd = get_price_feature(train_m)\n",
        "train_m = set_price_feature(train_m,price_pd)\n",
        "test_m = set_price_feature(test_m,price_pd)\n",
        "if \"price_total_ratio\" not in feature_list:\n",
        "  feature_list.append(\"price_total_ratio\")\n",
        "if \"price_trade_ratio\" not in feature_list:\n",
        "  feature_list.append(\"price_trade_ratio\")\n",
        "if \"item_price_level\" not in feature_list:\n",
        "  feature_list.append(\"item_price_level\")\n",
        "#item_sales_level的特征\n",
        "sales_pd = get_sales_feature(train_m)\n",
        "train_m = set_sales_feature(train_m,sales_pd)\n",
        "test_m = set_sales_feature(test_m,sales_pd)\n",
        "if \"sales_total_ratio\" not in feature_list:\n",
        "  feature_list.append(\"sales_total_ratio\")\n",
        "if \"sales_trade_ratio\" not in feature_list:\n",
        "  feature_list.append(\"sales_trade_ratio\")\n",
        "if \"item_sales_level\" not in feature_list:\n",
        "  feature_list.append(\"item_sales_level\")\n",
        "#item_collected_level的特征\n",
        "collected_pd = get_collected_feature(train_m)\n",
        "train_m = set_collected_feature(train_m,collected_pd)\n",
        "test_m = set_collected_feature(test_m,collected_pd)\n",
        "if \"collected_total_ratio\" not in feature_list:\n",
        "  feature_list.append(\"collected_total_ratio\")\n",
        "if \"collected_trade_ratio\" not in feature_list:\n",
        "  feature_list.append(\"collected_trade_ratio\")\n",
        "if \"item_collected_level\" not in feature_list:\n",
        "  feature_list.append(\"item_collected_level\")\n",
        "#item_pv_level的特征\n",
        "pv_pd = get_pv_feature(train_m)\n",
        "train_m = set_pv_feature(train_m,pv_pd)\n",
        "test_m = set_pv_feature(test_m,pv_pd)\n",
        "if \"pv_total_ratio\" not in feature_list:\n",
        "  feature_list.append(\"pv_total_ratio\")\n",
        "if \"pv_trade_ratio\" not in feature_list:\n",
        "  feature_list.append(\"pv_trade_ratio\")\n",
        "if \"item_pv_level\" not in feature_list:\n",
        "  feature_list.append(\"item_pv_level\")\n",
        "#user_age_level的特征\n",
        "age_pd = get_age_feature(train_m)\n",
        "train_m = set_age_feature(train_m,age_pd)\n",
        "test_m = set_age_feature(test_m,age_pd)\n",
        "if \"age_total_ratio\" not in feature_list:\n",
        "  feature_list.append(\"age_total_ratio\")\n",
        "if \"age_trade_ratio\" not in feature_list:\n",
        "  feature_list.append(\"age_trade_ratio\")\n",
        "if \"user_age_level\" not in feature_list:\n",
        "  feature_list.append(\"user_age_level\")\n",
        "#user_occupation_id的特征\n",
        "occupation_pd = get_occupation_feature(train_m)\n",
        "train_m = set_occupation_feature(train_m,occupation_pd)\n",
        "test_m = set_occupation_feature(test_m,occupation_pd)\n",
        "if \"occupation_total_ratio\" not in feature_list:\n",
        "  feature_list.append(\"occupation_total_ratio\")\n",
        "if \"occupation_trade_ratio\" not in feature_list:\n",
        "  feature_list.append(\"occupation_trade_ratio\")\n",
        "if \"user_occupation_id\" not in feature_list:\n",
        "  feature_list.append(\"user_occupation_id\")\n",
        "#user_star_level的特征\n",
        "star_pd = get_star_feature(train_m)\n",
        "train_m = set_star_feature(train_m,star_pd)\n",
        "test_m = set_star_feature(test_m,star_pd)\n",
        "if \"star_total_ratio\" not in feature_list:\n",
        "  feature_list.append(\"star_total_ratio\")\n",
        "if \"star_trade_ratio\" not in feature_list:\n",
        "  feature_list.append(\"star_trade_ratio\")\n",
        "if \"user_star_level\" not in feature_list:\n",
        "  feature_list.append(\"user_star_level\")\n",
        "#context_page_id的特征\n",
        "page_id_pd = get_page_id_feature(train_m)\n",
        "train_m = set_page_id_feature(train_m,page_id_pd)\n",
        "test_m = set_page_id_feature(test_m,page_id_pd)\n",
        "if \"page_id_total_ratio\" not in feature_list:\n",
        "  feature_list.append(\"page_id_total_ratio\")\n",
        "if \"page_id_trade_ratio\" not in feature_list:\n",
        "  feature_list.append(\"page_id_trade_ratio\")\n",
        "if \"context_page_id\" not in feature_list:\n",
        "  feature_list.append(\"context_page_id\")\n",
        "#shop_review_num_level的特征\n",
        "review_num_pd = get_review_num_feature(train_m)\n",
        "train_m = set_review_num_feature(train_m,review_num_pd)\n",
        "test_m = set_review_num_feature(test_m,review_num_pd)\n",
        "if \"review_num_total_ratio\" not in feature_list:\n",
        "  feature_list.append(\"review_num_total_ratio\")\n",
        "if \"review_num_trade_ratio\" not in feature_list:\n",
        "  feature_list.append(\"review_num_trade_ratio\")\n",
        "if \"shop_review_num_level\" not in feature_list:\n",
        "  feature_list.append(\"shop_review_num_level\")\n",
        "#计算shop_review_positive_rate\n",
        "if \"shop_review_positive_rate\" not in feature_list:\n",
        "  feature_list.append(\"shop_review_positive_rate\")\n",
        "#计算shop_star_level的特征\n",
        "shop_star_pd = get_shop_star_feature(train_m)\n",
        "train_m = set_shop_star_feature(train_m,shop_star_pd)\n",
        "test_m = set_shop_star_feature(test_m,shop_star_pd)\n",
        "if \"shop_star_total_ratio\" not in feature_list:\n",
        "  feature_list.append(\"shop_star_total_ratio\")\n",
        "if \"shop_star_trade_ratio\" not in feature_list:\n",
        "  feature_list.append(\"shop_star_trade_ratio\")\n",
        "if \"shop_star_level\" not in feature_list:\n",
        "  feature_list.append(\"shop_star_level\")\n",
        "#shop_score_service\n",
        "if \"shop_score_service\" not in feature_list:\n",
        "  feature_list.append(\"shop_score_service\")\n",
        "#shop_score_delivery\n",
        "if \"shop_score_delivery\" not in feature_list:\n",
        "  feature_list.append(\"shop_score_delivery\")\n",
        "#shop_score_description\n",
        "if \"shop_score_description\" not in feature_list:\n",
        "  feature_list.append(\"shop_score_description\")\n"
      ],
      "execution_count": 0,
      "outputs": []
    },
    {
      "metadata": {
        "id": "Tcn0zpAU7atc",
        "colab_type": "text"
      },
      "cell_type": "markdown",
      "source": [
        "##多维较有用的特征"
      ]
    },
    {
      "metadata": {
        "id": "leC5pH9a7eD-",
        "colab_type": "code",
        "colab": {
          "autoexec": {
            "startup": false,
            "wait_interval": 0
          }
        }
      },
      "cell_type": "code",
      "source": [
        "#分割线下测试和训练集\n",
        "train_m = train_pd[(train_pd[\"day\"]>='2018-09-18')&(train_pd[\"day\"]<='2018-09-22')]\n",
        "test_m = train_pd[(train_pd[\"day\"]>='2018-09-23')]\n",
        "feature_list = []\n",
        "\n",
        "#item_id特征\n",
        "item_id_pd = get_item_id_feature(train_m)\n",
        "train_m = set_item_id_feature(train_m,item_id_pd)\n",
        "test_m = set_item_id_feature(test_m,item_id_pd)\n",
        "if \"item_id_trade_ratio\" not in feature_list:\n",
        "  feature_list.append(\"item_id_trade_ratio\")\n",
        "#gba对应的特征\n",
        "gba_pd = get_gba_score(train_m)\n",
        "train_m = set_gba_score(train_m,gba_pd)\n",
        "test_m = set_gba_score(test_m,gba_pd)\n",
        "if \"gba_score\" not in feature_list:\n",
        "  feature_list.append(\"gba_score\")\n",
        "#pgo对应的特征\n",
        "pgo_pd = get_pgo_score(train_m)\n",
        "train_m = set_pgo_score(train_m,pgo_pd)\n",
        "test_m = set_pgo_score(test_m,pgo_pd)\n",
        "if \"pgo_score\" not in feature_list:\n",
        "  feature_list.append(\"pgo_score\")\n",
        "#评分乘积对应的特征\n",
        "train_m = set_service_delivery_description_score(train_m)\n",
        "test_m = set_service_delivery_description_score(test_m)\n",
        "if \"service_delivery_description_score\" not in feature_list:\n",
        "  feature_list.append(\"service_delivery_description_score\")\n",
        "#用户历史的成交数目特征\n",
        "user_recent_trade_pd = cal_recent_trade_num(train_m)\n",
        "train_m = set_user_recent_trade_num(train_m,user_recent_trade_pd)\n",
        "test_m = set_user_recent_trade_num(test_m,user_recent_trade_pd)\n",
        "if \"user_history_trade_num\" not in feature_list:\n",
        "  feature_list.append(\"user_history_trade_num\") \n",
        "#star_collected_sales_gender_score对应的特征\n",
        "sales_gender_score_pd = get_sales_gender_score(train_m)\n",
        "train_m = set_sales_gender_score(train_m,sales_gender_score_pd)\n",
        "test_m = set_sales_gender_score(test_m,sales_gender_score_pd)\n",
        "if \"sales_gender_score\" not in feature_list:\n",
        "  feature_list.append(\"sales_gender_score\")"
      ],
      "execution_count": 0,
      "outputs": []
    },
    {
      "metadata": {
        "id": "a7t0F3rImqZ3",
        "colab_type": "text"
      },
      "cell_type": "markdown",
      "source": [
        "#训练"
      ]
    },
    {
      "metadata": {
        "id": "uw1Jfhf5NCkj",
        "colab_type": "text"
      },
      "cell_type": "markdown",
      "source": [
        "##xgboost"
      ]
    },
    {
      "metadata": {
        "id": "v5EqtPMum2Zg",
        "colab_type": "text"
      },
      "cell_type": "markdown",
      "source": [
        "###参数控制"
      ]
    },
    {
      "metadata": {
        "id": "O4DNCMwWmpZS",
        "colab_type": "code",
        "colab": {
          "autoexec": {
            "startup": false,
            "wait_interval": 0
          }
        }
      },
      "cell_type": "code",
      "source": [
        "#alpha 30, lambda 15, gamma 2\n",
        "param = {}\n",
        "param[\"eta\"] = 0.25\n",
        "param[\"min_child_weight\"] = 1\n",
        "param[\"max_depth\"] = 3\n",
        "param[\"lambda\"] = 15 #控制模型复杂度的权重值的L2正则化项参数，参数越大，模型越不容易过拟合。 默认1\n",
        "param[\"alpha\"] = 4 #控制模型复杂程度的权重值的 L1 正则项参数，参数值越大，模型越不容易过拟合。 默认0\n",
        "param[\"gamma\"] = 1 # 用于控制是否后剪枝的参数,越大越保守，一般0.1、0.2这样子。\n",
        "param[\"subsample\"]=0.8\n",
        "param[\"colsample_bytree\"]=0.8\n",
        "param[\"objective\"] = \"binary:logistic\"\n",
        "param[\"eval_metric\"]=[ \"auc\",\"logloss\"]#error,logloss,auc\n",
        "param[\"silent\"] = 1\n",
        "param[\"seed\"] = 426#(67+156+7+666+886+817+1018+6+3+1024+37)/11\n",
        "num_round = 500\n",
        "eval_result={}"
      ],
      "execution_count": 0,
      "outputs": []
    },
    {
      "metadata": {
        "id": "MMiwaP28m5PJ",
        "colab_type": "text"
      },
      "cell_type": "markdown",
      "source": [
        "###训练模型"
      ]
    },
    {
      "metadata": {
        "id": "wbMZJPmYmn5Q",
        "colab_type": "code",
        "colab": {
          "autoexec": {
            "startup": false,
            "wait_interval": 0
          },
          "output_extras": [
            {
              "item_id": 17
            },
            {
              "item_id": 25
            }
          ],
          "base_uri": "https://localhost:8080/",
          "height": 1259
        },
        "outputId": "19750141-dcd1-40e5-f3d2-a480cde2a4c5",
        "executionInfo": {
          "status": "ok",
          "timestamp": 1520154982680,
          "user_tz": -480,
          "elapsed": 8246,
          "user": {
            "displayName": "姚填佳",
            "photoUrl": "//lh4.googleusercontent.com/-c8yaOIb4NJo/AAAAAAAAAAI/AAAAAAAAACI/2RCS6KOMtQs/s50-c-k-no/photo.jpg",
            "userId": "107989077003671308346"
          }
        }
      },
      "cell_type": "code",
      "source": [
        "X = train_m[feature_list].copy()\n",
        "Y = train_m[\"is_trade\"].copy()\n",
        "train_set = xgb.DMatrix(X,label=Y)\n",
        "X_t = test_m[feature_list].copy()\n",
        "Y_t = test_m[\"is_trade\"].copy()\n",
        "test_set = xgb.DMatrix(X_t,label=Y_t)\n",
        "watchlist = [(train_set,'train'), (test_set, 'test')]\n",
        "model = xgb.train( param, train_set, num_round, watchlist,verbose_eval=True,evals_result=eval_result,early_stopping_rounds=int(0.1*num_round))\n",
        "limit = model.best_ntree_limit"
      ],
      "execution_count": 161,
      "outputs": [
        {
          "output_type": "stream",
          "text": [
            "[0]\ttrain-auc:0.988253\ttrain-logloss:0.483976\ttest-auc:0.502409\ttest-logloss:0.483155\n",
            "Multiple eval metrics have been passed: 'test-logloss' will be used for early stopping.\n",
            "\n",
            "Will train until test-logloss hasn't improved in 50 rounds.\n",
            "[1]\ttrain-auc:0.989449\ttrain-logloss:0.356625\ttest-auc:0.50241\ttest-logloss:0.356878\n",
            "[2]\ttrain-auc:0.989478\ttrain-logloss:0.271296\ttest-auc:0.502411\ttest-logloss:0.273592\n",
            "[3]\ttrain-auc:0.989597\ttrain-logloss:0.214075\ttest-auc:0.624683\ttest-logloss:0.218556\n",
            "[4]\ttrain-auc:0.989537\ttrain-logloss:0.169738\ttest-auc:0.624681\ttest-logloss:0.17728\n",
            "[5]\ttrain-auc:0.990213\ttrain-logloss:0.136687\ttest-auc:0.624801\ttest-logloss:0.14787\n",
            "[6]\ttrain-auc:0.990214\ttrain-logloss:0.112435\ttest-auc:0.624651\ttest-logloss:0.126908\n",
            "[7]\ttrain-auc:0.990254\ttrain-logloss:0.096591\ttest-auc:0.605789\ttest-logloss:0.113573\n",
            "[8]\ttrain-auc:0.990425\ttrain-logloss:0.081432\ttest-auc:0.60579\ttest-logloss:0.102744\n",
            "[9]\ttrain-auc:0.990437\ttrain-logloss:0.06989\ttest-auc:0.60579\ttest-logloss:0.095448\n",
            "[10]\ttrain-auc:0.990438\ttrain-logloss:0.060873\ttest-auc:0.60579\ttest-logloss:0.090814\n",
            "[11]\ttrain-auc:0.990454\ttrain-logloss:0.054264\ttest-auc:0.605789\ttest-logloss:0.088196\n",
            "[12]\ttrain-auc:0.990455\ttrain-logloss:0.048854\ttest-auc:0.605789\ttest-logloss:0.087137\n",
            "[13]\ttrain-auc:0.990454\ttrain-logloss:0.044681\ttest-auc:0.60579\ttest-logloss:0.087265\n",
            "[14]\ttrain-auc:0.990466\ttrain-logloss:0.041452\ttest-auc:0.605789\ttest-logloss:0.0883\n",
            "[15]\ttrain-auc:0.990492\ttrain-logloss:0.039062\ttest-auc:0.605789\ttest-logloss:0.090038\n",
            "[16]\ttrain-auc:0.990495\ttrain-logloss:0.037099\ttest-auc:0.605789\ttest-logloss:0.092317\n",
            "[17]\ttrain-auc:0.99051\ttrain-logloss:0.036137\ttest-auc:0.611704\ttest-logloss:0.093255\n",
            "[18]\ttrain-auc:0.990538\ttrain-logloss:0.035576\ttest-auc:0.605013\ttest-logloss:0.094339\n",
            "[19]\ttrain-auc:0.990553\ttrain-logloss:0.03433\ttest-auc:0.605014\ttest-logloss:0.097371\n",
            "[20]\ttrain-auc:0.990569\ttrain-logloss:0.033419\ttest-auc:0.605013\ttest-logloss:0.100632\n",
            "[21]\ttrain-auc:0.990569\ttrain-logloss:0.032635\ttest-auc:0.605013\ttest-logloss:0.104087\n",
            "[22]\ttrain-auc:0.990571\ttrain-logloss:0.032042\ttest-auc:0.605013\ttest-logloss:0.107663\n",
            "[23]\ttrain-auc:0.990607\ttrain-logloss:0.031875\ttest-auc:0.602331\ttest-logloss:0.108713\n",
            "[24]\ttrain-auc:0.990609\ttrain-logloss:0.031687\ttest-auc:0.601351\ttest-logloss:0.10989\n",
            "[25]\ttrain-auc:0.990609\ttrain-logloss:0.03128\ttest-auc:0.60135\ttest-logloss:0.113601\n",
            "[26]\ttrain-auc:0.990615\ttrain-logloss:0.030961\ttest-auc:0.60135\ttest-logloss:0.117348\n",
            "[27]\ttrain-auc:0.990622\ttrain-logloss:0.030714\ttest-auc:0.60135\ttest-logloss:0.121099\n",
            "[28]\ttrain-auc:0.990619\ttrain-logloss:0.030638\ttest-auc:0.602415\ttest-logloss:0.122113\n",
            "[29]\ttrain-auc:0.990622\ttrain-logloss:0.03046\ttest-auc:0.602415\ttest-logloss:0.125844\n",
            "[30]\ttrain-auc:0.990623\ttrain-logloss:0.030314\ttest-auc:0.602415\ttest-logloss:0.129532\n",
            "[31]\ttrain-auc:0.990623\ttrain-logloss:0.030201\ttest-auc:0.602415\ttest-logloss:0.133149\n",
            "[32]\ttrain-auc:0.990628\ttrain-logloss:0.03011\ttest-auc:0.602415\ttest-logloss:0.13668\n",
            "[33]\ttrain-auc:0.99063\ttrain-logloss:0.030037\ttest-auc:0.602416\ttest-logloss:0.140099\n",
            "[34]\ttrain-auc:0.990642\ttrain-logloss:0.029973\ttest-auc:0.602416\ttest-logloss:0.143396\n",
            "[35]\ttrain-auc:0.990651\ttrain-logloss:0.029929\ttest-auc:0.602416\ttest-logloss:0.146538\n",
            "[36]\ttrain-auc:0.990659\ttrain-logloss:0.029908\ttest-auc:0.602243\ttest-logloss:0.147018\n",
            "[37]\ttrain-auc:0.990661\ttrain-logloss:0.029872\ttest-auc:0.602244\ttest-logloss:0.149979\n",
            "[38]\ttrain-auc:0.990672\ttrain-logloss:0.02984\ttest-auc:0.602243\ttest-logloss:0.152765\n",
            "[39]\ttrain-auc:0.990682\ttrain-logloss:0.029824\ttest-auc:0.600696\ttest-logloss:0.153208\n",
            "[40]\ttrain-auc:0.990681\ttrain-logloss:0.0298\ttest-auc:0.600696\ttest-logloss:0.155809\n",
            "[41]\ttrain-auc:0.990683\ttrain-logloss:0.029779\ttest-auc:0.600696\ttest-logloss:0.158236\n",
            "[42]\ttrain-auc:0.990693\ttrain-logloss:0.029758\ttest-auc:0.600696\ttest-logloss:0.160484\n",
            "[43]\ttrain-auc:0.990695\ttrain-logloss:0.029744\ttest-auc:0.600696\ttest-logloss:0.162567\n",
            "[44]\ttrain-auc:0.990696\ttrain-logloss:0.029735\ttest-auc:0.600316\ttest-logloss:0.163073\n"
          ],
          "name": "stdout"
        },
        {
          "output_type": "stream",
          "text": [
            "[45]\ttrain-auc:0.990696\ttrain-logloss:0.029722\ttest-auc:0.600316\ttest-logloss:0.164974\n",
            "[46]\ttrain-auc:0.990705\ttrain-logloss:0.029709\ttest-auc:0.600316\ttest-logloss:0.16673\n",
            "[47]\ttrain-auc:0.990713\ttrain-logloss:0.029697\ttest-auc:0.599968\ttest-logloss:0.166917\n",
            "[48]\ttrain-auc:0.990715\ttrain-logloss:0.029688\ttest-auc:0.599968\ttest-logloss:0.168528\n",
            "[49]\ttrain-auc:0.990716\ttrain-logloss:0.029678\ttest-auc:0.599968\ttest-logloss:0.17001\n",
            "[50]\ttrain-auc:0.990722\ttrain-logloss:0.029669\ttest-auc:0.598149\ttest-logloss:0.170331\n",
            "[51]\ttrain-auc:0.990728\ttrain-logloss:0.02966\ttest-auc:0.598149\ttest-logloss:0.171684\n",
            "[52]\ttrain-auc:0.990736\ttrain-logloss:0.029651\ttest-auc:0.598149\ttest-logloss:0.172935\n",
            "[53]\ttrain-auc:0.990755\ttrain-logloss:0.029637\ttest-auc:0.596353\ttest-logloss:0.172951\n",
            "[54]\ttrain-auc:0.990762\ttrain-logloss:0.029631\ttest-auc:0.596424\ttest-logloss:0.173023\n",
            "[55]\ttrain-auc:0.990777\ttrain-logloss:0.029619\ttest-auc:0.595255\ttest-logloss:0.17305\n",
            "[56]\ttrain-auc:0.990777\ttrain-logloss:0.029614\ttest-auc:0.59525\ttest-logloss:0.174101\n",
            "[57]\ttrain-auc:0.990786\ttrain-logloss:0.029607\ttest-auc:0.59394\ttest-logloss:0.174226\n",
            "[58]\ttrain-auc:0.990786\ttrain-logloss:0.029603\ttest-auc:0.593713\ttest-logloss:0.174441\n",
            "[59]\ttrain-auc:0.990801\ttrain-logloss:0.029592\ttest-auc:0.592762\ttest-logloss:0.174447\n",
            "[60]\ttrain-auc:0.990801\ttrain-logloss:0.029587\ttest-auc:0.592873\ttest-logloss:0.174791\n",
            "[61]\ttrain-auc:0.99081\ttrain-logloss:0.029579\ttest-auc:0.592091\ttest-logloss:0.175017\n",
            "[62]\ttrain-auc:0.990822\ttrain-logloss:0.029569\ttest-auc:0.592061\ttest-logloss:0.17504\n",
            "Stopping. Best iteration:\n",
            "[12]\ttrain-auc:0.990455\ttrain-logloss:0.048854\ttest-auc:0.605789\ttest-logloss:0.087137\n",
            "\n"
          ],
          "name": "stdout"
        }
      ]
    },
    {
      "metadata": {
        "id": "rFpe5y5lnQf7",
        "colab_type": "text"
      },
      "cell_type": "markdown",
      "source": [
        "###结果展示"
      ]
    },
    {
      "metadata": {
        "id": "fulGgyJFnTN8",
        "colab_type": "code",
        "colab": {
          "autoexec": {
            "startup": false,
            "wait_interval": 0
          },
          "output_extras": [
            {
              "item_id": 1
            },
            {
              "item_id": 2
            }
          ],
          "base_uri": "https://localhost:8080/",
          "height": 1008
        },
        "outputId": "46bf512b-46e1-4fe2-edb4-c735bebc80f2",
        "executionInfo": {
          "status": "ok",
          "timestamp": 1520155003500,
          "user_tz": -480,
          "elapsed": 1265,
          "user": {
            "displayName": "姚填佳",
            "photoUrl": "//lh4.googleusercontent.com/-c8yaOIb4NJo/AAAAAAAAAAI/AAAAAAAAACI/2RCS6KOMtQs/s50-c-k-no/photo.jpg",
            "userId": "107989077003671308346"
          }
        }
      },
      "cell_type": "code",
      "source": [
        "from matplotlib import pyplot \n",
        "from xgboost import plot_importance\n",
        "#plot feature importance\n",
        "ax = plot_importance(model,max_num_features=50)\n",
        "fig = ax.figure\n",
        "fig.set_size_inches(18, 8)\n",
        "pyplot.show()\n",
        "\n",
        "#plot logloss\n",
        "epochs = len(eval_result['train']['logloss'])  \n",
        "x_axis = range(0, epochs)  \n",
        "fig, ax = pyplot.subplots()  \n",
        "ax.plot(x_axis, eval_result['train']['logloss'], label='Train_logloss')  \n",
        "ax.plot(x_axis, eval_result['test']['logloss'], label='Test_logloss')  \n",
        "ax.plot(x_axis, eval_result['train']['auc'], label='Train-auc')  \n",
        "ax.plot(x_axis, eval_result['test']['auc'], label='Test-auc') \n",
        "ax.legend()\n",
        "fig = ax.figure\n",
        "fig.set_size_inches(18, 8)\n",
        "pyplot.ylabel('Loss')  \n",
        "pyplot.xlabel('Iteration Num')  \n",
        "pyplot.title('XGBoost Loss')  \n",
        "pyplot.show()\n"
      ],
      "execution_count": 162,
      "outputs": [
        {
          "output_type": "display_data",
          "data": {
            "image/png": "[encoded data removed]",
            "text/plain": [
              "<matplotlib.figure.Figure at 0x7fa2ba556518>"
            ]
          },
          "metadata": {
            "tags": []
          }
        },
        {
          "output_type": "display_data",
          "data": {
            "image/png": "[encoded data removed]",
            "text/plain": [
              "<matplotlib.figure.Figure at 0x7fa2ba52ecf8>"
            ]
          },
          "metadata": {
            "tags": []
          }
        }
      ]
    },
    {
      "metadata": {
        "id": "1Ri1exAAWEfT",
        "colab_type": "text"
      },
      "cell_type": "markdown",
      "source": [
        "###正式训练重新生成特征"
      ]
    },
    {
      "metadata": {
        "id": "60VJlkVLWHgl",
        "colab_type": "code",
        "colab": {
          "autoexec": {
            "startup": false,
            "wait_interval": 0
          }
        }
      },
      "cell_type": "code",
      "source": [
        "#item_category_list对应的特征\n",
        "category_trade_rate = get_category_trade_score(train_pd)\n",
        "train_pd = set_category_trade_score(train_csv,category_trade_rate)\n",
        "test_pd = set_category_trade_score(test_csv,category_trade_rate)\n",
        "print(train_pd.columns)\n",
        "if \"category_gender_trade_score\" not in feature_list:\n",
        "  feature_list.append(\"category_gender_trade_score\")\n",
        "#item_brand_id特征\n",
        "brand_pd = get_brand_feature(train_pd)\n",
        "train_pd = set_brand_feature(train_pd,brand_pd)\n",
        "test_pd = set_brand_feature(test_pd,brand_pd)\n",
        "if \"brand_total_ratio\" not in feature_list:\n",
        "  feature_list.append(\"brand_total_ratio\")\n",
        "if \"brand_trade_ratio\" not in feature_list:\n",
        "  feature_list.append(\"brand_trade_ratio\")\n",
        "#item_city_id的特征\n",
        "city_pd = get_city_feature(train_pd)\n",
        "train_pd = set_city_feature(train_pd,city_pd)\n",
        "test_pd = set_city_feature(test_pd,city_pd)\n",
        "if \"city_total_ratio\" not in feature_list:\n",
        "  feature_list.append(\"city_total_ratio\")\n",
        "if \"city_trade_ratio\" not in feature_list:\n",
        "  feature_list.append(\"city_trade_ratio\")\n",
        "if \"item_city_id\" not in feature_list:\n",
        "  feature_list.append(\"item_city_id\")\n",
        "#item_price_level特征\n",
        "price_pd = get_price_feature(train_pd)\n",
        "train_pd = set_price_feature(train_pd,price_pd)\n",
        "test_pd = set_price_feature(test_pd,price_pd)\n",
        "if \"price_total_ratio\" not in feature_list:\n",
        "  feature_list.append(\"price_total_ratio\")\n",
        "if \"price_trade_ratio\" not in feature_list:\n",
        "  feature_list.append(\"price_trade_ratio\")\n",
        "if \"item_price_level\" not in feature_list:\n",
        "  feature_list.append(\"item_price_level\")\n",
        "#item_sales_level的特征\n",
        "sales_pd = get_sales_feature(train_pd)\n",
        "train_pd = set_sales_feature(train_pd,sales_pd)\n",
        "test_pd = set_sales_feature(test_pd,sales_pd)\n",
        "if \"sales_total_ratio\" not in feature_list:\n",
        "  feature_list.append(\"sales_total_ratio\")\n",
        "if \"sales_trade_ratio\" not in feature_list:\n",
        "  feature_list.append(\"sales_trade_ratio\")\n",
        "if \"item_sales_level\" not in feature_list:\n",
        "  feature_list.append(\"item_sales_level\")\n",
        "#item_collected_level的特征\n",
        "collected_pd = get_collected_feature(train_pd)\n",
        "train_pd = set_collected_feature(train_pd,collected_pd)\n",
        "test_pd = set_collected_feature(test_pd,collected_pd)\n",
        "if \"collected_total_ratio\" not in feature_list:\n",
        "  feature_list.append(\"collected_total_ratio\")\n",
        "if \"collected_trade_ratio\" not in feature_list:\n",
        "  feature_list.append(\"collected_trade_ratio\")\n",
        "if \"item_collected_level\" not in feature_list:\n",
        "  feature_list.append(\"item_collected_level\")\n",
        "#item_pv_level的特征\n",
        "pv_pd = get_pv_feature(train_pd)\n",
        "train_pd = set_pv_feature(train_pd,pv_pd)\n",
        "test_pd = set_pv_feature(test_pd,pv_pd)\n",
        "if \"pv_total_ratio\" not in feature_list:\n",
        "  feature_list.append(\"pv_total_ratio\")\n",
        "if \"pv_trade_ratio\" not in feature_list:\n",
        "  feature_list.append(\"pv_trade_ratio\")\n",
        "if \"item_pv_level\" not in feature_list:\n",
        "  feature_list.append(\"item_pv_level\")\n",
        "#user_age_level的特征\n",
        "age_pd = get_age_feature(train_pd)\n",
        "train_pd = set_age_feature(train_pd,age_pd)\n",
        "test_pd = set_age_feature(test_pd,age_pd)\n",
        "if \"age_total_ratio\" not in feature_list:\n",
        "  feature_list.append(\"age_total_ratio\")\n",
        "if \"age_trade_ratio\" not in feature_list:\n",
        "  feature_list.append(\"age_trade_ratio\")\n",
        "if \"user_age_level\" not in feature_list:\n",
        "  feature_list.append(\"user_age_level\")\n",
        "#user_occupation_id的特征\n",
        "occupation_pd = get_occupation_feature(train_pd)\n",
        "train_pd = set_occupation_feature(train_pd,occupation_pd)\n",
        "test_pd = set_occupation_feature(test_pd,occupation_pd)\n",
        "if \"occupation_total_ratio\" not in feature_list:\n",
        "  feature_list.append(\"occupation_total_ratio\")\n",
        "if \"occupation_trade_ratio\" not in feature_list:\n",
        "  feature_list.append(\"occupation_trade_ratio\")\n",
        "if \"user_occupation_id\" not in feature_list:\n",
        "  feature_list.append(\"user_occupation_id\")\n",
        "#user_star_level的特征\n",
        "star_pd = get_star_feature(train_pd)\n",
        "train_pd = set_star_feature(train_pd,star_pd)\n",
        "test_pd = set_star_feature(test_pd,star_pd)\n",
        "if \"star_total_ratio\" not in feature_list:\n",
        "  feature_list.append(\"star_total_ratio\")\n",
        "if \"star_trade_ratio\" not in feature_list:\n",
        "  feature_list.append(\"star_trade_ratio\")\n",
        "if \"user_star_level\" not in feature_list:\n",
        "  feature_list.append(\"user_star_level\")\n",
        "#context_page_id的特征\n",
        "page_id_pd = get_page_id_feature(train_pd)\n",
        "train_pd = set_page_id_feature(train_pd,page_id_pd)\n",
        "test_pd = set_page_id_feature(test_pd,page_id_pd)\n",
        "if \"page_id_total_ratio\" not in feature_list:\n",
        "  feature_list.append(\"page_id_total_ratio\")\n",
        "if \"page_id_trade_ratio\" not in feature_list:\n",
        "  feature_list.append(\"page_id_trade_ratio\")\n",
        "if \"context_page_id\" not in feature_list:\n",
        "  feature_list.append(\"context_page_id\")\n",
        "#shop_review_num_level的特征\n",
        "review_num_pd = get_review_num_feature(train_pd)\n",
        "train_pd = set_review_num_feature(train_pd,review_num_pd)\n",
        "test_pd = set_review_num_feature(test_pd,review_num_pd)\n",
        "if \"review_num_total_ratio\" not in feature_list:\n",
        "  feature_list.append(\"review_num_total_ratio\")\n",
        "if \"review_num_trade_ratio\" not in feature_list:\n",
        "  feature_list.append(\"review_num_trade_ratio\")\n",
        "if \"shop_review_num_level\" not in feature_list:\n",
        "  feature_list.append(\"shop_review_num_level\")\n",
        "#计算shop_review_positive_rate\n",
        "if \"shop_review_positive_rate\" not in feature_list:\n",
        "  feature_list.append(\"shop_review_positive_rate\")\n",
        "#计算shop_star_level的特征\n",
        "shop_star_pd = get_shop_star_feature(train_pd)\n",
        "train_pd = set_shop_star_feature(train_pd,shop_star_pd)\n",
        "test_pd = set_shop_star_feature(test_pd,shop_star_pd)\n",
        "if \"shop_star_total_ratio\" not in feature_list:\n",
        "  feature_list.append(\"shop_star_total_ratio\")\n",
        "if \"shop_star_trade_ratio\" not in feature_list:\n",
        "  feature_list.append(\"shop_star_trade_ratio\")\n",
        "if \"shop_star_level\" not in feature_list:\n",
        "  feature_list.append(\"shop_star_level\")\n",
        "#shop_score_service\n",
        "if \"shop_score_service\" not in feature_list:\n",
        "  feature_list.append(\"shop_score_service\")\n",
        "#shop_score_delivery\n",
        "if \"shop_score_delivery\" not in feature_list:\n",
        "  feature_list.append(\"shop_score_delivery\")\n",
        "#shop_score_description\n",
        "if \"shop_score_description\" not in feature_list:\n",
        "  feature_list.append(\"shop_score_description\")\n",
        "#用户历史的成交数目特征\n",
        "user_recent_trade_pd = cal_recent_trade_num(train_pd)\n",
        "train_pd = set_user_recent_trade_num(train_pd,user_recent_trade_pd)\n",
        "test_pd = set_user_recent_trade_num(test_pd,user_recent_trade_pd)\n",
        "if \"user_history_trade_num\" not in feature_list:\n",
        "  feature_list.append(\"user_history_trade_num\") \n",
        "if \"user_last_type\" not in feature_list:\n",
        "  feature_list.append(\"user_last_type\") \n",
        "#item_id特征\n",
        "item_id_pd = get_item_id_feature(train_pd)\n",
        "train_pd = set_item_id_feature(train_pd,item_id_pd)\n",
        "test_pd = set_item_id_feature(test_pd,item_id_pd)\n",
        "if \"item_id_total_ratio\" not in feature_list:\n",
        "  feature_list.append(\"item_id_total_ratio\")\n",
        "if \"item_id_trade_ratio\" not in feature_list:\n",
        "  feature_list.append(\"item_id_trade_ratio\")"
      ],
      "execution_count": 0,
      "outputs": []
    },
    {
      "metadata": {
        "id": "WAN5UYfBF67_",
        "colab_type": "text"
      },
      "cell_type": "markdown",
      "source": [
        "###结果预测"
      ]
    },
    {
      "metadata": {
        "id": "VYiymr4KF9Y-",
        "colab_type": "code",
        "colab": {
          "autoexec": {
            "startup": false,
            "wait_interval": 0
          },
          "output_extras": [
            {
              "item_id": 33
            }
          ],
          "base_uri": "https://localhost:8080/",
          "height": 683
        },
        "outputId": "f489cb4b-0939-491a-cfc4-98d6ec40884b",
        "executionInfo": {
          "status": "ok",
          "timestamp": 1520085198101,
          "user_tz": -480,
          "elapsed": 15178,
          "user": {
            "displayName": "姚填佳",
            "photoUrl": "//lh4.googleusercontent.com/-c8yaOIb4NJo/AAAAAAAAAAI/AAAAAAAAACI/2RCS6KOMtQs/s50-c-k-no/photo.jpg",
            "userId": "107989077003671308346"
          }
        }
      },
      "cell_type": "code",
      "source": [
        "#总训练集生成\n",
        "X = train_pd[feature_list].copy()\n",
        "Y = train_pd[\"is_trade\"].copy()\n",
        "train_set = xgb.DMatrix(X,label=Y)\n",
        "#测试集生成\n",
        "X_t = test_pd[feature_list].copy() \n",
        "test_set = xgb.DMatrix(X_t)\n",
        "#训练总模型\n",
        "watchlist = [(train_set,'train')]\n",
        "final_model = xgb.train( param, train_set, limit,watchlist)\n",
        "#预测\n",
        "predict_out = final_model.predict(test_set,ntree_limit=limit)\n",
        "test_pd[\"predicted_score\"] = predict_out\n",
        "result = test_pd[[\"instance_id\",\"predicted_score\"]].copy()"
      ],
      "execution_count": 148,
      "outputs": [
        {
          "output_type": "stream",
          "text": [
            "[0]\ttrain-auc:0.837086\ttrain-logloss:0.450941\n",
            "[1]\ttrain-auc:0.986474\ttrain-logloss:0.316265\n",
            "[2]\ttrain-auc:0.986638\ttrain-logloss:0.231772\n",
            "[3]\ttrain-auc:0.986734\ttrain-logloss:0.175155\n",
            "[4]\ttrain-auc:0.986719\ttrain-logloss:0.136783\n",
            "[5]\ttrain-auc:0.986825\ttrain-logloss:0.108858\n",
            "[6]\ttrain-auc:0.98686\ttrain-logloss:0.088875\n",
            "[7]\ttrain-auc:0.986887\ttrain-logloss:0.074429\n",
            "[8]\ttrain-auc:0.98691\ttrain-logloss:0.063904\n",
            "[9]\ttrain-auc:0.986998\ttrain-logloss:0.056186\n",
            "[10]\ttrain-auc:0.987028\ttrain-logloss:0.050525\n",
            "[11]\ttrain-auc:0.98706\ttrain-logloss:0.04635\n",
            "[12]\ttrain-auc:0.987079\ttrain-logloss:0.043275\n",
            "[13]\ttrain-auc:0.987061\ttrain-logloss:0.041704\n",
            "[14]\ttrain-auc:0.987077\ttrain-logloss:0.039827\n",
            "[15]\ttrain-auc:0.987073\ttrain-logloss:0.039117\n",
            "[16]\ttrain-auc:0.987155\ttrain-logloss:0.037843\n",
            "[17]\ttrain-auc:0.987197\ttrain-logloss:0.036926\n",
            "[18]\ttrain-auc:0.987232\ttrain-logloss:0.036259\n",
            "[19]\ttrain-auc:0.98725\ttrain-logloss:0.035764\n",
            "[20]\ttrain-auc:0.987265\ttrain-logloss:0.035676\n",
            "[21]\ttrain-auc:0.987274\ttrain-logloss:0.035621\n",
            "[22]\ttrain-auc:0.987306\ttrain-logloss:0.035265\n",
            "[23]\ttrain-auc:0.987328\ttrain-logloss:0.035012\n",
            "[24]\ttrain-auc:0.987348\ttrain-logloss:0.03482\n",
            "[25]\ttrain-auc:0.987366\ttrain-logloss:0.034676\n",
            "[26]\ttrain-auc:0.987396\ttrain-logloss:0.034645\n",
            "[27]\ttrain-auc:0.987406\ttrain-logloss:0.034542\n",
            "[28]\ttrain-auc:0.987421\ttrain-logloss:0.034458\n",
            "[29]\ttrain-auc:0.98744\ttrain-logloss:0.034436\n",
            "[30]\ttrain-auc:0.987458\ttrain-logloss:0.034416\n",
            "[31]\ttrain-auc:0.987471\ttrain-logloss:0.034357\n",
            "[32]\ttrain-auc:0.98748\ttrain-logloss:0.034311\n",
            "[33]\ttrain-auc:0.98749\ttrain-logloss:0.034276\n",
            "[34]\ttrain-auc:0.987515\ttrain-logloss:0.034253\n",
            "[35]\ttrain-auc:0.987525\ttrain-logloss:0.034225\n",
            "[36]\ttrain-auc:0.987532\ttrain-logloss:0.034204\n"
          ],
          "name": "stdout"
        }
      ]
    },
    {
      "metadata": {
        "id": "k9Kk--MpJUZN",
        "colab_type": "text"
      },
      "cell_type": "markdown",
      "source": [
        "###结果保存"
      ]
    },
    {
      "metadata": {
        "id": "pp4y3uIAJWMX",
        "colab_type": "code",
        "colab": {
          "autoexec": {
            "startup": false,
            "wait_interval": 0
          },
          "output_extras": [
            {
              "item_id": 1
            }
          ],
          "base_uri": "https://localhost:8080/",
          "height": 35
        },
        "outputId": "5f7fae99-7bab-488d-efde-08b9d74885c7",
        "executionInfo": {
          "status": "ok",
          "timestamp": 1520086128145,
          "user_tz": -480,
          "elapsed": 2031,
          "user": {
            "displayName": "姚填佳",
            "photoUrl": "//lh4.googleusercontent.com/-c8yaOIb4NJo/AAAAAAAAAAI/AAAAAAAAACI/2RCS6KOMtQs/s50-c-k-no/photo.jpg",
            "userId": "107989077003671308346"
          }
        }
      },
      "cell_type": "code",
      "source": [
        "#保存文件\n",
        "time_string = time.strftime('%Y_%m_%d_%H_%M_%S',time.localtime(time.time()+8*3600))\n",
        "file_name = \"drive/Colab_Notebooks/output/\"+time_string+ '_'+str(model.best_score).split(\".\")[1]+\".csv\"\n",
        "result.to_csv(file_name,index=False,sep=\" \",float_format='%.6f')\n",
        "print(file_name)"
      ],
      "execution_count": 164,
      "outputs": [
        {
          "output_type": "stream",
          "text": [
            "drive/Colab_Notebooks/output/2018_03_03_22_08_48_030655.csv\n"
          ],
          "name": "stdout"
        }
      ]
    },
    {
      "metadata": {
        "id": "sCMb9Xu1NNtL",
        "colab_type": "text"
      },
      "cell_type": "markdown",
      "source": [
        "##sklearn"
      ]
    },
    {
      "metadata": {
        "id": "aMfld31VOEyV",
        "colab_type": "code",
        "colab": {
          "autoexec": {
            "startup": false,
            "wait_interval": 0
          },
          "output_extras": [
            {
              "item_id": 1
            }
          ],
          "base_uri": "https://localhost:8080/",
          "height": 404
        },
        "outputId": "1aa6f7b9-34bc-4e8d-e998-d87aedc7e703",
        "executionInfo": {
          "status": "ok",
          "timestamp": 1520154614160,
          "user_tz": -480,
          "elapsed": 33314,
          "user": {
            "displayName": "姚填佳",
            "photoUrl": "//lh4.googleusercontent.com/-c8yaOIb4NJo/AAAAAAAAAAI/AAAAAAAAACI/2RCS6KOMtQs/s50-c-k-no/photo.jpg",
            "userId": "107989077003671308346"
          }
        }
      },
      "cell_type": "code",
      "source": [
        "from sklearn.ensemble import GradientBoostingRegressor\n",
        "from sklearn import cross_validation, metrics\n",
        "from sklearn.grid_search import GridSearchCV\n",
        "from sklearn.metrics import mean_squared_error\n",
        "import numpy as np\n",
        "import matplotlib.pyplot as plt\n",
        "\n",
        "X_train, y_train = train_m[feature_list].copy(), train_m[\"is_trade\"]\n",
        "X_test, y_test = test_m[feature_list].copy(), test_m[\"is_trade\"]\n",
        "# Fit regression model\n",
        "params = {'n_estimators': 500, 'max_depth': 4, 'min_samples_split': 2,\n",
        "          'learning_rate': 0.01, 'loss': 'ls'}\n",
        "clf = GradientBoostingRegressor(**params)\n",
        "\n",
        "clf.fit(X_train, y_train)\n",
        "mse = mean_squared_error(y_test, clf.predict(X_test))\n",
        "\n",
        "# compute test set deviance\n",
        "test_score = np.zeros((params['n_estimators'],), dtype=np.float64)\n",
        "\n",
        "for i, y_pred in enumerate(clf.staged_predict(X_test)):\n",
        "    test_score[i] = clf.loss_(y_test, y_pred)\n",
        "\n",
        "plt.figure(figsize=(12, 6))\n",
        "plt.subplot(1, 2, 1)\n",
        "plt.title('Deviance')\n",
        "plt.plot(np.arange(params['n_estimators']) + 1, clf.train_score_, 'b-',\n",
        "         label='Training Set Deviance')\n",
        "plt.plot(np.arange(params['n_estimators']) + 1, test_score, 'r-',\n",
        "         label='Test Set Deviance')\n",
        "plt.legend(loc='upper right')\n",
        "plt.xlabel('Boosting Iterations')\n",
        "plt.ylabel('Deviance')\n",
        "\n",
        "# #############################################################################\n",
        "# Plot feature importance\n",
        "feature_importance = clf.feature_importances_\n",
        "# make importances relative to max importance\n",
        "feature_importance = 100.0 * (feature_importance / feature_importance.max())\n",
        "sorted_idx = np.argsort(feature_importance)\n",
        "pos = np.arange(sorted_idx.shape[0]) + .5\n",
        "plt.subplot(1, 2, 2)\n",
        "plt.barh(pos, feature_importance[sorted_idx], align='center')\n",
        "plt.yticks(pos, feature_list)\n",
        "plt.xlabel('Relative Importance')\n",
        "plt.title('Variable Importance')\n",
        "plt.show()"
      ],
      "execution_count": 152,
      "outputs": [
        {
          "output_type": "display_data",
          "data": {
            "image/png": "[encoded data removed]",
            "text/plain": [
              "<matplotlib.figure.Figure at 0x7fa2ac9855f8>"
            ]
          },
          "metadata": {
            "tags": []
          }
        }
      ]
    },
    {
      "metadata": {
        "id": "A0iYo4SjQXR9",
        "colab_type": "code",
        "colab": {
          "autoexec": {
            "startup": false,
            "wait_interval": 0
          },
          "output_extras": [
            {
              "item_id": 1
            }
          ],
          "base_uri": "https://localhost:8080/",
          "height": 125
        },
        "outputId": "16ba329e-ca6b-4b96-b424-8578fdc7c97f",
        "executionInfo": {
          "status": "ok",
          "timestamp": 1520159817025,
          "user_tz": -480,
          "elapsed": 628,
          "user": {
            "displayName": "姚填佳",
            "photoUrl": "//lh4.googleusercontent.com/-c8yaOIb4NJo/AAAAAAAAAAI/AAAAAAAAACI/2RCS6KOMtQs/s50-c-k-no/photo.jpg",
            "userId": "107989077003671308346"
          }
        }
      },
      "cell_type": "code",
      "source": [
        "feature_list"
      ],
      "execution_count": 163,
      "outputs": [
        {
          "output_type": "execute_result",
          "data": {
            "text/plain": [
              "['item_id_trade_ratio',\n",
              " 'gba_score',\n",
              " 'pgo_score',\n",
              " 'service_delivery_description_score',\n",
              " 'user_history_trade_num',\n",
              " 'sales_gender_score']"
            ]
          },
          "metadata": {
            "tags": []
          },
          "execution_count": 163
        }
      ]
    },
    {
      "metadata": {
        "id": "oMK5mvt0lfkr",
        "colab_type": "code",
        "colab": {
          "autoexec": {
            "startup": false,
            "wait_interval": 0
          }
        }
      },
      "cell_type": "code",
      "source": [
        ""
      ],
      "execution_count": 0,
      "outputs": []
    }
  ]
}