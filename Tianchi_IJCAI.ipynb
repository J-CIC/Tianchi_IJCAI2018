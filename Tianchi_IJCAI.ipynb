{
  "nbformat": 4,
  "nbformat_minor": 0,
  "metadata": {
    "colab": {
      "name": "Tianchi_IJCAI.ipynb",
      "version": "0.3.2",
      "views": {},
      "default_view": {},
      "provenance": [],
      "collapsed_sections": [
        "aoM5I7kOyCRA",
        "aQpvZWp8qqJy"
      ]
    },
    "kernelspec": {
      "name": "python3",
      "display_name": "Python 3"
    },
    "accelerator": "GPU"
  },
  "cells": [
    {
      "metadata": {
        "id": "pjWHULTlFwA2",
        "colab_type": "code",
        "colab": {
          "autoexec": {
            "startup": false,
            "wait_interval": 0
          }
        }
      },
      "cell_type": "code",
      "source": [
        "#认证并\n",
        "!apt-get install -y -qq software-properties-common python-software-properties module-init-tools\n",
        "!add-apt-repository -y ppa:alessandro-strada/ppa 2>&1 > /dev/null\n",
        "!apt-get update -qq 2>&1 > /dev/null\n",
        "!apt-get -y install -qq google-drive-ocamlfuse fuse\n",
        "from google.colab import auth\n",
        "auth.authenticate_user()\n",
        "from oauth2client.client import GoogleCredentials\n",
        "creds = GoogleCredentials.get_application_default()\n",
        "import getpass\n",
        "!google-drive-ocamlfuse -headless -id={creds.client_id} -secret={creds.client_secret} < /dev/null 2>&1 | grep URL\n",
        "vcode = getpass.getpass()\n",
        "!echo {vcode} | google-drive-ocamlfuse -headless -id={creds.client_id} -secret={creds.client_secret}"
      ],
      "execution_count": 0,
      "outputs": []
    },
    {
      "metadata": {
        "id": "OdQ1oVTzHZLJ",
        "colab_type": "code",
        "colab": {
          "autoexec": {
            "startup": false,
            "wait_interval": 0
          }
        }
      },
      "cell_type": "code",
      "source": [
        "#挂载云盘\n",
        "!mkdir -p drive\n",
        "!google-drive-ocamlfuse drive  -o nonempty"
      ],
      "execution_count": 0,
      "outputs": []
    },
    {
      "metadata": {
        "id": "hS2MpcExKGI_",
        "colab_type": "code",
        "colab": {
          "autoexec": {
            "startup": false,
            "wait_interval": 0
          }
        }
      },
      "cell_type": "code",
      "source": [
        "import xgboost as xgb\n",
        "import pandas as pd"
      ],
      "execution_count": 0,
      "outputs": []
    },
    {
      "metadata": {
        "id": "vLZrYkMlKENA",
        "colab_type": "code",
        "colab": {
          "autoexec": {
            "startup": false,
            "wait_interval": 0
          }
        }
      },
      "cell_type": "code",
      "source": [
        "#读取数据\n",
        "train_csv = pd.read_csv(\"drive/Colab_Notebooks/data/round1_ijcai_18_train_20180301.txt\",\" \")\n",
        "test_csv = pd.read_csv(\"drive/Colab_Notebooks/data/round1_ijcai_18_test_a_20180301.txt\",\" \")"
      ],
      "execution_count": 0,
      "outputs": []
    },
    {
      "metadata": {
        "id": "gJOWoam8zTTp",
        "colab_type": "code",
        "colab": {
          "autoexec": {
            "startup": false,
            "wait_interval": 0
          },
          "output_extras": [
            {
              "item_id": 1
            }
          ],
          "base_uri": "https://localhost:8080/",
          "height": 215
        },
        "outputId": "b2224af6-875e-432b-fcf9-f62dfd7eddc4",
        "executionInfo": {
          "status": "ok",
          "timestamp": 1519912086086,
          "user_tz": -480,
          "elapsed": 2314,
          "user": {
            "displayName": "姚填佳",
            "photoUrl": "//lh4.googleusercontent.com/-c8yaOIb4NJo/AAAAAAAAAAI/AAAAAAAAACI/2RCS6KOMtQs/s50-c-k-no/photo.jpg",
            "userId": "107989077003671308346"
          }
        }
      },
      "cell_type": "code",
      "source": [
        "#补充时间数据\n",
        "import time\n",
        "train_csv['day']=train_csv.context_timestamp.apply(lambda x:time.strftime(\"%Y-%m-%d\",time.localtime(x)))\n",
        "train_csv['hour']=train_csv.context_timestamp.apply(lambda x:time.strftime(\"%H\",time.localtime(x)))\n",
        "test_csv['day']=test_csv.context_timestamp.apply(lambda x:time.strftime(\"%Y-%m-%d\",time.localtime(x)))\n",
        "test_csv['hour']=test_csv.context_timestamp.apply(lambda x:time.strftime(\"%H\",time.localtime(x)))\n",
        "#展示列名\n",
        "print(\"columns length:\",len(train_csv.columns))\n",
        "print(\"列名：\",train_csv.columns)\n",
        "#时间列\n",
        "train_time_list = sorted(train_csv[\"day\"].unique())\n",
        "print(\"时间序列：\",train_time_list)\n",
        "#分割线下测试和训练集\n",
        "train_m = train_csv[(train_csv[\"day\"]>='2018-09-17')&(train_csv[\"day\"]<='2018-09-22')]\n",
        "test_m = train_csv[(train_csv[\"day\"]>='2018-09-23')&(train_csv[\"day\"]<='2018-09-24')]"
      ],
      "execution_count": 17,
      "outputs": [
        {
          "output_type": "stream",
          "text": [
            "columns length: 29\n",
            "列名： Index(['instance_id', 'item_id', 'item_category_list', 'item_property_list',\n",
            "       'item_brand_id', 'item_city_id', 'item_price_level', 'item_sales_level',\n",
            "       'item_collected_level', 'item_pv_level', 'user_id', 'user_gender_id',\n",
            "       'user_age_level', 'user_occupation_id', 'user_star_level', 'context_id',\n",
            "       'context_timestamp', 'context_page_id', 'predict_category_property',\n",
            "       'shop_id', 'shop_review_num_level', 'shop_review_positive_rate',\n",
            "       'shop_star_level', 'shop_score_service', 'shop_score_delivery',\n",
            "       'shop_score_description', 'is_trade', 'day', 'hour'],\n",
            "      dtype='object')\n",
            "时间序列： ['2018-09-17', '2018-09-18', '2018-09-19', '2018-09-20', '2018-09-21', '2018-09-22', '2018-09-23', '2018-09-24']\n"
          ],
          "name": "stdout"
        }
      ]
    },
    {
      "metadata": {
        "id": "_l3aQ2SUrCk7",
        "colab_type": "text"
      },
      "cell_type": "markdown",
      "source": [
        "# 简单数据统计"
      ]
    },
    {
      "metadata": {
        "id": "aoM5I7kOyCRA",
        "colab_type": "text"
      },
      "cell_type": "markdown",
      "source": [
        "## 基本数据统计"
      ]
    },
    {
      "metadata": {
        "id": "xL-egb05MKV1",
        "colab_type": "code",
        "colab": {
          "autoexec": {
            "startup": false,
            "wait_interval": 0
          },
          "output_extras": [
            {
              "item_id": 2
            }
          ],
          "base_uri": "https://localhost:8080/",
          "height": 287
        },
        "outputId": "80d9bdba-5cf1-4d6e-acf6-5247c9b7834b",
        "executionInfo": {
          "status": "ok",
          "timestamp": 1519903561283,
          "user_tz": -480,
          "elapsed": 1302,
          "user": {
            "displayName": "姚填佳",
            "photoUrl": "//lh4.googleusercontent.com/-c8yaOIb4NJo/AAAAAAAAAAI/AAAAAAAAACI/2RCS6KOMtQs/s50-c-k-no/photo.jpg",
            "userId": "107989077003671308346"
          }
        }
      },
      "cell_type": "code",
      "source": [
        "print('总样本个数:%d' % train_csv.instance_id.unique().shape[0])\n",
        "print('当前正样本个数为： %d' % len(train_csv[train_csv.is_trade == 1]))\n",
        "print('当前负样本个数为： %d' % len(train_csv[train_csv.is_trade == 0]))\n",
        "print('当前商品个数:%d' % train_csv.item_id.unique().shape[0])\n",
        "print('用户数量：%d' % train_csv.user_id.unique().shape[0])\n",
        "print('商户数量：%d' % train_csv.shop_id.unique().shape[0])\n",
        "print('商标数量：%d' % train_csv.item_brand_id.unique().shape[0])\n",
        "print('广告最大等级为：%d' % max(train_csv['item_price_level']))\n",
        "print('最大广告销量等级：%d' % max(train_csv['item_sales_level']))\n",
        "print('最大广告收藏等级:%d' % max(train_csv['item_collected_level']))\n",
        "print('最大浏览量等级:%d' % max(train_csv['item_pv_level']))\n",
        "print('用户的预测年龄等级区间为 %d-%d' % (min(train_csv['user_age_level']),max(train_csv['user_age_level'])))\n",
        "print('用户等级区间为%d-%d' % (min(train_csv['user_star_level']), max(train_csv['user_star_level'])))\n",
        "print('最大店铺评价数量等级:%d' % max(train_csv['shop_review_num_level']))\n",
        "print('最大店铺星级编号:%d' % max(train_csv['shop_star_level']))"
      ],
      "execution_count": 6,
      "outputs": [
        {
          "output_type": "stream",
          "text": [
            "总样本个数:478087\n",
            "当前正样本个数为： 9021\n",
            "当前负样本个数为： 469117\n",
            "当前商品个数:10075\n",
            "用户数量：197694\n",
            "商户数量：3959\n",
            "商标数量：2055\n",
            "广告最大等级为：17\n",
            "最大广告销量等级：17\n",
            "最大广告收藏等级:17\n",
            "最大浏览量等级:21\n",
            "用户的预测年龄等级区间为 -1-1007\n",
            "用户等级区间为-1-3010\n",
            "最大店铺评价数量等级:25\n",
            "最大店铺星级编号:5020\n"
          ],
          "name": "stdout"
        }
      ]
    },
    {
      "metadata": {
        "id": "244_U1KxS1IF",
        "colab_type": "code",
        "colab": {
          "autoexec": {
            "startup": false,
            "wait_interval": 0
          },
          "output_extras": [
            {
              "item_id": 1
            }
          ],
          "base_uri": "https://localhost:8080/",
          "height": 53
        },
        "outputId": "0d293e98-7e14-434a-c068-718397ec07e8",
        "executionInfo": {
          "status": "ok",
          "timestamp": 1519903566523,
          "user_tz": -480,
          "elapsed": 2267,
          "user": {
            "displayName": "姚填佳",
            "photoUrl": "//lh4.googleusercontent.com/-c8yaOIb4NJo/AAAAAAAAAAI/AAAAAAAAACI/2RCS6KOMtQs/s50-c-k-no/photo.jpg",
            "userId": "107989077003671308346"
          }
        }
      },
      "cell_type": "code",
      "source": [
        "%%time\n",
        "import time\n",
        "train_csv['day']=train_csv.context_timestamp.apply(lambda x:time.strftime(\"%Y-%m-%d\",time.localtime(x)))\n",
        "train_csv['hour']=train_csv.context_timestamp.apply(lambda x:time.strftime(\"%H\",time.localtime(x)))"
      ],
      "execution_count": 7,
      "outputs": [
        {
          "output_type": "stream",
          "text": [
            "CPU times: user 1.4 s, sys: 50 ms, total: 1.45 s\n",
            "Wall time: 1.45 s\n"
          ],
          "name": "stdout"
        }
      ]
    },
    {
      "metadata": {
        "id": "c6zCu2ACS6Ii",
        "colab_type": "code",
        "colab": {
          "autoexec": {
            "startup": false,
            "wait_interval": 0
          },
          "output_extras": [
            {
              "item_id": 1
            },
            {
              "item_id": 2
            },
            {
              "item_id": 3
            }
          ],
          "base_uri": "https://localhost:8080/",
          "height": 529
        },
        "outputId": "f0ad54b2-c47e-4381-c099-64da92884898",
        "executionInfo": {
          "status": "ok",
          "timestamp": 1519903787564,
          "user_tz": -480,
          "elapsed": 892,
          "user": {
            "displayName": "姚填佳",
            "photoUrl": "//lh4.googleusercontent.com/-c8yaOIb4NJo/AAAAAAAAAAI/AAAAAAAAACI/2RCS6KOMtQs/s50-c-k-no/photo.jpg",
            "userId": "107989077003671308346"
          }
        }
      },
      "cell_type": "code",
      "source": [
        "print('每天行为数量')\n",
        "print(train_csv.day.value_counts().sort_index())\n",
        "pd.DataFrame(train_csv.day.value_counts().sort_index()).plot()"
      ],
      "execution_count": 9,
      "outputs": [
        {
          "output_type": "stream",
          "text": [
            "每天行为数量\n",
            "2018-09-17     6659\n",
            "2018-09-18    77494\n",
            "2018-09-19    70458\n",
            "2018-09-20    68681\n",
            "2018-09-21    71236\n",
            "2018-09-22    68213\n",
            "2018-09-23    62869\n",
            "2018-09-24    52528\n",
            "Name: day, dtype: int64\n"
          ],
          "name": "stdout"
        },
        {
          "output_type": "execute_result",
          "data": {
            "text/plain": [
              "<matplotlib.axes._subplots.AxesSubplot at 0x7fee8c94fe48>"
            ]
          },
          "metadata": {
            "tags": []
          },
          "execution_count": 9
        },
        {
          "output_type": "display_data",
          "data": {
            "image/png": "[encoded data removed]",
            "text/plain": [
              "<matplotlib.figure.Figure at 0x7fee8ff31668>"
            ]
          },
          "metadata": {
            "tags": []
          }
        }
      ]
    },
    {
      "metadata": {
        "id": "kqCOAw7WtLrD",
        "colab_type": "text"
      },
      "cell_type": "markdown",
      "source": [
        "## item_category_list的统计信息"
      ]
    },
    {
      "metadata": {
        "id": "1iYkQ1wxamFJ",
        "colab_type": "code",
        "colab": {
          "autoexec": {
            "startup": false,
            "wait_interval": 0
          },
          "output_extras": [
            {
              "item_id": 1
            },
            {
              "item_id": 2
            },
            {
              "item_id": 3
            }
          ],
          "base_uri": "https://localhost:8080/",
          "height": 395
        },
        "outputId": "494862d3-e65d-4620-de12-ca4d214f2b56",
        "executionInfo": {
          "status": "ok",
          "timestamp": 1519911568871,
          "user_tz": -480,
          "elapsed": 1728,
          "user": {
            "displayName": "姚填佳",
            "photoUrl": "//lh4.googleusercontent.com/-c8yaOIb4NJo/AAAAAAAAAAI/AAAAAAAAACI/2RCS6KOMtQs/s50-c-k-no/photo.jpg",
            "userId": "107989077003671308346"
          }
        }
      },
      "cell_type": "code",
      "source": [
        "all_data = [train_csv,test_csv]\n",
        "all_data = pd.concat(all_data)\n",
        "category_list= list(map(lambda x:len(x.split(\";\")),all_data[\"item_category_list\"]))\n",
        "item_category_list = pd.DataFrame({\"len\":category_list,\"list\":list(map(lambda x:x.split(\";\"),all_data[\"item_category_list\"]))})\n",
        "print(\"item_category_list分割后长度最小值：\",item_category_list[\"len\"].min(),\" 长度最大值：\",item_category_list[\"len\"].max())\n",
        "pd.DataFrame(item_category_list[\"len\"].value_counts().sort_index()).plot(kind=\"bar\",title=\"item_category_list Distribution\")"
      ],
      "execution_count": 9,
      "outputs": [
        {
          "output_type": "stream",
          "text": [
            "item_category_list分割后长度最小值： 2  长度最大值： 3\n"
          ],
          "name": "stdout"
        },
        {
          "output_type": "execute_result",
          "data": {
            "text/plain": [
              "<matplotlib.axes._subplots.AxesSubplot at 0x7eff955ef208>"
            ]
          },
          "metadata": {
            "tags": []
          },
          "execution_count": 9
        },
        {
          "output_type": "display_data",
          "data": {
            "image/png": "[encoded data removed]",
            "text/plain": [
              "<matplotlib.figure.Figure at 0x7eff8c2f27f0>"
            ]
          },
          "metadata": {
            "tags": []
          }
        }
      ]
    },
    {
      "metadata": {
        "id": "QSZEjoj2_rHB",
        "colab_type": "text"
      },
      "cell_type": "markdown",
      "source": [
        "# 计算特征"
      ]
    },
    {
      "metadata": {
        "id": "a5RuzsnHBvb5",
        "colab_type": "code",
        "colab": {
          "autoexec": {
            "startup": false,
            "wait_interval": 0
          }
        }
      },
      "cell_type": "code",
      "source": [
        "feature_list=[]#特征列表"
      ],
      "execution_count": 0,
      "outputs": []
    },
    {
      "metadata": {
        "id": "aQpvZWp8qqJy",
        "colab_type": "text"
      },
      "cell_type": "markdown",
      "source": [
        "## 计算item_category_list所有类别信息对应的is_trade数目z-score\n",
        "感觉区别度不算大，此特征不一定有太大作用"
      ]
    },
    {
      "metadata": {
        "id": "sMUTXzHIq32C",
        "colab_type": "code",
        "colab": {
          "autoexec": {
            "startup": false,
            "wait_interval": 0
          },
          "output_extras": [
            {
              "item_id": 1
            }
          ],
          "base_uri": "https://localhost:8080/",
          "height": 269
        },
        "outputId": "a5383d68-568b-42ee-b99a-6e8a5c02ee12",
        "executionInfo": {
          "status": "ok",
          "timestamp": 1519915614159,
          "user_tz": -480,
          "elapsed": 870,
          "user": {
            "displayName": "姚填佳",
            "photoUrl": "//lh4.googleusercontent.com/-c8yaOIb4NJo/AAAAAAAAAAI/AAAAAAAAACI/2RCS6KOMtQs/s50-c-k-no/photo.jpg",
            "userId": "107989077003671308346"
          }
        }
      },
      "cell_type": "code",
      "source": [
        "#传入DataFrame而获取对应category的is_trade数目表\n",
        "def get_category_trade_num(df):\n",
        "  temp_pd = df[[\"instance_id\",\"item_category_list\",\"is_trade\"]].copy()#返回的DataFrame\n",
        "  #只留第2个category，第一个category都是一样的\n",
        "  temp_pd[\"category\"] =  list(map(lambda x:x.split(\";\")[1],temp_pd[\"item_category_list\"]))\n",
        "  ret = temp_pd.groupby(\"category\").sum().reset_index()\n",
        "  ret[\"is_trade\"] = ret[\"is_trade\"].astype(int)\n",
        "  ret[\"trade_ratio\"] = ret[\"is_trade\"]/len(df)#trade的比例\n",
        "  ret[\"trade_ratio_z_score\"] = (ret[\"trade_ratio\"]-ret[\"trade_ratio\"].mean())/ret[\"trade_ratio\"].std()#计算z-score\n",
        "  ret = ret[[\"category\",\"trade_ratio_z_score\"]]\n",
        "  return ret\n",
        "category_trade_rate = get_category_trade_num(all_data)\n",
        "feature_list.append(\"trade_ratio_z_score\")\n",
        "print(category_trade_rate)"
      ],
      "execution_count": 63,
      "outputs": [
        {
          "output_type": "stream",
          "text": [
            "               category  trade_ratio_z_score\n",
            "0   1968056100269760729            -0.820056\n",
            "1   2011981573061447208            -0.649341\n",
            "2     22731265849056483            -0.827218\n",
            "3   2436715285093487584            -0.768722\n",
            "4   2642175453151805566            -0.681574\n",
            "5   3203673979138763595            -0.734101\n",
            "6   4879721024980945592            -0.792598\n",
            "7    509660095530134768             0.682951\n",
            "8   5755694407684602296             1.234491\n",
            "9   5799347067982556520             0.692502\n",
            "10  7258015885215914736             1.723953\n",
            "11  8277336076276184272             1.498323\n",
            "12  8710739180200009128            -0.558611\n"
          ],
          "name": "stdout"
        }
      ]
    },
    {
      "metadata": {
        "id": "CCP5D6HrCGLR",
        "colab_type": "text"
      },
      "cell_type": "markdown",
      "source": [
        "## 计算item_property_list对应的特征"
      ]
    },
    {
      "metadata": {
        "id": "PvLnmjbDCQ3H",
        "colab_type": "code",
        "colab": {
          "autoexec": {
            "startup": false,
            "wait_interval": 0
          }
        }
      },
      "cell_type": "code",
      "source": [
        ""
      ],
      "execution_count": 0,
      "outputs": []
    }
  ]
}