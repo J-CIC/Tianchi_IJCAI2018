{
  "nbformat": 4,
  "nbformat_minor": 0,
  "metadata": {
    "colab": {
      "name": "Tianchi_IJCAI.ipynb",
      "version": "0.3.2",
      "views": {},
      "default_view": {},
      "provenance": [],
      "collapsed_sections": [
        "_l3aQ2SUrCk7",
        "kqCOAw7WtLrD",
        "QSZEjoj2_rHB"
      ]
    },
    "kernelspec": {
      "name": "python3",
      "display_name": "Python 3"
    },
    "accelerator": "GPU"
  },
  "cells": [
    {
      "metadata": {
        "id": "pjWHULTlFwA2",
        "colab_type": "code",
        "colab": {
          "autoexec": {
            "startup": false,
            "wait_interval": 0
          },
          "output_extras": [
            {
              "item_id": 5
            }
          ],
          "base_uri": "https://localhost:8080/",
          "height": 143
        },
        "outputId": "e217b2a4-5a48-4876-db2b-86ddad7134c0",
        "executionInfo": {
          "status": "ok",
          "timestamp": 1520065690182,
          "user_tz": -480,
          "elapsed": 13688,
          "user": {
            "displayName": "姚填佳",
            "photoUrl": "//lh4.googleusercontent.com/-c8yaOIb4NJo/AAAAAAAAAAI/AAAAAAAAACI/2RCS6KOMtQs/s50-c-k-no/photo.jpg",
            "userId": "107989077003671308346"
          }
        }
      },
      "cell_type": "code",
      "source": [
        "#认证\n",
        "!apt-get install -y -qq software-properties-common python-software-properties module-init-tools\n",
        "!add-apt-repository -y ppa:alessandro-strada/ppa 2>&1 > /dev/null\n",
        "!apt-get update -qq 2>&1 > /dev/null\n",
        "!apt-get -y install -qq google-drive-ocamlfuse fuse\n",
        "from google.colab import auth\n",
        "auth.authenticate_user()\n",
        "from oauth2client.client import GoogleCredentials\n",
        "creds = GoogleCredentials.get_application_default()\n",
        "import getpass\n",
        "!google-drive-ocamlfuse -headless -id={creds.client_id} -secret={creds.client_secret} < /dev/null 2>&1 | grep URL\n",
        "vcode = getpass.getpass()\n",
        "!echo {vcode} | google-drive-ocamlfuse -headless -id={creds.client_id} -secret={creds.client_secret}"
      ],
      "execution_count": 6,
      "outputs": [
        {
          "output_type": "stream",
          "text": [
            "gpg: keybox '/tmp/tmp_nhur5d2/pubring.gpg' created\n",
            "gpg: /tmp/tmp_nhur5d2/trustdb.gpg: trustdb created\n",
            "gpg: key AD5F235DF639B041: public key \"Launchpad PPA for Alessandro Strada\" imported\n",
            "gpg: Total number processed: 1\n",
            "gpg:               imported: 1\n",
            "Warning: apt-key output should not be parsed (stdout is not a terminal)\n",
            "··········\n"
          ],
          "name": "stdout"
        }
      ]
    },
    {
      "metadata": {
        "id": "OdQ1oVTzHZLJ",
        "colab_type": "code",
        "colab": {
          "autoexec": {
            "startup": false,
            "wait_interval": 0
          }
        }
      },
      "cell_type": "code",
      "source": [
        "#挂载云盘\n",
        "!mkdir -p drive\n",
        "!google-drive-ocamlfuse drive  -o nonempty"
      ],
      "execution_count": 0,
      "outputs": []
    },
    {
      "metadata": {
        "id": "hS2MpcExKGI_",
        "colab_type": "code",
        "colab": {
          "autoexec": {
            "startup": false,
            "wait_interval": 0
          },
          "output_extras": [
            {
              "item_id": 1
            }
          ],
          "base_uri": "https://localhost:8080/",
          "height": 71
        },
        "outputId": "9a7bc868-2d07-4e84-94b6-c6627a35690e",
        "executionInfo": {
          "status": "ok",
          "timestamp": 1520065701781,
          "user_tz": -480,
          "elapsed": 2213,
          "user": {
            "displayName": "姚填佳",
            "photoUrl": "//lh4.googleusercontent.com/-c8yaOIb4NJo/AAAAAAAAAAI/AAAAAAAAACI/2RCS6KOMtQs/s50-c-k-no/photo.jpg",
            "userId": "107989077003671308346"
          }
        }
      },
      "cell_type": "code",
      "source": [
        "!pip install xgboost\n",
        "import xgboost as xgb\n",
        "import pandas as pd\n",
        "import numpy as np"
      ],
      "execution_count": 8,
      "outputs": [
        {
          "output_type": "stream",
          "text": [
            "Requirement already satisfied: xgboost in /usr/local/lib/python3.6/dist-packages\r\n",
            "Requirement already satisfied: numpy in /usr/local/lib/python3.6/dist-packages (from xgboost)\r\n",
            "Requirement already satisfied: scipy in /usr/local/lib/python3.6/dist-packages (from xgboost)\r\n"
          ],
          "name": "stdout"
        }
      ]
    },
    {
      "metadata": {
        "id": "vLZrYkMlKENA",
        "colab_type": "code",
        "colab": {
          "autoexec": {
            "startup": false,
            "wait_interval": 0
          },
          "output_extras": [
            {
              "item_id": 1
            }
          ],
          "base_uri": "https://localhost:8080/",
          "height": 35
        },
        "outputId": "0fd05ce4-b278-4af7-ea3d-b33b6054e4f1",
        "executionInfo": {
          "status": "ok",
          "timestamp": 1520070823312,
          "user_tz": -480,
          "elapsed": 22745,
          "user": {
            "displayName": "姚填佳",
            "photoUrl": "//lh4.googleusercontent.com/-c8yaOIb4NJo/AAAAAAAAAAI/AAAAAAAAACI/2RCS6KOMtQs/s50-c-k-no/photo.jpg",
            "userId": "107989077003671308346"
          }
        }
      },
      "cell_type": "code",
      "source": [
        "#读取数据\n",
        "train_csv = pd.read_csv(\"drive/Colab_Notebooks/data/round1_ijcai_18_train_20180301.txt\",\" \")\n",
        "test_csv = pd.read_csv(\"drive/Colab_Notebooks/data/round1_ijcai_18_test_a_20180301.txt\",\" \")\n",
        "print(len(train_csv),len(test_csv))"
      ],
      "execution_count": 30,
      "outputs": [
        {
          "output_type": "stream",
          "text": [
            "478138 18371\n"
          ],
          "name": "stdout"
        }
      ]
    },
    {
      "metadata": {
        "id": "hKnP8hHwso7s",
        "colab_type": "code",
        "colab": {
          "autoexec": {
            "startup": false,
            "wait_interval": 0
          },
          "output_extras": [
            {
              "item_id": 1
            }
          ],
          "base_uri": "https://localhost:8080/",
          "height": 35
        },
        "outputId": "a2410b2c-0a15-40fb-f62c-aa508a5dc263",
        "executionInfo": {
          "status": "ok",
          "timestamp": 1520071265076,
          "user_tz": -480,
          "elapsed": 612,
          "user": {
            "displayName": "姚填佳",
            "photoUrl": "//lh4.googleusercontent.com/-c8yaOIb4NJo/AAAAAAAAAAI/AAAAAAAAACI/2RCS6KOMtQs/s50-c-k-no/photo.jpg",
            "userId": "107989077003671308346"
          }
        }
      },
      "cell_type": "code",
      "source": [
        "train_pd = train_csv.drop_duplicates(\"instance_id\").copy()\n",
        "test_pd = test_csv.drop_duplicates(\"instance_id\").copy()\n",
        "print(len(train_csv),len(test_csv))"
      ],
      "execution_count": 38,
      "outputs": [
        {
          "output_type": "stream",
          "text": [
            "478138 18371\n"
          ],
          "name": "stdout"
        }
      ]
    },
    {
      "metadata": {
        "id": "gJOWoam8zTTp",
        "colab_type": "code",
        "colab": {
          "autoexec": {
            "startup": false,
            "wait_interval": 0
          },
          "output_extras": [
            {
              "item_id": 1
            }
          ],
          "base_uri": "https://localhost:8080/",
          "height": 377
        },
        "outputId": "ea54d340-85bc-4aa8-fe34-0f51b6e63565",
        "executionInfo": {
          "status": "ok",
          "timestamp": 1520076710446,
          "user_tz": -480,
          "elapsed": 2327,
          "user": {
            "displayName": "姚填佳",
            "photoUrl": "//lh4.googleusercontent.com/-c8yaOIb4NJo/AAAAAAAAAAI/AAAAAAAAACI/2RCS6KOMtQs/s50-c-k-no/photo.jpg",
            "userId": "107989077003671308346"
          }
        }
      },
      "cell_type": "code",
      "source": [
        "#补充时间数据\n",
        "import time\n",
        "train_pd['day']=train_pd.context_timestamp.apply(lambda x:time.strftime(\"%Y-%m-%d\",time.localtime(x+3600*8)))\n",
        "train_pd['hour']=train_pd.context_timestamp.apply(lambda x:time.strftime(\"%H\",time.localtime(x+3600*8)))\n",
        "test_pd['day']=test_pd.context_timestamp.apply(lambda x:time.strftime(\"%Y-%m-%d\",time.localtime(x+3600*8)))\n",
        "test_pd['hour']=test_pd.context_timestamp.apply(lambda x:time.strftime(\"%H\",time.localtime(x+3600*8)))\n",
        "#展示列名\n",
        "print(\"columns length:\",len(train_pd.columns))\n",
        "print(\"列名：\",train_pd.columns)\n",
        "#时间列\n",
        "train_time_list = sorted(train_pd[\"day\"].unique())\n",
        "print(\"时间序列：\",train_time_list)"
      ],
      "execution_count": 78,
      "outputs": [
        {
          "output_type": "stream",
          "text": [
            "columns length: 54\n",
            "列名： Index(['instance_id', 'item_id', 'item_category_list', 'item_property_list',\n",
            "       'item_brand_id', 'item_city_id', 'item_price_level', 'item_sales_level',\n",
            "       'item_collected_level', 'item_pv_level', 'user_id', 'user_gender_id',\n",
            "       'user_age_level', 'user_occupation_id', 'user_star_level', 'context_id',\n",
            "       'context_timestamp', 'context_page_id', 'predict_category_property',\n",
            "       'shop_id', 'shop_review_num_level', 'shop_review_positive_rate',\n",
            "       'shop_star_level', 'shop_score_service', 'shop_score_delivery',\n",
            "       'shop_score_description', 'is_trade', 'category_gender_trade_score',\n",
            "       'brand_total_ratio', 'brand_trade_ratio', 'city_total_ratio',\n",
            "       'city_trade_ratio', 'price_total_ratio', 'price_trade_ratio',\n",
            "       'sales_total_ratio', 'sales_trade_ratio', 'collected_total_ratio',\n",
            "       'collected_trade_ratio', 'pv_total_ratio', 'pv_trade_ratio',\n",
            "       'age_total_ratio', 'age_trade_ratio', 'occupation_total_ratio',\n",
            "       'occupation_trade_ratio', 'star_total_ratio', 'star_trade_ratio',\n",
            "       'page_id_total_ratio', 'page_id_trade_ratio', 'review_num_total_ratio',\n",
            "       'review_num_trade_ratio', 'shop_star_total_ratio',\n",
            "       'shop_star_trade_ratio', 'day', 'hour'],\n",
            "      dtype='object')\n",
            "时间序列： ['2018-09-18', '2018-09-19', '2018-09-20', '2018-09-21', '2018-09-22', '2018-09-23', '2018-09-24']\n"
          ],
          "name": "stdout"
        }
      ]
    },
    {
      "metadata": {
        "id": "_l3aQ2SUrCk7",
        "colab_type": "text"
      },
      "cell_type": "markdown",
      "source": [
        "# 简单数据统计"
      ]
    },
    {
      "metadata": {
        "id": "aoM5I7kOyCRA",
        "colab_type": "text"
      },
      "cell_type": "markdown",
      "source": [
        "## 基本数据统计"
      ]
    },
    {
      "metadata": {
        "id": "xL-egb05MKV1",
        "colab_type": "code",
        "colab": {
          "autoexec": {
            "startup": false,
            "wait_interval": 0
          },
          "output_extras": [
            {
              "item_id": 2
            }
          ],
          "base_uri": "https://localhost:8080/",
          "height": 287
        },
        "outputId": "a824bd43-3022-4a8a-88da-c321ff30f1e5",
        "executionInfo": {
          "status": "ok",
          "timestamp": 1520003450479,
          "user_tz": -480,
          "elapsed": 1197,
          "user": {
            "displayName": "姚填佳",
            "photoUrl": "//lh4.googleusercontent.com/-c8yaOIb4NJo/AAAAAAAAAAI/AAAAAAAAACI/2RCS6KOMtQs/s50-c-k-no/photo.jpg",
            "userId": "107989077003671308346"
          }
        }
      },
      "cell_type": "code",
      "source": [
        "print('总样本个数:%d' % train_csv.instance_id.unique().shape[0])\n",
        "print('当前正样本个数为： %d' % len(train_csv[train_csv.is_trade == 1]))\n",
        "print('当前负样本个数为： %d' % len(train_csv[train_csv.is_trade == 0]))\n",
        "print('当前商品个数:%d' % train_csv.item_id.unique().shape[0])\n",
        "print('用户数量：%d' % train_csv.user_id.unique().shape[0])\n",
        "print('商户数量：%d' % train_csv.shop_id.unique().shape[0])\n",
        "print('商标数量：%d' % train_csv.item_brand_id.unique().shape[0])\n",
        "print('广告最大等级为：%d' % max(train_csv['item_price_level']))\n",
        "print('最大广告销量等级：%d' % max(train_csv['item_sales_level']))\n",
        "print('最大广告收藏等级:%d' % max(train_csv['item_collected_level']))\n",
        "print('最大浏览量等级:%d' % max(train_csv['item_pv_level']))\n",
        "print('用户的预测年龄等级区间为 %d-%d' % (min(train_csv['user_age_level']),max(train_csv['user_age_level'])))\n",
        "print('用户等级区间为%d-%d' % (min(train_csv['user_star_level']), max(train_csv['user_star_level'])))\n",
        "print('最大店铺评价数量等级:%d' % max(train_csv['shop_review_num_level']))\n",
        "print('最大店铺星级编号:%d' % max(train_csv['shop_star_level']))"
      ],
      "execution_count": 7,
      "outputs": [
        {
          "output_type": "stream",
          "text": [
            "总样本个数:478087\n",
            "当前正样本个数为： 8994\n",
            "当前负样本个数为： 469093\n",
            "当前商品个数:10075\n",
            "用户数量：197685\n",
            "商户数量：3959\n",
            "商标数量：2055\n",
            "广告最大等级为：17\n",
            "最大广告销量等级：17\n",
            "最大广告收藏等级:17\n",
            "最大浏览量等级:21\n",
            "用户的预测年龄等级区间为 -1-1007\n",
            "用户等级区间为-1-3010\n",
            "最大店铺评价数量等级:25\n",
            "最大店铺星级编号:5020\n"
          ],
          "name": "stdout"
        }
      ]
    },
    {
      "metadata": {
        "id": "244_U1KxS1IF",
        "colab_type": "code",
        "colab": {
          "autoexec": {
            "startup": false,
            "wait_interval": 0
          },
          "output_extras": [
            {
              "item_id": 1
            }
          ],
          "base_uri": "https://localhost:8080/",
          "height": 53
        },
        "outputId": "a4fb4dc7-7de2-4058-e15d-9a2677b269d2",
        "executionInfo": {
          "status": "ok",
          "timestamp": 1520003472882,
          "user_tz": -480,
          "elapsed": 2374,
          "user": {
            "displayName": "姚填佳",
            "photoUrl": "//lh4.googleusercontent.com/-c8yaOIb4NJo/AAAAAAAAAAI/AAAAAAAAACI/2RCS6KOMtQs/s50-c-k-no/photo.jpg",
            "userId": "107989077003671308346"
          }
        }
      },
      "cell_type": "code",
      "source": [
        "%%time\n",
        "import time\n",
        "train_csv['day']=train_csv.context_timestamp.apply(lambda x:time.strftime(\"%Y-%m-%d\",time.localtime(x+3600*8)))\n",
        "train_csv['hour']=train_csv.context_timestamp.apply(lambda x:time.strftime(\"%H\",time.localtime(x+3600*8)))"
      ],
      "execution_count": 9,
      "outputs": [
        {
          "output_type": "stream",
          "text": [
            "CPU times: user 1.53 s, sys: 33 ms, total: 1.57 s\n",
            "Wall time: 1.57 s\n"
          ],
          "name": "stdout"
        }
      ]
    },
    {
      "metadata": {
        "id": "c6zCu2ACS6Ii",
        "colab_type": "code",
        "colab": {
          "autoexec": {
            "startup": false,
            "wait_interval": 0
          },
          "output_extras": [
            {
              "item_id": 1
            },
            {
              "item_id": 2
            },
            {
              "item_id": 3
            }
          ],
          "base_uri": "https://localhost:8080/",
          "height": 511
        },
        "outputId": "7b345909-b0d6-44d1-d2aa-a0dd04d13542",
        "executionInfo": {
          "status": "ok",
          "timestamp": 1520003474866,
          "user_tz": -480,
          "elapsed": 1302,
          "user": {
            "displayName": "姚填佳",
            "photoUrl": "//lh4.googleusercontent.com/-c8yaOIb4NJo/AAAAAAAAAAI/AAAAAAAAACI/2RCS6KOMtQs/s50-c-k-no/photo.jpg",
            "userId": "107989077003671308346"
          }
        }
      },
      "cell_type": "code",
      "source": [
        "print('每天行为数量')\n",
        "print(train_csv.day.value_counts().sort_index())\n",
        "pd.DataFrame(train_csv.day.value_counts().sort_index()).plot()"
      ],
      "execution_count": 10,
      "outputs": [
        {
          "output_type": "stream",
          "text": [
            "每天行为数量\n",
            "2018-09-18    78261\n",
            "2018-09-19    70926\n",
            "2018-09-20    68377\n",
            "2018-09-21    71193\n",
            "2018-09-22    68309\n",
            "2018-09-23    63610\n",
            "2018-09-24    57411\n",
            "Name: day, dtype: int64\n"
          ],
          "name": "stdout"
        },
        {
          "output_type": "execute_result",
          "data": {
            "text/plain": [
              "<matplotlib.axes._subplots.AxesSubplot at 0x7fd3a13ba128>"
            ]
          },
          "metadata": {
            "tags": []
          },
          "execution_count": 10
        },
        {
          "output_type": "display_data",
          "data": {
            "image/png": "[encoded data removed]",
            "text/plain": [
              "<matplotlib.figure.Figure at 0x7fd3c33e1e48>"
            ]
          },
          "metadata": {
            "tags": []
          }
        }
      ]
    },
    {
      "metadata": {
        "id": "kqCOAw7WtLrD",
        "colab_type": "text"
      },
      "cell_type": "markdown",
      "source": [
        "## item_category_list的统计信息"
      ]
    },
    {
      "metadata": {
        "id": "1iYkQ1wxamFJ",
        "colab_type": "code",
        "colab": {
          "autoexec": {
            "startup": false,
            "wait_interval": 0
          },
          "output_extras": [
            {
              "item_id": 1
            },
            {
              "item_id": 2
            },
            {
              "item_id": 3
            }
          ],
          "base_uri": "https://localhost:8080/",
          "height": 395
        },
        "outputId": "14345cd3-bd5c-4086-cd61-c35c7d6e28c1",
        "executionInfo": {
          "status": "ok",
          "timestamp": 1519953838709,
          "user_tz": -480,
          "elapsed": 1896,
          "user": {
            "displayName": "姚填佳",
            "photoUrl": "//lh4.googleusercontent.com/-c8yaOIb4NJo/AAAAAAAAAAI/AAAAAAAAACI/2RCS6KOMtQs/s50-c-k-no/photo.jpg",
            "userId": "107989077003671308346"
          }
        }
      },
      "cell_type": "code",
      "source": [
        "all_data = [train_csv,test_csv]\n",
        "all_data = pd.concat(all_data)\n",
        "category_list= list(map(lambda x:len(x.split(\";\")),all_data[\"item_category_list\"]))\n",
        "item_category_list = pd.DataFrame({\"len\":category_list,\"list\":list(map(lambda x:x.split(\";\"),all_data[\"item_category_list\"]))})\n",
        "print(\"item_category_list分割后长度最小值：\",item_category_list[\"len\"].min(),\" 长度最大值：\",item_category_list[\"len\"].max())\n",
        "pd.DataFrame(item_category_list[\"len\"].value_counts().sort_index()).plot(kind=\"bar\",title=\"item_category_list Distribution\")"
      ],
      "execution_count": 10,
      "outputs": [
        {
          "output_type": "stream",
          "text": [
            "item_category_list分割后长度最小值： 2  长度最大值： 3\n"
          ],
          "name": "stdout"
        },
        {
          "output_type": "execute_result",
          "data": {
            "text/plain": [
              "<matplotlib.axes._subplots.AxesSubplot at 0x7fb5e81996d8>"
            ]
          },
          "metadata": {
            "tags": []
          },
          "execution_count": 10
        },
        {
          "output_type": "display_data",
          "data": {
            "image/png": "[encoded data removed]",
            "text/plain": [
              "<matplotlib.figure.Figure at 0x7fb60d55ee48>"
            ]
          },
          "metadata": {
            "tags": []
          }
        }
      ]
    },
    {
      "metadata": {
        "id": "z4PJZLhBVQHy",
        "colab_type": "text"
      },
      "cell_type": "markdown",
      "source": [
        "## item_property_list的统计信息"
      ]
    },
    {
      "metadata": {
        "id": "qHCusU2kVWuV",
        "colab_type": "code",
        "colab": {
          "autoexec": {
            "startup": false,
            "wait_interval": 0
          },
          "output_extras": [
            {
              "item_id": 1
            },
            {
              "item_id": 2
            },
            {
              "item_id": 3
            }
          ],
          "base_uri": "https://localhost:8080/",
          "height": 542
        },
        "outputId": "83d46c65-e8e7-4131-d89c-68b5e0983cf7",
        "executionInfo": {
          "status": "ok",
          "timestamp": 1519980353349,
          "user_tz": -480,
          "elapsed": 5794,
          "user": {
            "displayName": "姚填佳",
            "photoUrl": "//lh4.googleusercontent.com/-c8yaOIb4NJo/AAAAAAAAAAI/AAAAAAAAACI/2RCS6KOMtQs/s50-c-k-no/photo.jpg",
            "userId": "107989077003671308346"
          }
        }
      },
      "cell_type": "code",
      "source": [
        "all_data = [train_csv,test_csv]\n",
        "all_data = pd.concat(all_data)\n",
        "property_list= list(map(lambda x:len(x.split(\";\")),all_data[\"item_property_list\"]))\n",
        "item_property_list = pd.DataFrame({\"len\":property_list,\"list\":list(map(lambda x:x.split(\";\"),all_data[\"item_property_list\"]))})\n",
        "print(\"item_category_list分割后长度最小值：\",item_property_list[\"len\"].min(),\" 长度最大值：\",item_property_list[\"len\"].max())\n",
        "pd.DataFrame(item_property_list[\"len\"].value_counts().sort_index()).plot(kind=\"bar\",title=\"item_property_list Distribution\",figsize=(18,8))"
      ],
      "execution_count": 6,
      "outputs": [
        {
          "output_type": "stream",
          "text": [
            "item_category_list分割后长度最小值： 6  长度最大值： 100\n"
          ],
          "name": "stdout"
        },
        {
          "output_type": "execute_result",
          "data": {
            "text/plain": [
              "<matplotlib.axes._subplots.AxesSubplot at 0x7f009cbd8eb8>"
            ]
          },
          "metadata": {
            "tags": []
          },
          "execution_count": 6
        },
        {
          "output_type": "display_data",
          "data": {
            "image/png": "[encoded data removed]",
            "text/plain": [
              "<matplotlib.figure.Figure at 0x7f009965dd68>"
            ]
          },
          "metadata": {
            "tags": []
          }
        }
      ]
    },
    {
      "metadata": {
        "id": "QSZEjoj2_rHB",
        "colab_type": "text"
      },
      "cell_type": "markdown",
      "source": [
        "# 计算特征"
      ]
    },
    {
      "metadata": {
        "id": "a5RuzsnHBvb5",
        "colab_type": "code",
        "colab": {
          "autoexec": {
            "startup": false,
            "wait_interval": 0
          }
        }
      },
      "cell_type": "code",
      "source": [
        "feature_list=[]#特征列表"
      ],
      "execution_count": 0,
      "outputs": []
    },
    {
      "metadata": {
        "id": "aQpvZWp8qqJy",
        "colab_type": "text"
      },
      "cell_type": "markdown",
      "source": [
        "## 计算item_category_list所有类别信息对应的is_trade数目z-score\n",
        "感觉区别度不算大，此特征不一定有太大作用"
      ]
    },
    {
      "metadata": {
        "id": "sMUTXzHIq32C",
        "colab_type": "code",
        "colab": {
          "autoexec": {
            "startup": false,
            "wait_interval": 0
          },
          "output_extras": [
            {
              "item_id": 1
            }
          ],
          "base_uri": "https://localhost:8080/",
          "height": 179
        },
        "outputId": "8f83e00d-4852-47ed-9ba6-ca9d86e18289",
        "executionInfo": {
          "status": "ok",
          "timestamp": 1520071271396,
          "user_tz": -480,
          "elapsed": 1755,
          "user": {
            "displayName": "姚填佳",
            "photoUrl": "//lh4.googleusercontent.com/-c8yaOIb4NJo/AAAAAAAAAAI/AAAAAAAAACI/2RCS6KOMtQs/s50-c-k-no/photo.jpg",
            "userId": "107989077003671308346"
          }
        }
      },
      "cell_type": "code",
      "source": [
        "#传入DataFrame而获取对应category的is_trade数目表\n",
        "def get_category_trade_score(df):\n",
        "  temp_pd = df[[\"instance_id\",\"item_category_list\",\"is_trade\",\"user_gender_id\"]].copy()#返回的DataFrame\n",
        "  #只留第2个category，第一个category都是一样的\n",
        "  temp_pd[\"category\"] =  list(map(lambda x:x.split(\";\")[1],temp_pd[\"item_category_list\"]))\n",
        "  #temp_pd.groupby([\"category\",\"user_gender_id\"]).count().at[(\"1968056100269760729\",1),\"is_trade\"]\n",
        "  ret = temp_pd.groupby([\"category\",\"user_gender_id\"]).count()\n",
        "  #ret[\"trade_ratio\"] = ret[\"is_trade\"]/len(df)#trade的比例\n",
        "  ret[\"category_gender_trade_score\"] = (ret[\"is_trade\"]-ret[\"is_trade\"].mean())/ret[\"is_trade\"].std()#计算z-score\n",
        "  ret = ret.reset_index()\n",
        "  ret.set_index([\"category\",\"user_gender_id\"],inplace=True,drop=False)\n",
        "  return ret\n",
        "#设定train和test表数据\n",
        "def set_category_trade_score(df,score_table):\n",
        "  ret = df[[\"instance_id\",\"item_category_list\",\"user_gender_id\"]].copy()\n",
        "  ret[\"category\"] = list(map(lambda x:x.split(\";\")[1],ret[\"item_category_list\"]))\n",
        "  ret = pd.merge(ret,score_table,on=[\"category\",\"user_gender_id\"],how=\"left\",suffixes=[\"\",\"_r\"]).fillna(0)[[\"instance_id\",\"category_gender_trade_score\"]].copy()\n",
        "  df = pd.merge(df,ret,on=\"instance_id\",how=\"left\")\n",
        "  return df\n",
        "category_trade_rate = get_category_trade_score(train_pd)\n",
        "train_pd = set_category_trade_score(train_csv,category_trade_rate)\n",
        "test_pd = set_category_trade_score(test_csv,category_trade_rate)\n",
        "print(train_pd.columns)\n",
        "if \"category_gender_trade_score\" not in feature_list:\n",
        "  feature_list.append(\"category_gender_trade_score\")"
      ],
      "execution_count": 40,
      "outputs": [
        {
          "output_type": "stream",
          "text": [
            "Index(['instance_id', 'item_id', 'item_category_list', 'item_property_list',\n",
            "       'item_brand_id', 'item_city_id', 'item_price_level', 'item_sales_level',\n",
            "       'item_collected_level', 'item_pv_level', 'user_id', 'user_gender_id',\n",
            "       'user_age_level', 'user_occupation_id', 'user_star_level', 'context_id',\n",
            "       'context_timestamp', 'context_page_id', 'predict_category_property',\n",
            "       'shop_id', 'shop_review_num_level', 'shop_review_positive_rate',\n",
            "       'shop_star_level', 'shop_score_service', 'shop_score_delivery',\n",
            "       'shop_score_description', 'is_trade', 'category_gender_trade_score'],\n",
            "      dtype='object')\n"
          ],
          "name": "stdout"
        }
      ]
    },
    {
      "metadata": {
        "id": "CCP5D6HrCGLR",
        "colab_type": "text"
      },
      "cell_type": "markdown",
      "source": [
        "## 计算item_property_list对应的特征"
      ]
    },
    {
      "metadata": {
        "id": "PvLnmjbDCQ3H",
        "colab_type": "code",
        "colab": {
          "autoexec": {
            "startup": false,
            "wait_interval": 0
          }
        }
      },
      "cell_type": "code",
      "source": [
        "%%time\n",
        "def get_property_dict(df):\n",
        "  ret = df[[\"user_gender_id\",\"item_property_list\",\"is_trade\"]].copy()\n",
        "  #下面这句骚操作把一行扩展成多行\n",
        "  ret = ret.drop('item_property_list', axis=1).join(ret['item_property_list'].str.split(';', expand=True).stack().reset_index(level=1, drop=True).rename('item_property_list'))\n",
        "  ret = ret.rename(columns={\"item_property_list\":\"property\"})\n",
        "  ret = ret.groupby([\"property\",\"user_gender_id\"]).count()\n",
        "  ret = ret.reset_index()\n",
        "  ret.set_index([\"property\",\"user_gender_id\"],inplace=True,drop=False)\n",
        "  ret[\"is_trade\"] = ret[\"is_trade\"]/ret[\"is_trade\"].max()#归一化\n",
        "  return ret\n",
        "#这里怎么用没想好\n",
        "property_pd = get_property_dict(train_pd)"
      ],
      "execution_count": 0,
      "outputs": []
    },
    {
      "metadata": {
        "id": "lT9cq5quErN-",
        "colab_type": "text"
      },
      "cell_type": "markdown",
      "source": [
        "##计算item_brand_id特征"
      ]
    },
    {
      "metadata": {
        "id": "VK28_Hvfj6HS",
        "colab_type": "code",
        "colab": {
          "autoexec": {
            "startup": false,
            "wait_interval": 0
          }
        }
      },
      "cell_type": "code",
      "source": [
        "def get_brand_feature(df):\n",
        "  ret = df[[\"item_brand_id\",\"is_trade\"]].copy()\n",
        "  ret = ret.groupby(\"item_brand_id\").sum()\n",
        "  ret[\"brand_total_count\"] = df.groupby(\"item_brand_id\").count()[\"is_trade\"]\n",
        "  ret[\"brand_trade_ratio\"] = ret[\"is_trade\"] / ret[\"brand_total_count\"]\n",
        "  ret[\"brand_total_ratio\"] = ret[\"brand_total_count\"]/ret[\"brand_total_count\"].max()\n",
        "  ret = ret.reset_index()\n",
        "  ret.set_index(\"item_brand_id\",inplace=True,drop=False)\n",
        "  ret = ret[[\"item_brand_id\",\"brand_total_ratio\",\"brand_trade_ratio\"]]\n",
        "  return ret\n",
        "def set_brand_feature(df,brand_table):\n",
        "  df = pd.merge(df,brand_table,on=\"item_brand_id\",how=\"left\")\n",
        "  return df\n",
        "brand_pd = get_brand_feature(train_pd)\n",
        "train_pd = set_brand_feature(train_pd,brand_pd)\n",
        "test_pd = set_brand_feature(test_pd,brand_pd)\n",
        "if \"brand_total_ratio\" not in feature_list:\n",
        "  feature_list.append(\"brand_total_ratio\")\n",
        "if \"brand_trade_ratio\" not in feature_list:\n",
        "  feature_list.append(\"brand_trade_ratio\")"
      ],
      "execution_count": 0,
      "outputs": []
    },
    {
      "metadata": {
        "id": "IfdTsNGMOAgs",
        "colab_type": "text"
      },
      "cell_type": "markdown",
      "source": [
        "##计算item_city_id的特征"
      ]
    },
    {
      "metadata": {
        "id": "3OacrSVwGubJ",
        "colab_type": "code",
        "colab": {
          "autoexec": {
            "startup": false,
            "wait_interval": 0
          }
        }
      },
      "cell_type": "code",
      "source": [
        "def get_city_feature(df):\n",
        "  ret = df[[\"item_city_id\",\"is_trade\"]].copy()\n",
        "  ret = ret.groupby(\"item_city_id\").sum()\n",
        "  ret[\"city_total_count\"] = df.groupby(\"item_city_id\").count()[\"is_trade\"]\n",
        "  ret[\"city_trade_ratio\"] = ret[\"is_trade\"] / ret[\"city_total_count\"]\n",
        "  ret[\"city_total_ratio\"] = ret[\"city_total_count\"]/ret[\"city_total_count\"].max()\n",
        "  ret = ret.reset_index()\n",
        "  ret.set_index(\"item_city_id\",inplace=True,drop=False)\n",
        "  ret = ret[[\"item_city_id\",\"city_total_ratio\",\"city_trade_ratio\"]]\n",
        "  return ret\n",
        "def set_city_feature(df,city_table):\n",
        "  df = pd.merge(df,city_table,on=\"item_city_id\",how=\"left\")\n",
        "  return df\n",
        "city_pd = get_city_feature(train_pd)\n",
        "train_pd = set_city_feature(train_pd,city_pd)\n",
        "test_pd = set_city_feature(test_pd,city_pd)\n",
        "if \"city_total_ratio\" not in feature_list:\n",
        "  feature_list.append(\"city_total_ratio\")\n",
        "if \"city_trade_ratio\" not in feature_list:\n",
        "  feature_list.append(\"city_trade_ratio\")\n",
        "if \"item_city_id\" not in feature_list:\n",
        "  feature_list.append(\"item_city_id\")"
      ],
      "execution_count": 0,
      "outputs": []
    },
    {
      "metadata": {
        "id": "SeMTd4NDPQbj",
        "colab_type": "text"
      },
      "cell_type": "markdown",
      "source": [
        "##计算item_price_level特征"
      ]
    },
    {
      "metadata": {
        "id": "CIgDYrVdPWdU",
        "colab_type": "code",
        "colab": {
          "autoexec": {
            "startup": false,
            "wait_interval": 0
          }
        }
      },
      "cell_type": "code",
      "source": [
        "def get_price_feature(df):\n",
        "  ret = df[[\"item_price_level\",\"is_trade\"]].copy()\n",
        "  ret = ret.groupby(\"item_price_level\").sum()\n",
        "  ret[\"price_total_count\"] = df.groupby(\"item_price_level\").count()[\"is_trade\"]\n",
        "  ret[\"price_trade_ratio\"] = ret[\"is_trade\"] / ret[\"price_total_count\"]\n",
        "  ret[\"price_total_ratio\"] = ret[\"price_total_count\"] / ret[\"price_total_count\"].max()\n",
        "  ret = ret.reset_index()\n",
        "  ret.set_index(\"item_price_level\",inplace=True,drop=False)\n",
        "  ret = ret[[\"item_price_level\",\"price_total_ratio\",\"price_trade_ratio\"]]\n",
        "  return ret\n",
        "def set_price_feature(df,price_table):\n",
        "  df = pd.merge(df,price_table,on=\"item_price_level\",how=\"left\")\n",
        "  return df\n",
        "price_pd = get_price_feature(train_pd)\n",
        "train_pd = set_price_feature(train_pd,price_pd)\n",
        "test_pd = set_price_feature(test_pd,price_pd)\n",
        "if \"price_total_ratio\" not in feature_list:\n",
        "  feature_list.append(\"price_total_ratio\")\n",
        "if \"price_trade_ratio\" not in feature_list:\n",
        "  feature_list.append(\"price_trade_ratio\")\n",
        "if \"item_price_level\" not in feature_list:\n",
        "  feature_list.append(\"item_price_level\")"
      ],
      "execution_count": 0,
      "outputs": []
    },
    {
      "metadata": {
        "id": "t6_yYIxxT6x6",
        "colab_type": "text"
      },
      "cell_type": "markdown",
      "source": [
        "##计算item_sales_level的特征"
      ]
    },
    {
      "metadata": {
        "id": "afZZ6Vd_Tll-",
        "colab_type": "code",
        "colab": {
          "autoexec": {
            "startup": false,
            "wait_interval": 0
          }
        }
      },
      "cell_type": "code",
      "source": [
        "def get_sales_feature(df):\n",
        "  ret = df[[\"item_sales_level\",\"is_trade\"]].copy()\n",
        "  ret = ret.groupby(\"item_sales_level\").sum()\n",
        "  ret[\"sales_total_count\"] = df.groupby(\"item_sales_level\").count()[\"is_trade\"]\n",
        "  ret[\"sales_trade_ratio\"] = ret[\"is_trade\"] / ret[\"sales_total_count\"]\n",
        "  ret[\"sales_total_ratio\"] = ret[\"sales_total_count\"] / ret[\"sales_total_count\"].max()\n",
        "  ret = ret.reset_index()\n",
        "  ret.set_index(\"item_sales_level\",inplace=True,drop=False)\n",
        "  ret = ret[[\"item_sales_level\",\"sales_total_ratio\",\"sales_trade_ratio\"]]\n",
        "  return ret\n",
        "def set_sales_feature(df,sales_table):\n",
        "  df = pd.merge(df,sales_table,on=\"item_sales_level\",how=\"left\")\n",
        "  return df\n",
        "sales_pd = get_sales_feature(train_pd)\n",
        "train_pd = set_sales_feature(train_pd,sales_pd)\n",
        "test_pd = set_sales_feature(test_pd,sales_pd)\n",
        "if \"sales_total_ratio\" not in feature_list:\n",
        "  feature_list.append(\"sales_total_ratio\")\n",
        "if \"sales_trade_ratio\" not in feature_list:\n",
        "  feature_list.append(\"sales_trade_ratio\")\n",
        "if \"item_sales_level\" not in feature_list:\n",
        "  feature_list.append(\"item_sales_level\")"
      ],
      "execution_count": 0,
      "outputs": []
    },
    {
      "metadata": {
        "id": "7PiJXVAKUoS_",
        "colab_type": "text"
      },
      "cell_type": "markdown",
      "source": [
        "##计算item_collected_level的特征"
      ]
    },
    {
      "metadata": {
        "id": "zTI6RNprUbrR",
        "colab_type": "code",
        "colab": {
          "autoexec": {
            "startup": false,
            "wait_interval": 0
          }
        }
      },
      "cell_type": "code",
      "source": [
        "def get_collected_feature(df):\n",
        "  ret = df[[\"item_collected_level\",\"is_trade\"]].copy()\n",
        "  ret = ret.groupby(\"item_collected_level\").sum()\n",
        "  ret[\"collected_total_count\"] = df.groupby(\"item_collected_level\").count()[\"is_trade\"]\n",
        "  ret[\"collected_trade_ratio\"] = ret[\"is_trade\"] / ret[\"collected_total_count\"]\n",
        "  ret[\"collected_total_ratio\"] = ret[\"collected_total_count\"] / ret[\"collected_total_count\"].max()\n",
        "  ret = ret.reset_index()\n",
        "  ret.set_index(\"item_collected_level\",inplace=True,drop=False)\n",
        "  ret = ret[[\"item_collected_level\",\"collected_total_ratio\",\"collected_trade_ratio\"]]\n",
        "  return ret\n",
        "def set_collected_feature(df,collected_table):\n",
        "  df = pd.merge(df,collected_table,on=\"item_collected_level\",how=\"left\")\n",
        "  return df\n",
        "collected_pd = get_collected_feature(train_pd)\n",
        "train_pd = set_collected_feature(train_pd,collected_pd)\n",
        "test_pd = set_collected_feature(test_pd,collected_pd)\n",
        "if \"collected_total_ratio\" not in feature_list:\n",
        "  feature_list.append(\"collected_total_ratio\")\n",
        "if \"collected_trade_ratio\" not in feature_list:\n",
        "  feature_list.append(\"collected_trade_ratio\")\n",
        "if \"item_collected_level\" not in feature_list:\n",
        "  feature_list.append(\"item_collected_level\")"
      ],
      "execution_count": 0,
      "outputs": []
    },
    {
      "metadata": {
        "id": "z5ZXIxkvVUK4",
        "colab_type": "text"
      },
      "cell_type": "markdown",
      "source": [
        "##计算item_pv_level的特征"
      ]
    },
    {
      "metadata": {
        "id": "iQ25zMWiUd1X",
        "colab_type": "code",
        "colab": {
          "autoexec": {
            "startup": false,
            "wait_interval": 0
          }
        }
      },
      "cell_type": "code",
      "source": [
        "def get_pv_feature(df):\n",
        "  ret = df[[\"item_pv_level\",\"is_trade\"]].copy()\n",
        "  ret = ret.groupby(\"item_pv_level\").sum()\n",
        "  ret[\"pv_total_count\"] = df.groupby(\"item_pv_level\").count()[\"is_trade\"]\n",
        "  ret[\"pv_trade_ratio\"] = ret[\"is_trade\"] / ret[\"pv_total_count\"]\n",
        "  ret[\"pv_total_ratio\"] = ret[\"pv_total_count\"] / ret[\"pv_total_count\"].max()\n",
        "  ret = ret.reset_index()\n",
        "  ret.set_index(\"item_pv_level\",inplace=True,drop=False)\n",
        "  ret = ret[[\"item_pv_level\",\"pv_total_ratio\",\"pv_trade_ratio\"]]\n",
        "  return ret\n",
        "def set_pv_feature(df,pv_table):\n",
        "  df = pd.merge(df,pv_table,on=\"item_pv_level\",how=\"left\")\n",
        "  return df\n",
        "pv_pd = get_pv_feature(train_pd)\n",
        "train_pd = set_pv_feature(train_pd,pv_pd)\n",
        "test_pd = set_pv_feature(test_pd,pv_pd)\n",
        "if \"pv_total_ratio\" not in feature_list:\n",
        "  feature_list.append(\"pv_total_ratio\")\n",
        "if \"pv_trade_ratio\" not in feature_list:\n",
        "  feature_list.append(\"pv_trade_ratio\")\n",
        "if \"item_pv_level\" not in feature_list:\n",
        "  feature_list.append(\"item_pv_level\")"
      ],
      "execution_count": 0,
      "outputs": []
    },
    {
      "metadata": {
        "id": "RDmlxdfBjsf9",
        "colab_type": "text"
      },
      "cell_type": "markdown",
      "source": [
        "##计算user_age_level"
      ]
    },
    {
      "metadata": {
        "id": "gW-YHilEU0Y4",
        "colab_type": "code",
        "colab": {
          "autoexec": {
            "startup": false,
            "wait_interval": 0
          }
        }
      },
      "cell_type": "code",
      "source": [
        "def get_age_feature(df):\n",
        "  ret = df[[\"user_age_level\",\"is_trade\"]].copy()\n",
        "  ret = ret.groupby(\"user_age_level\").sum()\n",
        "  ret[\"age_total_count\"] = df.groupby(\"user_age_level\").count()[\"is_trade\"]\n",
        "  ret[\"age_trade_ratio\"] = ret[\"is_trade\"] / ret[\"age_total_count\"]\n",
        "  ret[\"age_total_ratio\"] = ret[\"age_total_count\"] / ret[\"age_total_count\"].max()\n",
        "  ret = ret.reset_index()\n",
        "  ret.set_index(\"user_age_level\",inplace=True,drop=False)\n",
        "  ret = ret[[\"user_age_level\",\"age_total_ratio\",\"age_trade_ratio\"]]\n",
        "  return ret\n",
        "def set_age_feature(df,age_table):\n",
        "  df = pd.merge(df,age_table,on=\"user_age_level\",how=\"left\")\n",
        "  return df\n",
        "age_pd = get_age_feature(train_pd)\n",
        "train_pd = set_age_feature(train_pd,age_pd)\n",
        "test_pd = set_age_feature(test_pd,age_pd)\n",
        "if \"age_total_ratio\" not in feature_list:\n",
        "  feature_list.append(\"age_total_ratio\")\n",
        "if \"age_trade_ratio\" not in feature_list:\n",
        "  feature_list.append(\"age_trade_ratio\")\n",
        "if \"user_age_level\" not in feature_list:\n",
        "  feature_list.append(\"user_age_level\")"
      ],
      "execution_count": 0,
      "outputs": []
    },
    {
      "metadata": {
        "id": "zm3FnPE9kC5w",
        "colab_type": "text"
      },
      "cell_type": "markdown",
      "source": [
        "##计算user_occupation_id特征"
      ]
    },
    {
      "metadata": {
        "id": "mkMejoR2VZQN",
        "colab_type": "code",
        "colab": {
          "autoexec": {
            "startup": false,
            "wait_interval": 0
          }
        }
      },
      "cell_type": "code",
      "source": [
        "def get_occupation_feature(df):\n",
        "  ret = df[[\"user_occupation_id\",\"is_trade\"]].copy()\n",
        "  ret = ret.groupby(\"user_occupation_id\").sum()\n",
        "  ret[\"occupation_total_count\"] = df.groupby(\"user_occupation_id\").count()[\"is_trade\"]\n",
        "  ret[\"occupation_trade_ratio\"] = ret[\"is_trade\"] / ret[\"occupation_total_count\"]\n",
        "  ret[\"occupation_total_ratio\"] = ret[\"occupation_total_count\"] / ret[\"occupation_total_count\"].max()\n",
        "  ret = ret.reset_index()\n",
        "  ret.set_index(\"user_occupation_id\",inplace=True,drop=False)\n",
        "  ret = ret[[\"user_occupation_id\",\"occupation_total_ratio\",\"occupation_trade_ratio\"]]\n",
        "  return ret\n",
        "def set_occupation_feature(df,occupation_table):\n",
        "  df = pd.merge(df,occupation_table,on=\"user_occupation_id\",how=\"left\")\n",
        "  return df\n",
        "occupation_pd = get_occupation_feature(train_pd)\n",
        "train_pd = set_occupation_feature(train_pd,occupation_pd)\n",
        "test_pd = set_occupation_feature(test_pd,occupation_pd)\n",
        "if \"occupation_total_ratio\" not in feature_list:\n",
        "  feature_list.append(\"occupation_total_ratio\")\n",
        "if \"occupation_trade_ratio\" not in feature_list:\n",
        "  feature_list.append(\"occupation_trade_ratio\")\n",
        "if \"user_occupation_id\" not in feature_list:\n",
        "  feature_list.append(\"user_occupation_id\")"
      ],
      "execution_count": 0,
      "outputs": []
    },
    {
      "metadata": {
        "id": "bonKqtfHkdRd",
        "colab_type": "text"
      },
      "cell_type": "markdown",
      "source": [
        "##计算user_star_level的特征"
      ]
    },
    {
      "metadata": {
        "id": "Wj_veOACj7iu",
        "colab_type": "code",
        "colab": {
          "autoexec": {
            "startup": false,
            "wait_interval": 0
          }
        }
      },
      "cell_type": "code",
      "source": [
        "def get_star_feature(df):\n",
        "  ret = df[[\"user_star_level\",\"is_trade\"]].copy()\n",
        "  ret = ret.groupby(\"user_star_level\").sum()\n",
        "  ret[\"star_total_count\"] = df.groupby(\"user_star_level\").count()[\"is_trade\"]\n",
        "  ret[\"star_trade_ratio\"] = ret[\"is_trade\"] / ret[\"star_total_count\"]\n",
        "  ret[\"star_total_ratio\"] = ret[\"star_total_count\"] / ret[\"star_total_count\"].max()\n",
        "  ret = ret.reset_index()\n",
        "  ret.set_index(\"user_star_level\",inplace=True,drop=False)\n",
        "  ret = ret[[\"user_star_level\",\"star_total_ratio\",\"star_trade_ratio\"]]\n",
        "  return ret\n",
        "def set_star_feature(df,star_table):\n",
        "  df = pd.merge(df,star_table,on=\"user_star_level\",how=\"left\")\n",
        "  return df\n",
        "star_pd = get_star_feature(train_pd)\n",
        "train_pd = set_star_feature(train_pd,star_pd)\n",
        "test_pd = set_star_feature(test_pd,star_pd)\n",
        "if \"star_total_ratio\" not in feature_list:\n",
        "  feature_list.append(\"star_total_ratio\")\n",
        "if \"star_trade_ratio\" not in feature_list:\n",
        "  feature_list.append(\"star_trade_ratio\")\n",
        "if \"user_star_level\" not in feature_list:\n",
        "  feature_list.append(\"user_star_level\")"
      ],
      "execution_count": 0,
      "outputs": []
    },
    {
      "metadata": {
        "id": "zSHjiF59k122",
        "colab_type": "text"
      },
      "cell_type": "markdown",
      "source": [
        "##计算context_page_id的特征"
      ]
    },
    {
      "metadata": {
        "id": "jHY2I0qhkSyK",
        "colab_type": "code",
        "colab": {
          "autoexec": {
            "startup": false,
            "wait_interval": 0
          }
        }
      },
      "cell_type": "code",
      "source": [
        "def get_page_id_feature(df):\n",
        "  ret = df[[\"context_page_id\",\"is_trade\"]].copy()\n",
        "  ret = ret.groupby(\"context_page_id\").sum()\n",
        "  ret[\"page_id_total_count\"] = df.groupby(\"context_page_id\").count()[\"is_trade\"]\n",
        "  ret[\"page_id_trade_ratio\"] = ret[\"is_trade\"] / ret[\"page_id_total_count\"]\n",
        "  ret[\"page_id_total_ratio\"] = ret[\"page_id_total_count\"] / ret[\"page_id_total_count\"].max()\n",
        "  ret = ret.reset_index()\n",
        "  ret.set_index(\"context_page_id\",inplace=True,drop=False)\n",
        "  ret = ret[[\"context_page_id\",\"page_id_total_ratio\",\"page_id_trade_ratio\"]]\n",
        "  return ret\n",
        "def set_page_id_feature(df,page_id_table):\n",
        "  df = pd.merge(df,page_id_table,on=\"context_page_id\",how=\"left\")\n",
        "  return df\n",
        "page_id_pd = get_page_id_feature(train_pd)\n",
        "train_pd = set_page_id_feature(train_pd,page_id_pd)\n",
        "test_pd = set_page_id_feature(test_pd,page_id_pd)\n",
        "if \"page_id_total_ratio\" not in feature_list:\n",
        "  feature_list.append(\"page_id_total_ratio\")\n",
        "if \"page_id_trade_ratio\" not in feature_list:\n",
        "  feature_list.append(\"page_id_trade_ratio\")\n",
        "if \"context_page_id\" not in feature_list:\n",
        "  feature_list.append(\"context_page_id\")"
      ],
      "execution_count": 0,
      "outputs": []
    },
    {
      "metadata": {
        "id": "XMUjOHB-lZX_",
        "colab_type": "text"
      },
      "cell_type": "markdown",
      "source": [
        "##计算shop_review_num_level的特征"
      ]
    },
    {
      "metadata": {
        "id": "27629mv5klY0",
        "colab_type": "code",
        "colab": {
          "autoexec": {
            "startup": false,
            "wait_interval": 0
          }
        }
      },
      "cell_type": "code",
      "source": [
        "def get_review_num_feature(df):\n",
        "  ret = df[[\"shop_review_num_level\",\"is_trade\"]].copy()\n",
        "  ret = ret.groupby(\"shop_review_num_level\").sum()\n",
        "  ret[\"review_num_total_count\"] = df.groupby(\"shop_review_num_level\").count()[\"is_trade\"]\n",
        "  ret[\"review_num_trade_ratio\"] = ret[\"is_trade\"] / ret[\"review_num_total_count\"]\n",
        "  ret[\"review_num_total_ratio\"] = ret[\"review_num_total_count\"] / ret[\"review_num_total_count\"].max()\n",
        "  ret = ret.reset_index()\n",
        "  ret.set_index(\"shop_review_num_level\",inplace=True,drop=False)\n",
        "  ret = ret[[\"shop_review_num_level\",\"review_num_total_ratio\",\"review_num_trade_ratio\"]]\n",
        "  return ret\n",
        "def set_review_num_feature(df,review_num_table):\n",
        "  df = pd.merge(df,review_num_table,on=\"shop_review_num_level\",how=\"left\")\n",
        "  return df\n",
        "review_num_pd = get_review_num_feature(train_pd)\n",
        "train_pd = set_review_num_feature(train_pd,review_num_pd)\n",
        "test_pd = set_review_num_feature(test_pd,review_num_pd)\n",
        "if \"review_num_total_ratio\" not in feature_list:\n",
        "  feature_list.append(\"review_num_total_ratio\")\n",
        "if \"review_num_trade_ratio\" not in feature_list:\n",
        "  feature_list.append(\"review_num_trade_ratio\")\n",
        "if \"shop_review_num_level\" not in feature_list:\n",
        "  feature_list.append(\"shop_review_num_level\")"
      ],
      "execution_count": 0,
      "outputs": []
    },
    {
      "metadata": {
        "id": "7TE-lo7klqTV",
        "colab_type": "text"
      },
      "cell_type": "markdown",
      "source": [
        "##计算shop_review_positive_rate"
      ]
    },
    {
      "metadata": {
        "id": "FFnr6u6XlFCs",
        "colab_type": "code",
        "colab": {
          "autoexec": {
            "startup": false,
            "wait_interval": 0
          }
        }
      },
      "cell_type": "code",
      "source": [
        "if \"shop_review_positive_rate\" not in feature_list:\n",
        "  feature_list.append(\"shop_review_positive_rate\")"
      ],
      "execution_count": 0,
      "outputs": []
    },
    {
      "metadata": {
        "id": "HUR2MWEZmOpj",
        "colab_type": "text"
      },
      "cell_type": "markdown",
      "source": [
        "##计算shop_star_level的特征"
      ]
    },
    {
      "metadata": {
        "id": "H9eQSgBPlkb8",
        "colab_type": "code",
        "colab": {
          "autoexec": {
            "startup": false,
            "wait_interval": 0
          }
        }
      },
      "cell_type": "code",
      "source": [
        "def get_shop_star_feature(df):\n",
        "  ret = df[[\"shop_star_level\",\"is_trade\"]].copy()\n",
        "  ret = ret.groupby(\"shop_star_level\").sum()\n",
        "  ret[\"shop_star_total_count\"] = df.groupby(\"shop_star_level\").count()[\"is_trade\"]\n",
        "  ret[\"shop_star_trade_ratio\"] = ret[\"is_trade\"] / ret[\"shop_star_total_count\"]\n",
        "  ret[\"shop_star_total_ratio\"] = ret[\"shop_star_total_count\"] / ret[\"shop_star_total_count\"].max()\n",
        "  ret = ret.reset_index()\n",
        "  ret.set_index(\"shop_star_level\",inplace=True,drop=False)\n",
        "  ret = ret[[\"shop_star_level\",\"shop_star_total_ratio\",\"shop_star_trade_ratio\"]]\n",
        "  return ret\n",
        "def set_shop_star_feature(df,shop_star_table):\n",
        "  df = pd.merge(df,shop_star_table,on=\"shop_star_level\",how=\"left\")\n",
        "  return df\n",
        "shop_star_pd = get_shop_star_feature(train_pd)\n",
        "train_pd = set_shop_star_feature(train_pd,shop_star_pd)\n",
        "test_pd = set_shop_star_feature(test_pd,shop_star_pd)\n",
        "if \"shop_star_total_ratio\" not in feature_list:\n",
        "  feature_list.append(\"shop_star_total_ratio\")\n",
        "if \"shop_star_trade_ratio\" not in feature_list:\n",
        "  feature_list.append(\"shop_star_trade_ratio\")\n",
        "if \"shop_star_level\" not in feature_list:\n",
        "  feature_list.append(\"shop_star_level\")"
      ],
      "execution_count": 0,
      "outputs": []
    },
    {
      "metadata": {
        "id": "vt0cNStmmW98",
        "colab_type": "text"
      },
      "cell_type": "markdown",
      "source": [
        "##计算shop_score_service的特征"
      ]
    },
    {
      "metadata": {
        "id": "Ihp4EWNYmZy0",
        "colab_type": "code",
        "colab": {
          "autoexec": {
            "startup": false,
            "wait_interval": 0
          }
        }
      },
      "cell_type": "code",
      "source": [
        "if \"shop_score_service\" not in feature_list:\n",
        "  feature_list.append(\"shop_score_service\")"
      ],
      "execution_count": 0,
      "outputs": []
    },
    {
      "metadata": {
        "id": "lYydGNk7mWyP",
        "colab_type": "text"
      },
      "cell_type": "markdown",
      "source": [
        "##计算shop_score_delivery的特征"
      ]
    },
    {
      "metadata": {
        "id": "-C2iL8E9mc-_",
        "colab_type": "code",
        "colab": {
          "autoexec": {
            "startup": false,
            "wait_interval": 0
          }
        }
      },
      "cell_type": "code",
      "source": [
        "if \"shop_score_delivery\" not in feature_list:\n",
        "  feature_list.append(\"shop_score_delivery\")"
      ],
      "execution_count": 0,
      "outputs": []
    },
    {
      "metadata": {
        "id": "JwEtkykjmWg8",
        "colab_type": "text"
      },
      "cell_type": "markdown",
      "source": [
        "##计算shop_score_description的特征"
      ]
    },
    {
      "metadata": {
        "id": "CxrD0m4AmRvI",
        "colab_type": "code",
        "colab": {
          "autoexec": {
            "startup": false,
            "wait_interval": 0
          }
        }
      },
      "cell_type": "code",
      "source": [
        "if \"shop_score_description\" not in feature_list:\n",
        "  feature_list.append(\"shop_score_description\")"
      ],
      "execution_count": 0,
      "outputs": []
    },
    {
      "metadata": {
        "id": "a7t0F3rImqZ3",
        "colab_type": "text"
      },
      "cell_type": "markdown",
      "source": [
        "#训练"
      ]
    },
    {
      "metadata": {
        "id": "v5EqtPMum2Zg",
        "colab_type": "text"
      },
      "cell_type": "markdown",
      "source": [
        "##参数控制"
      ]
    },
    {
      "metadata": {
        "id": "O4DNCMwWmpZS",
        "colab_type": "code",
        "colab": {
          "autoexec": {
            "startup": false,
            "wait_interval": 0
          }
        }
      },
      "cell_type": "code",
      "source": [
        "#alpha 30, lambda 15, gamma 2\n",
        "param = {}\n",
        "param[\"eta\"] = 0.2\n",
        "param[\"min_child_weight\"] = 0.9\n",
        "param[\"max_depth\"] = 5\n",
        "# param[\"lambda\"] = 15 #控制模型复杂度的权重值的L2正则化项参数，参数越大，模型越不容易过拟合。 默认1\n",
        "param[\"alpha\"] = 15 #控制模型复杂程度的权重值的 L1 正则项参数，参数值越大，模型越不容易过拟合。 默认0\n",
        "param[\"gamma\"] = 0.2 # 用于控制是否后剪枝的参数,越大越保守，一般0.1、0.2这样子。\n",
        "param[\"subsample\"]=0.8\n",
        "param[\"colsample_bytree\"]=0.8\n",
        "param[\"objective\"] = \"binary:logistic\"\n",
        "param[\"eval_metric\"]=[ \"logloss\",\"auc\"]#error,logloss,auc\n",
        "param[\"silent\"] = 1\n",
        "param[\"seed\"] = 426#(67+156+7+666+886+817+1018+6+3+1024+37)/11\n",
        "num_round = 500\n",
        "eval_result={}"
      ],
      "execution_count": 0,
      "outputs": []
    },
    {
      "metadata": {
        "id": "MMiwaP28m5PJ",
        "colab_type": "text"
      },
      "cell_type": "markdown",
      "source": [
        "##训练模型"
      ]
    },
    {
      "metadata": {
        "id": "wbMZJPmYmn5Q",
        "colab_type": "code",
        "colab": {
          "autoexec": {
            "startup": false,
            "wait_interval": 0
          },
          "output_extras": [
            {
              "item_id": 30
            },
            {
              "item_id": 57
            },
            {
              "item_id": 86
            },
            {
              "item_id": 96
            }
          ],
          "base_uri": "https://localhost:8080/",
          "height": 2897
        },
        "outputId": "6974652f-6c3c-4d75-f017-198b6dab0f66",
        "executionInfo": {
          "status": "ok",
          "timestamp": 1520077769453,
          "user_tz": -480,
          "elapsed": 91831,
          "user": {
            "displayName": "姚填佳",
            "photoUrl": "//lh4.googleusercontent.com/-c8yaOIb4NJo/AAAAAAAAAAI/AAAAAAAAACI/2RCS6KOMtQs/s50-c-k-no/photo.jpg",
            "userId": "107989077003671308346"
          }
        }
      },
      "cell_type": "code",
      "source": [
        "#分割线下测试和训练集\n",
        "train_m = train_pd[(train_pd[\"day\"]>='2018-09-18')&(train_pd[\"day\"]<='2018-09-23')]\n",
        "test_m = train_pd[(train_pd[\"day\"]=='2018-09-24')]\n",
        "X = train_m[feature_list].copy()\n",
        "Y = train_m[\"is_trade\"].copy()\n",
        "train_set = xgb.DMatrix(X,label=Y)\n",
        "X_t = test_m[feature_list].copy()\n",
        "Y_t = test_m[\"is_trade\"].copy()\n",
        "test_set = xgb.DMatrix(X_t,label=Y_t)\n",
        "watchlist = [(train_set,'train'), (test_set, 'test')]\n",
        "model = xgb.train( param, train_set, num_round, watchlist,verbose_eval=True,evals_result=eval_result,early_stopping_rounds=int(0.1*num_round))"
      ],
      "execution_count": 89,
      "outputs": [
        {
          "output_type": "stream",
          "text": [
            "[0]\ttrain-logloss:0.526506\ttrain-auc:0.610042\ttest-logloss:0.525614\ttest-auc:0.601555\n",
            "Multiple eval metrics have been passed: 'test-auc' will be used for early stopping.\n",
            "\n",
            "Will train until test-auc hasn't improved in 50 rounds.\n",
            "[1]\ttrain-logloss:0.414991\ttrain-auc:0.66534\ttest-logloss:0.41335\ttest-auc:0.643732\n",
            "[2]\ttrain-logloss:0.335727\ttrain-auc:0.677946\ttest-logloss:0.333421\ttest-auc:0.657331\n",
            "[3]\ttrain-logloss:0.277375\ttrain-auc:0.678539\ttest-logloss:0.274501\ttest-auc:0.657972\n",
            "[4]\ttrain-logloss:0.233539\ttrain-auc:0.681905\ttest-logloss:0.230121\ttest-auc:0.664075\n",
            "[5]\ttrain-logloss:0.200279\ttrain-auc:0.685388\ttest-logloss:0.196361\ttest-auc:0.666301\n",
            "[6]\ttrain-logloss:0.174677\ttrain-auc:0.68518\ttest-logloss:0.170306\ttest-auc:0.666191\n",
            "[7]\ttrain-logloss:0.154902\ttrain-auc:0.685016\ttest-logloss:0.150116\ttest-auc:0.66633\n",
            "[8]\ttrain-logloss:0.139624\ttrain-auc:0.690859\ttest-logloss:0.134469\ttest-auc:0.673385\n",
            "[9]\ttrain-logloss:0.127825\ttrain-auc:0.691022\ttest-logloss:0.122354\ttest-auc:0.673255\n",
            "[10]\ttrain-logloss:0.118787\ttrain-auc:0.693187\ttest-logloss:0.112978\ttest-auc:0.675133\n",
            "[11]\ttrain-logloss:0.111747\ttrain-auc:0.694989\ttest-logloss:0.105671\ttest-auc:0.677272\n",
            "[12]\ttrain-logloss:0.106341\ttrain-auc:0.697288\ttest-logloss:0.100015\ttest-auc:0.678231\n",
            "[13]\ttrain-logloss:0.102188\ttrain-auc:0.698099\ttest-logloss:0.095639\ttest-auc:0.678849\n",
            "[14]\ttrain-logloss:0.099029\ttrain-auc:0.699457\ttest-logloss:0.092269\ttest-auc:0.680479\n",
            "[15]\ttrain-logloss:0.096607\ttrain-auc:0.701185\ttest-logloss:0.089693\ttest-auc:0.681686\n",
            "[16]\ttrain-logloss:0.094796\ttrain-auc:0.702408\ttest-logloss:0.087771\ttest-auc:0.683588\n",
            "[17]\ttrain-logloss:0.093419\ttrain-auc:0.703145\ttest-logloss:0.086306\ttest-auc:0.683086\n",
            "[18]\ttrain-logloss:0.092379\ttrain-auc:0.704615\ttest-logloss:0.085184\ttest-auc:0.684142\n",
            "[19]\ttrain-logloss:0.091586\ttrain-auc:0.705835\ttest-logloss:0.084343\ttest-auc:0.684224\n",
            "[20]\ttrain-logloss:0.090983\ttrain-auc:0.707057\ttest-logloss:0.083711\ttest-auc:0.685774\n",
            "[21]\ttrain-logloss:0.090528\ttrain-auc:0.708595\ttest-logloss:0.08326\ttest-auc:0.685854\n",
            "[22]\ttrain-logloss:0.090182\ttrain-auc:0.710031\ttest-logloss:0.082902\ttest-auc:0.686713\n",
            "[23]\ttrain-logloss:0.089905\ttrain-auc:0.710686\ttest-logloss:0.082621\ttest-auc:0.687121\n",
            "[24]\ttrain-logloss:0.089674\ttrain-auc:0.712129\ttest-logloss:0.082414\ttest-auc:0.687943\n",
            "[25]\ttrain-logloss:0.089481\ttrain-auc:0.714344\ttest-logloss:0.082255\ttest-auc:0.689906\n",
            "[26]\ttrain-logloss:0.089333\ttrain-auc:0.715262\ttest-logloss:0.082097\ttest-auc:0.690827\n",
            "[27]\ttrain-logloss:0.089205\ttrain-auc:0.716321\ttest-logloss:0.081989\ttest-auc:0.691439\n",
            "[28]\ttrain-logloss:0.089109\ttrain-auc:0.717102\ttest-logloss:0.081909\ttest-auc:0.691868\n",
            "[29]\ttrain-logloss:0.089023\ttrain-auc:0.717877\ttest-logloss:0.081849\ttest-auc:0.692302\n",
            "[30]\ttrain-logloss:0.088944\ttrain-auc:0.718703\ttest-logloss:0.081799\ttest-auc:0.692734\n",
            "[31]\ttrain-logloss:0.088876\ttrain-auc:0.719392\ttest-logloss:0.081787\ttest-auc:0.692548\n",
            "[32]\ttrain-logloss:0.088816\ttrain-auc:0.720056\ttest-logloss:0.081743\ttest-auc:0.69302\n",
            "[33]\ttrain-logloss:0.088764\ttrain-auc:0.720546\ttest-logloss:0.081732\ttest-auc:0.693152\n",
            "[34]\ttrain-logloss:0.08872\ttrain-auc:0.721174\ttest-logloss:0.08172\ttest-auc:0.693361\n",
            "[35]\ttrain-logloss:0.088679\ttrain-auc:0.721654\ttest-logloss:0.081709\ttest-auc:0.693545\n",
            "[36]\ttrain-logloss:0.088645\ttrain-auc:0.722016\ttest-logloss:0.081694\ttest-auc:0.693635\n",
            "[37]\ttrain-logloss:0.08859\ttrain-auc:0.722889\ttest-logloss:0.081672\ttest-auc:0.694108\n",
            "[38]\ttrain-logloss:0.088561\ttrain-auc:0.723181\ttest-logloss:0.081646\ttest-auc:0.694469\n",
            "[39]\ttrain-logloss:0.08852\ttrain-auc:0.723787\ttest-logloss:0.081653\ttest-auc:0.694299\n",
            "[40]\ttrain-logloss:0.088493\ttrain-auc:0.724096\ttest-logloss:0.081648\ttest-auc:0.694427\n",
            "[41]\ttrain-logloss:0.088458\ttrain-auc:0.724593\ttest-logloss:0.08163\ttest-auc:0.694695\n",
            "[42]\ttrain-logloss:0.088425\ttrain-auc:0.725161\ttest-logloss:0.081608\ttest-auc:0.695253\n",
            "[43]\ttrain-logloss:0.088404\ttrain-auc:0.725424\ttest-logloss:0.081616\ttest-auc:0.695084\n",
            "[44]\ttrain-logloss:0.088381\ttrain-auc:0.725648\ttest-logloss:0.081612\ttest-auc:0.695231\n"
          ],
          "name": "stdout"
        },
        {
          "output_type": "stream",
          "text": [
            "[45]\ttrain-logloss:0.088333\ttrain-auc:0.726411\ttest-logloss:0.081586\ttest-auc:0.69555\n",
            "[46]\ttrain-logloss:0.088279\ttrain-auc:0.727279\ttest-logloss:0.081593\ttest-auc:0.695465\n",
            "[47]\ttrain-logloss:0.088236\ttrain-auc:0.72814\ttest-logloss:0.081584\ttest-auc:0.695716\n",
            "[48]\ttrain-logloss:0.088201\ttrain-auc:0.72869\ttest-logloss:0.081569\ttest-auc:0.696152\n",
            "[49]\ttrain-logloss:0.088181\ttrain-auc:0.728938\ttest-logloss:0.081569\ttest-auc:0.696318\n",
            "[50]\ttrain-logloss:0.088144\ttrain-auc:0.729608\ttest-logloss:0.081576\ttest-auc:0.696472\n",
            "[51]\ttrain-logloss:0.088109\ttrain-auc:0.730148\ttest-logloss:0.08157\ttest-auc:0.69666\n",
            "[52]\ttrain-logloss:0.088078\ttrain-auc:0.730669\ttest-logloss:0.081574\ttest-auc:0.696668\n",
            "[53]\ttrain-logloss:0.088041\ttrain-auc:0.731194\ttest-logloss:0.081583\ttest-auc:0.696526\n",
            "[54]\ttrain-logloss:0.08802\ttrain-auc:0.731596\ttest-logloss:0.081587\ttest-auc:0.69647\n",
            "[55]\ttrain-logloss:0.088001\ttrain-auc:0.7319\ttest-logloss:0.081579\ttest-auc:0.696497\n",
            "[56]\ttrain-logloss:0.087977\ttrain-auc:0.732296\ttest-logloss:0.081574\ttest-auc:0.696649\n",
            "[57]\ttrain-logloss:0.087963\ttrain-auc:0.732503\ttest-logloss:0.081577\ttest-auc:0.696676\n",
            "[58]\ttrain-logloss:0.087935\ttrain-auc:0.732942\ttest-logloss:0.081575\ttest-auc:0.696766\n",
            "[59]\ttrain-logloss:0.087908\ttrain-auc:0.733382\ttest-logloss:0.081566\ttest-auc:0.69694\n",
            "[60]\ttrain-logloss:0.087864\ttrain-auc:0.734092\ttest-logloss:0.081568\ttest-auc:0.696853\n",
            "[61]\ttrain-logloss:0.087825\ttrain-auc:0.73472\ttest-logloss:0.081555\ttest-auc:0.697267\n",
            "[62]\ttrain-logloss:0.087786\ttrain-auc:0.735378\ttest-logloss:0.081551\ttest-auc:0.697055\n",
            "[63]\ttrain-logloss:0.087759\ttrain-auc:0.735797\ttest-logloss:0.081588\ttest-auc:0.696504\n",
            "[64]\ttrain-logloss:0.087744\ttrain-auc:0.73602\ttest-logloss:0.08159\ttest-auc:0.696389\n",
            "[65]\ttrain-logloss:0.087711\ttrain-auc:0.73659\ttest-logloss:0.081608\ttest-auc:0.696169\n",
            "[66]\ttrain-logloss:0.087678\ttrain-auc:0.737128\ttest-logloss:0.08161\ttest-auc:0.696107\n",
            "[67]\ttrain-logloss:0.087639\ttrain-auc:0.73764\ttest-logloss:0.081626\ttest-auc:0.695786\n",
            "[68]\ttrain-logloss:0.087618\ttrain-auc:0.737966\ttest-logloss:0.081621\ttest-auc:0.695947\n",
            "[69]\ttrain-logloss:0.087593\ttrain-auc:0.738376\ttest-logloss:0.081613\ttest-auc:0.696267\n",
            "[70]\ttrain-logloss:0.087565\ttrain-auc:0.738731\ttest-logloss:0.081603\ttest-auc:0.696375\n",
            "[71]\ttrain-logloss:0.087547\ttrain-auc:0.738951\ttest-logloss:0.081592\ttest-auc:0.696732\n",
            "[72]\ttrain-logloss:0.087521\ttrain-auc:0.739364\ttest-logloss:0.08159\ttest-auc:0.696592\n",
            "[73]\ttrain-logloss:0.0875\ttrain-auc:0.739701\ttest-logloss:0.081595\ttest-auc:0.696448\n",
            "[74]\ttrain-logloss:0.087477\ttrain-auc:0.740151\ttest-logloss:0.081598\ttest-auc:0.696371\n",
            "[75]\ttrain-logloss:0.087463\ttrain-auc:0.740301\ttest-logloss:0.081594\ttest-auc:0.696597\n",
            "[76]\ttrain-logloss:0.087438\ttrain-auc:0.740648\ttest-logloss:0.081594\ttest-auc:0.696644\n",
            "[77]\ttrain-logloss:0.087422\ttrain-auc:0.740825\ttest-logloss:0.081591\ttest-auc:0.696762\n",
            "[78]\ttrain-logloss:0.087402\ttrain-auc:0.741029\ttest-logloss:0.081612\ttest-auc:0.696422\n",
            "[79]\ttrain-logloss:0.087384\ttrain-auc:0.741327\ttest-logloss:0.081613\ttest-auc:0.696459\n",
            "[80]\ttrain-logloss:0.087358\ttrain-auc:0.74182\ttest-logloss:0.081623\ttest-auc:0.696378\n",
            "[81]\ttrain-logloss:0.087343\ttrain-auc:0.74201\ttest-logloss:0.081626\ttest-auc:0.69632\n",
            "[82]\ttrain-logloss:0.087321\ttrain-auc:0.742327\ttest-logloss:0.081616\ttest-auc:0.696415\n",
            "[83]\ttrain-logloss:0.087286\ttrain-auc:0.74293\ttest-logloss:0.081611\ttest-auc:0.696527\n",
            "[84]\ttrain-logloss:0.087255\ttrain-auc:0.743483\ttest-logloss:0.081602\ttest-auc:0.696671\n",
            "[85]\ttrain-logloss:0.087227\ttrain-auc:0.743804\ttest-logloss:0.081597\ttest-auc:0.696711\n",
            "[86]\ttrain-logloss:0.087196\ttrain-auc:0.744291\ttest-logloss:0.081603\ttest-auc:0.696593\n",
            "[87]\ttrain-logloss:0.087179\ttrain-auc:0.744646\ttest-logloss:0.081599\ttest-auc:0.696796\n",
            "[88]\ttrain-logloss:0.087156\ttrain-auc:0.745003\ttest-logloss:0.081612\ttest-auc:0.696689\n",
            "[89]\ttrain-logloss:0.087139\ttrain-auc:0.74521\ttest-logloss:0.0816\ttest-auc:0.696948\n",
            "[90]\ttrain-logloss:0.087121\ttrain-auc:0.745495\ttest-logloss:0.081617\ttest-auc:0.696639\n",
            "[91]\ttrain-logloss:0.0871\ttrain-auc:0.745836\ttest-logloss:0.081629\ttest-auc:0.696502\n"
          ],
          "name": "stdout"
        },
        {
          "output_type": "stream",
          "text": [
            "[92]\ttrain-logloss:0.087089\ttrain-auc:0.745942\ttest-logloss:0.081631\ttest-auc:0.696494\n",
            "[93]\ttrain-logloss:0.087065\ttrain-auc:0.746398\ttest-logloss:0.081634\ttest-auc:0.696481\n",
            "[94]\ttrain-logloss:0.087033\ttrain-auc:0.746969\ttest-logloss:0.081652\ttest-auc:0.696168\n",
            "[95]\ttrain-logloss:0.086999\ttrain-auc:0.747448\ttest-logloss:0.081658\ttest-auc:0.696221\n",
            "[96]\ttrain-logloss:0.086985\ttrain-auc:0.747712\ttest-logloss:0.081649\ttest-auc:0.696259\n",
            "[97]\ttrain-logloss:0.086968\ttrain-auc:0.747917\ttest-logloss:0.081643\ttest-auc:0.696372\n",
            "[98]\ttrain-logloss:0.08695\ttrain-auc:0.74819\ttest-logloss:0.081633\ttest-auc:0.696677\n",
            "[99]\ttrain-logloss:0.086938\ttrain-auc:0.74831\ttest-logloss:0.081619\ttest-auc:0.696966\n",
            "[100]\ttrain-logloss:0.086914\ttrain-auc:0.748599\ttest-logloss:0.081623\ttest-auc:0.69712\n",
            "[101]\ttrain-logloss:0.086895\ttrain-auc:0.748971\ttest-logloss:0.081624\ttest-auc:0.69706\n",
            "[102]\ttrain-logloss:0.086879\ttrain-auc:0.749299\ttest-logloss:0.081617\ttest-auc:0.697161\n",
            "[103]\ttrain-logloss:0.086856\ttrain-auc:0.749655\ttest-logloss:0.081604\ttest-auc:0.697419\n",
            "[104]\ttrain-logloss:0.086835\ttrain-auc:0.750028\ttest-logloss:0.081614\ttest-auc:0.697075\n",
            "[105]\ttrain-logloss:0.086817\ttrain-auc:0.75027\ttest-logloss:0.081625\ttest-auc:0.696894\n",
            "[106]\ttrain-logloss:0.086793\ttrain-auc:0.750613\ttest-logloss:0.081638\ttest-auc:0.696699\n",
            "[107]\ttrain-logloss:0.086768\ttrain-auc:0.751062\ttest-logloss:0.081651\ttest-auc:0.696377\n",
            "[108]\ttrain-logloss:0.086746\ttrain-auc:0.751395\ttest-logloss:0.081641\ttest-auc:0.696789\n",
            "[109]\ttrain-logloss:0.086726\ttrain-auc:0.751676\ttest-logloss:0.081632\ttest-auc:0.696862\n",
            "[110]\ttrain-logloss:0.086701\ttrain-auc:0.752137\ttest-logloss:0.081651\ttest-auc:0.696472\n",
            "[111]\ttrain-logloss:0.086675\ttrain-auc:0.752529\ttest-logloss:0.081659\ttest-auc:0.696224\n",
            "[112]\ttrain-logloss:0.086647\ttrain-auc:0.752963\ttest-logloss:0.081652\ttest-auc:0.696547\n",
            "[113]\ttrain-logloss:0.086626\ttrain-auc:0.753316\ttest-logloss:0.081644\ttest-auc:0.696755\n",
            "[114]\ttrain-logloss:0.086608\ttrain-auc:0.753588\ttest-logloss:0.081646\ttest-auc:0.69694\n",
            "[115]\ttrain-logloss:0.086587\ttrain-auc:0.753929\ttest-logloss:0.081647\ttest-auc:0.696864\n",
            "[116]\ttrain-logloss:0.086564\ttrain-auc:0.754272\ttest-logloss:0.08165\ttest-auc:0.696836\n",
            "[117]\ttrain-logloss:0.08655\ttrain-auc:0.754493\ttest-logloss:0.081659\ttest-auc:0.69667\n",
            "[118]\ttrain-logloss:0.086518\ttrain-auc:0.754999\ttest-logloss:0.081659\ttest-auc:0.696627\n",
            "[119]\ttrain-logloss:0.086504\ttrain-auc:0.755161\ttest-logloss:0.08166\ttest-auc:0.696722\n",
            "[120]\ttrain-logloss:0.086481\ttrain-auc:0.755387\ttest-logloss:0.081662\ttest-auc:0.696647\n",
            "[121]\ttrain-logloss:0.086462\ttrain-auc:0.755703\ttest-logloss:0.081673\ttest-auc:0.696512\n",
            "[122]\ttrain-logloss:0.086447\ttrain-auc:0.755899\ttest-logloss:0.081694\ttest-auc:0.696173\n",
            "[123]\ttrain-logloss:0.086434\ttrain-auc:0.756105\ttest-logloss:0.081707\ttest-auc:0.696001\n",
            "[124]\ttrain-logloss:0.086413\ttrain-auc:0.75635\ttest-logloss:0.081721\ttest-auc:0.695891\n",
            "[125]\ttrain-logloss:0.086391\ttrain-auc:0.75665\ttest-logloss:0.081727\ttest-auc:0.695968\n",
            "[126]\ttrain-logloss:0.086372\ttrain-auc:0.756976\ttest-logloss:0.081736\ttest-auc:0.695786\n",
            "[127]\ttrain-logloss:0.086351\ttrain-auc:0.757235\ttest-logloss:0.081742\ttest-auc:0.695649\n",
            "[128]\ttrain-logloss:0.086334\ttrain-auc:0.757441\ttest-logloss:0.081734\ttest-auc:0.695768\n",
            "[129]\ttrain-logloss:0.08632\ttrain-auc:0.757633\ttest-logloss:0.081748\ttest-auc:0.695752\n",
            "[130]\ttrain-logloss:0.086297\ttrain-auc:0.757901\ttest-logloss:0.081746\ttest-auc:0.695874\n",
            "[131]\ttrain-logloss:0.08628\ttrain-auc:0.758175\ttest-logloss:0.08174\ttest-auc:0.696016\n",
            "[132]\ttrain-logloss:0.086258\ttrain-auc:0.758492\ttest-logloss:0.081761\ttest-auc:0.695657\n",
            "[133]\ttrain-logloss:0.086241\ttrain-auc:0.758729\ttest-logloss:0.081777\ttest-auc:0.695275\n",
            "[134]\ttrain-logloss:0.086219\ttrain-auc:0.75903\ttest-logloss:0.081788\ttest-auc:0.695179\n",
            "[135]\ttrain-logloss:0.086207\ttrain-auc:0.759312\ttest-logloss:0.081799\ttest-auc:0.69484\n",
            "[136]\ttrain-logloss:0.086187\ttrain-auc:0.759701\ttest-logloss:0.081796\ttest-auc:0.694826\n",
            "[137]\ttrain-logloss:0.086174\ttrain-auc:0.759885\ttest-logloss:0.081797\ttest-auc:0.694731\n",
            "[138]\ttrain-logloss:0.086156\ttrain-auc:0.760104\ttest-logloss:0.081792\ttest-auc:0.694878\n"
          ],
          "name": "stdout"
        },
        {
          "output_type": "stream",
          "text": [
            "[139]\ttrain-logloss:0.086137\ttrain-auc:0.760442\ttest-logloss:0.081792\ttest-auc:0.6949\n",
            "[140]\ttrain-logloss:0.086117\ttrain-auc:0.760771\ttest-logloss:0.081798\ttest-auc:0.694628\n",
            "[141]\ttrain-logloss:0.086098\ttrain-auc:0.761099\ttest-logloss:0.081803\ttest-auc:0.694571\n",
            "[142]\ttrain-logloss:0.086085\ttrain-auc:0.76124\ttest-logloss:0.081804\ttest-auc:0.694722\n",
            "[143]\ttrain-logloss:0.086068\ttrain-auc:0.761478\ttest-logloss:0.081814\ttest-auc:0.694578\n",
            "[144]\ttrain-logloss:0.086044\ttrain-auc:0.761815\ttest-logloss:0.08183\ttest-auc:0.694409\n",
            "[145]\ttrain-logloss:0.086029\ttrain-auc:0.762051\ttest-logloss:0.081829\ttest-auc:0.694511\n",
            "[146]\ttrain-logloss:0.086006\ttrain-auc:0.762432\ttest-logloss:0.081828\ttest-auc:0.694493\n",
            "[147]\ttrain-logloss:0.085984\ttrain-auc:0.762775\ttest-logloss:0.081819\ttest-auc:0.694685\n",
            "[148]\ttrain-logloss:0.085961\ttrain-auc:0.76306\ttest-logloss:0.081824\ttest-auc:0.69458\n",
            "[149]\ttrain-logloss:0.085949\ttrain-auc:0.763259\ttest-logloss:0.081833\ttest-auc:0.694396\n",
            "[150]\ttrain-logloss:0.085925\ttrain-auc:0.763584\ttest-logloss:0.081835\ttest-auc:0.694334\n",
            "[151]\ttrain-logloss:0.085911\ttrain-auc:0.763821\ttest-logloss:0.081851\ttest-auc:0.69398\n",
            "[152]\ttrain-logloss:0.085889\ttrain-auc:0.764103\ttest-logloss:0.081872\ttest-auc:0.693546\n",
            "[153]\ttrain-logloss:0.085869\ttrain-auc:0.764392\ttest-logloss:0.081884\ttest-auc:0.693403\n",
            "Stopping. Best iteration:\n",
            "[103]\ttrain-logloss:0.086856\ttrain-auc:0.749655\ttest-logloss:0.081604\ttest-auc:0.697419\n",
            "\n"
          ],
          "name": "stdout"
        }
      ]
    },
    {
      "metadata": {
        "id": "rFpe5y5lnQf7",
        "colab_type": "text"
      },
      "cell_type": "markdown",
      "source": [
        "##结果展示"
      ]
    },
    {
      "metadata": {
        "id": "fulGgyJFnTN8",
        "colab_type": "code",
        "colab": {
          "autoexec": {
            "startup": false,
            "wait_interval": 0
          },
          "output_extras": [
            {
              "item_id": 1
            },
            {
              "item_id": 2
            }
          ],
          "base_uri": "https://localhost:8080/",
          "height": 994
        },
        "outputId": "59e8d093-8d27-46a5-9924-f00a66a15ff5",
        "executionInfo": {
          "status": "ok",
          "timestamp": 1520078350075,
          "user_tz": -480,
          "elapsed": 1985,
          "user": {
            "displayName": "姚填佳",
            "photoUrl": "//lh4.googleusercontent.com/-c8yaOIb4NJo/AAAAAAAAAAI/AAAAAAAAACI/2RCS6KOMtQs/s50-c-k-no/photo.jpg",
            "userId": "107989077003671308346"
          }
        }
      },
      "cell_type": "code",
      "source": [
        "from matplotlib import pyplot \n",
        "from xgboost import plot_importance\n",
        "#plot feature importance\n",
        "ax = plot_importance(model,max_num_features=50)\n",
        "fig = ax.figure\n",
        "fig.set_size_inches(18, 8)\n",
        "pyplot.show()\n",
        "\n",
        "#plot logloss\n",
        "epochs = len(eval_result['train']['logloss'])  \n",
        "x_axis = range(0, epochs)  \n",
        "fig, ax = pyplot.subplots()  \n",
        "ax.plot(x_axis, eval_result['train']['logloss'], label='Train')  \n",
        "ax.plot(x_axis, eval_result['test']['logloss'], label='Test')  \n",
        "ax.legend()\n",
        "fig = ax.figure\n",
        "fig.set_size_inches(18, 8)\n",
        "pyplot.ylabel('Log Loss')  \n",
        "pyplot.title('XGBoost Log Loss')  \n",
        "pyplot.show()"
      ],
      "execution_count": 91,
      "outputs": [
        {
          "output_type": "display_data",
          "data": {
            "image/png": "[encoded data removed]",
            "text/plain": [
              "<matplotlib.figure.Figure at 0x7fbc3c947fd0>"
            ]
          },
          "metadata": {
            "tags": []
          }
        },
        {
          "output_type": "display_data",
          "data": {
            "image/png": "[encoded data removed]",
            "text/plain": [
              "<matplotlib.figure.Figure at 0x7fbc3c68c8d0>"
            ]
          },
          "metadata": {
            "tags": []
          }
        }
      ]
    },
    {
      "metadata": {
        "id": "Tks1iDcXujqS",
        "colab_type": "code",
        "colab": {
          "autoexec": {
            "startup": false,
            "wait_interval": 0
          }
        }
      },
      "cell_type": "code",
      "source": [
        ""
      ],
      "execution_count": 0,
      "outputs": []
    }
  ]
}