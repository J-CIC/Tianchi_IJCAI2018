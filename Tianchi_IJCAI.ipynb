{
  "nbformat": 4,
  "nbformat_minor": 0,
  "metadata": {
    "colab": {
      "name": "Tianchi_IJCAI.ipynb",
      "version": "0.3.2",
      "views": {},
      "default_view": {},
      "provenance": [],
      "collapsed_sections": [
        "_l3aQ2SUrCk7",
        "kqCOAw7WtLrD"
      ]
    },
    "kernelspec": {
      "name": "python3",
      "display_name": "Python 3"
    },
    "accelerator": "GPU"
  },
  "cells": [
    {
      "metadata": {
        "id": "pjWHULTlFwA2",
        "colab_type": "code",
        "colab": {
          "autoexec": {
            "startup": false,
            "wait_interval": 0
          },
          "output_extras": [
            {
              "item_id": 5
            }
          ],
          "base_uri": "https://localhost:8080/",
          "height": 143
        },
        "outputId": "e217b2a4-5a48-4876-db2b-86ddad7134c0",
        "executionInfo": {
          "status": "ok",
          "timestamp": 1520065690182,
          "user_tz": -480,
          "elapsed": 13688,
          "user": {
            "displayName": "姚填佳",
            "photoUrl": "//lh4.googleusercontent.com/-c8yaOIb4NJo/AAAAAAAAAAI/AAAAAAAAACI/2RCS6KOMtQs/s50-c-k-no/photo.jpg",
            "userId": "107989077003671308346"
          }
        }
      },
      "cell_type": "code",
      "source": [
        "#认证\n",
        "!apt-get install -y -qq software-properties-common python-software-properties module-init-tools\n",
        "!add-apt-repository -y ppa:alessandro-strada/ppa 2>&1 > /dev/null\n",
        "!apt-get update -qq 2>&1 > /dev/null\n",
        "!apt-get -y install -qq google-drive-ocamlfuse fuse\n",
        "from google.colab import auth\n",
        "auth.authenticate_user()\n",
        "from oauth2client.client import GoogleCredentials\n",
        "creds = GoogleCredentials.get_application_default()\n",
        "import getpass\n",
        "!google-drive-ocamlfuse -headless -id={creds.client_id} -secret={creds.client_secret} < /dev/null 2>&1 | grep URL\n",
        "vcode = getpass.getpass()\n",
        "!echo {vcode} | google-drive-ocamlfuse -headless -id={creds.client_id} -secret={creds.client_secret}"
      ],
      "execution_count": 6,
      "outputs": [
        {
          "output_type": "stream",
          "text": [
            "gpg: keybox '/tmp/tmp_nhur5d2/pubring.gpg' created\n",
            "gpg: /tmp/tmp_nhur5d2/trustdb.gpg: trustdb created\n",
            "gpg: key AD5F235DF639B041: public key \"Launchpad PPA for Alessandro Strada\" imported\n",
            "gpg: Total number processed: 1\n",
            "gpg:               imported: 1\n",
            "Warning: apt-key output should not be parsed (stdout is not a terminal)\n",
            "··········\n"
          ],
          "name": "stdout"
        }
      ]
    },
    {
      "metadata": {
        "id": "OdQ1oVTzHZLJ",
        "colab_type": "code",
        "colab": {
          "autoexec": {
            "startup": false,
            "wait_interval": 0
          }
        }
      },
      "cell_type": "code",
      "source": [
        "#挂载云盘\n",
        "!mkdir -p drive\n",
        "!google-drive-ocamlfuse drive  -o nonempty"
      ],
      "execution_count": 0,
      "outputs": []
    },
    {
      "metadata": {
        "id": "hS2MpcExKGI_",
        "colab_type": "code",
        "colab": {
          "autoexec": {
            "startup": false,
            "wait_interval": 0
          },
          "output_extras": [
            {
              "item_id": 1
            }
          ],
          "base_uri": "https://localhost:8080/",
          "height": 71
        },
        "outputId": "9a7bc868-2d07-4e84-94b6-c6627a35690e",
        "executionInfo": {
          "status": "ok",
          "timestamp": 1520065701781,
          "user_tz": -480,
          "elapsed": 2213,
          "user": {
            "displayName": "姚填佳",
            "photoUrl": "//lh4.googleusercontent.com/-c8yaOIb4NJo/AAAAAAAAAAI/AAAAAAAAACI/2RCS6KOMtQs/s50-c-k-no/photo.jpg",
            "userId": "107989077003671308346"
          }
        }
      },
      "cell_type": "code",
      "source": [
        "!pip install xgboost\n",
        "import xgboost as xgb\n",
        "import pandas as pd\n",
        "import numpy as np"
      ],
      "execution_count": 8,
      "outputs": [
        {
          "output_type": "stream",
          "text": [
            "Requirement already satisfied: xgboost in /usr/local/lib/python3.6/dist-packages\r\n",
            "Requirement already satisfied: numpy in /usr/local/lib/python3.6/dist-packages (from xgboost)\r\n",
            "Requirement already satisfied: scipy in /usr/local/lib/python3.6/dist-packages (from xgboost)\r\n"
          ],
          "name": "stdout"
        }
      ]
    },
    {
      "metadata": {
        "id": "vLZrYkMlKENA",
        "colab_type": "code",
        "colab": {
          "autoexec": {
            "startup": false,
            "wait_interval": 0
          },
          "output_extras": [
            {
              "item_id": 1
            }
          ],
          "base_uri": "https://localhost:8080/",
          "height": 35
        },
        "outputId": "0fd05ce4-b278-4af7-ea3d-b33b6054e4f1",
        "executionInfo": {
          "status": "ok",
          "timestamp": 1520070823312,
          "user_tz": -480,
          "elapsed": 22745,
          "user": {
            "displayName": "姚填佳",
            "photoUrl": "//lh4.googleusercontent.com/-c8yaOIb4NJo/AAAAAAAAAAI/AAAAAAAAACI/2RCS6KOMtQs/s50-c-k-no/photo.jpg",
            "userId": "107989077003671308346"
          }
        }
      },
      "cell_type": "code",
      "source": [
        "#读取数据\n",
        "train_csv = pd.read_csv(\"drive/Colab_Notebooks/data/round1_ijcai_18_train_20180301.txt\",\" \")\n",
        "test_csv = pd.read_csv(\"drive/Colab_Notebooks/data/round1_ijcai_18_test_a_20180301.txt\",\" \")\n",
        "print(len(train_csv),len(test_csv))"
      ],
      "execution_count": 30,
      "outputs": [
        {
          "output_type": "stream",
          "text": [
            "478138 18371\n"
          ],
          "name": "stdout"
        }
      ]
    },
    {
      "metadata": {
        "id": "hKnP8hHwso7s",
        "colab_type": "code",
        "colab": {
          "autoexec": {
            "startup": false,
            "wait_interval": 0
          },
          "output_extras": [
            {
              "item_id": 1
            }
          ],
          "base_uri": "https://localhost:8080/",
          "height": 35
        },
        "outputId": "a2410b2c-0a15-40fb-f62c-aa508a5dc263",
        "executionInfo": {
          "status": "ok",
          "timestamp": 1520071265076,
          "user_tz": -480,
          "elapsed": 612,
          "user": {
            "displayName": "姚填佳",
            "photoUrl": "//lh4.googleusercontent.com/-c8yaOIb4NJo/AAAAAAAAAAI/AAAAAAAAACI/2RCS6KOMtQs/s50-c-k-no/photo.jpg",
            "userId": "107989077003671308346"
          }
        }
      },
      "cell_type": "code",
      "source": [
        "train_pd = train_csv.drop_duplicates(\"instance_id\").copy()\n",
        "test_pd = test_csv.drop_duplicates(\"instance_id\").copy()\n",
        "print(len(train_csv),len(test_csv))"
      ],
      "execution_count": 38,
      "outputs": [
        {
          "output_type": "stream",
          "text": [
            "478138 18371\n"
          ],
          "name": "stdout"
        }
      ]
    },
    {
      "metadata": {
        "id": "gJOWoam8zTTp",
        "colab_type": "code",
        "colab": {
          "autoexec": {
            "startup": false,
            "wait_interval": 0
          },
          "output_extras": [
            {
              "item_id": 1
            }
          ],
          "base_uri": "https://localhost:8080/",
          "height": 377
        },
        "outputId": "ea54d340-85bc-4aa8-fe34-0f51b6e63565",
        "executionInfo": {
          "status": "ok",
          "timestamp": 1520076710446,
          "user_tz": -480,
          "elapsed": 2327,
          "user": {
            "displayName": "姚填佳",
            "photoUrl": "//lh4.googleusercontent.com/-c8yaOIb4NJo/AAAAAAAAAAI/AAAAAAAAACI/2RCS6KOMtQs/s50-c-k-no/photo.jpg",
            "userId": "107989077003671308346"
          }
        }
      },
      "cell_type": "code",
      "source": [
        "#补充时间数据\n",
        "import time\n",
        "train_pd['day']=train_pd.context_timestamp.apply(lambda x:time.strftime(\"%Y-%m-%d\",time.localtime(x+3600*8)))\n",
        "train_pd['hour']=train_pd.context_timestamp.apply(lambda x:time.strftime(\"%H\",time.localtime(x+3600*8)))\n",
        "test_pd['day']=test_pd.context_timestamp.apply(lambda x:time.strftime(\"%Y-%m-%d\",time.localtime(x+3600*8)))\n",
        "test_pd['hour']=test_pd.context_timestamp.apply(lambda x:time.strftime(\"%H\",time.localtime(x+3600*8)))\n",
        "#展示列名\n",
        "print(\"columns length:\",len(train_pd.columns))\n",
        "print(\"列名：\",train_pd.columns)\n",
        "#时间列\n",
        "train_time_list = sorted(train_pd[\"day\"].unique())\n",
        "print(\"时间序列：\",train_time_list)"
      ],
      "execution_count": 78,
      "outputs": [
        {
          "output_type": "stream",
          "text": [
            "columns length: 54\n",
            "列名： Index(['instance_id', 'item_id', 'item_category_list', 'item_property_list',\n",
            "       'item_brand_id', 'item_city_id', 'item_price_level', 'item_sales_level',\n",
            "       'item_collected_level', 'item_pv_level', 'user_id', 'user_gender_id',\n",
            "       'user_age_level', 'user_occupation_id', 'user_star_level', 'context_id',\n",
            "       'context_timestamp', 'context_page_id', 'predict_category_property',\n",
            "       'shop_id', 'shop_review_num_level', 'shop_review_positive_rate',\n",
            "       'shop_star_level', 'shop_score_service', 'shop_score_delivery',\n",
            "       'shop_score_description', 'is_trade', 'category_gender_trade_score',\n",
            "       'brand_total_ratio', 'brand_trade_ratio', 'city_total_ratio',\n",
            "       'city_trade_ratio', 'price_total_ratio', 'price_trade_ratio',\n",
            "       'sales_total_ratio', 'sales_trade_ratio', 'collected_total_ratio',\n",
            "       'collected_trade_ratio', 'pv_total_ratio', 'pv_trade_ratio',\n",
            "       'age_total_ratio', 'age_trade_ratio', 'occupation_total_ratio',\n",
            "       'occupation_trade_ratio', 'star_total_ratio', 'star_trade_ratio',\n",
            "       'page_id_total_ratio', 'page_id_trade_ratio', 'review_num_total_ratio',\n",
            "       'review_num_trade_ratio', 'shop_star_total_ratio',\n",
            "       'shop_star_trade_ratio', 'day', 'hour'],\n",
            "      dtype='object')\n",
            "时间序列： ['2018-09-18', '2018-09-19', '2018-09-20', '2018-09-21', '2018-09-22', '2018-09-23', '2018-09-24']\n"
          ],
          "name": "stdout"
        }
      ]
    },
    {
      "metadata": {
        "id": "_l3aQ2SUrCk7",
        "colab_type": "text"
      },
      "cell_type": "markdown",
      "source": [
        "# 简单数据统计"
      ]
    },
    {
      "metadata": {
        "id": "aoM5I7kOyCRA",
        "colab_type": "text"
      },
      "cell_type": "markdown",
      "source": [
        "## 基本数据统计"
      ]
    },
    {
      "metadata": {
        "id": "xL-egb05MKV1",
        "colab_type": "code",
        "colab": {
          "autoexec": {
            "startup": false,
            "wait_interval": 0
          },
          "output_extras": [
            {
              "item_id": 2
            }
          ],
          "base_uri": "https://localhost:8080/",
          "height": 287
        },
        "outputId": "a824bd43-3022-4a8a-88da-c321ff30f1e5",
        "executionInfo": {
          "status": "ok",
          "timestamp": 1520003450479,
          "user_tz": -480,
          "elapsed": 1197,
          "user": {
            "displayName": "姚填佳",
            "photoUrl": "//lh4.googleusercontent.com/-c8yaOIb4NJo/AAAAAAAAAAI/AAAAAAAAACI/2RCS6KOMtQs/s50-c-k-no/photo.jpg",
            "userId": "107989077003671308346"
          }
        }
      },
      "cell_type": "code",
      "source": [
        "print('总样本个数:%d' % train_csv.instance_id.unique().shape[0])\n",
        "print('当前正样本个数为： %d' % len(train_csv[train_csv.is_trade == 1]))\n",
        "print('当前负样本个数为： %d' % len(train_csv[train_csv.is_trade == 0]))\n",
        "print('当前商品个数:%d' % train_csv.item_id.unique().shape[0])\n",
        "print('用户数量：%d' % train_csv.user_id.unique().shape[0])\n",
        "print('商户数量：%d' % train_csv.shop_id.unique().shape[0])\n",
        "print('商标数量：%d' % train_csv.item_brand_id.unique().shape[0])\n",
        "print('广告最大等级为：%d' % max(train_csv['item_price_level']))\n",
        "print('最大广告销量等级：%d' % max(train_csv['item_sales_level']))\n",
        "print('最大广告收藏等级:%d' % max(train_csv['item_collected_level']))\n",
        "print('最大浏览量等级:%d' % max(train_csv['item_pv_level']))\n",
        "print('用户的预测年龄等级区间为 %d-%d' % (min(train_csv['user_age_level']),max(train_csv['user_age_level'])))\n",
        "print('用户等级区间为%d-%d' % (min(train_csv['user_star_level']), max(train_csv['user_star_level'])))\n",
        "print('最大店铺评价数量等级:%d' % max(train_csv['shop_review_num_level']))\n",
        "print('最大店铺星级编号:%d' % max(train_csv['shop_star_level']))"
      ],
      "execution_count": 7,
      "outputs": [
        {
          "output_type": "stream",
          "text": [
            "总样本个数:478087\n",
            "当前正样本个数为： 8994\n",
            "当前负样本个数为： 469093\n",
            "当前商品个数:10075\n",
            "用户数量：197685\n",
            "商户数量：3959\n",
            "商标数量：2055\n",
            "广告最大等级为：17\n",
            "最大广告销量等级：17\n",
            "最大广告收藏等级:17\n",
            "最大浏览量等级:21\n",
            "用户的预测年龄等级区间为 -1-1007\n",
            "用户等级区间为-1-3010\n",
            "最大店铺评价数量等级:25\n",
            "最大店铺星级编号:5020\n"
          ],
          "name": "stdout"
        }
      ]
    },
    {
      "metadata": {
        "id": "244_U1KxS1IF",
        "colab_type": "code",
        "colab": {
          "autoexec": {
            "startup": false,
            "wait_interval": 0
          },
          "output_extras": [
            {
              "item_id": 1
            }
          ],
          "base_uri": "https://localhost:8080/",
          "height": 53
        },
        "outputId": "a4fb4dc7-7de2-4058-e15d-9a2677b269d2",
        "executionInfo": {
          "status": "ok",
          "timestamp": 1520003472882,
          "user_tz": -480,
          "elapsed": 2374,
          "user": {
            "displayName": "姚填佳",
            "photoUrl": "//lh4.googleusercontent.com/-c8yaOIb4NJo/AAAAAAAAAAI/AAAAAAAAACI/2RCS6KOMtQs/s50-c-k-no/photo.jpg",
            "userId": "107989077003671308346"
          }
        }
      },
      "cell_type": "code",
      "source": [
        "%%time\n",
        "import time\n",
        "train_csv['day']=train_csv.context_timestamp.apply(lambda x:time.strftime(\"%Y-%m-%d\",time.localtime(x+3600*8)))\n",
        "train_csv['hour']=train_csv.context_timestamp.apply(lambda x:time.strftime(\"%H\",time.localtime(x+3600*8)))"
      ],
      "execution_count": 9,
      "outputs": [
        {
          "output_type": "stream",
          "text": [
            "CPU times: user 1.53 s, sys: 33 ms, total: 1.57 s\n",
            "Wall time: 1.57 s\n"
          ],
          "name": "stdout"
        }
      ]
    },
    {
      "metadata": {
        "id": "c6zCu2ACS6Ii",
        "colab_type": "code",
        "colab": {
          "autoexec": {
            "startup": false,
            "wait_interval": 0
          },
          "output_extras": [
            {
              "item_id": 1
            },
            {
              "item_id": 2
            },
            {
              "item_id": 3
            }
          ],
          "base_uri": "https://localhost:8080/",
          "height": 511
        },
        "outputId": "7b345909-b0d6-44d1-d2aa-a0dd04d13542",
        "executionInfo": {
          "status": "ok",
          "timestamp": 1520003474866,
          "user_tz": -480,
          "elapsed": 1302,
          "user": {
            "displayName": "姚填佳",
            "photoUrl": "//lh4.googleusercontent.com/-c8yaOIb4NJo/AAAAAAAAAAI/AAAAAAAAACI/2RCS6KOMtQs/s50-c-k-no/photo.jpg",
            "userId": "107989077003671308346"
          }
        }
      },
      "cell_type": "code",
      "source": [
        "print('每天行为数量')\n",
        "print(train_csv.day.value_counts().sort_index())\n",
        "pd.DataFrame(train_csv.day.value_counts().sort_index()).plot()"
      ],
      "execution_count": 10,
      "outputs": [
        {
          "output_type": "stream",
          "text": [
            "每天行为数量\n",
            "2018-09-18    78261\n",
            "2018-09-19    70926\n",
            "2018-09-20    68377\n",
            "2018-09-21    71193\n",
            "2018-09-22    68309\n",
            "2018-09-23    63610\n",
            "2018-09-24    57411\n",
            "Name: day, dtype: int64\n"
          ],
          "name": "stdout"
        },
        {
          "output_type": "execute_result",
          "data": {
            "text/plain": [
              "<matplotlib.axes._subplots.AxesSubplot at 0x7fd3a13ba128>"
            ]
          },
          "metadata": {
            "tags": []
          },
          "execution_count": 10
        },
        {
          "output_type": "display_data",
          "data": {
            "image/png": "[encoded data removed]",
            "text/plain": [
              "<matplotlib.figure.Figure at 0x7fd3c33e1e48>"
            ]
          },
          "metadata": {
            "tags": []
          }
        }
      ]
    },
    {
      "metadata": {
        "id": "kqCOAw7WtLrD",
        "colab_type": "text"
      },
      "cell_type": "markdown",
      "source": [
        "## item_category_list的统计信息"
      ]
    },
    {
      "metadata": {
        "id": "1iYkQ1wxamFJ",
        "colab_type": "code",
        "colab": {
          "autoexec": {
            "startup": false,
            "wait_interval": 0
          },
          "output_extras": [
            {
              "item_id": 1
            },
            {
              "item_id": 2
            },
            {
              "item_id": 3
            }
          ],
          "base_uri": "https://localhost:8080/",
          "height": 395
        },
        "outputId": "14345cd3-bd5c-4086-cd61-c35c7d6e28c1",
        "executionInfo": {
          "status": "ok",
          "timestamp": 1519953838709,
          "user_tz": -480,
          "elapsed": 1896,
          "user": {
            "displayName": "姚填佳",
            "photoUrl": "//lh4.googleusercontent.com/-c8yaOIb4NJo/AAAAAAAAAAI/AAAAAAAAACI/2RCS6KOMtQs/s50-c-k-no/photo.jpg",
            "userId": "107989077003671308346"
          }
        }
      },
      "cell_type": "code",
      "source": [
        "all_data = [train_csv,test_csv]\n",
        "all_data = pd.concat(all_data)\n",
        "category_list= list(map(lambda x:len(x.split(\";\")),all_data[\"item_category_list\"]))\n",
        "item_category_list = pd.DataFrame({\"len\":category_list,\"list\":list(map(lambda x:x.split(\";\"),all_data[\"item_category_list\"]))})\n",
        "print(\"item_category_list分割后长度最小值：\",item_category_list[\"len\"].min(),\" 长度最大值：\",item_category_list[\"len\"].max())\n",
        "pd.DataFrame(item_category_list[\"len\"].value_counts().sort_index()).plot(kind=\"bar\",title=\"item_category_list Distribution\")"
      ],
      "execution_count": 10,
      "outputs": [
        {
          "output_type": "stream",
          "text": [
            "item_category_list分割后长度最小值： 2  长度最大值： 3\n"
          ],
          "name": "stdout"
        },
        {
          "output_type": "execute_result",
          "data": {
            "text/plain": [
              "<matplotlib.axes._subplots.AxesSubplot at 0x7fb5e81996d8>"
            ]
          },
          "metadata": {
            "tags": []
          },
          "execution_count": 10
        },
        {
          "output_type": "display_data",
          "data": {
            "image/png": "[encoded data removed]",
            "text/plain": [
              "<matplotlib.figure.Figure at 0x7fb60d55ee48>"
            ]
          },
          "metadata": {
            "tags": []
          }
        }
      ]
    },
    {
      "metadata": {
        "id": "z4PJZLhBVQHy",
        "colab_type": "text"
      },
      "cell_type": "markdown",
      "source": [
        "## item_property_list的统计信息"
      ]
    },
    {
      "metadata": {
        "id": "qHCusU2kVWuV",
        "colab_type": "code",
        "colab": {
          "autoexec": {
            "startup": false,
            "wait_interval": 0
          },
          "output_extras": [
            {
              "item_id": 1
            },
            {
              "item_id": 2
            },
            {
              "item_id": 3
            }
          ],
          "base_uri": "https://localhost:8080/",
          "height": 542
        },
        "outputId": "83d46c65-e8e7-4131-d89c-68b5e0983cf7",
        "executionInfo": {
          "status": "ok",
          "timestamp": 1519980353349,
          "user_tz": -480,
          "elapsed": 5794,
          "user": {
            "displayName": "姚填佳",
            "photoUrl": "//lh4.googleusercontent.com/-c8yaOIb4NJo/AAAAAAAAAAI/AAAAAAAAACI/2RCS6KOMtQs/s50-c-k-no/photo.jpg",
            "userId": "107989077003671308346"
          }
        }
      },
      "cell_type": "code",
      "source": [
        "all_data = [train_csv,test_csv]\n",
        "all_data = pd.concat(all_data)\n",
        "property_list= list(map(lambda x:len(x.split(\";\")),all_data[\"item_property_list\"]))\n",
        "item_property_list = pd.DataFrame({\"len\":property_list,\"list\":list(map(lambda x:x.split(\";\"),all_data[\"item_property_list\"]))})\n",
        "print(\"item_category_list分割后长度最小值：\",item_property_list[\"len\"].min(),\" 长度最大值：\",item_property_list[\"len\"].max())\n",
        "pd.DataFrame(item_property_list[\"len\"].value_counts().sort_index()).plot(kind=\"bar\",title=\"item_property_list Distribution\",figsize=(18,8))"
      ],
      "execution_count": 6,
      "outputs": [
        {
          "output_type": "stream",
          "text": [
            "item_category_list分割后长度最小值： 6  长度最大值： 100\n"
          ],
          "name": "stdout"
        },
        {
          "output_type": "execute_result",
          "data": {
            "text/plain": [
              "<matplotlib.axes._subplots.AxesSubplot at 0x7f009cbd8eb8>"
            ]
          },
          "metadata": {
            "tags": []
          },
          "execution_count": 6
        },
        {
          "output_type": "display_data",
          "data": {
            "image/png": "[encoded data removed]",
            "text/plain": [
              "<matplotlib.figure.Figure at 0x7f009965dd68>"
            ]
          },
          "metadata": {
            "tags": []
          }
        }
      ]
    },
    {
      "metadata": {
        "id": "QSZEjoj2_rHB",
        "colab_type": "text"
      },
      "cell_type": "markdown",
      "source": [
        "# 计算特征"
      ]
    },
    {
      "metadata": {
        "id": "a5RuzsnHBvb5",
        "colab_type": "code",
        "colab": {
          "autoexec": {
            "startup": false,
            "wait_interval": 0
          }
        }
      },
      "cell_type": "code",
      "source": [
        "feature_list=[]#特征列表"
      ],
      "execution_count": 0,
      "outputs": []
    },
    {
      "metadata": {
        "id": "aQpvZWp8qqJy",
        "colab_type": "text"
      },
      "cell_type": "markdown",
      "source": [
        "## 计算item_category_list所有类别信息对应的is_trade数目z-score\n",
        "感觉区别度不算大，此特征不一定有太大作用"
      ]
    },
    {
      "metadata": {
        "id": "sMUTXzHIq32C",
        "colab_type": "code",
        "colab": {
          "autoexec": {
            "startup": false,
            "wait_interval": 0
          },
          "output_extras": [
            {
              "item_id": 1
            }
          ],
          "base_uri": "https://localhost:8080/",
          "height": 179
        },
        "outputId": "8f83e00d-4852-47ed-9ba6-ca9d86e18289",
        "executionInfo": {
          "status": "ok",
          "timestamp": 1520071271396,
          "user_tz": -480,
          "elapsed": 1755,
          "user": {
            "displayName": "姚填佳",
            "photoUrl": "//lh4.googleusercontent.com/-c8yaOIb4NJo/AAAAAAAAAAI/AAAAAAAAACI/2RCS6KOMtQs/s50-c-k-no/photo.jpg",
            "userId": "107989077003671308346"
          }
        }
      },
      "cell_type": "code",
      "source": [
        "#传入DataFrame而获取对应category的is_trade数目表\n",
        "def get_category_trade_score(df):\n",
        "  temp_pd = df[[\"instance_id\",\"item_category_list\",\"is_trade\",\"user_gender_id\"]].copy()#返回的DataFrame\n",
        "  #只留第2个category，第一个category都是一样的\n",
        "  temp_pd[\"category\"] =  list(map(lambda x:x.split(\";\")[1],temp_pd[\"item_category_list\"]))\n",
        "  #temp_pd.groupby([\"category\",\"user_gender_id\"]).count().at[(\"1968056100269760729\",1),\"is_trade\"]\n",
        "  ret = temp_pd.groupby([\"category\",\"user_gender_id\"]).count()\n",
        "  #ret[\"trade_ratio\"] = ret[\"is_trade\"]/len(df)#trade的比例\n",
        "  ret[\"category_gender_trade_score\"] = (ret[\"is_trade\"]-ret[\"is_trade\"].mean())/ret[\"is_trade\"].std()#计算z-score\n",
        "  ret = ret.reset_index()\n",
        "  ret.set_index([\"category\",\"user_gender_id\"],inplace=True,drop=False)\n",
        "  return ret\n",
        "#设定train和test表数据\n",
        "def set_category_trade_score(df,score_table):\n",
        "  ret = df[[\"instance_id\",\"item_category_list\",\"user_gender_id\"]].copy()\n",
        "  ret[\"category\"] = list(map(lambda x:x.split(\";\")[1],ret[\"item_category_list\"]))\n",
        "  ret = pd.merge(ret,score_table,on=[\"category\",\"user_gender_id\"],how=\"left\",suffixes=[\"\",\"_r\"]).fillna(0)[[\"instance_id\",\"category_gender_trade_score\"]].copy()\n",
        "  df = pd.merge(df,ret,on=\"instance_id\",how=\"left\")\n",
        "  return df\n",
        "category_trade_rate = get_category_trade_score(train_pd)\n",
        "train_pd = set_category_trade_score(train_csv,category_trade_rate)\n",
        "test_pd = set_category_trade_score(test_csv,category_trade_rate)\n",
        "print(train_pd.columns)\n",
        "if \"category_gender_trade_score\" not in feature_list:\n",
        "  feature_list.append(\"category_gender_trade_score\")"
      ],
      "execution_count": 40,
      "outputs": [
        {
          "output_type": "stream",
          "text": [
            "Index(['instance_id', 'item_id', 'item_category_list', 'item_property_list',\n",
            "       'item_brand_id', 'item_city_id', 'item_price_level', 'item_sales_level',\n",
            "       'item_collected_level', 'item_pv_level', 'user_id', 'user_gender_id',\n",
            "       'user_age_level', 'user_occupation_id', 'user_star_level', 'context_id',\n",
            "       'context_timestamp', 'context_page_id', 'predict_category_property',\n",
            "       'shop_id', 'shop_review_num_level', 'shop_review_positive_rate',\n",
            "       'shop_star_level', 'shop_score_service', 'shop_score_delivery',\n",
            "       'shop_score_description', 'is_trade', 'category_gender_trade_score'],\n",
            "      dtype='object')\n"
          ],
          "name": "stdout"
        }
      ]
    },
    {
      "metadata": {
        "id": "CCP5D6HrCGLR",
        "colab_type": "text"
      },
      "cell_type": "markdown",
      "source": [
        "## 计算item_property_list对应的特征"
      ]
    },
    {
      "metadata": {
        "id": "PvLnmjbDCQ3H",
        "colab_type": "code",
        "colab": {
          "autoexec": {
            "startup": false,
            "wait_interval": 0
          }
        }
      },
      "cell_type": "code",
      "source": [
        "%%time\n",
        "def get_property_dict(df):\n",
        "  ret = df[[\"user_gender_id\",\"item_property_list\",\"is_trade\"]].copy()\n",
        "  #下面这句骚操作把一行扩展成多行\n",
        "  ret = ret.drop('item_property_list', axis=1).join(ret['item_property_list'].str.split(';', expand=True).stack().reset_index(level=1, drop=True).rename('item_property_list'))\n",
        "  ret = ret.rename(columns={\"item_property_list\":\"property\"})\n",
        "  ret = ret.groupby([\"property\",\"user_gender_id\"]).count()\n",
        "  ret = ret.reset_index()\n",
        "  ret.set_index([\"property\",\"user_gender_id\"],inplace=True,drop=False)\n",
        "  ret[\"is_trade\"] = ret[\"is_trade\"]/ret[\"is_trade\"].max()#归一化\n",
        "  return ret\n",
        "#这里怎么用没想好\n",
        "property_pd = get_property_dict(train_pd)"
      ],
      "execution_count": 0,
      "outputs": []
    },
    {
      "metadata": {
        "id": "lT9cq5quErN-",
        "colab_type": "text"
      },
      "cell_type": "markdown",
      "source": [
        "##计算item_brand_id特征"
      ]
    },
    {
      "metadata": {
        "id": "VK28_Hvfj6HS",
        "colab_type": "code",
        "colab": {
          "autoexec": {
            "startup": false,
            "wait_interval": 0
          }
        }
      },
      "cell_type": "code",
      "source": [
        "def get_brand_feature(df):\n",
        "  ret = df[[\"item_brand_id\",\"is_trade\"]].copy()\n",
        "  ret = ret.groupby(\"item_brand_id\").sum()\n",
        "  ret[\"brand_total_count\"] = df.groupby(\"item_brand_id\").count()[\"is_trade\"]\n",
        "  ret[\"brand_trade_ratio\"] = ret[\"is_trade\"] / ret[\"brand_total_count\"]\n",
        "  ret[\"brand_total_ratio\"] = ret[\"brand_total_count\"]/ret[\"brand_total_count\"].max()\n",
        "  ret = ret.reset_index()\n",
        "  ret.set_index(\"item_brand_id\",inplace=True,drop=False)\n",
        "  ret = ret[[\"item_brand_id\",\"brand_total_ratio\",\"brand_trade_ratio\"]]\n",
        "  return ret\n",
        "def set_brand_feature(df,brand_table):\n",
        "  df = pd.merge(df,brand_table,on=\"item_brand_id\",how=\"left\")\n",
        "  return df\n",
        "brand_pd = get_brand_feature(train_pd)\n",
        "train_pd = set_brand_feature(train_pd,brand_pd)\n",
        "test_pd = set_brand_feature(test_pd,brand_pd)\n",
        "if \"brand_total_ratio\" not in feature_list:\n",
        "  feature_list.append(\"brand_total_ratio\")\n",
        "if \"brand_trade_ratio\" not in feature_list:\n",
        "  feature_list.append(\"brand_trade_ratio\")"
      ],
      "execution_count": 0,
      "outputs": []
    },
    {
      "metadata": {
        "id": "IfdTsNGMOAgs",
        "colab_type": "text"
      },
      "cell_type": "markdown",
      "source": [
        "##计算item_city_id的特征"
      ]
    },
    {
      "metadata": {
        "id": "3OacrSVwGubJ",
        "colab_type": "code",
        "colab": {
          "autoexec": {
            "startup": false,
            "wait_interval": 0
          }
        }
      },
      "cell_type": "code",
      "source": [
        "def get_city_feature(df):\n",
        "  ret = df[[\"item_city_id\",\"is_trade\"]].copy()\n",
        "  ret = ret.groupby(\"item_city_id\").sum()\n",
        "  ret[\"city_total_count\"] = df.groupby(\"item_city_id\").count()[\"is_trade\"]\n",
        "  ret[\"city_trade_ratio\"] = ret[\"is_trade\"] / ret[\"city_total_count\"]\n",
        "  ret[\"city_total_ratio\"] = ret[\"city_total_count\"]/ret[\"city_total_count\"].max()\n",
        "  ret = ret.reset_index()\n",
        "  ret.set_index(\"item_city_id\",inplace=True,drop=False)\n",
        "  ret = ret[[\"item_city_id\",\"city_total_ratio\",\"city_trade_ratio\"]]\n",
        "  return ret\n",
        "def set_city_feature(df,city_table):\n",
        "  df = pd.merge(df,city_table,on=\"item_city_id\",how=\"left\")\n",
        "  return df\n",
        "city_pd = get_city_feature(train_pd)\n",
        "train_pd = set_city_feature(train_pd,city_pd)\n",
        "test_pd = set_city_feature(test_pd,city_pd)\n",
        "if \"city_total_ratio\" not in feature_list:\n",
        "  feature_list.append(\"city_total_ratio\")\n",
        "if \"city_trade_ratio\" not in feature_list:\n",
        "  feature_list.append(\"city_trade_ratio\")\n",
        "if \"item_city_id\" not in feature_list:\n",
        "  feature_list.append(\"item_city_id\")"
      ],
      "execution_count": 0,
      "outputs": []
    },
    {
      "metadata": {
        "id": "SeMTd4NDPQbj",
        "colab_type": "text"
      },
      "cell_type": "markdown",
      "source": [
        "##计算item_price_level特征"
      ]
    },
    {
      "metadata": {
        "id": "CIgDYrVdPWdU",
        "colab_type": "code",
        "colab": {
          "autoexec": {
            "startup": false,
            "wait_interval": 0
          }
        }
      },
      "cell_type": "code",
      "source": [
        "def get_price_feature(df):\n",
        "  ret = df[[\"item_price_level\",\"is_trade\"]].copy()\n",
        "  ret = ret.groupby(\"item_price_level\").sum()\n",
        "  ret[\"price_total_count\"] = df.groupby(\"item_price_level\").count()[\"is_trade\"]\n",
        "  ret[\"price_trade_ratio\"] = ret[\"is_trade\"] / ret[\"price_total_count\"]\n",
        "  ret[\"price_total_ratio\"] = ret[\"price_total_count\"] / ret[\"price_total_count\"].max()\n",
        "  ret = ret.reset_index()\n",
        "  ret.set_index(\"item_price_level\",inplace=True,drop=False)\n",
        "  ret = ret[[\"item_price_level\",\"price_total_ratio\",\"price_trade_ratio\"]]\n",
        "  return ret\n",
        "def set_price_feature(df,price_table):\n",
        "  df = pd.merge(df,price_table,on=\"item_price_level\",how=\"left\")\n",
        "  return df\n",
        "price_pd = get_price_feature(train_pd)\n",
        "train_pd = set_price_feature(train_pd,price_pd)\n",
        "test_pd = set_price_feature(test_pd,price_pd)\n",
        "if \"price_total_ratio\" not in feature_list:\n",
        "  feature_list.append(\"price_total_ratio\")\n",
        "if \"price_trade_ratio\" not in feature_list:\n",
        "  feature_list.append(\"price_trade_ratio\")\n",
        "if \"item_price_level\" not in feature_list:\n",
        "  feature_list.append(\"item_price_level\")"
      ],
      "execution_count": 0,
      "outputs": []
    },
    {
      "metadata": {
        "id": "t6_yYIxxT6x6",
        "colab_type": "text"
      },
      "cell_type": "markdown",
      "source": [
        "##计算item_sales_level的特征"
      ]
    },
    {
      "metadata": {
        "id": "afZZ6Vd_Tll-",
        "colab_type": "code",
        "colab": {
          "autoexec": {
            "startup": false,
            "wait_interval": 0
          }
        }
      },
      "cell_type": "code",
      "source": [
        "def get_sales_feature(df):\n",
        "  ret = df[[\"item_sales_level\",\"is_trade\"]].copy()\n",
        "  ret = ret.groupby(\"item_sales_level\").sum()\n",
        "  ret[\"sales_total_count\"] = df.groupby(\"item_sales_level\").count()[\"is_trade\"]\n",
        "  ret[\"sales_trade_ratio\"] = ret[\"is_trade\"] / ret[\"sales_total_count\"]\n",
        "  ret[\"sales_total_ratio\"] = ret[\"sales_total_count\"] / ret[\"sales_total_count\"].max()\n",
        "  ret = ret.reset_index()\n",
        "  ret.set_index(\"item_sales_level\",inplace=True,drop=False)\n",
        "  ret = ret[[\"item_sales_level\",\"sales_total_ratio\",\"sales_trade_ratio\"]]\n",
        "  return ret\n",
        "def set_sales_feature(df,sales_table):\n",
        "  df = pd.merge(df,sales_table,on=\"item_sales_level\",how=\"left\")\n",
        "  return df\n",
        "sales_pd = get_sales_feature(train_pd)\n",
        "train_pd = set_sales_feature(train_pd,sales_pd)\n",
        "test_pd = set_sales_feature(test_pd,sales_pd)\n",
        "if \"sales_total_ratio\" not in feature_list:\n",
        "  feature_list.append(\"sales_total_ratio\")\n",
        "if \"sales_trade_ratio\" not in feature_list:\n",
        "  feature_list.append(\"sales_trade_ratio\")\n",
        "if \"item_sales_level\" not in feature_list:\n",
        "  feature_list.append(\"item_sales_level\")"
      ],
      "execution_count": 0,
      "outputs": []
    },
    {
      "metadata": {
        "id": "7PiJXVAKUoS_",
        "colab_type": "text"
      },
      "cell_type": "markdown",
      "source": [
        "##计算item_collected_level的特征"
      ]
    },
    {
      "metadata": {
        "id": "zTI6RNprUbrR",
        "colab_type": "code",
        "colab": {
          "autoexec": {
            "startup": false,
            "wait_interval": 0
          }
        }
      },
      "cell_type": "code",
      "source": [
        "def get_collected_feature(df):\n",
        "  ret = df[[\"item_collected_level\",\"is_trade\"]].copy()\n",
        "  ret = ret.groupby(\"item_collected_level\").sum()\n",
        "  ret[\"collected_total_count\"] = df.groupby(\"item_collected_level\").count()[\"is_trade\"]\n",
        "  ret[\"collected_trade_ratio\"] = ret[\"is_trade\"] / ret[\"collected_total_count\"]\n",
        "  ret[\"collected_total_ratio\"] = ret[\"collected_total_count\"] / ret[\"collected_total_count\"].max()\n",
        "  ret = ret.reset_index()\n",
        "  ret.set_index(\"item_collected_level\",inplace=True,drop=False)\n",
        "  ret = ret[[\"item_collected_level\",\"collected_total_ratio\",\"collected_trade_ratio\"]]\n",
        "  return ret\n",
        "def set_collected_feature(df,collected_table):\n",
        "  df = pd.merge(df,collected_table,on=\"item_collected_level\",how=\"left\")\n",
        "  return df\n",
        "collected_pd = get_collected_feature(train_pd)\n",
        "train_pd = set_collected_feature(train_pd,collected_pd)\n",
        "test_pd = set_collected_feature(test_pd,collected_pd)\n",
        "if \"collected_total_ratio\" not in feature_list:\n",
        "  feature_list.append(\"collected_total_ratio\")\n",
        "if \"collected_trade_ratio\" not in feature_list:\n",
        "  feature_list.append(\"collected_trade_ratio\")\n",
        "if \"item_collected_level\" not in feature_list:\n",
        "  feature_list.append(\"item_collected_level\")"
      ],
      "execution_count": 0,
      "outputs": []
    },
    {
      "metadata": {
        "id": "z5ZXIxkvVUK4",
        "colab_type": "text"
      },
      "cell_type": "markdown",
      "source": [
        "##计算item_pv_level的特征"
      ]
    },
    {
      "metadata": {
        "id": "iQ25zMWiUd1X",
        "colab_type": "code",
        "colab": {
          "autoexec": {
            "startup": false,
            "wait_interval": 0
          }
        }
      },
      "cell_type": "code",
      "source": [
        "def get_pv_feature(df):\n",
        "  ret = df[[\"item_pv_level\",\"is_trade\"]].copy()\n",
        "  ret = ret.groupby(\"item_pv_level\").sum()\n",
        "  ret[\"pv_total_count\"] = df.groupby(\"item_pv_level\").count()[\"is_trade\"]\n",
        "  ret[\"pv_trade_ratio\"] = ret[\"is_trade\"] / ret[\"pv_total_count\"]\n",
        "  ret[\"pv_total_ratio\"] = ret[\"pv_total_count\"] / ret[\"pv_total_count\"].max()\n",
        "  ret = ret.reset_index()\n",
        "  ret.set_index(\"item_pv_level\",inplace=True,drop=False)\n",
        "  ret = ret[[\"item_pv_level\",\"pv_total_ratio\",\"pv_trade_ratio\"]]\n",
        "  return ret\n",
        "def set_pv_feature(df,pv_table):\n",
        "  df = pd.merge(df,pv_table,on=\"item_pv_level\",how=\"left\")\n",
        "  return df\n",
        "pv_pd = get_pv_feature(train_pd)\n",
        "train_pd = set_pv_feature(train_pd,pv_pd)\n",
        "test_pd = set_pv_feature(test_pd,pv_pd)\n",
        "if \"pv_total_ratio\" not in feature_list:\n",
        "  feature_list.append(\"pv_total_ratio\")\n",
        "if \"pv_trade_ratio\" not in feature_list:\n",
        "  feature_list.append(\"pv_trade_ratio\")\n",
        "if \"item_pv_level\" not in feature_list:\n",
        "  feature_list.append(\"item_pv_level\")"
      ],
      "execution_count": 0,
      "outputs": []
    },
    {
      "metadata": {
        "id": "RDmlxdfBjsf9",
        "colab_type": "text"
      },
      "cell_type": "markdown",
      "source": [
        "##计算user_age_level"
      ]
    },
    {
      "metadata": {
        "id": "gW-YHilEU0Y4",
        "colab_type": "code",
        "colab": {
          "autoexec": {
            "startup": false,
            "wait_interval": 0
          }
        }
      },
      "cell_type": "code",
      "source": [
        "def get_age_feature(df):\n",
        "  ret = df[[\"user_age_level\",\"is_trade\"]].copy()\n",
        "  ret = ret.groupby(\"user_age_level\").sum()\n",
        "  ret[\"age_total_count\"] = df.groupby(\"user_age_level\").count()[\"is_trade\"]\n",
        "  ret[\"age_trade_ratio\"] = ret[\"is_trade\"] / ret[\"age_total_count\"]\n",
        "  ret[\"age_total_ratio\"] = ret[\"age_total_count\"] / ret[\"age_total_count\"].max()\n",
        "  ret = ret.reset_index()\n",
        "  ret.set_index(\"user_age_level\",inplace=True,drop=False)\n",
        "  ret = ret[[\"user_age_level\",\"age_total_ratio\",\"age_trade_ratio\"]]\n",
        "  return ret\n",
        "def set_age_feature(df,age_table):\n",
        "  df = pd.merge(df,age_table,on=\"user_age_level\",how=\"left\")\n",
        "  return df\n",
        "age_pd = get_age_feature(train_pd)\n",
        "train_pd = set_age_feature(train_pd,age_pd)\n",
        "test_pd = set_age_feature(test_pd,age_pd)\n",
        "if \"age_total_ratio\" not in feature_list:\n",
        "  feature_list.append(\"age_total_ratio\")\n",
        "if \"age_trade_ratio\" not in feature_list:\n",
        "  feature_list.append(\"age_trade_ratio\")\n",
        "if \"user_age_level\" not in feature_list:\n",
        "  feature_list.append(\"user_age_level\")"
      ],
      "execution_count": 0,
      "outputs": []
    },
    {
      "metadata": {
        "id": "zm3FnPE9kC5w",
        "colab_type": "text"
      },
      "cell_type": "markdown",
      "source": [
        "##计算user_occupation_id特征"
      ]
    },
    {
      "metadata": {
        "id": "mkMejoR2VZQN",
        "colab_type": "code",
        "colab": {
          "autoexec": {
            "startup": false,
            "wait_interval": 0
          }
        }
      },
      "cell_type": "code",
      "source": [
        "def get_occupation_feature(df):\n",
        "  ret = df[[\"user_occupation_id\",\"is_trade\"]].copy()\n",
        "  ret = ret.groupby(\"user_occupation_id\").sum()\n",
        "  ret[\"occupation_total_count\"] = df.groupby(\"user_occupation_id\").count()[\"is_trade\"]\n",
        "  ret[\"occupation_trade_ratio\"] = ret[\"is_trade\"] / ret[\"occupation_total_count\"]\n",
        "  ret[\"occupation_total_ratio\"] = ret[\"occupation_total_count\"] / ret[\"occupation_total_count\"].max()\n",
        "  ret = ret.reset_index()\n",
        "  ret.set_index(\"user_occupation_id\",inplace=True,drop=False)\n",
        "  ret = ret[[\"user_occupation_id\",\"occupation_total_ratio\",\"occupation_trade_ratio\"]]\n",
        "  return ret\n",
        "def set_occupation_feature(df,occupation_table):\n",
        "  df = pd.merge(df,occupation_table,on=\"user_occupation_id\",how=\"left\")\n",
        "  return df\n",
        "occupation_pd = get_occupation_feature(train_pd)\n",
        "train_pd = set_occupation_feature(train_pd,occupation_pd)\n",
        "test_pd = set_occupation_feature(test_pd,occupation_pd)\n",
        "if \"occupation_total_ratio\" not in feature_list:\n",
        "  feature_list.append(\"occupation_total_ratio\")\n",
        "if \"occupation_trade_ratio\" not in feature_list:\n",
        "  feature_list.append(\"occupation_trade_ratio\")\n",
        "if \"user_occupation_id\" not in feature_list:\n",
        "  feature_list.append(\"user_occupation_id\")"
      ],
      "execution_count": 0,
      "outputs": []
    },
    {
      "metadata": {
        "id": "bonKqtfHkdRd",
        "colab_type": "text"
      },
      "cell_type": "markdown",
      "source": [
        "##计算user_star_level的特征"
      ]
    },
    {
      "metadata": {
        "id": "Wj_veOACj7iu",
        "colab_type": "code",
        "colab": {
          "autoexec": {
            "startup": false,
            "wait_interval": 0
          }
        }
      },
      "cell_type": "code",
      "source": [
        "def get_star_feature(df):\n",
        "  ret = df[[\"user_star_level\",\"is_trade\"]].copy()\n",
        "  ret = ret.groupby(\"user_star_level\").sum()\n",
        "  ret[\"star_total_count\"] = df.groupby(\"user_star_level\").count()[\"is_trade\"]\n",
        "  ret[\"star_trade_ratio\"] = ret[\"is_trade\"] / ret[\"star_total_count\"]\n",
        "  ret[\"star_total_ratio\"] = ret[\"star_total_count\"] / ret[\"star_total_count\"].max()\n",
        "  ret = ret.reset_index()\n",
        "  ret.set_index(\"user_star_level\",inplace=True,drop=False)\n",
        "  ret = ret[[\"user_star_level\",\"star_total_ratio\",\"star_trade_ratio\"]]\n",
        "  return ret\n",
        "def set_star_feature(df,star_table):\n",
        "  df = pd.merge(df,star_table,on=\"user_star_level\",how=\"left\")\n",
        "  return df\n",
        "star_pd = get_star_feature(train_pd)\n",
        "train_pd = set_star_feature(train_pd,star_pd)\n",
        "test_pd = set_star_feature(test_pd,star_pd)\n",
        "if \"star_total_ratio\" not in feature_list:\n",
        "  feature_list.append(\"star_total_ratio\")\n",
        "if \"star_trade_ratio\" not in feature_list:\n",
        "  feature_list.append(\"star_trade_ratio\")\n",
        "if \"user_star_level\" not in feature_list:\n",
        "  feature_list.append(\"user_star_level\")"
      ],
      "execution_count": 0,
      "outputs": []
    },
    {
      "metadata": {
        "id": "zSHjiF59k122",
        "colab_type": "text"
      },
      "cell_type": "markdown",
      "source": [
        "##计算context_page_id的特征"
      ]
    },
    {
      "metadata": {
        "id": "jHY2I0qhkSyK",
        "colab_type": "code",
        "colab": {
          "autoexec": {
            "startup": false,
            "wait_interval": 0
          }
        }
      },
      "cell_type": "code",
      "source": [
        "def get_page_id_feature(df):\n",
        "  ret = df[[\"context_page_id\",\"is_trade\"]].copy()\n",
        "  ret = ret.groupby(\"context_page_id\").sum()\n",
        "  ret[\"page_id_total_count\"] = df.groupby(\"context_page_id\").count()[\"is_trade\"]\n",
        "  ret[\"page_id_trade_ratio\"] = ret[\"is_trade\"] / ret[\"page_id_total_count\"]\n",
        "  ret[\"page_id_total_ratio\"] = ret[\"page_id_total_count\"] / ret[\"page_id_total_count\"].max()\n",
        "  ret = ret.reset_index()\n",
        "  ret.set_index(\"context_page_id\",inplace=True,drop=False)\n",
        "  ret = ret[[\"context_page_id\",\"page_id_total_ratio\",\"page_id_trade_ratio\"]]\n",
        "  return ret\n",
        "def set_page_id_feature(df,page_id_table):\n",
        "  df = pd.merge(df,page_id_table,on=\"context_page_id\",how=\"left\")\n",
        "  return df\n",
        "page_id_pd = get_page_id_feature(train_pd)\n",
        "train_pd = set_page_id_feature(train_pd,page_id_pd)\n",
        "test_pd = set_page_id_feature(test_pd,page_id_pd)\n",
        "if \"page_id_total_ratio\" not in feature_list:\n",
        "  feature_list.append(\"page_id_total_ratio\")\n",
        "if \"page_id_trade_ratio\" not in feature_list:\n",
        "  feature_list.append(\"page_id_trade_ratio\")\n",
        "if \"context_page_id\" not in feature_list:\n",
        "  feature_list.append(\"context_page_id\")"
      ],
      "execution_count": 0,
      "outputs": []
    },
    {
      "metadata": {
        "id": "XMUjOHB-lZX_",
        "colab_type": "text"
      },
      "cell_type": "markdown",
      "source": [
        "##计算shop_review_num_level的特征"
      ]
    },
    {
      "metadata": {
        "id": "27629mv5klY0",
        "colab_type": "code",
        "colab": {
          "autoexec": {
            "startup": false,
            "wait_interval": 0
          }
        }
      },
      "cell_type": "code",
      "source": [
        "def get_review_num_feature(df):\n",
        "  ret = df[[\"shop_review_num_level\",\"is_trade\"]].copy()\n",
        "  ret = ret.groupby(\"shop_review_num_level\").sum()\n",
        "  ret[\"review_num_total_count\"] = df.groupby(\"shop_review_num_level\").count()[\"is_trade\"]\n",
        "  ret[\"review_num_trade_ratio\"] = ret[\"is_trade\"] / ret[\"review_num_total_count\"]\n",
        "  ret[\"review_num_total_ratio\"] = ret[\"review_num_total_count\"] / ret[\"review_num_total_count\"].max()\n",
        "  ret = ret.reset_index()\n",
        "  ret.set_index(\"shop_review_num_level\",inplace=True,drop=False)\n",
        "  ret = ret[[\"shop_review_num_level\",\"review_num_total_ratio\",\"review_num_trade_ratio\"]]\n",
        "  return ret\n",
        "def set_review_num_feature(df,review_num_table):\n",
        "  df = pd.merge(df,review_num_table,on=\"shop_review_num_level\",how=\"left\")\n",
        "  return df\n",
        "review_num_pd = get_review_num_feature(train_pd)\n",
        "train_pd = set_review_num_feature(train_pd,review_num_pd)\n",
        "test_pd = set_review_num_feature(test_pd,review_num_pd)\n",
        "if \"review_num_total_ratio\" not in feature_list:\n",
        "  feature_list.append(\"review_num_total_ratio\")\n",
        "if \"review_num_trade_ratio\" not in feature_list:\n",
        "  feature_list.append(\"review_num_trade_ratio\")\n",
        "if \"shop_review_num_level\" not in feature_list:\n",
        "  feature_list.append(\"shop_review_num_level\")"
      ],
      "execution_count": 0,
      "outputs": []
    },
    {
      "metadata": {
        "id": "7TE-lo7klqTV",
        "colab_type": "text"
      },
      "cell_type": "markdown",
      "source": [
        "##计算shop_review_positive_rate"
      ]
    },
    {
      "metadata": {
        "id": "FFnr6u6XlFCs",
        "colab_type": "code",
        "colab": {
          "autoexec": {
            "startup": false,
            "wait_interval": 0
          }
        }
      },
      "cell_type": "code",
      "source": [
        "if \"shop_review_positive_rate\" not in feature_list:\n",
        "  feature_list.append(\"shop_review_positive_rate\")"
      ],
      "execution_count": 0,
      "outputs": []
    },
    {
      "metadata": {
        "id": "HUR2MWEZmOpj",
        "colab_type": "text"
      },
      "cell_type": "markdown",
      "source": [
        "##计算shop_star_level的特征"
      ]
    },
    {
      "metadata": {
        "id": "H9eQSgBPlkb8",
        "colab_type": "code",
        "colab": {
          "autoexec": {
            "startup": false,
            "wait_interval": 0
          }
        }
      },
      "cell_type": "code",
      "source": [
        "def get_shop_star_feature(df):\n",
        "  ret = df[[\"shop_star_level\",\"is_trade\"]].copy()\n",
        "  ret = ret.groupby(\"shop_star_level\").sum()\n",
        "  ret[\"shop_star_total_count\"] = df.groupby(\"shop_star_level\").count()[\"is_trade\"]\n",
        "  ret[\"shop_star_trade_ratio\"] = ret[\"is_trade\"] / ret[\"shop_star_total_count\"]\n",
        "  ret[\"shop_star_total_ratio\"] = ret[\"shop_star_total_count\"] / ret[\"shop_star_total_count\"].max()\n",
        "  ret = ret.reset_index()\n",
        "  ret.set_index(\"shop_star_level\",inplace=True,drop=False)\n",
        "  ret = ret[[\"shop_star_level\",\"shop_star_total_ratio\",\"shop_star_trade_ratio\"]]\n",
        "  return ret\n",
        "def set_shop_star_feature(df,shop_star_table):\n",
        "  df = pd.merge(df,shop_star_table,on=\"shop_star_level\",how=\"left\")\n",
        "  return df\n",
        "shop_star_pd = get_shop_star_feature(train_pd)\n",
        "train_pd = set_shop_star_feature(train_pd,shop_star_pd)\n",
        "test_pd = set_shop_star_feature(test_pd,shop_star_pd)\n",
        "if \"shop_star_total_ratio\" not in feature_list:\n",
        "  feature_list.append(\"shop_star_total_ratio\")\n",
        "if \"shop_star_trade_ratio\" not in feature_list:\n",
        "  feature_list.append(\"shop_star_trade_ratio\")\n",
        "if \"shop_star_level\" not in feature_list:\n",
        "  feature_list.append(\"shop_star_level\")"
      ],
      "execution_count": 0,
      "outputs": []
    },
    {
      "metadata": {
        "id": "vt0cNStmmW98",
        "colab_type": "text"
      },
      "cell_type": "markdown",
      "source": [
        "##计算shop_score_service的特征"
      ]
    },
    {
      "metadata": {
        "id": "Ihp4EWNYmZy0",
        "colab_type": "code",
        "colab": {
          "autoexec": {
            "startup": false,
            "wait_interval": 0
          }
        }
      },
      "cell_type": "code",
      "source": [
        "if \"shop_score_service\" not in feature_list:\n",
        "  feature_list.append(\"shop_score_service\")"
      ],
      "execution_count": 0,
      "outputs": []
    },
    {
      "metadata": {
        "id": "lYydGNk7mWyP",
        "colab_type": "text"
      },
      "cell_type": "markdown",
      "source": [
        "##计算shop_score_delivery的特征"
      ]
    },
    {
      "metadata": {
        "id": "-C2iL8E9mc-_",
        "colab_type": "code",
        "colab": {
          "autoexec": {
            "startup": false,
            "wait_interval": 0
          }
        }
      },
      "cell_type": "code",
      "source": [
        "if \"shop_score_delivery\" not in feature_list:\n",
        "  feature_list.append(\"shop_score_delivery\")"
      ],
      "execution_count": 0,
      "outputs": []
    },
    {
      "metadata": {
        "id": "JwEtkykjmWg8",
        "colab_type": "text"
      },
      "cell_type": "markdown",
      "source": [
        "##计算shop_score_description的特征"
      ]
    },
    {
      "metadata": {
        "id": "CxrD0m4AmRvI",
        "colab_type": "code",
        "colab": {
          "autoexec": {
            "startup": false,
            "wait_interval": 0
          }
        }
      },
      "cell_type": "code",
      "source": [
        "if \"shop_score_description\" not in feature_list:\n",
        "  feature_list.append(\"shop_score_description\")"
      ],
      "execution_count": 0,
      "outputs": []
    },
    {
      "metadata": {
        "id": "MaVztHAI7q14",
        "colab_type": "text"
      },
      "cell_type": "markdown",
      "source": [
        "##计算用户历史的成交数目特征"
      ]
    },
    {
      "metadata": {
        "id": "JyGGcCM58NEu",
        "colab_type": "code",
        "colab": {
          "autoexec": {
            "startup": false,
            "wait_interval": 0
          }
        }
      },
      "cell_type": "code",
      "source": [
        "#这个太强相关了，大概率有问题，加了之后AUC直接从74飙到98\n",
        "def cal_recent_trade_num(df):\n",
        "  ret = df[[\"user_id\",\"is_trade\",\"context_timestamp\"]].copy()\n",
        "  ret = ret.sort_values(by=[\"user_id\",\"context_timestamp\"],ascending=[True,False]).reset_index(drop=True)#重排序\n",
        "  ret2 = ret.groupby(\"user_id\").head(1).groupby(\"user_id\").sum()\n",
        "  ret = ret.groupby(\"user_id\").sum()\n",
        "  ret[\"user_last_type\"] = ret2[\"is_trade\"]\n",
        "  ret.reset_index(inplace=True)\n",
        "  ret = ret.rename(columns={\"is_trade\":\"user_history_trade_num\"})\n",
        "  ret = ret[[\"user_id\",\"user_history_trade_num\",\"user_last_type\"]].copy()#历史数据和最后一次数据\n",
        "  return ret\n",
        "def set_user_recent_trade_num(df,pd_table):\n",
        "  ret = pd.merge(df,pd_table,on=\"user_id\",how=\"left\").fillna(0)\n",
        "  return ret\n",
        "user_recent_trade_pd = cal_recent_trade_num(train_pd)\n",
        "train_pd = set_user_recent_trade_num(train_pd,user_recent_trade_pd)\n",
        "test_pd = set_user_recent_trade_num(test_pd,user_recent_trade_pd)\n",
        "if \"user_history_trade_num\" not in feature_list:\n",
        "  feature_list.append(\"user_history_trade_num\") \n",
        "if \"user_last_type\" not in feature_list:\n",
        "  feature_list.append(\"user_last_type\") "
      ],
      "execution_count": 0,
      "outputs": []
    },
    {
      "metadata": {
        "id": "a7t0F3rImqZ3",
        "colab_type": "text"
      },
      "cell_type": "markdown",
      "source": [
        "#训练"
      ]
    },
    {
      "metadata": {
        "id": "v5EqtPMum2Zg",
        "colab_type": "text"
      },
      "cell_type": "markdown",
      "source": [
        "##参数控制"
      ]
    },
    {
      "metadata": {
        "id": "O4DNCMwWmpZS",
        "colab_type": "code",
        "colab": {
          "autoexec": {
            "startup": false,
            "wait_interval": 0
          }
        }
      },
      "cell_type": "code",
      "source": [
        "#alpha 30, lambda 15, gamma 2\n",
        "param = {}\n",
        "param[\"eta\"] = 0.3\n",
        "param[\"min_child_weight\"] = 1\n",
        "param[\"max_depth\"] = 3\n",
        "# param[\"lambda\"] = 15 #控制模型复杂度的权重值的L2正则化项参数，参数越大，模型越不容易过拟合。 默认1\n",
        "param[\"alpha\"] = 5 #控制模型复杂程度的权重值的 L1 正则项参数，参数值越大，模型越不容易过拟合。 默认0\n",
        "param[\"gamma\"] = 0.3 # 用于控制是否后剪枝的参数,越大越保守，一般0.1、0.2这样子。\n",
        "param[\"subsample\"]=0.8\n",
        "param[\"colsample_bytree\"]=0.8\n",
        "param[\"objective\"] = \"binary:logistic\"\n",
        "param[\"eval_metric\"]=[ \"auc\",\"logloss\"]#error,logloss,auc\n",
        "param[\"silent\"] = 1\n",
        "param[\"seed\"] = 426#(67+156+7+666+886+817+1018+6+3+1024+37)/11\n",
        "num_round = 500\n",
        "eval_result={}"
      ],
      "execution_count": 0,
      "outputs": []
    },
    {
      "metadata": {
        "id": "MMiwaP28m5PJ",
        "colab_type": "text"
      },
      "cell_type": "markdown",
      "source": [
        "##训练模型"
      ]
    },
    {
      "metadata": {
        "id": "wbMZJPmYmn5Q",
        "colab_type": "code",
        "colab": {
          "autoexec": {
            "startup": false,
            "wait_interval": 0
          },
          "output_extras": [
            {
              "item_id": 35
            },
            {
              "item_id": 76
            }
          ],
          "base_uri": "https://localhost:8080/",
          "height": 1691
        },
        "outputId": "8d331d8f-2d2a-48ae-8b6c-bc85bd1e221a",
        "executionInfo": {
          "status": "ok",
          "timestamp": 1520084160554,
          "user_tz": -480,
          "elapsed": 29715,
          "user": {
            "displayName": "姚填佳",
            "photoUrl": "//lh4.googleusercontent.com/-c8yaOIb4NJo/AAAAAAAAAAI/AAAAAAAAACI/2RCS6KOMtQs/s50-c-k-no/photo.jpg",
            "userId": "107989077003671308346"
          }
        }
      },
      "cell_type": "code",
      "source": [
        "#分割线下测试和训练集\n",
        "train_m = train_pd[(train_pd[\"day\"]>='2018-09-18')&(train_pd[\"day\"]<='2018-09-22')]\n",
        "test_m = train_pd[(train_pd[\"day\"]>='2018-09-23')]\n",
        "X = train_m[feature_list].copy()\n",
        "Y = train_m[\"is_trade\"].copy()\n",
        "train_set = xgb.DMatrix(X,label=Y)\n",
        "X_t = test_m[feature_list].copy()\n",
        "Y_t = test_m[\"is_trade\"].copy()\n",
        "test_set = xgb.DMatrix(X_t,label=Y_t)\n",
        "watchlist = [(train_set,'train'), (test_set, 'test')]\n",
        "model = xgb.train( param, train_set, num_round, watchlist,verbose_eval=True,evals_result=eval_result,early_stopping_rounds=int(0.1*num_round))"
      ],
      "execution_count": 139,
      "outputs": [
        {
          "output_type": "stream",
          "text": [
            "[0]\ttrain-auc:0.981221\ttrain-logloss:0.451132\ttest-auc:0.982944\ttest-logloss:0.449387\n",
            "Multiple eval metrics have been passed: 'test-logloss' will be used for early stopping.\n",
            "\n",
            "Will train until test-logloss hasn't improved in 50 rounds.\n",
            "[1]\ttrain-auc:0.985155\ttrain-logloss:0.317332\ttest-auc:0.988294\ttest-logloss:0.31445\n",
            "[2]\ttrain-auc:0.985124\ttrain-logloss:0.23371\ttest-auc:0.988342\ttest-logloss:0.230006\n",
            "[3]\ttrain-auc:0.985275\ttrain-logloss:0.177064\ttest-auc:0.988462\ttest-logloss:0.172905\n",
            "[4]\ttrain-auc:0.985831\ttrain-logloss:0.137669\ttest-auc:0.988884\ttest-logloss:0.133237\n",
            "[5]\ttrain-auc:0.985982\ttrain-logloss:0.109871\ttest-auc:0.98896\ttest-logloss:0.105243\n",
            "[6]\ttrain-auc:0.986039\ttrain-logloss:0.089977\ttest-auc:0.98889\ttest-logloss:0.085226\n",
            "[7]\ttrain-auc:0.986111\ttrain-logloss:0.075654\ttest-auc:0.988957\ttest-logloss:0.070783\n",
            "[8]\ttrain-auc:0.986165\ttrain-logloss:0.06516\ttest-auc:0.988917\ttest-logloss:0.060243\n",
            "[9]\ttrain-auc:0.986301\ttrain-logloss:0.057463\ttest-auc:0.989054\ttest-logloss:0.052472\n",
            "[10]\ttrain-auc:0.986365\ttrain-logloss:0.051837\ttest-auc:0.989042\ttest-logloss:0.046844\n",
            "[11]\ttrain-auc:0.986392\ttrain-logloss:0.047705\ttest-auc:0.989042\ttest-logloss:0.04269\n",
            "[12]\ttrain-auc:0.986445\ttrain-logloss:0.044602\ttest-auc:0.98904\ttest-logloss:0.039597\n",
            "[13]\ttrain-auc:0.986452\ttrain-logloss:0.042327\ttest-auc:0.989045\ttest-logloss:0.037309\n",
            "[14]\ttrain-auc:0.986461\ttrain-logloss:0.040633\ttest-auc:0.989028\ttest-logloss:0.035614\n",
            "[15]\ttrain-auc:0.986479\ttrain-logloss:0.039383\ttest-auc:0.989003\ttest-logloss:0.034383\n",
            "[16]\ttrain-auc:0.986505\ttrain-logloss:0.038449\ttest-auc:0.989031\ttest-logloss:0.033452\n",
            "[17]\ttrain-auc:0.986559\ttrain-logloss:0.03773\ttest-auc:0.989116\ttest-logloss:0.032707\n",
            "[18]\ttrain-auc:0.986567\ttrain-logloss:0.037213\ttest-auc:0.989106\ttest-logloss:0.032201\n",
            "[19]\ttrain-auc:0.986604\ttrain-logloss:0.03682\ttest-auc:0.989108\ttest-logloss:0.031826\n",
            "[20]\ttrain-auc:0.986618\ttrain-logloss:0.036534\ttest-auc:0.989105\ttest-logloss:0.031552\n",
            "[21]\ttrain-auc:0.986665\ttrain-logloss:0.036426\ttest-auc:0.989148\ttest-logloss:0.031439\n",
            "[22]\ttrain-auc:0.986688\ttrain-logloss:0.036353\ttest-auc:0.989165\ttest-logloss:0.031371\n",
            "[23]\ttrain-auc:0.986695\ttrain-logloss:0.036161\ttest-auc:0.989164\ttest-logloss:0.031182\n",
            "[24]\ttrain-auc:0.986708\ttrain-logloss:0.036014\ttest-auc:0.989179\ttest-logloss:0.031028\n",
            "[25]\ttrain-auc:0.986725\ttrain-logloss:0.035905\ttest-auc:0.989182\ttest-logloss:0.030933\n",
            "[26]\ttrain-auc:0.986758\ttrain-logloss:0.035875\ttest-auc:0.989176\ttest-logloss:0.030931\n",
            "[27]\ttrain-auc:0.986774\ttrain-logloss:0.03579\ttest-auc:0.989172\ttest-logloss:0.030857\n",
            "[28]\ttrain-auc:0.986783\ttrain-logloss:0.035724\ttest-auc:0.989169\ttest-logloss:0.030799\n",
            "[29]\ttrain-auc:0.986805\ttrain-logloss:0.035702\ttest-auc:0.989173\ttest-logloss:0.030792\n",
            "[30]\ttrain-auc:0.986819\ttrain-logloss:0.035651\ttest-auc:0.989171\ttest-logloss:0.030753\n",
            "[31]\ttrain-auc:0.98683\ttrain-logloss:0.035611\ttest-auc:0.989166\ttest-logloss:0.030724\n",
            "[32]\ttrain-auc:0.986842\ttrain-logloss:0.03558\ttest-auc:0.98917\ttest-logloss:0.030699\n",
            "[33]\ttrain-auc:0.986851\ttrain-logloss:0.035558\ttest-auc:0.989175\ttest-logloss:0.030678\n",
            "[34]\ttrain-auc:0.986863\ttrain-logloss:0.035535\ttest-auc:0.989175\ttest-logloss:0.030667\n",
            "[35]\ttrain-auc:0.986878\ttrain-logloss:0.035517\ttest-auc:0.989176\ttest-logloss:0.030658\n",
            "[36]\ttrain-auc:0.986885\ttrain-logloss:0.035503\ttest-auc:0.989167\ttest-logloss:0.030655\n",
            "[37]\ttrain-auc:0.986925\ttrain-logloss:0.035473\ttest-auc:0.989139\ttest-logloss:0.030675\n",
            "[38]\ttrain-auc:0.986957\ttrain-logloss:0.035446\ttest-auc:0.989126\ttest-logloss:0.030685\n",
            "[39]\ttrain-auc:0.986974\ttrain-logloss:0.035431\ttest-auc:0.989117\ttest-logloss:0.03069\n",
            "[40]\ttrain-auc:0.986986\ttrain-logloss:0.035413\ttest-auc:0.989104\ttest-logloss:0.030699\n",
            "[41]\ttrain-auc:0.987016\ttrain-logloss:0.035386\ttest-auc:0.989099\ttest-logloss:0.030709\n",
            "[42]\ttrain-auc:0.987038\ttrain-logloss:0.035365\ttest-auc:0.989094\ttest-logloss:0.030711\n",
            "[43]\ttrain-auc:0.987072\ttrain-logloss:0.035337\ttest-auc:0.989051\ttest-logloss:0.030747\n",
            "[44]\ttrain-auc:0.987092\ttrain-logloss:0.035312\ttest-auc:0.989047\ttest-logloss:0.030744\n"
          ],
          "name": "stdout"
        },
        {
          "output_type": "stream",
          "text": [
            "[45]\ttrain-auc:0.98712\ttrain-logloss:0.035283\ttest-auc:0.989068\ttest-logloss:0.030725\n",
            "[46]\ttrain-auc:0.987144\ttrain-logloss:0.035265\ttest-auc:0.989057\ttest-logloss:0.030735\n",
            "[47]\ttrain-auc:0.987158\ttrain-logloss:0.035253\ttest-auc:0.98906\ttest-logloss:0.030733\n",
            "[48]\ttrain-auc:0.987182\ttrain-logloss:0.03523\ttest-auc:0.989051\ttest-logloss:0.030739\n",
            "[49]\ttrain-auc:0.987217\ttrain-logloss:0.035204\ttest-auc:0.989063\ttest-logloss:0.030732\n",
            "[50]\ttrain-auc:0.987229\ttrain-logloss:0.035187\ttest-auc:0.989047\ttest-logloss:0.03074\n",
            "[51]\ttrain-auc:0.987245\ttrain-logloss:0.035171\ttest-auc:0.989058\ttest-logloss:0.030728\n",
            "[52]\ttrain-auc:0.987266\ttrain-logloss:0.035148\ttest-auc:0.989043\ttest-logloss:0.030739\n",
            "[53]\ttrain-auc:0.987281\ttrain-logloss:0.035129\ttest-auc:0.989049\ttest-logloss:0.030728\n",
            "[54]\ttrain-auc:0.987299\ttrain-logloss:0.035111\ttest-auc:0.989065\ttest-logloss:0.030716\n",
            "[55]\ttrain-auc:0.987321\ttrain-logloss:0.035092\ttest-auc:0.989047\ttest-logloss:0.030738\n",
            "[56]\ttrain-auc:0.987336\ttrain-logloss:0.035078\ttest-auc:0.989041\ttest-logloss:0.030736\n",
            "[57]\ttrain-auc:0.987353\ttrain-logloss:0.035059\ttest-auc:0.989045\ttest-logloss:0.03073\n",
            "[58]\ttrain-auc:0.987376\ttrain-logloss:0.035039\ttest-auc:0.989052\ttest-logloss:0.030717\n",
            "[59]\ttrain-auc:0.987396\ttrain-logloss:0.035022\ttest-auc:0.989029\ttest-logloss:0.030734\n",
            "[60]\ttrain-auc:0.987412\ttrain-logloss:0.035004\ttest-auc:0.989034\ttest-logloss:0.030731\n",
            "[61]\ttrain-auc:0.987429\ttrain-logloss:0.034992\ttest-auc:0.989027\ttest-logloss:0.030734\n",
            "[62]\ttrain-auc:0.987446\ttrain-logloss:0.034975\ttest-auc:0.989015\ttest-logloss:0.030744\n",
            "[63]\ttrain-auc:0.987462\ttrain-logloss:0.034958\ttest-auc:0.989002\ttest-logloss:0.030755\n",
            "[64]\ttrain-auc:0.987476\ttrain-logloss:0.034944\ttest-auc:0.988991\ttest-logloss:0.030762\n",
            "[65]\ttrain-auc:0.987499\ttrain-logloss:0.034924\ttest-auc:0.988977\ttest-logloss:0.030774\n",
            "[66]\ttrain-auc:0.987521\ttrain-logloss:0.034904\ttest-auc:0.988972\ttest-logloss:0.03078\n",
            "[67]\ttrain-auc:0.987537\ttrain-logloss:0.034886\ttest-auc:0.98897\ttest-logloss:0.030789\n",
            "[68]\ttrain-auc:0.987559\ttrain-logloss:0.034867\ttest-auc:0.98897\ttest-logloss:0.030783\n",
            "[69]\ttrain-auc:0.987579\ttrain-logloss:0.034848\ttest-auc:0.98897\ttest-logloss:0.030784\n",
            "[70]\ttrain-auc:0.987601\ttrain-logloss:0.034829\ttest-auc:0.988968\ttest-logloss:0.030787\n",
            "[71]\ttrain-auc:0.987624\ttrain-logloss:0.034812\ttest-auc:0.988964\ttest-logloss:0.030791\n",
            "[72]\ttrain-auc:0.987641\ttrain-logloss:0.034798\ttest-auc:0.988956\ttest-logloss:0.0308\n",
            "[73]\ttrain-auc:0.987656\ttrain-logloss:0.034782\ttest-auc:0.988957\ttest-logloss:0.030798\n",
            "[74]\ttrain-auc:0.987678\ttrain-logloss:0.034764\ttest-auc:0.988959\ttest-logloss:0.030793\n",
            "[75]\ttrain-auc:0.98769\ttrain-logloss:0.034754\ttest-auc:0.988959\ttest-logloss:0.030794\n",
            "[76]\ttrain-auc:0.987696\ttrain-logloss:0.034744\ttest-auc:0.988948\ttest-logloss:0.030795\n",
            "[77]\ttrain-auc:0.987723\ttrain-logloss:0.034723\ttest-auc:0.988948\ttest-logloss:0.030795\n",
            "[78]\ttrain-auc:0.987746\ttrain-logloss:0.034709\ttest-auc:0.988912\ttest-logloss:0.030828\n",
            "[79]\ttrain-auc:0.987759\ttrain-logloss:0.034696\ttest-auc:0.98891\ttest-logloss:0.03083\n",
            "[80]\ttrain-auc:0.987777\ttrain-logloss:0.034682\ttest-auc:0.988902\ttest-logloss:0.030838\n",
            "[81]\ttrain-auc:0.987788\ttrain-logloss:0.03467\ttest-auc:0.988914\ttest-logloss:0.030826\n",
            "[82]\ttrain-auc:0.987806\ttrain-logloss:0.034654\ttest-auc:0.988904\ttest-logloss:0.030833\n",
            "[83]\ttrain-auc:0.98781\ttrain-logloss:0.034644\ttest-auc:0.988907\ttest-logloss:0.030828\n",
            "[84]\ttrain-auc:0.987831\ttrain-logloss:0.034627\ttest-auc:0.988898\ttest-logloss:0.030835\n",
            "[85]\ttrain-auc:0.98785\ttrain-logloss:0.034613\ttest-auc:0.98889\ttest-logloss:0.030845\n",
            "[86]\ttrain-auc:0.987856\ttrain-logloss:0.034604\ttest-auc:0.988897\ttest-logloss:0.030837\n",
            "Stopping. Best iteration:\n",
            "[36]\ttrain-auc:0.986885\ttrain-logloss:0.035503\ttest-auc:0.989167\ttest-logloss:0.030655\n",
            "\n"
          ],
          "name": "stdout"
        }
      ]
    },
    {
      "metadata": {
        "id": "rFpe5y5lnQf7",
        "colab_type": "text"
      },
      "cell_type": "markdown",
      "source": [
        "##结果展示"
      ]
    },
    {
      "metadata": {
        "id": "fulGgyJFnTN8",
        "colab_type": "code",
        "colab": {
          "autoexec": {
            "startup": false,
            "wait_interval": 0
          },
          "output_extras": [
            {
              "item_id": 1
            },
            {
              "item_id": 2
            }
          ],
          "base_uri": "https://localhost:8080/",
          "height": 994
        },
        "outputId": "b87d32a7-a0f1-4640-9dca-32d7b37a6c6f",
        "executionInfo": {
          "status": "ok",
          "timestamp": 1520084169756,
          "user_tz": -480,
          "elapsed": 2275,
          "user": {
            "displayName": "姚填佳",
            "photoUrl": "//lh4.googleusercontent.com/-c8yaOIb4NJo/AAAAAAAAAAI/AAAAAAAAACI/2RCS6KOMtQs/s50-c-k-no/photo.jpg",
            "userId": "107989077003671308346"
          }
        }
      },
      "cell_type": "code",
      "source": [
        "from matplotlib import pyplot \n",
        "from xgboost import plot_importance\n",
        "#plot feature importance\n",
        "ax = plot_importance(model,max_num_features=50)\n",
        "fig = ax.figure\n",
        "fig.set_size_inches(18, 8)\n",
        "pyplot.show()\n",
        "\n",
        "#plot logloss\n",
        "epochs = len(eval_result['train']['logloss'])  \n",
        "x_axis = range(0, epochs)  \n",
        "fig, ax = pyplot.subplots()  \n",
        "ax.plot(x_axis, eval_result['train']['logloss'], label='Train')  \n",
        "ax.plot(x_axis, eval_result['test']['logloss'], label='Test')  \n",
        "ax.legend()\n",
        "fig = ax.figure\n",
        "fig.set_size_inches(18, 8)\n",
        "pyplot.ylabel('Log Loss')  \n",
        "pyplot.title('XGBoost Log Loss')  \n",
        "pyplot.show()"
      ],
      "execution_count": 140,
      "outputs": [
        {
          "output_type": "display_data",
          "data": {
            "image/png": "[encoded data removed]",
            "text/plain": [
              "<matplotlib.figure.Figure at 0x7fbc3c4c36a0>"
            ]
          },
          "metadata": {
            "tags": []
          }
        },
        {
          "output_type": "display_data",
          "data": {
            "image/png": "[encoded data removed]",
            "text/plain": [
              "<matplotlib.figure.Figure at 0x7fbc3be75908>"
            ]
          },
          "metadata": {
            "tags": []
          }
        }
      ]
    }
  ]
}